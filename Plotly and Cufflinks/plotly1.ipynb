{
 "metadata": {
  "language_info": {
   "codemirror_mode": {
    "name": "ipython",
    "version": 3
   },
   "file_extension": ".py",
   "mimetype": "text/x-python",
   "name": "python",
   "nbconvert_exporter": "python",
   "pygments_lexer": "ipython3",
   "version": "3.8.8"
  },
  "orig_nbformat": 4,
  "kernelspec": {
   "name": "python3",
   "display_name": "Python 3.8.8 64-bit (conda)"
  },
  "interpreter": {
   "hash": "fc4d824a9a8ff5c7cba6dc45354ddd9869054ca4bd5e665111b9ca00f762ce7d"
  }
 },
 "nbformat": 4,
 "nbformat_minor": 2,
 "cells": [
  {
   "cell_type": "markdown",
   "source": [
    "## Cufflinks and Plotly\n",
    "* Plotly is an interactive visualization library\n",
    "* `Cufflinks` connects plotly with pandas\n"
   ],
   "metadata": {}
  },
  {
   "cell_type": "code",
   "execution_count": 24,
   "source": [
    "%matplotlib inline\r\n",
    "import matplotlib.pyplot as plt"
   ],
   "outputs": [],
   "metadata": {}
  },
  {
   "cell_type": "code",
   "execution_count": 2,
   "source": [
    "import chart_studio.plotly as py"
   ],
   "outputs": [],
   "metadata": {}
  },
  {
   "cell_type": "code",
   "execution_count": 4,
   "source": [
    "import pandas as pd\r\n",
    "import numpy as np"
   ],
   "outputs": [],
   "metadata": {}
  },
  {
   "cell_type": "code",
   "execution_count": 5,
   "source": [
    "from plotly import __version__"
   ],
   "outputs": [],
   "metadata": {}
  },
  {
   "cell_type": "code",
   "execution_count": 6,
   "source": [
    "print(__version__)"
   ],
   "outputs": [
    {
     "output_type": "stream",
     "name": "stdout",
     "text": [
      "5.0.0\n"
     ]
    }
   ],
   "metadata": {}
  },
  {
   "cell_type": "code",
   "execution_count": 7,
   "source": [
    "import cufflinks as cf"
   ],
   "outputs": [],
   "metadata": {}
  },
  {
   "cell_type": "code",
   "execution_count": 9,
   "source": [
    "from plotly.offline import download_plotlyjs, init_notebook_mode, plot, iplot"
   ],
   "outputs": [],
   "metadata": {}
  },
  {
   "cell_type": "code",
   "execution_count": 11,
   "source": [
    "init_notebook_mode(connected=True) #connects pandas and python to interactive js library"
   ],
   "outputs": [
    {
     "output_type": "display_data",
     "data": {
      "text/html": [
       "        <script type=\"text/javascript\">\n",
       "        window.PlotlyConfig = {MathJaxConfig: 'local'};\n",
       "        if (window.MathJax) {MathJax.Hub.Config({SVG: {font: \"STIX-Web\"}});}\n",
       "        if (typeof require !== 'undefined') {\n",
       "        require.undef(\"plotly\");\n",
       "        requirejs.config({\n",
       "            paths: {\n",
       "                'plotly': ['https://cdn.plot.ly/plotly-2.1.0.min']\n",
       "            }\n",
       "        });\n",
       "        require(['plotly'], function(Plotly) {\n",
       "            window._Plotly = Plotly;\n",
       "        });\n",
       "        }\n",
       "        </script>\n",
       "        "
      ]
     },
     "metadata": {}
    }
   ],
   "metadata": {}
  },
  {
   "cell_type": "code",
   "execution_count": 12,
   "source": [
    "cf.go_offline()"
   ],
   "outputs": [
    {
     "output_type": "display_data",
     "data": {
      "text/html": [
       "        <script type=\"text/javascript\">\n",
       "        window.PlotlyConfig = {MathJaxConfig: 'local'};\n",
       "        if (window.MathJax) {MathJax.Hub.Config({SVG: {font: \"STIX-Web\"}});}\n",
       "        if (typeof require !== 'undefined') {\n",
       "        require.undef(\"plotly\");\n",
       "        requirejs.config({\n",
       "            paths: {\n",
       "                'plotly': ['https://cdn.plot.ly/plotly-2.1.0.min']\n",
       "            }\n",
       "        });\n",
       "        require(['plotly'], function(Plotly) {\n",
       "            window._Plotly = Plotly;\n",
       "        });\n",
       "        }\n",
       "        </script>\n",
       "        "
      ]
     },
     "metadata": {}
    }
   ],
   "metadata": {}
  },
  {
   "cell_type": "code",
   "execution_count": 13,
   "source": [
    "#DATA\r\n",
    "df = pd.DataFrame(np.random.randn(100,4), columns='A B C D'.split())"
   ],
   "outputs": [],
   "metadata": {}
  },
  {
   "cell_type": "code",
   "execution_count": 14,
   "source": [
    "df.head()"
   ],
   "outputs": [
    {
     "output_type": "execute_result",
     "data": {
      "text/plain": [
       "          A         B         C         D\n",
       "0  1.297631  0.189265 -1.171971 -0.127049\n",
       "1  0.028916  0.162927  0.233214  1.693805\n",
       "2  0.648803 -0.566306 -0.454680  0.575619\n",
       "3 -0.651897 -1.187148  1.351624 -0.179996\n",
       "4  0.610304 -0.026252  0.171800 -0.000092"
      ],
      "text/html": [
       "<div>\n",
       "<style scoped>\n",
       "    .dataframe tbody tr th:only-of-type {\n",
       "        vertical-align: middle;\n",
       "    }\n",
       "\n",
       "    .dataframe tbody tr th {\n",
       "        vertical-align: top;\n",
       "    }\n",
       "\n",
       "    .dataframe thead th {\n",
       "        text-align: right;\n",
       "    }\n",
       "</style>\n",
       "<table border=\"1\" class=\"dataframe\">\n",
       "  <thead>\n",
       "    <tr style=\"text-align: right;\">\n",
       "      <th></th>\n",
       "      <th>A</th>\n",
       "      <th>B</th>\n",
       "      <th>C</th>\n",
       "      <th>D</th>\n",
       "    </tr>\n",
       "  </thead>\n",
       "  <tbody>\n",
       "    <tr>\n",
       "      <th>0</th>\n",
       "      <td>1.297631</td>\n",
       "      <td>0.189265</td>\n",
       "      <td>-1.171971</td>\n",
       "      <td>-0.127049</td>\n",
       "    </tr>\n",
       "    <tr>\n",
       "      <th>1</th>\n",
       "      <td>0.028916</td>\n",
       "      <td>0.162927</td>\n",
       "      <td>0.233214</td>\n",
       "      <td>1.693805</td>\n",
       "    </tr>\n",
       "    <tr>\n",
       "      <th>2</th>\n",
       "      <td>0.648803</td>\n",
       "      <td>-0.566306</td>\n",
       "      <td>-0.454680</td>\n",
       "      <td>0.575619</td>\n",
       "    </tr>\n",
       "    <tr>\n",
       "      <th>3</th>\n",
       "      <td>-0.651897</td>\n",
       "      <td>-1.187148</td>\n",
       "      <td>1.351624</td>\n",
       "      <td>-0.179996</td>\n",
       "    </tr>\n",
       "    <tr>\n",
       "      <th>4</th>\n",
       "      <td>0.610304</td>\n",
       "      <td>-0.026252</td>\n",
       "      <td>0.171800</td>\n",
       "      <td>-0.000092</td>\n",
       "    </tr>\n",
       "  </tbody>\n",
       "</table>\n",
       "</div>"
      ]
     },
     "metadata": {},
     "execution_count": 14
    }
   ],
   "metadata": {}
  },
  {
   "cell_type": "code",
   "execution_count": 16,
   "source": [
    "df2 = pd.DataFrame({'Category':['A','B','C'], 'Values': [32, 43, 50]})"
   ],
   "outputs": [],
   "metadata": {}
  },
  {
   "cell_type": "code",
   "execution_count": 17,
   "source": [
    "df2"
   ],
   "outputs": [
    {
     "output_type": "execute_result",
     "data": {
      "text/plain": [
       "  Category  Values\n",
       "0        A      32\n",
       "1        B      43\n",
       "2        C      50"
      ],
      "text/html": [
       "<div>\n",
       "<style scoped>\n",
       "    .dataframe tbody tr th:only-of-type {\n",
       "        vertical-align: middle;\n",
       "    }\n",
       "\n",
       "    .dataframe tbody tr th {\n",
       "        vertical-align: top;\n",
       "    }\n",
       "\n",
       "    .dataframe thead th {\n",
       "        text-align: right;\n",
       "    }\n",
       "</style>\n",
       "<table border=\"1\" class=\"dataframe\">\n",
       "  <thead>\n",
       "    <tr style=\"text-align: right;\">\n",
       "      <th></th>\n",
       "      <th>Category</th>\n",
       "      <th>Values</th>\n",
       "    </tr>\n",
       "  </thead>\n",
       "  <tbody>\n",
       "    <tr>\n",
       "      <th>0</th>\n",
       "      <td>A</td>\n",
       "      <td>32</td>\n",
       "    </tr>\n",
       "    <tr>\n",
       "      <th>1</th>\n",
       "      <td>B</td>\n",
       "      <td>43</td>\n",
       "    </tr>\n",
       "    <tr>\n",
       "      <th>2</th>\n",
       "      <td>C</td>\n",
       "      <td>50</td>\n",
       "    </tr>\n",
       "  </tbody>\n",
       "</table>\n",
       "</div>"
      ]
     },
     "metadata": {},
     "execution_count": 17
    }
   ],
   "metadata": {}
  },
  {
   "cell_type": "code",
   "execution_count": 34,
   "source": [
    "df2.plot( color=\"purple\", lw=1, ls='-', marker='o', markersize=8, markerfacecolor=\"red\")"
   ],
   "outputs": [
    {
     "output_type": "execute_result",
     "data": {
      "text/plain": [
       "<AxesSubplot:>"
      ]
     },
     "metadata": {},
     "execution_count": 34
    },
    {
     "output_type": "display_data",
     "data": {
      "text/plain": [
       "<Figure size 432x288 with 1 Axes>"
      ],
      "image/svg+xml": "<?xml version=\"1.0\" encoding=\"utf-8\" standalone=\"no\"?>\r\n<!DOCTYPE svg PUBLIC \"-//W3C//DTD SVG 1.1//EN\"\r\n  \"http://www.w3.org/Graphics/SVG/1.1/DTD/svg11.dtd\">\r\n<!-- Created with matplotlib (https://matplotlib.org/) -->\r\n<svg height=\"248.518125pt\" version=\"1.1\" viewBox=\"0 0 378.465625 248.518125\" width=\"378.465625pt\" xmlns=\"http://www.w3.org/2000/svg\" xmlns:xlink=\"http://www.w3.org/1999/xlink\">\r\n <metadata>\r\n  <rdf:RDF xmlns:cc=\"http://creativecommons.org/ns#\" xmlns:dc=\"http://purl.org/dc/elements/1.1/\" xmlns:rdf=\"http://www.w3.org/1999/02/22-rdf-syntax-ns#\">\r\n   <cc:Work>\r\n    <dc:type rdf:resource=\"http://purl.org/dc/dcmitype/StillImage\"/>\r\n    <dc:date>2021-06-26T21:25:15.665970</dc:date>\r\n    <dc:format>image/svg+xml</dc:format>\r\n    <dc:creator>\r\n     <cc:Agent>\r\n      <dc:title>Matplotlib v3.3.4, https://matplotlib.org/</dc:title>\r\n     </cc:Agent>\r\n    </dc:creator>\r\n   </cc:Work>\r\n  </rdf:RDF>\r\n </metadata>\r\n <defs>\r\n  <style type=\"text/css\">*{stroke-linecap:butt;stroke-linejoin:round;}</style>\r\n </defs>\r\n <g id=\"figure_1\">\r\n  <g id=\"patch_1\">\r\n   <path d=\"M 0 248.518125 \r\nL 378.465625 248.518125 \r\nL 378.465625 0 \r\nL 0 0 \r\nz\r\n\" style=\"fill:none;\"/>\r\n  </g>\r\n  <g id=\"axes_1\">\r\n   <g id=\"patch_2\">\r\n    <path d=\"M 36.465625 224.64 \r\nL 371.265625 224.64 \r\nL 371.265625 7.2 \r\nL 36.465625 7.2 \r\nz\r\n\" style=\"fill:#ffffff;\"/>\r\n   </g>\r\n   <g id=\"matplotlib.axis_1\">\r\n    <g id=\"xtick_1\">\r\n     <g id=\"line2d_1\">\r\n      <defs>\r\n       <path d=\"M 0 0 \r\nL 0 3.5 \r\n\" id=\"ma520259b54\" style=\"stroke:#000000;stroke-width:0.8;\"/>\r\n      </defs>\r\n      <g>\r\n       <use style=\"stroke:#000000;stroke-width:0.8;\" x=\"51.683807\" xlink:href=\"#ma520259b54\" y=\"224.64\"/>\r\n      </g>\r\n     </g>\r\n     <g id=\"text_1\">\r\n      <!-- 0.00 -->\r\n      <g transform=\"translate(40.550994 239.238437)scale(0.1 -0.1)\">\r\n       <defs>\r\n        <path d=\"M 31.78125 66.40625 \r\nQ 24.171875 66.40625 20.328125 58.90625 \r\nQ 16.5 51.421875 16.5 36.375 \r\nQ 16.5 21.390625 20.328125 13.890625 \r\nQ 24.171875 6.390625 31.78125 6.390625 \r\nQ 39.453125 6.390625 43.28125 13.890625 \r\nQ 47.125 21.390625 47.125 36.375 \r\nQ 47.125 51.421875 43.28125 58.90625 \r\nQ 39.453125 66.40625 31.78125 66.40625 \r\nz\r\nM 31.78125 74.21875 \r\nQ 44.046875 74.21875 50.515625 64.515625 \r\nQ 56.984375 54.828125 56.984375 36.375 \r\nQ 56.984375 17.96875 50.515625 8.265625 \r\nQ 44.046875 -1.421875 31.78125 -1.421875 \r\nQ 19.53125 -1.421875 13.0625 8.265625 \r\nQ 6.59375 17.96875 6.59375 36.375 \r\nQ 6.59375 54.828125 13.0625 64.515625 \r\nQ 19.53125 74.21875 31.78125 74.21875 \r\nz\r\n\" id=\"DejaVuSans-48\"/>\r\n        <path d=\"M 10.6875 12.40625 \r\nL 21 12.40625 \r\nL 21 0 \r\nL 10.6875 0 \r\nz\r\n\" id=\"DejaVuSans-46\"/>\r\n       </defs>\r\n       <use xlink:href=\"#DejaVuSans-48\"/>\r\n       <use x=\"63.623047\" xlink:href=\"#DejaVuSans-46\"/>\r\n       <use x=\"95.410156\" xlink:href=\"#DejaVuSans-48\"/>\r\n       <use x=\"159.033203\" xlink:href=\"#DejaVuSans-48\"/>\r\n      </g>\r\n     </g>\r\n    </g>\r\n    <g id=\"xtick_2\">\r\n     <g id=\"line2d_2\">\r\n      <g>\r\n       <use style=\"stroke:#000000;stroke-width:0.8;\" x=\"89.729261\" xlink:href=\"#ma520259b54\" y=\"224.64\"/>\r\n      </g>\r\n     </g>\r\n     <g id=\"text_2\">\r\n      <!-- 0.25 -->\r\n      <g transform=\"translate(78.596449 239.238437)scale(0.1 -0.1)\">\r\n       <defs>\r\n        <path d=\"M 19.1875 8.296875 \r\nL 53.609375 8.296875 \r\nL 53.609375 0 \r\nL 7.328125 0 \r\nL 7.328125 8.296875 \r\nQ 12.9375 14.109375 22.625 23.890625 \r\nQ 32.328125 33.6875 34.8125 36.53125 \r\nQ 39.546875 41.84375 41.421875 45.53125 \r\nQ 43.3125 49.21875 43.3125 52.78125 \r\nQ 43.3125 58.59375 39.234375 62.25 \r\nQ 35.15625 65.921875 28.609375 65.921875 \r\nQ 23.96875 65.921875 18.8125 64.3125 \r\nQ 13.671875 62.703125 7.8125 59.421875 \r\nL 7.8125 69.390625 \r\nQ 13.765625 71.78125 18.9375 73 \r\nQ 24.125 74.21875 28.421875 74.21875 \r\nQ 39.75 74.21875 46.484375 68.546875 \r\nQ 53.21875 62.890625 53.21875 53.421875 \r\nQ 53.21875 48.921875 51.53125 44.890625 \r\nQ 49.859375 40.875 45.40625 35.40625 \r\nQ 44.1875 33.984375 37.640625 27.21875 \r\nQ 31.109375 20.453125 19.1875 8.296875 \r\nz\r\n\" id=\"DejaVuSans-50\"/>\r\n        <path d=\"M 10.796875 72.90625 \r\nL 49.515625 72.90625 \r\nL 49.515625 64.59375 \r\nL 19.828125 64.59375 \r\nL 19.828125 46.734375 \r\nQ 21.96875 47.46875 24.109375 47.828125 \r\nQ 26.265625 48.1875 28.421875 48.1875 \r\nQ 40.625 48.1875 47.75 41.5 \r\nQ 54.890625 34.8125 54.890625 23.390625 \r\nQ 54.890625 11.625 47.5625 5.09375 \r\nQ 40.234375 -1.421875 26.90625 -1.421875 \r\nQ 22.3125 -1.421875 17.546875 -0.640625 \r\nQ 12.796875 0.140625 7.71875 1.703125 \r\nL 7.71875 11.625 \r\nQ 12.109375 9.234375 16.796875 8.0625 \r\nQ 21.484375 6.890625 26.703125 6.890625 \r\nQ 35.15625 6.890625 40.078125 11.328125 \r\nQ 45.015625 15.765625 45.015625 23.390625 \r\nQ 45.015625 31 40.078125 35.4375 \r\nQ 35.15625 39.890625 26.703125 39.890625 \r\nQ 22.75 39.890625 18.8125 39.015625 \r\nQ 14.890625 38.140625 10.796875 36.28125 \r\nz\r\n\" id=\"DejaVuSans-53\"/>\r\n       </defs>\r\n       <use xlink:href=\"#DejaVuSans-48\"/>\r\n       <use x=\"63.623047\" xlink:href=\"#DejaVuSans-46\"/>\r\n       <use x=\"95.410156\" xlink:href=\"#DejaVuSans-50\"/>\r\n       <use x=\"159.033203\" xlink:href=\"#DejaVuSans-53\"/>\r\n      </g>\r\n     </g>\r\n    </g>\r\n    <g id=\"xtick_3\">\r\n     <g id=\"line2d_3\">\r\n      <g>\r\n       <use style=\"stroke:#000000;stroke-width:0.8;\" x=\"127.774716\" xlink:href=\"#ma520259b54\" y=\"224.64\"/>\r\n      </g>\r\n     </g>\r\n     <g id=\"text_3\">\r\n      <!-- 0.50 -->\r\n      <g transform=\"translate(116.641903 239.238437)scale(0.1 -0.1)\">\r\n       <use xlink:href=\"#DejaVuSans-48\"/>\r\n       <use x=\"63.623047\" xlink:href=\"#DejaVuSans-46\"/>\r\n       <use x=\"95.410156\" xlink:href=\"#DejaVuSans-53\"/>\r\n       <use x=\"159.033203\" xlink:href=\"#DejaVuSans-48\"/>\r\n      </g>\r\n     </g>\r\n    </g>\r\n    <g id=\"xtick_4\">\r\n     <g id=\"line2d_4\">\r\n      <g>\r\n       <use style=\"stroke:#000000;stroke-width:0.8;\" x=\"165.82017\" xlink:href=\"#ma520259b54\" y=\"224.64\"/>\r\n      </g>\r\n     </g>\r\n     <g id=\"text_4\">\r\n      <!-- 0.75 -->\r\n      <g transform=\"translate(154.687358 239.238437)scale(0.1 -0.1)\">\r\n       <defs>\r\n        <path d=\"M 8.203125 72.90625 \r\nL 55.078125 72.90625 \r\nL 55.078125 68.703125 \r\nL 28.609375 0 \r\nL 18.3125 0 \r\nL 43.21875 64.59375 \r\nL 8.203125 64.59375 \r\nz\r\n\" id=\"DejaVuSans-55\"/>\r\n       </defs>\r\n       <use xlink:href=\"#DejaVuSans-48\"/>\r\n       <use x=\"63.623047\" xlink:href=\"#DejaVuSans-46\"/>\r\n       <use x=\"95.410156\" xlink:href=\"#DejaVuSans-55\"/>\r\n       <use x=\"159.033203\" xlink:href=\"#DejaVuSans-53\"/>\r\n      </g>\r\n     </g>\r\n    </g>\r\n    <g id=\"xtick_5\">\r\n     <g id=\"line2d_5\">\r\n      <g>\r\n       <use style=\"stroke:#000000;stroke-width:0.8;\" x=\"203.865625\" xlink:href=\"#ma520259b54\" y=\"224.64\"/>\r\n      </g>\r\n     </g>\r\n     <g id=\"text_5\">\r\n      <!-- 1.00 -->\r\n      <g transform=\"translate(192.732813 239.238437)scale(0.1 -0.1)\">\r\n       <defs>\r\n        <path d=\"M 12.40625 8.296875 \r\nL 28.515625 8.296875 \r\nL 28.515625 63.921875 \r\nL 10.984375 60.40625 \r\nL 10.984375 69.390625 \r\nL 28.421875 72.90625 \r\nL 38.28125 72.90625 \r\nL 38.28125 8.296875 \r\nL 54.390625 8.296875 \r\nL 54.390625 0 \r\nL 12.40625 0 \r\nz\r\n\" id=\"DejaVuSans-49\"/>\r\n       </defs>\r\n       <use xlink:href=\"#DejaVuSans-49\"/>\r\n       <use x=\"63.623047\" xlink:href=\"#DejaVuSans-46\"/>\r\n       <use x=\"95.410156\" xlink:href=\"#DejaVuSans-48\"/>\r\n       <use x=\"159.033203\" xlink:href=\"#DejaVuSans-48\"/>\r\n      </g>\r\n     </g>\r\n    </g>\r\n    <g id=\"xtick_6\">\r\n     <g id=\"line2d_6\">\r\n      <g>\r\n       <use style=\"stroke:#000000;stroke-width:0.8;\" x=\"241.91108\" xlink:href=\"#ma520259b54\" y=\"224.64\"/>\r\n      </g>\r\n     </g>\r\n     <g id=\"text_6\">\r\n      <!-- 1.25 -->\r\n      <g transform=\"translate(230.778267 239.238437)scale(0.1 -0.1)\">\r\n       <use xlink:href=\"#DejaVuSans-49\"/>\r\n       <use x=\"63.623047\" xlink:href=\"#DejaVuSans-46\"/>\r\n       <use x=\"95.410156\" xlink:href=\"#DejaVuSans-50\"/>\r\n       <use x=\"159.033203\" xlink:href=\"#DejaVuSans-53\"/>\r\n      </g>\r\n     </g>\r\n    </g>\r\n    <g id=\"xtick_7\">\r\n     <g id=\"line2d_7\">\r\n      <g>\r\n       <use style=\"stroke:#000000;stroke-width:0.8;\" x=\"279.956534\" xlink:href=\"#ma520259b54\" y=\"224.64\"/>\r\n      </g>\r\n     </g>\r\n     <g id=\"text_7\">\r\n      <!-- 1.50 -->\r\n      <g transform=\"translate(268.823722 239.238437)scale(0.1 -0.1)\">\r\n       <use xlink:href=\"#DejaVuSans-49\"/>\r\n       <use x=\"63.623047\" xlink:href=\"#DejaVuSans-46\"/>\r\n       <use x=\"95.410156\" xlink:href=\"#DejaVuSans-53\"/>\r\n       <use x=\"159.033203\" xlink:href=\"#DejaVuSans-48\"/>\r\n      </g>\r\n     </g>\r\n    </g>\r\n    <g id=\"xtick_8\">\r\n     <g id=\"line2d_8\">\r\n      <g>\r\n       <use style=\"stroke:#000000;stroke-width:0.8;\" x=\"318.001989\" xlink:href=\"#ma520259b54\" y=\"224.64\"/>\r\n      </g>\r\n     </g>\r\n     <g id=\"text_8\">\r\n      <!-- 1.75 -->\r\n      <g transform=\"translate(306.869176 239.238437)scale(0.1 -0.1)\">\r\n       <use xlink:href=\"#DejaVuSans-49\"/>\r\n       <use x=\"63.623047\" xlink:href=\"#DejaVuSans-46\"/>\r\n       <use x=\"95.410156\" xlink:href=\"#DejaVuSans-55\"/>\r\n       <use x=\"159.033203\" xlink:href=\"#DejaVuSans-53\"/>\r\n      </g>\r\n     </g>\r\n    </g>\r\n    <g id=\"xtick_9\">\r\n     <g id=\"line2d_9\">\r\n      <g>\r\n       <use style=\"stroke:#000000;stroke-width:0.8;\" x=\"356.047443\" xlink:href=\"#ma520259b54\" y=\"224.64\"/>\r\n      </g>\r\n     </g>\r\n     <g id=\"text_9\">\r\n      <!-- 2.00 -->\r\n      <g transform=\"translate(344.914631 239.238437)scale(0.1 -0.1)\">\r\n       <use xlink:href=\"#DejaVuSans-50\"/>\r\n       <use x=\"63.623047\" xlink:href=\"#DejaVuSans-46\"/>\r\n       <use x=\"95.410156\" xlink:href=\"#DejaVuSans-48\"/>\r\n       <use x=\"159.033203\" xlink:href=\"#DejaVuSans-48\"/>\r\n      </g>\r\n     </g>\r\n    </g>\r\n   </g>\r\n   <g id=\"matplotlib.axis_2\">\r\n    <g id=\"ytick_1\">\r\n     <g id=\"line2d_10\">\r\n      <defs>\r\n       <path d=\"M 0 0 \r\nL -3.5 0 \r\n\" id=\"m19b0424635\" style=\"stroke:#000000;stroke-width:0.8;\"/>\r\n      </defs>\r\n      <g>\r\n       <use style=\"stroke:#000000;stroke-width:0.8;\" x=\"36.465625\" xlink:href=\"#m19b0424635\" y=\"209.265455\"/>\r\n      </g>\r\n     </g>\r\n     <g id=\"text_10\">\r\n      <!-- 32.5 -->\r\n      <g transform=\"translate(7.2 213.064673)scale(0.1 -0.1)\">\r\n       <defs>\r\n        <path d=\"M 40.578125 39.3125 \r\nQ 47.65625 37.796875 51.625 33 \r\nQ 55.609375 28.21875 55.609375 21.1875 \r\nQ 55.609375 10.40625 48.1875 4.484375 \r\nQ 40.765625 -1.421875 27.09375 -1.421875 \r\nQ 22.515625 -1.421875 17.65625 -0.515625 \r\nQ 12.796875 0.390625 7.625 2.203125 \r\nL 7.625 11.71875 \r\nQ 11.71875 9.328125 16.59375 8.109375 \r\nQ 21.484375 6.890625 26.8125 6.890625 \r\nQ 36.078125 6.890625 40.9375 10.546875 \r\nQ 45.796875 14.203125 45.796875 21.1875 \r\nQ 45.796875 27.640625 41.28125 31.265625 \r\nQ 36.765625 34.90625 28.71875 34.90625 \r\nL 20.21875 34.90625 \r\nL 20.21875 43.015625 \r\nL 29.109375 43.015625 \r\nQ 36.375 43.015625 40.234375 45.921875 \r\nQ 44.09375 48.828125 44.09375 54.296875 \r\nQ 44.09375 59.90625 40.109375 62.90625 \r\nQ 36.140625 65.921875 28.71875 65.921875 \r\nQ 24.65625 65.921875 20.015625 65.03125 \r\nQ 15.375 64.15625 9.8125 62.3125 \r\nL 9.8125 71.09375 \r\nQ 15.4375 72.65625 20.34375 73.4375 \r\nQ 25.25 74.21875 29.59375 74.21875 \r\nQ 40.828125 74.21875 47.359375 69.109375 \r\nQ 53.90625 64.015625 53.90625 55.328125 \r\nQ 53.90625 49.265625 50.4375 45.09375 \r\nQ 46.96875 40.921875 40.578125 39.3125 \r\nz\r\n\" id=\"DejaVuSans-51\"/>\r\n       </defs>\r\n       <use xlink:href=\"#DejaVuSans-51\"/>\r\n       <use x=\"63.623047\" xlink:href=\"#DejaVuSans-50\"/>\r\n       <use x=\"127.246094\" xlink:href=\"#DejaVuSans-46\"/>\r\n       <use x=\"159.033203\" xlink:href=\"#DejaVuSans-53\"/>\r\n      </g>\r\n     </g>\r\n    </g>\r\n    <g id=\"ytick_2\">\r\n     <g id=\"line2d_11\">\r\n      <g>\r\n       <use style=\"stroke:#000000;stroke-width:0.8;\" x=\"36.465625\" xlink:href=\"#m19b0424635\" y=\"181.810909\"/>\r\n      </g>\r\n     </g>\r\n     <g id=\"text_11\">\r\n      <!-- 35.0 -->\r\n      <g transform=\"translate(7.2 185.610128)scale(0.1 -0.1)\">\r\n       <use xlink:href=\"#DejaVuSans-51\"/>\r\n       <use x=\"63.623047\" xlink:href=\"#DejaVuSans-53\"/>\r\n       <use x=\"127.246094\" xlink:href=\"#DejaVuSans-46\"/>\r\n       <use x=\"159.033203\" xlink:href=\"#DejaVuSans-48\"/>\r\n      </g>\r\n     </g>\r\n    </g>\r\n    <g id=\"ytick_3\">\r\n     <g id=\"line2d_12\">\r\n      <g>\r\n       <use style=\"stroke:#000000;stroke-width:0.8;\" x=\"36.465625\" xlink:href=\"#m19b0424635\" y=\"154.356364\"/>\r\n      </g>\r\n     </g>\r\n     <g id=\"text_12\">\r\n      <!-- 37.5 -->\r\n      <g transform=\"translate(7.2 158.155582)scale(0.1 -0.1)\">\r\n       <use xlink:href=\"#DejaVuSans-51\"/>\r\n       <use x=\"63.623047\" xlink:href=\"#DejaVuSans-55\"/>\r\n       <use x=\"127.246094\" xlink:href=\"#DejaVuSans-46\"/>\r\n       <use x=\"159.033203\" xlink:href=\"#DejaVuSans-53\"/>\r\n      </g>\r\n     </g>\r\n    </g>\r\n    <g id=\"ytick_4\">\r\n     <g id=\"line2d_13\">\r\n      <g>\r\n       <use style=\"stroke:#000000;stroke-width:0.8;\" x=\"36.465625\" xlink:href=\"#m19b0424635\" y=\"126.901818\"/>\r\n      </g>\r\n     </g>\r\n     <g id=\"text_13\">\r\n      <!-- 40.0 -->\r\n      <g transform=\"translate(7.2 130.701037)scale(0.1 -0.1)\">\r\n       <defs>\r\n        <path d=\"M 37.796875 64.3125 \r\nL 12.890625 25.390625 \r\nL 37.796875 25.390625 \r\nz\r\nM 35.203125 72.90625 \r\nL 47.609375 72.90625 \r\nL 47.609375 25.390625 \r\nL 58.015625 25.390625 \r\nL 58.015625 17.1875 \r\nL 47.609375 17.1875 \r\nL 47.609375 0 \r\nL 37.796875 0 \r\nL 37.796875 17.1875 \r\nL 4.890625 17.1875 \r\nL 4.890625 26.703125 \r\nz\r\n\" id=\"DejaVuSans-52\"/>\r\n       </defs>\r\n       <use xlink:href=\"#DejaVuSans-52\"/>\r\n       <use x=\"63.623047\" xlink:href=\"#DejaVuSans-48\"/>\r\n       <use x=\"127.246094\" xlink:href=\"#DejaVuSans-46\"/>\r\n       <use x=\"159.033203\" xlink:href=\"#DejaVuSans-48\"/>\r\n      </g>\r\n     </g>\r\n    </g>\r\n    <g id=\"ytick_5\">\r\n     <g id=\"line2d_14\">\r\n      <g>\r\n       <use style=\"stroke:#000000;stroke-width:0.8;\" x=\"36.465625\" xlink:href=\"#m19b0424635\" y=\"99.447273\"/>\r\n      </g>\r\n     </g>\r\n     <g id=\"text_14\">\r\n      <!-- 42.5 -->\r\n      <g transform=\"translate(7.2 103.246491)scale(0.1 -0.1)\">\r\n       <use xlink:href=\"#DejaVuSans-52\"/>\r\n       <use x=\"63.623047\" xlink:href=\"#DejaVuSans-50\"/>\r\n       <use x=\"127.246094\" xlink:href=\"#DejaVuSans-46\"/>\r\n       <use x=\"159.033203\" xlink:href=\"#DejaVuSans-53\"/>\r\n      </g>\r\n     </g>\r\n    </g>\r\n    <g id=\"ytick_6\">\r\n     <g id=\"line2d_15\">\r\n      <g>\r\n       <use style=\"stroke:#000000;stroke-width:0.8;\" x=\"36.465625\" xlink:href=\"#m19b0424635\" y=\"71.992727\"/>\r\n      </g>\r\n     </g>\r\n     <g id=\"text_15\">\r\n      <!-- 45.0 -->\r\n      <g transform=\"translate(7.2 75.791946)scale(0.1 -0.1)\">\r\n       <use xlink:href=\"#DejaVuSans-52\"/>\r\n       <use x=\"63.623047\" xlink:href=\"#DejaVuSans-53\"/>\r\n       <use x=\"127.246094\" xlink:href=\"#DejaVuSans-46\"/>\r\n       <use x=\"159.033203\" xlink:href=\"#DejaVuSans-48\"/>\r\n      </g>\r\n     </g>\r\n    </g>\r\n    <g id=\"ytick_7\">\r\n     <g id=\"line2d_16\">\r\n      <g>\r\n       <use style=\"stroke:#000000;stroke-width:0.8;\" x=\"36.465625\" xlink:href=\"#m19b0424635\" y=\"44.538182\"/>\r\n      </g>\r\n     </g>\r\n     <g id=\"text_16\">\r\n      <!-- 47.5 -->\r\n      <g transform=\"translate(7.2 48.337401)scale(0.1 -0.1)\">\r\n       <use xlink:href=\"#DejaVuSans-52\"/>\r\n       <use x=\"63.623047\" xlink:href=\"#DejaVuSans-55\"/>\r\n       <use x=\"127.246094\" xlink:href=\"#DejaVuSans-46\"/>\r\n       <use x=\"159.033203\" xlink:href=\"#DejaVuSans-53\"/>\r\n      </g>\r\n     </g>\r\n    </g>\r\n    <g id=\"ytick_8\">\r\n     <g id=\"line2d_17\">\r\n      <g>\r\n       <use style=\"stroke:#000000;stroke-width:0.8;\" x=\"36.465625\" xlink:href=\"#m19b0424635\" y=\"17.083636\"/>\r\n      </g>\r\n     </g>\r\n     <g id=\"text_17\">\r\n      <!-- 50.0 -->\r\n      <g transform=\"translate(7.2 20.882855)scale(0.1 -0.1)\">\r\n       <use xlink:href=\"#DejaVuSans-53\"/>\r\n       <use x=\"63.623047\" xlink:href=\"#DejaVuSans-48\"/>\r\n       <use x=\"127.246094\" xlink:href=\"#DejaVuSans-46\"/>\r\n       <use x=\"159.033203\" xlink:href=\"#DejaVuSans-48\"/>\r\n      </g>\r\n     </g>\r\n    </g>\r\n   </g>\r\n   <g id=\"line2d_18\">\r\n    <path clip-path=\"url(#p730fa69ee9)\" d=\"M 51.683807 214.756364 \r\nL 203.865625 93.956364 \r\nL 356.047443 17.083636 \r\n\" style=\"fill:none;stroke:#800080;stroke-linecap:square;\"/>\r\n    <defs>\r\n     <path d=\"M 0 4 \r\nC 1.060812 4 2.078319 3.578535 2.828427 2.828427 \r\nC 3.578535 2.078319 4 1.060812 4 0 \r\nC 4 -1.060812 3.578535 -2.078319 2.828427 -2.828427 \r\nC 2.078319 -3.578535 1.060812 -4 0 -4 \r\nC -1.060812 -4 -2.078319 -3.578535 -2.828427 -2.828427 \r\nC -3.578535 -2.078319 -4 -1.060812 -4 0 \r\nC -4 1.060812 -3.578535 2.078319 -2.828427 2.828427 \r\nC -2.078319 3.578535 -1.060812 4 0 4 \r\nz\r\n\" id=\"m05714797c7\" style=\"stroke:#800080;\"/>\r\n    </defs>\r\n    <g clip-path=\"url(#p730fa69ee9)\">\r\n     <use style=\"fill:#ff0000;stroke:#800080;\" x=\"51.683807\" xlink:href=\"#m05714797c7\" y=\"214.756364\"/>\r\n     <use style=\"fill:#ff0000;stroke:#800080;\" x=\"203.865625\" xlink:href=\"#m05714797c7\" y=\"93.956364\"/>\r\n     <use style=\"fill:#ff0000;stroke:#800080;\" x=\"356.047443\" xlink:href=\"#m05714797c7\" y=\"17.083636\"/>\r\n    </g>\r\n   </g>\r\n   <g id=\"patch_3\">\r\n    <path d=\"M 36.465625 224.64 \r\nL 36.465625 7.2 \r\n\" style=\"fill:none;stroke:#000000;stroke-linecap:square;stroke-linejoin:miter;stroke-width:0.8;\"/>\r\n   </g>\r\n   <g id=\"patch_4\">\r\n    <path d=\"M 371.265625 224.64 \r\nL 371.265625 7.2 \r\n\" style=\"fill:none;stroke:#000000;stroke-linecap:square;stroke-linejoin:miter;stroke-width:0.8;\"/>\r\n   </g>\r\n   <g id=\"patch_5\">\r\n    <path d=\"M 36.465625 224.64 \r\nL 371.265625 224.64 \r\n\" style=\"fill:none;stroke:#000000;stroke-linecap:square;stroke-linejoin:miter;stroke-width:0.8;\"/>\r\n   </g>\r\n   <g id=\"patch_6\">\r\n    <path d=\"M 36.465625 7.2 \r\nL 371.265625 7.2 \r\n\" style=\"fill:none;stroke:#000000;stroke-linecap:square;stroke-linejoin:miter;stroke-width:0.8;\"/>\r\n   </g>\r\n   <g id=\"legend_1\">\r\n    <g id=\"patch_7\">\r\n     <path d=\"M 43.465625 29.878125 \r\nL 108.1375 29.878125 \r\nQ 110.1375 29.878125 110.1375 27.878125 \r\nL 110.1375 14.2 \r\nQ 110.1375 12.2 108.1375 12.2 \r\nL 43.465625 12.2 \r\nQ 41.465625 12.2 41.465625 14.2 \r\nL 41.465625 27.878125 \r\nQ 41.465625 29.878125 43.465625 29.878125 \r\nz\r\n\" style=\"fill:#ffffff;opacity:0.8;stroke:#cccccc;stroke-linejoin:miter;\"/>\r\n    </g>\r\n    <g id=\"line2d_19\">\r\n     <path d=\"M 45.465625 20.298437 \r\nL 65.465625 20.298437 \r\n\" style=\"fill:none;stroke:#800080;stroke-linecap:square;\"/>\r\n    </g>\r\n    <g id=\"line2d_20\">\r\n     <g>\r\n      <use style=\"fill:#ff0000;stroke:#800080;\" x=\"55.465625\" xlink:href=\"#m05714797c7\" y=\"20.298437\"/>\r\n     </g>\r\n    </g>\r\n    <g id=\"text_18\">\r\n     <!-- Values -->\r\n     <g transform=\"translate(73.465625 23.798437)scale(0.1 -0.1)\">\r\n      <defs>\r\n       <path d=\"M 28.609375 0 \r\nL 0.78125 72.90625 \r\nL 11.078125 72.90625 \r\nL 34.1875 11.53125 \r\nL 57.328125 72.90625 \r\nL 67.578125 72.90625 \r\nL 39.796875 0 \r\nz\r\n\" id=\"DejaVuSans-86\"/>\r\n       <path d=\"M 34.28125 27.484375 \r\nQ 23.390625 27.484375 19.1875 25 \r\nQ 14.984375 22.515625 14.984375 16.5 \r\nQ 14.984375 11.71875 18.140625 8.90625 \r\nQ 21.296875 6.109375 26.703125 6.109375 \r\nQ 34.1875 6.109375 38.703125 11.40625 \r\nQ 43.21875 16.703125 43.21875 25.484375 \r\nL 43.21875 27.484375 \r\nz\r\nM 52.203125 31.203125 \r\nL 52.203125 0 \r\nL 43.21875 0 \r\nL 43.21875 8.296875 \r\nQ 40.140625 3.328125 35.546875 0.953125 \r\nQ 30.953125 -1.421875 24.3125 -1.421875 \r\nQ 15.921875 -1.421875 10.953125 3.296875 \r\nQ 6 8.015625 6 15.921875 \r\nQ 6 25.140625 12.171875 29.828125 \r\nQ 18.359375 34.515625 30.609375 34.515625 \r\nL 43.21875 34.515625 \r\nL 43.21875 35.40625 \r\nQ 43.21875 41.609375 39.140625 45 \r\nQ 35.0625 48.390625 27.6875 48.390625 \r\nQ 23 48.390625 18.546875 47.265625 \r\nQ 14.109375 46.140625 10.015625 43.890625 \r\nL 10.015625 52.203125 \r\nQ 14.9375 54.109375 19.578125 55.046875 \r\nQ 24.21875 56 28.609375 56 \r\nQ 40.484375 56 46.34375 49.84375 \r\nQ 52.203125 43.703125 52.203125 31.203125 \r\nz\r\n\" id=\"DejaVuSans-97\"/>\r\n       <path d=\"M 9.421875 75.984375 \r\nL 18.40625 75.984375 \r\nL 18.40625 0 \r\nL 9.421875 0 \r\nz\r\n\" id=\"DejaVuSans-108\"/>\r\n       <path d=\"M 8.5 21.578125 \r\nL 8.5 54.6875 \r\nL 17.484375 54.6875 \r\nL 17.484375 21.921875 \r\nQ 17.484375 14.15625 20.5 10.265625 \r\nQ 23.53125 6.390625 29.59375 6.390625 \r\nQ 36.859375 6.390625 41.078125 11.03125 \r\nQ 45.3125 15.671875 45.3125 23.6875 \r\nL 45.3125 54.6875 \r\nL 54.296875 54.6875 \r\nL 54.296875 0 \r\nL 45.3125 0 \r\nL 45.3125 8.40625 \r\nQ 42.046875 3.421875 37.71875 1 \r\nQ 33.40625 -1.421875 27.6875 -1.421875 \r\nQ 18.265625 -1.421875 13.375 4.4375 \r\nQ 8.5 10.296875 8.5 21.578125 \r\nz\r\nM 31.109375 56 \r\nz\r\n\" id=\"DejaVuSans-117\"/>\r\n       <path d=\"M 56.203125 29.59375 \r\nL 56.203125 25.203125 \r\nL 14.890625 25.203125 \r\nQ 15.484375 15.921875 20.484375 11.0625 \r\nQ 25.484375 6.203125 34.421875 6.203125 \r\nQ 39.59375 6.203125 44.453125 7.46875 \r\nQ 49.3125 8.734375 54.109375 11.28125 \r\nL 54.109375 2.78125 \r\nQ 49.265625 0.734375 44.1875 -0.34375 \r\nQ 39.109375 -1.421875 33.890625 -1.421875 \r\nQ 20.796875 -1.421875 13.15625 6.1875 \r\nQ 5.515625 13.8125 5.515625 26.8125 \r\nQ 5.515625 40.234375 12.765625 48.109375 \r\nQ 20.015625 56 32.328125 56 \r\nQ 43.359375 56 49.78125 48.890625 \r\nQ 56.203125 41.796875 56.203125 29.59375 \r\nz\r\nM 47.21875 32.234375 \r\nQ 47.125 39.59375 43.09375 43.984375 \r\nQ 39.0625 48.390625 32.421875 48.390625 \r\nQ 24.90625 48.390625 20.390625 44.140625 \r\nQ 15.875 39.890625 15.1875 32.171875 \r\nz\r\n\" id=\"DejaVuSans-101\"/>\r\n       <path d=\"M 44.28125 53.078125 \r\nL 44.28125 44.578125 \r\nQ 40.484375 46.53125 36.375 47.5 \r\nQ 32.28125 48.484375 27.875 48.484375 \r\nQ 21.1875 48.484375 17.84375 46.4375 \r\nQ 14.5 44.390625 14.5 40.28125 \r\nQ 14.5 37.15625 16.890625 35.375 \r\nQ 19.28125 33.59375 26.515625 31.984375 \r\nL 29.59375 31.296875 \r\nQ 39.15625 29.25 43.1875 25.515625 \r\nQ 47.21875 21.78125 47.21875 15.09375 \r\nQ 47.21875 7.46875 41.1875 3.015625 \r\nQ 35.15625 -1.421875 24.609375 -1.421875 \r\nQ 20.21875 -1.421875 15.453125 -0.5625 \r\nQ 10.6875 0.296875 5.421875 2 \r\nL 5.421875 11.28125 \r\nQ 10.40625 8.6875 15.234375 7.390625 \r\nQ 20.0625 6.109375 24.8125 6.109375 \r\nQ 31.15625 6.109375 34.5625 8.28125 \r\nQ 37.984375 10.453125 37.984375 14.40625 \r\nQ 37.984375 18.0625 35.515625 20.015625 \r\nQ 33.0625 21.96875 24.703125 23.78125 \r\nL 21.578125 24.515625 \r\nQ 13.234375 26.265625 9.515625 29.90625 \r\nQ 5.8125 33.546875 5.8125 39.890625 \r\nQ 5.8125 47.609375 11.28125 51.796875 \r\nQ 16.75 56 26.8125 56 \r\nQ 31.78125 56 36.171875 55.265625 \r\nQ 40.578125 54.546875 44.28125 53.078125 \r\nz\r\n\" id=\"DejaVuSans-115\"/>\r\n      </defs>\r\n      <use xlink:href=\"#DejaVuSans-86\"/>\r\n      <use x=\"60.658203\" xlink:href=\"#DejaVuSans-97\"/>\r\n      <use x=\"121.9375\" xlink:href=\"#DejaVuSans-108\"/>\r\n      <use x=\"149.720703\" xlink:href=\"#DejaVuSans-117\"/>\r\n      <use x=\"213.099609\" xlink:href=\"#DejaVuSans-101\"/>\r\n      <use x=\"274.623047\" xlink:href=\"#DejaVuSans-115\"/>\r\n     </g>\r\n    </g>\r\n   </g>\r\n  </g>\r\n </g>\r\n <defs>\r\n  <clipPath id=\"p730fa69ee9\">\r\n   <rect height=\"217.44\" width=\"334.8\" x=\"36.465625\" y=\"7.2\"/>\r\n  </clipPath>\r\n </defs>\r\n</svg>\r\n",
      "image/png": "[encoded data removed]"
     },
     "metadata": {
      "needs_background": "light"
     }
    }
   ],
   "metadata": {}
  },
  {
   "cell_type": "code",
   "execution_count": 36,
   "source": [
    "df.plot() #non interactive static plot"
   ],
   "outputs": [
    {
     "output_type": "execute_result",
     "data": {
      "text/plain": [
       "<AxesSubplot:>"
      ]
     },
     "metadata": {},
     "execution_count": 36
    },
    {
     "output_type": "display_data",
     "data": {
      "text/plain": [
       "<Figure size 432x288 with 1 Axes>"
      ],
      "image/svg+xml": "<?xml version=\"1.0\" encoding=\"utf-8\" standalone=\"no\"?>\r\n<!DOCTYPE svg PUBLIC \"-//W3C//DTD SVG 1.1//EN\"\r\n  \"http://www.w3.org/Graphics/SVG/1.1/DTD/svg11.dtd\">\r\n<!-- Created with matplotlib (https://matplotlib.org/) -->\r\n<svg height=\"248.518125pt\" version=\"1.1\" viewBox=\"0 0 370.942187 248.518125\" width=\"370.942187pt\" xmlns=\"http://www.w3.org/2000/svg\" xmlns:xlink=\"http://www.w3.org/1999/xlink\">\r\n <metadata>\r\n  <rdf:RDF xmlns:cc=\"http://creativecommons.org/ns#\" xmlns:dc=\"http://purl.org/dc/elements/1.1/\" xmlns:rdf=\"http://www.w3.org/1999/02/22-rdf-syntax-ns#\">\r\n   <cc:Work>\r\n    <dc:type rdf:resource=\"http://purl.org/dc/dcmitype/StillImage\"/>\r\n    <dc:date>2021-06-26T21:30:31.513306</dc:date>\r\n    <dc:format>image/svg+xml</dc:format>\r\n    <dc:creator>\r\n     <cc:Agent>\r\n      <dc:title>Matplotlib v3.3.4, https://matplotlib.org/</dc:title>\r\n     </cc:Agent>\r\n    </dc:creator>\r\n   </cc:Work>\r\n  </rdf:RDF>\r\n </metadata>\r\n <defs>\r\n  <style type=\"text/css\">*{stroke-linecap:butt;stroke-linejoin:round;}</style>\r\n </defs>\r\n <g id=\"figure_1\">\r\n  <g id=\"patch_1\">\r\n   <path d=\"M 0 248.518125 \r\nL 370.942187 248.518125 \r\nL 370.942187 0 \r\nL 0 0 \r\nz\r\n\" style=\"fill:none;\"/>\r\n  </g>\r\n  <g id=\"axes_1\">\r\n   <g id=\"patch_2\">\r\n    <path d=\"M 28.942188 224.64 \r\nL 363.742188 224.64 \r\nL 363.742188 7.2 \r\nL 28.942188 7.2 \r\nz\r\n\" style=\"fill:#ffffff;\"/>\r\n   </g>\r\n   <g id=\"matplotlib.axis_1\">\r\n    <g id=\"xtick_1\">\r\n     <g id=\"line2d_1\">\r\n      <defs>\r\n       <path d=\"M 0 0 \r\nL 0 3.5 \r\n\" id=\"m87273fecdd\" style=\"stroke:#000000;stroke-width:0.8;\"/>\r\n      </defs>\r\n      <g>\r\n       <use style=\"stroke:#000000;stroke-width:0.8;\" x=\"44.160369\" xlink:href=\"#m87273fecdd\" y=\"224.64\"/>\r\n      </g>\r\n     </g>\r\n     <g id=\"text_1\">\r\n      <!-- 0 -->\r\n      <g transform=\"translate(40.979119 239.238437)scale(0.1 -0.1)\">\r\n       <defs>\r\n        <path d=\"M 31.78125 66.40625 \r\nQ 24.171875 66.40625 20.328125 58.90625 \r\nQ 16.5 51.421875 16.5 36.375 \r\nQ 16.5 21.390625 20.328125 13.890625 \r\nQ 24.171875 6.390625 31.78125 6.390625 \r\nQ 39.453125 6.390625 43.28125 13.890625 \r\nQ 47.125 21.390625 47.125 36.375 \r\nQ 47.125 51.421875 43.28125 58.90625 \r\nQ 39.453125 66.40625 31.78125 66.40625 \r\nz\r\nM 31.78125 74.21875 \r\nQ 44.046875 74.21875 50.515625 64.515625 \r\nQ 56.984375 54.828125 56.984375 36.375 \r\nQ 56.984375 17.96875 50.515625 8.265625 \r\nQ 44.046875 -1.421875 31.78125 -1.421875 \r\nQ 19.53125 -1.421875 13.0625 8.265625 \r\nQ 6.59375 17.96875 6.59375 36.375 \r\nQ 6.59375 54.828125 13.0625 64.515625 \r\nQ 19.53125 74.21875 31.78125 74.21875 \r\nz\r\n\" id=\"DejaVuSans-48\"/>\r\n       </defs>\r\n       <use xlink:href=\"#DejaVuSans-48\"/>\r\n      </g>\r\n     </g>\r\n    </g>\r\n    <g id=\"xtick_2\">\r\n     <g id=\"line2d_2\">\r\n      <g>\r\n       <use style=\"stroke:#000000;stroke-width:0.8;\" x=\"105.647973\" xlink:href=\"#m87273fecdd\" y=\"224.64\"/>\r\n      </g>\r\n     </g>\r\n     <g id=\"text_2\">\r\n      <!-- 20 -->\r\n      <g transform=\"translate(99.285473 239.238437)scale(0.1 -0.1)\">\r\n       <defs>\r\n        <path d=\"M 19.1875 8.296875 \r\nL 53.609375 8.296875 \r\nL 53.609375 0 \r\nL 7.328125 0 \r\nL 7.328125 8.296875 \r\nQ 12.9375 14.109375 22.625 23.890625 \r\nQ 32.328125 33.6875 34.8125 36.53125 \r\nQ 39.546875 41.84375 41.421875 45.53125 \r\nQ 43.3125 49.21875 43.3125 52.78125 \r\nQ 43.3125 58.59375 39.234375 62.25 \r\nQ 35.15625 65.921875 28.609375 65.921875 \r\nQ 23.96875 65.921875 18.8125 64.3125 \r\nQ 13.671875 62.703125 7.8125 59.421875 \r\nL 7.8125 69.390625 \r\nQ 13.765625 71.78125 18.9375 73 \r\nQ 24.125 74.21875 28.421875 74.21875 \r\nQ 39.75 74.21875 46.484375 68.546875 \r\nQ 53.21875 62.890625 53.21875 53.421875 \r\nQ 53.21875 48.921875 51.53125 44.890625 \r\nQ 49.859375 40.875 45.40625 35.40625 \r\nQ 44.1875 33.984375 37.640625 27.21875 \r\nQ 31.109375 20.453125 19.1875 8.296875 \r\nz\r\n\" id=\"DejaVuSans-50\"/>\r\n       </defs>\r\n       <use xlink:href=\"#DejaVuSans-50\"/>\r\n       <use x=\"63.623047\" xlink:href=\"#DejaVuSans-48\"/>\r\n      </g>\r\n     </g>\r\n    </g>\r\n    <g id=\"xtick_3\">\r\n     <g id=\"line2d_3\">\r\n      <g>\r\n       <use style=\"stroke:#000000;stroke-width:0.8;\" x=\"167.135576\" xlink:href=\"#m87273fecdd\" y=\"224.64\"/>\r\n      </g>\r\n     </g>\r\n     <g id=\"text_3\">\r\n      <!-- 40 -->\r\n      <g transform=\"translate(160.773076 239.238437)scale(0.1 -0.1)\">\r\n       <defs>\r\n        <path d=\"M 37.796875 64.3125 \r\nL 12.890625 25.390625 \r\nL 37.796875 25.390625 \r\nz\r\nM 35.203125 72.90625 \r\nL 47.609375 72.90625 \r\nL 47.609375 25.390625 \r\nL 58.015625 25.390625 \r\nL 58.015625 17.1875 \r\nL 47.609375 17.1875 \r\nL 47.609375 0 \r\nL 37.796875 0 \r\nL 37.796875 17.1875 \r\nL 4.890625 17.1875 \r\nL 4.890625 26.703125 \r\nz\r\n\" id=\"DejaVuSans-52\"/>\r\n       </defs>\r\n       <use xlink:href=\"#DejaVuSans-52\"/>\r\n       <use x=\"63.623047\" xlink:href=\"#DejaVuSans-48\"/>\r\n      </g>\r\n     </g>\r\n    </g>\r\n    <g id=\"xtick_4\">\r\n     <g id=\"line2d_4\">\r\n      <g>\r\n       <use style=\"stroke:#000000;stroke-width:0.8;\" x=\"228.623179\" xlink:href=\"#m87273fecdd\" y=\"224.64\"/>\r\n      </g>\r\n     </g>\r\n     <g id=\"text_4\">\r\n      <!-- 60 -->\r\n      <g transform=\"translate(222.260679 239.238437)scale(0.1 -0.1)\">\r\n       <defs>\r\n        <path d=\"M 33.015625 40.375 \r\nQ 26.375 40.375 22.484375 35.828125 \r\nQ 18.609375 31.296875 18.609375 23.390625 \r\nQ 18.609375 15.53125 22.484375 10.953125 \r\nQ 26.375 6.390625 33.015625 6.390625 \r\nQ 39.65625 6.390625 43.53125 10.953125 \r\nQ 47.40625 15.53125 47.40625 23.390625 \r\nQ 47.40625 31.296875 43.53125 35.828125 \r\nQ 39.65625 40.375 33.015625 40.375 \r\nz\r\nM 52.59375 71.296875 \r\nL 52.59375 62.3125 \r\nQ 48.875 64.0625 45.09375 64.984375 \r\nQ 41.3125 65.921875 37.59375 65.921875 \r\nQ 27.828125 65.921875 22.671875 59.328125 \r\nQ 17.53125 52.734375 16.796875 39.40625 \r\nQ 19.671875 43.65625 24.015625 45.921875 \r\nQ 28.375 48.1875 33.59375 48.1875 \r\nQ 44.578125 48.1875 50.953125 41.515625 \r\nQ 57.328125 34.859375 57.328125 23.390625 \r\nQ 57.328125 12.15625 50.6875 5.359375 \r\nQ 44.046875 -1.421875 33.015625 -1.421875 \r\nQ 20.359375 -1.421875 13.671875 8.265625 \r\nQ 6.984375 17.96875 6.984375 36.375 \r\nQ 6.984375 53.65625 15.1875 63.9375 \r\nQ 23.390625 74.21875 37.203125 74.21875 \r\nQ 40.921875 74.21875 44.703125 73.484375 \r\nQ 48.484375 72.75 52.59375 71.296875 \r\nz\r\n\" id=\"DejaVuSans-54\"/>\r\n       </defs>\r\n       <use xlink:href=\"#DejaVuSans-54\"/>\r\n       <use x=\"63.623047\" xlink:href=\"#DejaVuSans-48\"/>\r\n      </g>\r\n     </g>\r\n    </g>\r\n    <g id=\"xtick_5\">\r\n     <g id=\"line2d_5\">\r\n      <g>\r\n       <use style=\"stroke:#000000;stroke-width:0.8;\" x=\"290.110783\" xlink:href=\"#m87273fecdd\" y=\"224.64\"/>\r\n      </g>\r\n     </g>\r\n     <g id=\"text_5\">\r\n      <!-- 80 -->\r\n      <g transform=\"translate(283.748283 239.238437)scale(0.1 -0.1)\">\r\n       <defs>\r\n        <path d=\"M 31.78125 34.625 \r\nQ 24.75 34.625 20.71875 30.859375 \r\nQ 16.703125 27.09375 16.703125 20.515625 \r\nQ 16.703125 13.921875 20.71875 10.15625 \r\nQ 24.75 6.390625 31.78125 6.390625 \r\nQ 38.8125 6.390625 42.859375 10.171875 \r\nQ 46.921875 13.96875 46.921875 20.515625 \r\nQ 46.921875 27.09375 42.890625 30.859375 \r\nQ 38.875 34.625 31.78125 34.625 \r\nz\r\nM 21.921875 38.8125 \r\nQ 15.578125 40.375 12.03125 44.71875 \r\nQ 8.5 49.078125 8.5 55.328125 \r\nQ 8.5 64.0625 14.71875 69.140625 \r\nQ 20.953125 74.21875 31.78125 74.21875 \r\nQ 42.671875 74.21875 48.875 69.140625 \r\nQ 55.078125 64.0625 55.078125 55.328125 \r\nQ 55.078125 49.078125 51.53125 44.71875 \r\nQ 48 40.375 41.703125 38.8125 \r\nQ 48.828125 37.15625 52.796875 32.3125 \r\nQ 56.78125 27.484375 56.78125 20.515625 \r\nQ 56.78125 9.90625 50.3125 4.234375 \r\nQ 43.84375 -1.421875 31.78125 -1.421875 \r\nQ 19.734375 -1.421875 13.25 4.234375 \r\nQ 6.78125 9.90625 6.78125 20.515625 \r\nQ 6.78125 27.484375 10.78125 32.3125 \r\nQ 14.796875 37.15625 21.921875 38.8125 \r\nz\r\nM 18.3125 54.390625 \r\nQ 18.3125 48.734375 21.84375 45.5625 \r\nQ 25.390625 42.390625 31.78125 42.390625 \r\nQ 38.140625 42.390625 41.71875 45.5625 \r\nQ 45.3125 48.734375 45.3125 54.390625 \r\nQ 45.3125 60.0625 41.71875 63.234375 \r\nQ 38.140625 66.40625 31.78125 66.40625 \r\nQ 25.390625 66.40625 21.84375 63.234375 \r\nQ 18.3125 60.0625 18.3125 54.390625 \r\nz\r\n\" id=\"DejaVuSans-56\"/>\r\n       </defs>\r\n       <use xlink:href=\"#DejaVuSans-56\"/>\r\n       <use x=\"63.623047\" xlink:href=\"#DejaVuSans-48\"/>\r\n      </g>\r\n     </g>\r\n    </g>\r\n    <g id=\"xtick_6\">\r\n     <g id=\"line2d_6\">\r\n      <g>\r\n       <use style=\"stroke:#000000;stroke-width:0.8;\" x=\"351.598386\" xlink:href=\"#m87273fecdd\" y=\"224.64\"/>\r\n      </g>\r\n     </g>\r\n     <g id=\"text_6\">\r\n      <!-- 100 -->\r\n      <g transform=\"translate(342.054636 239.238437)scale(0.1 -0.1)\">\r\n       <defs>\r\n        <path d=\"M 12.40625 8.296875 \r\nL 28.515625 8.296875 \r\nL 28.515625 63.921875 \r\nL 10.984375 60.40625 \r\nL 10.984375 69.390625 \r\nL 28.421875 72.90625 \r\nL 38.28125 72.90625 \r\nL 38.28125 8.296875 \r\nL 54.390625 8.296875 \r\nL 54.390625 0 \r\nL 12.40625 0 \r\nz\r\n\" id=\"DejaVuSans-49\"/>\r\n       </defs>\r\n       <use xlink:href=\"#DejaVuSans-49\"/>\r\n       <use x=\"63.623047\" xlink:href=\"#DejaVuSans-48\"/>\r\n       <use x=\"127.246094\" xlink:href=\"#DejaVuSans-48\"/>\r\n      </g>\r\n     </g>\r\n    </g>\r\n   </g>\r\n   <g id=\"matplotlib.axis_2\">\r\n    <g id=\"ytick_1\">\r\n     <g id=\"line2d_7\">\r\n      <defs>\r\n       <path d=\"M 0 0 \r\nL -3.5 0 \r\n\" id=\"mc141637c4e\" style=\"stroke:#000000;stroke-width:0.8;\"/>\r\n      </defs>\r\n      <g>\r\n       <use style=\"stroke:#000000;stroke-width:0.8;\" x=\"28.942188\" xlink:href=\"#mc141637c4e\" y=\"219.7265\"/>\r\n      </g>\r\n     </g>\r\n     <g id=\"text_7\">\r\n      <!-- −3 -->\r\n      <g transform=\"translate(7.2 223.525719)scale(0.1 -0.1)\">\r\n       <defs>\r\n        <path d=\"M 10.59375 35.5 \r\nL 73.1875 35.5 \r\nL 73.1875 27.203125 \r\nL 10.59375 27.203125 \r\nz\r\n\" id=\"DejaVuSans-8722\"/>\r\n        <path d=\"M 40.578125 39.3125 \r\nQ 47.65625 37.796875 51.625 33 \r\nQ 55.609375 28.21875 55.609375 21.1875 \r\nQ 55.609375 10.40625 48.1875 4.484375 \r\nQ 40.765625 -1.421875 27.09375 -1.421875 \r\nQ 22.515625 -1.421875 17.65625 -0.515625 \r\nQ 12.796875 0.390625 7.625 2.203125 \r\nL 7.625 11.71875 \r\nQ 11.71875 9.328125 16.59375 8.109375 \r\nQ 21.484375 6.890625 26.8125 6.890625 \r\nQ 36.078125 6.890625 40.9375 10.546875 \r\nQ 45.796875 14.203125 45.796875 21.1875 \r\nQ 45.796875 27.640625 41.28125 31.265625 \r\nQ 36.765625 34.90625 28.71875 34.90625 \r\nL 20.21875 34.90625 \r\nL 20.21875 43.015625 \r\nL 29.109375 43.015625 \r\nQ 36.375 43.015625 40.234375 45.921875 \r\nQ 44.09375 48.828125 44.09375 54.296875 \r\nQ 44.09375 59.90625 40.109375 62.90625 \r\nQ 36.140625 65.921875 28.71875 65.921875 \r\nQ 24.65625 65.921875 20.015625 65.03125 \r\nQ 15.375 64.15625 9.8125 62.3125 \r\nL 9.8125 71.09375 \r\nQ 15.4375 72.65625 20.34375 73.4375 \r\nQ 25.25 74.21875 29.59375 74.21875 \r\nQ 40.828125 74.21875 47.359375 69.109375 \r\nQ 53.90625 64.015625 53.90625 55.328125 \r\nQ 53.90625 49.265625 50.4375 45.09375 \r\nQ 46.96875 40.921875 40.578125 39.3125 \r\nz\r\n\" id=\"DejaVuSans-51\"/>\r\n       </defs>\r\n       <use xlink:href=\"#DejaVuSans-8722\"/>\r\n       <use x=\"83.789062\" xlink:href=\"#DejaVuSans-51\"/>\r\n      </g>\r\n     </g>\r\n    </g>\r\n    <g id=\"ytick_2\">\r\n     <g id=\"line2d_8\">\r\n      <g>\r\n       <use style=\"stroke:#000000;stroke-width:0.8;\" x=\"28.942188\" xlink:href=\"#mc141637c4e\" y=\"188.384491\"/>\r\n      </g>\r\n     </g>\r\n     <g id=\"text_8\">\r\n      <!-- −2 -->\r\n      <g transform=\"translate(7.2 192.18371)scale(0.1 -0.1)\">\r\n       <use xlink:href=\"#DejaVuSans-8722\"/>\r\n       <use x=\"83.789062\" xlink:href=\"#DejaVuSans-50\"/>\r\n      </g>\r\n     </g>\r\n    </g>\r\n    <g id=\"ytick_3\">\r\n     <g id=\"line2d_9\">\r\n      <g>\r\n       <use style=\"stroke:#000000;stroke-width:0.8;\" x=\"28.942188\" xlink:href=\"#mc141637c4e\" y=\"157.042482\"/>\r\n      </g>\r\n     </g>\r\n     <g id=\"text_9\">\r\n      <!-- −1 -->\r\n      <g transform=\"translate(7.2 160.841701)scale(0.1 -0.1)\">\r\n       <use xlink:href=\"#DejaVuSans-8722\"/>\r\n       <use x=\"83.789062\" xlink:href=\"#DejaVuSans-49\"/>\r\n      </g>\r\n     </g>\r\n    </g>\r\n    <g id=\"ytick_4\">\r\n     <g id=\"line2d_10\">\r\n      <g>\r\n       <use style=\"stroke:#000000;stroke-width:0.8;\" x=\"28.942188\" xlink:href=\"#mc141637c4e\" y=\"125.700473\"/>\r\n      </g>\r\n     </g>\r\n     <g id=\"text_10\">\r\n      <!-- 0 -->\r\n      <g transform=\"translate(15.579688 129.499692)scale(0.1 -0.1)\">\r\n       <use xlink:href=\"#DejaVuSans-48\"/>\r\n      </g>\r\n     </g>\r\n    </g>\r\n    <g id=\"ytick_5\">\r\n     <g id=\"line2d_11\">\r\n      <g>\r\n       <use style=\"stroke:#000000;stroke-width:0.8;\" x=\"28.942188\" xlink:href=\"#mc141637c4e\" y=\"94.358464\"/>\r\n      </g>\r\n     </g>\r\n     <g id=\"text_11\">\r\n      <!-- 1 -->\r\n      <g transform=\"translate(15.579688 98.157683)scale(0.1 -0.1)\">\r\n       <use xlink:href=\"#DejaVuSans-49\"/>\r\n      </g>\r\n     </g>\r\n    </g>\r\n    <g id=\"ytick_6\">\r\n     <g id=\"line2d_12\">\r\n      <g>\r\n       <use style=\"stroke:#000000;stroke-width:0.8;\" x=\"28.942188\" xlink:href=\"#mc141637c4e\" y=\"63.016455\"/>\r\n      </g>\r\n     </g>\r\n     <g id=\"text_12\">\r\n      <!-- 2 -->\r\n      <g transform=\"translate(15.579688 66.815674)scale(0.1 -0.1)\">\r\n       <use xlink:href=\"#DejaVuSans-50\"/>\r\n      </g>\r\n     </g>\r\n    </g>\r\n    <g id=\"ytick_7\">\r\n     <g id=\"line2d_13\">\r\n      <g>\r\n       <use style=\"stroke:#000000;stroke-width:0.8;\" x=\"28.942188\" xlink:href=\"#mc141637c4e\" y=\"31.674446\"/>\r\n      </g>\r\n     </g>\r\n     <g id=\"text_13\">\r\n      <!-- 3 -->\r\n      <g transform=\"translate(15.579688 35.473665)scale(0.1 -0.1)\">\r\n       <use xlink:href=\"#DejaVuSans-51\"/>\r\n      </g>\r\n     </g>\r\n    </g>\r\n   </g>\r\n   <g id=\"line2d_14\">\r\n    <path clip-path=\"url(#p56176f750e)\" d=\"M 44.160369 85.030114 \r\nL 47.234749 124.794199 \r\nL 50.30913 105.365672 \r\nL 53.38351 146.132226 \r\nL 56.45789 106.572308 \r\nL 59.53227 156.423079 \r\nL 62.60665 128.079116 \r\nL 65.68103 193.332771 \r\nL 68.755411 98.472618 \r\nL 71.829791 155.009205 \r\nL 74.904171 127.428696 \r\nL 77.978551 134.661045 \r\nL 81.052931 109.122268 \r\nL 84.127311 116.981374 \r\nL 87.201692 120.568306 \r\nL 90.276072 137.998853 \r\nL 93.350452 97.698142 \r\nL 96.424832 112.904165 \r\nL 99.499212 147.513408 \r\nL 102.573592 162.731998 \r\nL 105.647973 90.710367 \r\nL 108.722353 116.093808 \r\nL 111.796733 189.453757 \r\nL 114.871113 87.154603 \r\nL 117.945493 123.899449 \r\nL 121.019873 185.2509 \r\nL 124.094254 121.263229 \r\nL 127.168634 164.061316 \r\nL 130.243014 88.051825 \r\nL 133.317394 80.926525 \r\nL 136.391774 161.459885 \r\nL 139.466154 108.922359 \r\nL 142.540535 91.4111 \r\nL 145.614915 118.672323 \r\nL 148.689295 153.359715 \r\nL 151.763675 182.696037 \r\nL 154.838055 103.042804 \r\nL 157.912435 97.101006 \r\nL 160.986816 122.219023 \r\nL 164.061196 128.234977 \r\nL 167.135576 87.777707 \r\nL 170.209956 67.660398 \r\nL 173.284336 129.504657 \r\nL 176.358716 140.927018 \r\nL 179.433097 83.715662 \r\nL 182.507477 131.19209 \r\nL 185.581857 168.75924 \r\nL 188.656237 131.646692 \r\nL 191.730617 119.681763 \r\nL 194.804997 131.353399 \r\nL 197.879378 130.596112 \r\nL 200.953758 214.756364 \r\nL 204.028138 139.332815 \r\nL 207.102518 118.685991 \r\nL 210.176898 91.896573 \r\nL 213.251278 135.93338 \r\nL 216.325659 123.057184 \r\nL 219.400039 130.011658 \r\nL 222.474419 139.197354 \r\nL 225.548799 120.323721 \r\nL 228.623179 175.987411 \r\nL 231.697559 123.908475 \r\nL 234.77194 127.642357 \r\nL 237.84632 105.702353 \r\nL 240.9207 106.286524 \r\nL 243.99508 147.933219 \r\nL 247.06946 134.919322 \r\nL 250.14384 108.035065 \r\nL 253.218221 120.188731 \r\nL 256.292601 67.859294 \r\nL 259.366981 137.095059 \r\nL 262.441361 142.864271 \r\nL 265.515741 103.848836 \r\nL 268.590121 128.920302 \r\nL 271.664502 79.135101 \r\nL 274.738882 155.796033 \r\nL 277.813262 107.181905 \r\nL 280.887642 112.763518 \r\nL 283.962022 142.207552 \r\nL 287.036402 163.846303 \r\nL 290.110783 65.255591 \r\nL 293.185163 55.692391 \r\nL 296.259543 83.891192 \r\nL 299.333923 112.435012 \r\nL 302.408303 118.724299 \r\nL 305.482683 138.372564 \r\nL 308.557064 105.031033 \r\nL 311.631444 197.346513 \r\nL 314.705824 93.474792 \r\nL 317.780204 158.20712 \r\nL 320.854584 143.968117 \r\nL 323.928964 135.524018 \r\nL 327.003345 169.185558 \r\nL 330.077725 112.851377 \r\nL 333.152105 118.155972 \r\nL 336.226485 129.467091 \r\nL 339.300865 156.059755 \r\nL 342.375245 126.894044 \r\nL 345.449626 69.210383 \r\nL 348.524006 170.523546 \r\n\" style=\"fill:none;stroke:#1f77b4;stroke-linecap:square;stroke-width:1.5;\"/>\r\n   </g>\r\n   <g id=\"line2d_15\">\r\n    <path clip-path=\"url(#p56176f750e)\" d=\"M 44.160369 119.768543 \r\nL 47.234749 120.594015 \r\nL 50.30913 143.449643 \r\nL 53.38351 162.908091 \r\nL 56.45789 126.523262 \r\nL 59.53227 106.766141 \r\nL 62.60665 82.632634 \r\nL 65.68103 141.647628 \r\nL 68.755411 119.439424 \r\nL 71.829791 169.431224 \r\nL 74.904171 126.198137 \r\nL 77.978551 100.361071 \r\nL 81.052931 100.519595 \r\nL 84.127311 141.900216 \r\nL 87.201692 168.940835 \r\nL 90.276072 178.798087 \r\nL 93.350452 168.951183 \r\nL 96.424832 129.306407 \r\nL 99.499212 115.362578 \r\nL 102.573592 139.125638 \r\nL 105.647973 86.913006 \r\nL 108.722353 143.17587 \r\nL 111.796733 131.639114 \r\nL 114.871113 133.164128 \r\nL 117.945493 140.11295 \r\nL 121.019873 110.362419 \r\nL 124.094254 107.646657 \r\nL 127.168634 163.291798 \r\nL 130.243014 120.847227 \r\nL 133.317394 115.059816 \r\nL 136.391774 115.790144 \r\nL 139.466154 153.659144 \r\nL 142.540535 73.822958 \r\nL 145.614915 92.070087 \r\nL 148.689295 128.526206 \r\nL 151.763675 158.931069 \r\nL 154.838055 142.956402 \r\nL 157.912435 77.661685 \r\nL 160.986816 166.647927 \r\nL 164.061196 135.95694 \r\nL 167.135576 140.748436 \r\nL 170.209956 96.962923 \r\nL 173.284336 126.264003 \r\nL 176.358716 155.512894 \r\nL 179.433097 155.874216 \r\nL 182.507477 171.548921 \r\nL 185.581857 162.752848 \r\nL 188.656237 134.52274 \r\nL 191.730617 169.719692 \r\nL 194.804997 123.745376 \r\nL 197.879378 165.243674 \r\nL 200.953758 62.008052 \r\nL 204.028138 99.974363 \r\nL 207.102518 76.241308 \r\nL 210.176898 174.578753 \r\nL 213.251278 142.180231 \r\nL 216.325659 103.852685 \r\nL 219.400039 125.870001 \r\nL 222.474419 123.403183 \r\nL 225.548799 103.964036 \r\nL 228.623179 114.881384 \r\nL 231.697559 131.476709 \r\nL 234.77194 118.754998 \r\nL 237.84632 140.916411 \r\nL 240.9207 110.816524 \r\nL 243.99508 130.355415 \r\nL 247.06946 99.62906 \r\nL 250.14384 116.464592 \r\nL 253.218221 166.07007 \r\nL 256.292601 114.539692 \r\nL 259.366981 132.699237 \r\nL 262.441361 120.529819 \r\nL 265.515741 117.910767 \r\nL 268.590121 149.676855 \r\nL 271.664502 97.410065 \r\nL 274.738882 175.724349 \r\nL 277.813262 144.732917 \r\nL 280.887642 148.570488 \r\nL 283.962022 147.934358 \r\nL 287.036402 156.486433 \r\nL 290.110783 65.578116 \r\nL 293.185163 126.295444 \r\nL 296.259543 149.819292 \r\nL 299.333923 95.060534 \r\nL 302.408303 142.637331 \r\nL 305.482683 127.67967 \r\nL 308.557064 91.624885 \r\nL 311.631444 116.529285 \r\nL 314.705824 128.05875 \r\nL 317.780204 107.280905 \r\nL 320.854584 114.687163 \r\nL 323.928964 159.097563 \r\nL 327.003345 71.292683 \r\nL 330.077725 141.89503 \r\nL 333.152105 167.731234 \r\nL 336.226485 156.762401 \r\nL 339.300865 175.891823 \r\nL 342.375245 136.869561 \r\nL 345.449626 178.325261 \r\nL 348.524006 156.44844 \r\n\" style=\"fill:none;stroke:#ff7f0e;stroke-linecap:square;stroke-width:1.5;\"/>\r\n   </g>\r\n   <g id=\"line2d_16\">\r\n    <path clip-path=\"url(#p56176f750e)\" d=\"M 44.160369 162.432414 \r\nL 47.234749 118.391082 \r\nL 50.30913 139.951058 \r\nL 53.38351 83.337869 \r\nL 56.45789 120.315928 \r\nL 59.53227 92.735811 \r\nL 62.60665 150.22078 \r\nL 65.68103 69.051092 \r\nL 68.755411 84.56925 \r\nL 71.829791 182.768974 \r\nL 74.904171 17.083636 \r\nL 77.978551 177.866371 \r\nL 81.052931 115.271342 \r\nL 84.127311 101.479113 \r\nL 87.201692 94.023539 \r\nL 90.276072 129.963202 \r\nL 93.350452 92.249921 \r\nL 96.424832 70.857213 \r\nL 99.499212 138.930102 \r\nL 102.573592 123.106967 \r\nL 105.647973 83.854079 \r\nL 108.722353 116.614633 \r\nL 111.796733 111.775226 \r\nL 114.871113 158.817538 \r\nL 117.945493 162.591931 \r\nL 121.019873 92.50502 \r\nL 124.094254 105.771126 \r\nL 127.168634 156.647156 \r\nL 130.243014 163.085563 \r\nL 133.317394 118.287833 \r\nL 136.391774 81.446291 \r\nL 139.466154 126.089516 \r\nL 142.540535 182.683686 \r\nL 145.614915 57.20871 \r\nL 148.689295 130.118995 \r\nL 151.763675 78.216048 \r\nL 154.838055 100.268485 \r\nL 157.912435 157.886926 \r\nL 160.986816 98.476959 \r\nL 164.061196 82.217109 \r\nL 167.135576 116.888603 \r\nL 170.209956 195.760578 \r\nL 173.284336 136.254079 \r\nL 176.358716 84.370057 \r\nL 179.433097 129.878509 \r\nL 182.507477 176.305713 \r\nL 185.581857 132.600145 \r\nL 188.656237 152.540257 \r\nL 191.730617 143.76316 \r\nL 194.804997 140.536698 \r\nL 197.879378 121.301853 \r\nL 200.953758 161.392606 \r\nL 204.028138 131.739706 \r\nL 207.102518 162.00007 \r\nL 210.176898 131.762307 \r\nL 213.251278 130.373174 \r\nL 216.325659 169.395696 \r\nL 219.400039 165.929415 \r\nL 222.474419 111.900018 \r\nL 225.548799 129.952921 \r\nL 228.623179 156.542805 \r\nL 231.697559 100.381992 \r\nL 234.77194 112.325504 \r\nL 237.84632 155.768332 \r\nL 240.9207 107.088274 \r\nL 243.99508 91.615533 \r\nL 247.06946 117.830706 \r\nL 250.14384 118.096253 \r\nL 253.218221 125.143185 \r\nL 256.292601 74.480785 \r\nL 259.366981 132.970123 \r\nL 262.441361 137.93299 \r\nL 265.515741 122.080097 \r\nL 268.590121 109.703893 \r\nL 271.664502 150.97697 \r\nL 274.738882 121.303341 \r\nL 277.813262 114.183186 \r\nL 280.887642 95.6613 \r\nL 283.962022 68.349996 \r\nL 287.036402 97.74266 \r\nL 290.110783 142.038964 \r\nL 293.185163 131.103502 \r\nL 296.259543 99.148381 \r\nL 299.333923 101.827077 \r\nL 302.408303 163.034198 \r\nL 305.482683 149.044011 \r\nL 308.557064 118.021367 \r\nL 311.631444 112.452842 \r\nL 314.705824 146.941525 \r\nL 317.780204 115.513555 \r\nL 320.854584 127.621458 \r\nL 323.928964 141.605679 \r\nL 327.003345 107.882166 \r\nL 330.077725 64.722022 \r\nL 333.152105 103.566456 \r\nL 336.226485 185.591279 \r\nL 339.300865 133.041345 \r\nL 342.375245 126.764441 \r\nL 345.449626 120.191251 \r\nL 348.524006 168.56517 \r\n\" style=\"fill:none;stroke:#2ca02c;stroke-linecap:square;stroke-width:1.5;\"/>\r\n   </g>\r\n   <g id=\"line2d_17\">\r\n    <path clip-path=\"url(#p56176f750e)\" d=\"M 44.160369 129.682431 \r\nL 47.234749 72.613234 \r\nL 50.30913 107.659414 \r\nL 53.38351 131.341907 \r\nL 56.45789 125.703345 \r\nL 59.53227 79.643111 \r\nL 62.60665 83.236274 \r\nL 65.68103 136.117155 \r\nL 68.755411 137.680913 \r\nL 71.829791 161.257221 \r\nL 74.904171 82.29954 \r\nL 77.978551 188.357954 \r\nL 81.052931 65.845109 \r\nL 84.127311 161.139913 \r\nL 87.201692 123.129582 \r\nL 90.276072 154.727669 \r\nL 93.350452 145.862281 \r\nL 96.424832 116.199036 \r\nL 99.499212 98.380684 \r\nL 102.573592 94.322091 \r\nL 105.647973 145.134453 \r\nL 108.722353 108.318957 \r\nL 111.796733 77.841868 \r\nL 114.871113 117.166318 \r\nL 117.945493 167.392825 \r\nL 121.019873 91.787537 \r\nL 124.094254 110.592933 \r\nL 127.168634 126.533642 \r\nL 130.243014 117.729978 \r\nL 133.317394 132.989749 \r\nL 136.391774 146.600606 \r\nL 139.466154 169.322465 \r\nL 142.540535 154.202294 \r\nL 145.614915 151.442058 \r\nL 148.689295 121.745939 \r\nL 151.763675 88.659163 \r\nL 154.838055 192.002441 \r\nL 157.912435 99.718892 \r\nL 160.986816 132.072035 \r\nL 164.061196 90.025607 \r\nL 167.135576 69.067734 \r\nL 170.209956 163.035762 \r\nL 173.284336 161.639738 \r\nL 176.358716 99.59758 \r\nL 179.433097 108.351625 \r\nL 182.507477 176.175861 \r\nL 185.581857 138.918363 \r\nL 188.656237 153.153999 \r\nL 191.730617 190.952401 \r\nL 194.804997 86.258616 \r\nL 197.879378 109.476302 \r\nL 200.953758 117.909348 \r\nL 204.028138 166.124218 \r\nL 207.102518 134.45234 \r\nL 210.176898 93.320722 \r\nL 213.251278 147.719956 \r\nL 216.325659 110.132326 \r\nL 219.400039 148.029822 \r\nL 222.474419 138.493068 \r\nL 225.548799 107.249078 \r\nL 228.623179 100.46093 \r\nL 231.697559 124.401859 \r\nL 234.77194 109.042006 \r\nL 237.84632 98.991568 \r\nL 240.9207 129.260032 \r\nL 243.99508 142.484621 \r\nL 247.06946 102.93845 \r\nL 250.14384 112.008694 \r\nL 253.218221 142.843016 \r\nL 256.292601 87.295659 \r\nL 259.366981 110.918726 \r\nL 262.441361 132.383183 \r\nL 265.515741 146.5478 \r\nL 268.590121 100.432271 \r\nL 271.664502 115.784238 \r\nL 274.738882 121.41844 \r\nL 277.813262 128.250617 \r\nL 280.887642 114.611645 \r\nL 283.962022 163.235516 \r\nL 287.036402 116.712981 \r\nL 290.110783 166.155049 \r\nL 293.185163 151.466649 \r\nL 296.259543 89.619801 \r\nL 299.333923 146.167713 \r\nL 302.408303 111.043716 \r\nL 305.482683 76.420317 \r\nL 308.557064 98.941831 \r\nL 311.631444 139.577524 \r\nL 314.705824 127.492764 \r\nL 317.780204 137.572536 \r\nL 320.854584 115.279067 \r\nL 323.928964 70.740926 \r\nL 327.003345 145.34107 \r\nL 330.077725 137.61509 \r\nL 333.152105 162.23761 \r\nL 336.226485 83.911805 \r\nL 339.300865 117.556792 \r\nL 342.375245 127.223181 \r\nL 345.449626 161.825117 \r\nL 348.524006 96.269535 \r\n\" style=\"fill:none;stroke:#d62728;stroke-linecap:square;stroke-width:1.5;\"/>\r\n   </g>\r\n   <g id=\"patch_3\">\r\n    <path d=\"M 28.942188 224.64 \r\nL 28.942188 7.2 \r\n\" style=\"fill:none;stroke:#000000;stroke-linecap:square;stroke-linejoin:miter;stroke-width:0.8;\"/>\r\n   </g>\r\n   <g id=\"patch_4\">\r\n    <path d=\"M 363.742188 224.64 \r\nL 363.742188 7.2 \r\n\" style=\"fill:none;stroke:#000000;stroke-linecap:square;stroke-linejoin:miter;stroke-width:0.8;\"/>\r\n   </g>\r\n   <g id=\"patch_5\">\r\n    <path d=\"M 28.942188 224.64 \r\nL 363.742188 224.64 \r\n\" style=\"fill:none;stroke:#000000;stroke-linecap:square;stroke-linejoin:miter;stroke-width:0.8;\"/>\r\n   </g>\r\n   <g id=\"patch_6\">\r\n    <path d=\"M 28.942188 7.2 \r\nL 363.742188 7.2 \r\n\" style=\"fill:none;stroke:#000000;stroke-linecap:square;stroke-linejoin:miter;stroke-width:0.8;\"/>\r\n   </g>\r\n   <g id=\"legend_1\">\r\n    <g id=\"patch_7\">\r\n     <path d=\"M 176.492188 73.9125 \r\nL 216.192187 73.9125 \r\nQ 218.192187 73.9125 218.192187 71.9125 \r\nL 218.192187 14.2 \r\nQ 218.192187 12.2 216.192187 12.2 \r\nL 176.492188 12.2 \r\nQ 174.492188 12.2 174.492188 14.2 \r\nL 174.492188 71.9125 \r\nQ 174.492188 73.9125 176.492188 73.9125 \r\nz\r\n\" style=\"fill:#ffffff;opacity:0.8;stroke:#cccccc;stroke-linejoin:miter;\"/>\r\n    </g>\r\n    <g id=\"line2d_18\">\r\n     <path d=\"M 178.492188 20.298437 \r\nL 198.492188 20.298437 \r\n\" style=\"fill:none;stroke:#1f77b4;stroke-linecap:square;stroke-width:1.5;\"/>\r\n    </g>\r\n    <g id=\"line2d_19\"/>\r\n    <g id=\"text_14\">\r\n     <!-- A -->\r\n     <g transform=\"translate(206.492188 23.798437)scale(0.1 -0.1)\">\r\n      <defs>\r\n       <path d=\"M 34.1875 63.1875 \r\nL 20.796875 26.90625 \r\nL 47.609375 26.90625 \r\nz\r\nM 28.609375 72.90625 \r\nL 39.796875 72.90625 \r\nL 67.578125 0 \r\nL 57.328125 0 \r\nL 50.6875 18.703125 \r\nL 17.828125 18.703125 \r\nL 11.1875 0 \r\nL 0.78125 0 \r\nz\r\n\" id=\"DejaVuSans-65\"/>\r\n      </defs>\r\n      <use xlink:href=\"#DejaVuSans-65\"/>\r\n     </g>\r\n    </g>\r\n    <g id=\"line2d_20\">\r\n     <path d=\"M 178.492188 34.976562 \r\nL 198.492188 34.976562 \r\n\" style=\"fill:none;stroke:#ff7f0e;stroke-linecap:square;stroke-width:1.5;\"/>\r\n    </g>\r\n    <g id=\"line2d_21\"/>\r\n    <g id=\"text_15\">\r\n     <!-- B -->\r\n     <g transform=\"translate(206.492188 38.476562)scale(0.1 -0.1)\">\r\n      <defs>\r\n       <path d=\"M 19.671875 34.8125 \r\nL 19.671875 8.109375 \r\nL 35.5 8.109375 \r\nQ 43.453125 8.109375 47.28125 11.40625 \r\nQ 51.125 14.703125 51.125 21.484375 \r\nQ 51.125 28.328125 47.28125 31.5625 \r\nQ 43.453125 34.8125 35.5 34.8125 \r\nz\r\nM 19.671875 64.796875 \r\nL 19.671875 42.828125 \r\nL 34.28125 42.828125 \r\nQ 41.5 42.828125 45.03125 45.53125 \r\nQ 48.578125 48.25 48.578125 53.8125 \r\nQ 48.578125 59.328125 45.03125 62.0625 \r\nQ 41.5 64.796875 34.28125 64.796875 \r\nz\r\nM 9.8125 72.90625 \r\nL 35.015625 72.90625 \r\nQ 46.296875 72.90625 52.390625 68.21875 \r\nQ 58.5 63.53125 58.5 54.890625 \r\nQ 58.5 48.1875 55.375 44.234375 \r\nQ 52.25 40.28125 46.1875 39.3125 \r\nQ 53.46875 37.75 57.5 32.78125 \r\nQ 61.53125 27.828125 61.53125 20.40625 \r\nQ 61.53125 10.640625 54.890625 5.3125 \r\nQ 48.25 0 35.984375 0 \r\nL 9.8125 0 \r\nz\r\n\" id=\"DejaVuSans-66\"/>\r\n      </defs>\r\n      <use xlink:href=\"#DejaVuSans-66\"/>\r\n     </g>\r\n    </g>\r\n    <g id=\"line2d_22\">\r\n     <path d=\"M 178.492188 49.654687 \r\nL 198.492188 49.654687 \r\n\" style=\"fill:none;stroke:#2ca02c;stroke-linecap:square;stroke-width:1.5;\"/>\r\n    </g>\r\n    <g id=\"line2d_23\"/>\r\n    <g id=\"text_16\">\r\n     <!-- C -->\r\n     <g transform=\"translate(206.492188 53.154687)scale(0.1 -0.1)\">\r\n      <defs>\r\n       <path d=\"M 64.40625 67.28125 \r\nL 64.40625 56.890625 \r\nQ 59.421875 61.53125 53.78125 63.8125 \r\nQ 48.140625 66.109375 41.796875 66.109375 \r\nQ 29.296875 66.109375 22.65625 58.46875 \r\nQ 16.015625 50.828125 16.015625 36.375 \r\nQ 16.015625 21.96875 22.65625 14.328125 \r\nQ 29.296875 6.6875 41.796875 6.6875 \r\nQ 48.140625 6.6875 53.78125 8.984375 \r\nQ 59.421875 11.28125 64.40625 15.921875 \r\nL 64.40625 5.609375 \r\nQ 59.234375 2.09375 53.4375 0.328125 \r\nQ 47.65625 -1.421875 41.21875 -1.421875 \r\nQ 24.65625 -1.421875 15.125 8.703125 \r\nQ 5.609375 18.84375 5.609375 36.375 \r\nQ 5.609375 53.953125 15.125 64.078125 \r\nQ 24.65625 74.21875 41.21875 74.21875 \r\nQ 47.75 74.21875 53.53125 72.484375 \r\nQ 59.328125 70.75 64.40625 67.28125 \r\nz\r\n\" id=\"DejaVuSans-67\"/>\r\n      </defs>\r\n      <use xlink:href=\"#DejaVuSans-67\"/>\r\n     </g>\r\n    </g>\r\n    <g id=\"line2d_24\">\r\n     <path d=\"M 178.492188 64.332812 \r\nL 198.492188 64.332812 \r\n\" style=\"fill:none;stroke:#d62728;stroke-linecap:square;stroke-width:1.5;\"/>\r\n    </g>\r\n    <g id=\"line2d_25\"/>\r\n    <g id=\"text_17\">\r\n     <!-- D -->\r\n     <g transform=\"translate(206.492188 67.832812)scale(0.1 -0.1)\">\r\n      <defs>\r\n       <path d=\"M 19.671875 64.796875 \r\nL 19.671875 8.109375 \r\nL 31.59375 8.109375 \r\nQ 46.6875 8.109375 53.6875 14.9375 \r\nQ 60.6875 21.78125 60.6875 36.53125 \r\nQ 60.6875 51.171875 53.6875 57.984375 \r\nQ 46.6875 64.796875 31.59375 64.796875 \r\nz\r\nM 9.8125 72.90625 \r\nL 30.078125 72.90625 \r\nQ 51.265625 72.90625 61.171875 64.09375 \r\nQ 71.09375 55.28125 71.09375 36.53125 \r\nQ 71.09375 17.671875 61.125 8.828125 \r\nQ 51.171875 0 30.078125 0 \r\nL 9.8125 0 \r\nz\r\n\" id=\"DejaVuSans-68\"/>\r\n      </defs>\r\n      <use xlink:href=\"#DejaVuSans-68\"/>\r\n     </g>\r\n    </g>\r\n   </g>\r\n  </g>\r\n </g>\r\n <defs>\r\n  <clipPath id=\"p56176f750e\">\r\n   <rect height=\"217.44\" width=\"334.8\" x=\"28.942188\" y=\"7.2\"/>\r\n  </clipPath>\r\n </defs>\r\n</svg>\r\n",
      "image/png": "[encoded data removed]"
     },
     "metadata": {
      "needs_background": "light"
     }
    }
   ],
   "metadata": {}
  },
  {
   "cell_type": "code",
   "execution_count": 38,
   "source": [
    "df.iplot() #interative dynamic plot"
   ],
   "outputs": [
    {
     "output_type": "display_data",
     "data": {
      "text/html": [
       "<div>                            <div id=\"7ad7f2bf-88ef-4ba0-96cf-746be83123e0\" class=\"plotly-graph-div\" style=\"height:525px; width:100%;\"></div>            <script type=\"text/javascript\">                require([\"plotly\"], function(Plotly) {                    window.PLOTLYENV=window.PLOTLYENV || {};\n",
       "                    window.PLOTLYENV.BASE_URL='https://plot.ly';                                    if (document.getElementById(\"7ad7f2bf-88ef-4ba0-96cf-746be83123e0\")) {                    Plotly.newPlot(                        \"7ad7f2bf-88ef-4ba0-96cf-746be83123e0\",                        [{\"line\":{\"color\":\"rgba(255, 153, 51, 1.0)\",\"dash\":\"solid\",\"shape\":\"linear\",\"width\":1.3},\"mode\":\"lines\",\"name\":\"A\",\"text\":\"\",\"type\":\"scatter\",\"x\":[0,1,2,3,4,5,6,7,8,9,10,11,12,13,14,15,16,17,18,19,20,21,22,23,24,25,26,27,28,29,30,31,32,33,34,35,36,37,38,39,40,41,42,43,44,45,46,47,48,49,50,51,52,53,54,55,56,57,58,59,60,61,62,63,64,65,66,67,68,69,70,71,72,73,74,75,76,77,78,79,80,81,82,83,84,85,86,87,88,89,90,91,92,93,94,95,96,97,98,99],\"y\":[1.2976308828245577,0.02891563246579733,0.6488033830640866,-0.6518967120779291,0.6103043670864998,-0.9802372938491501,-0.07589310574178512,-2.157880119655764,0.868733577307398,-0.9351261375377906,-0.055140764914955565,-0.28589654616041965,0.5289452063496645,0.2781921010010714,0.16374723355678183,-0.39239282708924167,0.8934440501370563,0.40827977634283436,-0.6959647939739411,-1.1815300420355552,1.1163964121590395,0.3065108458385955,-2.0341160588793805,1.2298468146505241,0.05746358452739269,-1.9000194599015916,0.1415749888678313,-1.2239433218446887,1.201220006696403,1.428560258537245,-1.140941921397734,0.5353234970155184,1.0940387658031,0.22424057672913128,-0.8824973957848675,-1.8185038357772296,0.7229169486376175,0.9124963031268156,0.11107936758643822,-0.08086602502924477,1.2099660155692962,1.8518300739265623,-0.12137650834889625,-0.4858190401877175,1.3395698942139476,-0.17521586297401584,-1.373835557744931,-0.1897204092619399,0.19203332056959913,-0.18036257996181526,-0.15620054902084546,-2.84142252943806,-0.4349542942415666,0.22380447679552914,1.0785492355179809,-0.32649171717218634,0.08433694066275796,-0.13755292295945926,-0.43063226950394184,0.17155096628062336,-1.6044580181981711,0.05717561589713138,-0.06195786489501751,0.6380612124143483,0.6194226191395767,-0.7093593036394797,-0.2941371278104831,0.5636335693906555,0.17585797078580842,1.8454840837179403,-0.3635563229777336,-0.5476291459186988,0.6971996263353732,-0.10273204605952994,1.4857175198711914,-0.9602307332292892,0.5908545524036684,0.4127672484937881,-0.5266758464083148,-1.2170831072505595,1.9285580051166684,2.233682040310963,1.333969398397583,0.423248589364245,0.22258221659675845,-0.4043164692696297,0.6594803798259496,-2.285942806656985,1.0281945074225356,-1.037158988731567,-0.5828485188740444,-0.313430618132578,-1.3874377073665272,0.4099640243163893,0.24071529001761394,-0.12017792683193004,-0.9686450621979947,-0.03808213244543389,1.8023761654438561,-1.4301276228609552]},{\"line\":{\"color\":\"rgba(55, 128, 191, 1.0)\",\"dash\":\"solid\",\"shape\":\"linear\",\"width\":1.3},\"mode\":\"lines\",\"name\":\"B\",\"text\":\"\",\"type\":\"scatter\",\"x\":[0,1,2,3,4,5,6,7,8,9,10,11,12,13,14,15,16,17,18,19,20,21,22,23,24,25,26,27,28,29,30,31,32,33,34,35,36,37,38,39,40,41,42,43,44,45,46,47,48,49,50,51,52,53,54,55,56,57,58,59,60,61,62,63,64,65,66,67,68,69,70,71,72,73,74,75,76,77,78,79,80,81,82,83,84,85,86,87,88,89,90,91,92,93,94,95,96,97,98,99],\"y\":[0.18926451945427628,0.16292694381339004,-0.566306058548627,-1.1871484670475736,-0.02625193941071388,0.6041199267212912,1.3741250423719473,-0.5088108537866691,0.19976539698307638,-1.395275921233364,-0.015878490774350308,0.8084804721162855,0.8034225968778593,-0.5168699421006512,-1.3796295609476623,-1.6941356174092017,-1.379959709057697,-0.11505112421545904,0.32984150289779074,-0.42834411191121147,1.2375552243795376,-0.5575710577973884,-0.1894786355299986,-0.23813580837486759,-0.45984534641133945,0.48937688393162654,0.576026131836969,-1.1993910275679727,0.15484795454435643,0.33950144682406125,0.31619953849918614,-0.8920510043930835,1.6552070877637908,1.0730130982097303,-0.09015798247656187,-1.0602573544408647,-0.5505686869004346,1.5327284332177737,-1.306471900965645,-0.3272434299662886,-0.4801211887802263,0.9169019760490729,-0.017979999266407094,-0.9511968823264166,-0.9627252363016441,-1.4628433017052838,-1.1821952702688425,-0.28148377358404764,-1.4044798089957289,0.062379443493298006,-1.261667708946712,2.0321741626905028,0.8208188001977202,1.5780470590866502,-1.5595133106751289,-0.5258041321901501,0.6970768226811306,-0.005408959849332933,0.0732974621650809,0.6935240608309962,0.345194496782059,-0.18429690989527864,0.22160274975209152,-0.4854806124075751,0.47488816725628835,-0.14852084415920547,0.8318360611705212,0.29468055995909737,-1.2880347602192437,0.35609655787191175,-0.22330297178159317,0.16497518724931692,0.2485388337776046,-0.7649918753979197,0.9026354406871174,-1.596064739107909,-0.6072502963690356,-0.7296920363391135,-0.7093956570250376,-0.9822586622490749,1.9182674900103864,-0.01898318330479451,-0.7695364688337993,0.9775997347713666,-0.5403883962773787,-0.0631483844680669,1.087217742194578,0.2926164774469953,-0.07524332323153042,0.5876958428402382,0.351391326724226,-1.0655695235292197,1.7359381836204664,-0.5167044830170687,-1.3410359409673123,-0.9910637169828151,-1.6014081994632958,-0.35636157582061334,-1.6790495903477574,-0.9810464442857267]},{\"line\":{\"color\":\"rgba(50, 171, 96, 1.0)\",\"dash\":\"solid\",\"shape\":\"linear\",\"width\":1.3},\"mode\":\"lines\",\"name\":\"C\",\"text\":\"\",\"type\":\"scatter\",\"x\":[0,1,2,3,4,5,6,7,8,9,10,11,12,13,14,15,16,17,18,19,20,21,22,23,24,25,26,27,28,29,30,31,32,33,34,35,36,37,38,39,40,41,42,43,44,45,46,47,48,49,50,51,52,53,54,55,56,57,58,59,60,61,62,63,64,65,66,67,68,69,70,71,72,73,74,75,76,77,78,79,80,81,82,83,84,85,86,87,88,89,90,91,92,93,94,95,96,97,98,99],\"y\":[-1.1719714818817535,0.2332138753592973,-0.4546800061881979,1.3516237536173374,0.17179961485515238,1.0517724751027668,-0.7823463516887971,1.8074585106465186,1.3123352560032089,-1.820830963211993,3.4655352474152594,-1.6644082485933236,0.3327524789592473,0.7728081592370689,1.0106861388792414,-0.1360068676174408,1.067275308490196,1.7498323035351442,-0.42210531383943345,0.08274856032387486,1.3351535410116988,0.2898933488848551,0.4442997674702476,-1.0566350492449932,-1.1770610406741882,1.059136089759076,0.6358669397925498,-0.9873866966962658,-1.1928109033344136,0.2365081379323982,1.4119765789231435,-0.012412826944206104,-1.8181097862164766,2.1853022769975317,-0.14097762123253854,1.5150408956982442,0.8114345148559331,-1.026942869137855,0.8685950616036636,1.3873827877411171,0.2811520389861795,-2.2353418800786966,-0.3367239783801947,1.318690702877346,-0.13330465622915116,-1.614613802275598,-0.22014132742275344,-0.8563517414295124,-0.5763091648572842,-0.47336546528140866,0.1403426518366949,-1.1387953070329018,-0.19268812707847527,-1.1581771054106418,-0.19340924136897628,-0.14908746718245883,-1.3941423793138157,-1.2835470024222988,0.44031813337107395,-0.1356788494555008,-0.9840572679707422,0.8078129574771282,0.4267425553937342,-0.959346901827908,0.5938419248520675,1.0875161323394007,0.2510932564313161,0.24262070160603114,0.01778087882946292,1.6342184020158732,-0.23194589286996642,-0.39029141370906273,0.11551194440826097,0.5103878413697021,-0.8064734182549084,0.1402951495555622,0.3674712646729114,0.9584316439675348,1.8298277284273394,0.8920236547226964,-0.5212968676245798,-0.17238935097536456,0.8471726224699624,0.7617060079728852,-1.1911720287513288,-0.7448002940723181,0.24501002154222226,0.4226797203167203,-0.6777182689776893,0.3250244309256672,-0.06129106814175234,-0.5074724286972169,0.5685119579659011,1.9455820824933674,0.7062092630505239,-1.910879622003017,-0.23421828012397325,-0.03394700754584208,0.17577755569065942,-1.3676435491484122]},{\"line\":{\"color\":\"rgba(128, 0, 128, 1.0)\",\"dash\":\"solid\",\"shape\":\"linear\",\"width\":1.3},\"mode\":\"lines\",\"name\":\"D\",\"text\":\"\",\"type\":\"scatter\",\"x\":[0,1,2,3,4,5,6,7,8,9,10,11,12,13,14,15,16,17,18,19,20,21,22,23,24,25,26,27,28,29,30,31,32,33,34,35,36,37,38,39,40,41,42,43,44,45,46,47,48,49,50,51,52,53,54,55,56,57,58,59,60,61,62,63,64,65,66,67,68,69,70,71,72,73,74,75,76,77,78,79,80,81,82,83,84,85,86,87,88,89,90,91,92,93,94,95,96,97,98,99],\"y\":[-0.12704856923915245,1.6938046160785538,0.5756190997868936,-0.17999592839220205,-9.163211638458499e-05,1.4695089350289379,1.3548652763865952,-0.33235526694293527,-0.3822486177289395,-1.134475698013416,1.3847527542080538,-1.9991532972345138,1.9097487987135684,-1.1307328630005613,0.08202699286545966,-0.9261434359695201,-0.6432838379331188,0.30315341023978976,0.8716668324641216,1.001160525439211,-0.6200617114477807,0.5545756856829747,1.5269794887667125,0.2722912521021846,-1.3302386550206888,1.0820281408695263,0.4820220647486462,-0.026583117944890256,0.254307087002118,-0.23257206899068456,-0.6668408624159107,-1.3918058493032925,-0.9093808020672761,-0.8213125209510255,0.12617360302476713,1.1818422521706744,-2.1154345140812394,0.8289698795252698,-0.20329141711730483,1.1382443889578078,1.8069275473195896,-1.1912219328811458,-1.146680326335038,0.8328404693469593,0.5535333687685877,-1.6104707362516677,-0.4217307628110528,-0.8759338204297533,-2.0819318917445275,1.258434233114991,0.5176493763367291,0.24858411888945894,-1.289762415904675,-0.27923756675258127,1.0331102503945448,-0.7025549276141846,0.49671821491264867,-0.7124415305662497,-0.40816128697898746,0.5887113190152763,0.8052943692046769,0.04143367083255379,0.5315060348183375,0.8521759240730672,-0.11357150430083014,-0.5355160068590631,0.7262464673901955,0.4368507358817294,-0.5469509790576146,1.225346278034147,0.4716273182166465,-0.21321894212852888,-0.6651560509999196,0.8062087509024685,0.316387993098053,0.13662280110006966,-0.08136504655299272,0.35380080641358747,-1.1975953034380349,0.28675545644337425,-1.2907460928812213,-0.8220971385953828,1.1511920612407398,-0.6530289657038366,0.46763936539994966,1.5723356025836042,0.8537628199681853,-0.4427620032609995,-0.057184951567829934,-0.37879073207614317,0.3325060200718353,1.7535425767195376,-0.6266540549540228,-0.38014845782194295,-1.1657560542518957,1.3333117436860387,0.25983277624047507,-0.04858360050128592,-1.1525950412400925,0.9390252529338794]}],                        {\"legend\":{\"bgcolor\":\"#F5F6F9\",\"font\":{\"color\":\"#4D5663\"}},\"paper_bgcolor\":\"#F5F6F9\",\"plot_bgcolor\":\"#F5F6F9\",\"template\":{\"data\":{\"bar\":[{\"error_x\":{\"color\":\"#2a3f5f\"},\"error_y\":{\"color\":\"#2a3f5f\"},\"marker\":{\"line\":{\"color\":\"#E5ECF6\",\"width\":0.5},\"pattern\":{\"fillmode\":\"overlay\",\"size\":10,\"solidity\":0.2}},\"type\":\"bar\"}],\"barpolar\":[{\"marker\":{\"line\":{\"color\":\"#E5ECF6\",\"width\":0.5},\"pattern\":{\"fillmode\":\"overlay\",\"size\":10,\"solidity\":0.2}},\"type\":\"barpolar\"}],\"carpet\":[{\"aaxis\":{\"endlinecolor\":\"#2a3f5f\",\"gridcolor\":\"white\",\"linecolor\":\"white\",\"minorgridcolor\":\"white\",\"startlinecolor\":\"#2a3f5f\"},\"baxis\":{\"endlinecolor\":\"#2a3f5f\",\"gridcolor\":\"white\",\"linecolor\":\"white\",\"minorgridcolor\":\"white\",\"startlinecolor\":\"#2a3f5f\"},\"type\":\"carpet\"}],\"choropleth\":[{\"colorbar\":{\"outlinewidth\":0,\"ticks\":\"\"},\"type\":\"choropleth\"}],\"contour\":[{\"colorbar\":{\"outlinewidth\":0,\"ticks\":\"\"},\"colorscale\":[[0.0,\"#0d0887\"],[0.1111111111111111,\"#46039f\"],[0.2222222222222222,\"#7201a8\"],[0.3333333333333333,\"#9c179e\"],[0.4444444444444444,\"#bd3786\"],[0.5555555555555556,\"#d8576b\"],[0.6666666666666666,\"#ed7953\"],[0.7777777777777778,\"#fb9f3a\"],[0.8888888888888888,\"#fdca26\"],[1.0,\"#f0f921\"]],\"type\":\"contour\"}],\"contourcarpet\":[{\"colorbar\":{\"outlinewidth\":0,\"ticks\":\"\"},\"type\":\"contourcarpet\"}],\"heatmap\":[{\"colorbar\":{\"outlinewidth\":0,\"ticks\":\"\"},\"colorscale\":[[0.0,\"#0d0887\"],[0.1111111111111111,\"#46039f\"],[0.2222222222222222,\"#7201a8\"],[0.3333333333333333,\"#9c179e\"],[0.4444444444444444,\"#bd3786\"],[0.5555555555555556,\"#d8576b\"],[0.6666666666666666,\"#ed7953\"],[0.7777777777777778,\"#fb9f3a\"],[0.8888888888888888,\"#fdca26\"],[1.0,\"#f0f921\"]],\"type\":\"heatmap\"}],\"heatmapgl\":[{\"colorbar\":{\"outlinewidth\":0,\"ticks\":\"\"},\"colorscale\":[[0.0,\"#0d0887\"],[0.1111111111111111,\"#46039f\"],[0.2222222222222222,\"#7201a8\"],[0.3333333333333333,\"#9c179e\"],[0.4444444444444444,\"#bd3786\"],[0.5555555555555556,\"#d8576b\"],[0.6666666666666666,\"#ed7953\"],[0.7777777777777778,\"#fb9f3a\"],[0.8888888888888888,\"#fdca26\"],[1.0,\"#f0f921\"]],\"type\":\"heatmapgl\"}],\"histogram\":[{\"marker\":{\"pattern\":{\"fillmode\":\"overlay\",\"size\":10,\"solidity\":0.2}},\"type\":\"histogram\"}],\"histogram2d\":[{\"colorbar\":{\"outlinewidth\":0,\"ticks\":\"\"},\"colorscale\":[[0.0,\"#0d0887\"],[0.1111111111111111,\"#46039f\"],[0.2222222222222222,\"#7201a8\"],[0.3333333333333333,\"#9c179e\"],[0.4444444444444444,\"#bd3786\"],[0.5555555555555556,\"#d8576b\"],[0.6666666666666666,\"#ed7953\"],[0.7777777777777778,\"#fb9f3a\"],[0.8888888888888888,\"#fdca26\"],[1.0,\"#f0f921\"]],\"type\":\"histogram2d\"}],\"histogram2dcontour\":[{\"colorbar\":{\"outlinewidth\":0,\"ticks\":\"\"},\"colorscale\":[[0.0,\"#0d0887\"],[0.1111111111111111,\"#46039f\"],[0.2222222222222222,\"#7201a8\"],[0.3333333333333333,\"#9c179e\"],[0.4444444444444444,\"#bd3786\"],[0.5555555555555556,\"#d8576b\"],[0.6666666666666666,\"#ed7953\"],[0.7777777777777778,\"#fb9f3a\"],[0.8888888888888888,\"#fdca26\"],[1.0,\"#f0f921\"]],\"type\":\"histogram2dcontour\"}],\"mesh3d\":[{\"colorbar\":{\"outlinewidth\":0,\"ticks\":\"\"},\"type\":\"mesh3d\"}],\"parcoords\":[{\"line\":{\"colorbar\":{\"outlinewidth\":0,\"ticks\":\"\"}},\"type\":\"parcoords\"}],\"pie\":[{\"automargin\":true,\"type\":\"pie\"}],\"scatter\":[{\"marker\":{\"colorbar\":{\"outlinewidth\":0,\"ticks\":\"\"}},\"type\":\"scatter\"}],\"scatter3d\":[{\"line\":{\"colorbar\":{\"outlinewidth\":0,\"ticks\":\"\"}},\"marker\":{\"colorbar\":{\"outlinewidth\":0,\"ticks\":\"\"}},\"type\":\"scatter3d\"}],\"scattercarpet\":[{\"marker\":{\"colorbar\":{\"outlinewidth\":0,\"ticks\":\"\"}},\"type\":\"scattercarpet\"}],\"scattergeo\":[{\"marker\":{\"colorbar\":{\"outlinewidth\":0,\"ticks\":\"\"}},\"type\":\"scattergeo\"}],\"scattergl\":[{\"marker\":{\"colorbar\":{\"outlinewidth\":0,\"ticks\":\"\"}},\"type\":\"scattergl\"}],\"scattermapbox\":[{\"marker\":{\"colorbar\":{\"outlinewidth\":0,\"ticks\":\"\"}},\"type\":\"scattermapbox\"}],\"scatterpolar\":[{\"marker\":{\"colorbar\":{\"outlinewidth\":0,\"ticks\":\"\"}},\"type\":\"scatterpolar\"}],\"scatterpolargl\":[{\"marker\":{\"colorbar\":{\"outlinewidth\":0,\"ticks\":\"\"}},\"type\":\"scatterpolargl\"}],\"scatterternary\":[{\"marker\":{\"colorbar\":{\"outlinewidth\":0,\"ticks\":\"\"}},\"type\":\"scatterternary\"}],\"surface\":[{\"colorbar\":{\"outlinewidth\":0,\"ticks\":\"\"},\"colorscale\":[[0.0,\"#0d0887\"],[0.1111111111111111,\"#46039f\"],[0.2222222222222222,\"#7201a8\"],[0.3333333333333333,\"#9c179e\"],[0.4444444444444444,\"#bd3786\"],[0.5555555555555556,\"#d8576b\"],[0.6666666666666666,\"#ed7953\"],[0.7777777777777778,\"#fb9f3a\"],[0.8888888888888888,\"#fdca26\"],[1.0,\"#f0f921\"]],\"type\":\"surface\"}],\"table\":[{\"cells\":{\"fill\":{\"color\":\"#EBF0F8\"},\"line\":{\"color\":\"white\"}},\"header\":{\"fill\":{\"color\":\"#C8D4E3\"},\"line\":{\"color\":\"white\"}},\"type\":\"table\"}]},\"layout\":{\"annotationdefaults\":{\"arrowcolor\":\"#2a3f5f\",\"arrowhead\":0,\"arrowwidth\":1},\"autotypenumbers\":\"strict\",\"coloraxis\":{\"colorbar\":{\"outlinewidth\":0,\"ticks\":\"\"}},\"colorscale\":{\"diverging\":[[0,\"#8e0152\"],[0.1,\"#c51b7d\"],[0.2,\"#de77ae\"],[0.3,\"#f1b6da\"],[0.4,\"#fde0ef\"],[0.5,\"#f7f7f7\"],[0.6,\"#e6f5d0\"],[0.7,\"#b8e186\"],[0.8,\"#7fbc41\"],[0.9,\"#4d9221\"],[1,\"#276419\"]],\"sequential\":[[0.0,\"#0d0887\"],[0.1111111111111111,\"#46039f\"],[0.2222222222222222,\"#7201a8\"],[0.3333333333333333,\"#9c179e\"],[0.4444444444444444,\"#bd3786\"],[0.5555555555555556,\"#d8576b\"],[0.6666666666666666,\"#ed7953\"],[0.7777777777777778,\"#fb9f3a\"],[0.8888888888888888,\"#fdca26\"],[1.0,\"#f0f921\"]],\"sequentialminus\":[[0.0,\"#0d0887\"],[0.1111111111111111,\"#46039f\"],[0.2222222222222222,\"#7201a8\"],[0.3333333333333333,\"#9c179e\"],[0.4444444444444444,\"#bd3786\"],[0.5555555555555556,\"#d8576b\"],[0.6666666666666666,\"#ed7953\"],[0.7777777777777778,\"#fb9f3a\"],[0.8888888888888888,\"#fdca26\"],[1.0,\"#f0f921\"]]},\"colorway\":[\"#636efa\",\"#EF553B\",\"#00cc96\",\"#ab63fa\",\"#FFA15A\",\"#19d3f3\",\"#FF6692\",\"#B6E880\",\"#FF97FF\",\"#FECB52\"],\"font\":{\"color\":\"#2a3f5f\"},\"geo\":{\"bgcolor\":\"white\",\"lakecolor\":\"white\",\"landcolor\":\"#E5ECF6\",\"showlakes\":true,\"showland\":true,\"subunitcolor\":\"white\"},\"hoverlabel\":{\"align\":\"left\"},\"hovermode\":\"closest\",\"mapbox\":{\"style\":\"light\"},\"paper_bgcolor\":\"white\",\"plot_bgcolor\":\"#E5ECF6\",\"polar\":{\"angularaxis\":{\"gridcolor\":\"white\",\"linecolor\":\"white\",\"ticks\":\"\"},\"bgcolor\":\"#E5ECF6\",\"radialaxis\":{\"gridcolor\":\"white\",\"linecolor\":\"white\",\"ticks\":\"\"}},\"scene\":{\"xaxis\":{\"backgroundcolor\":\"#E5ECF6\",\"gridcolor\":\"white\",\"gridwidth\":2,\"linecolor\":\"white\",\"showbackground\":true,\"ticks\":\"\",\"zerolinecolor\":\"white\"},\"yaxis\":{\"backgroundcolor\":\"#E5ECF6\",\"gridcolor\":\"white\",\"gridwidth\":2,\"linecolor\":\"white\",\"showbackground\":true,\"ticks\":\"\",\"zerolinecolor\":\"white\"},\"zaxis\":{\"backgroundcolor\":\"#E5ECF6\",\"gridcolor\":\"white\",\"gridwidth\":2,\"linecolor\":\"white\",\"showbackground\":true,\"ticks\":\"\",\"zerolinecolor\":\"white\"}},\"shapedefaults\":{\"line\":{\"color\":\"#2a3f5f\"}},\"ternary\":{\"aaxis\":{\"gridcolor\":\"white\",\"linecolor\":\"white\",\"ticks\":\"\"},\"baxis\":{\"gridcolor\":\"white\",\"linecolor\":\"white\",\"ticks\":\"\"},\"bgcolor\":\"#E5ECF6\",\"caxis\":{\"gridcolor\":\"white\",\"linecolor\":\"white\",\"ticks\":\"\"}},\"title\":{\"x\":0.05},\"xaxis\":{\"automargin\":true,\"gridcolor\":\"white\",\"linecolor\":\"white\",\"ticks\":\"\",\"title\":{\"standoff\":15},\"zerolinecolor\":\"white\",\"zerolinewidth\":2},\"yaxis\":{\"automargin\":true,\"gridcolor\":\"white\",\"linecolor\":\"white\",\"ticks\":\"\",\"title\":{\"standoff\":15},\"zerolinecolor\":\"white\",\"zerolinewidth\":2}}},\"title\":{\"font\":{\"color\":\"#4D5663\"}},\"xaxis\":{\"gridcolor\":\"#E1E5ED\",\"showgrid\":true,\"tickfont\":{\"color\":\"#4D5663\"},\"title\":{\"font\":{\"color\":\"#4D5663\"},\"text\":\"\"},\"zerolinecolor\":\"#E1E5ED\"},\"yaxis\":{\"gridcolor\":\"#E1E5ED\",\"showgrid\":true,\"tickfont\":{\"color\":\"#4D5663\"},\"title\":{\"font\":{\"color\":\"#4D5663\"},\"text\":\"\"},\"zerolinecolor\":\"#E1E5ED\"}},                        {\"showLink\": true, \"linkText\": \"Export to plot.ly\", \"plotlyServerURL\": \"https://plot.ly\", \"responsive\": true}                    ).then(function(){\n",
       "                            \n",
       "var gd = document.getElementById('7ad7f2bf-88ef-4ba0-96cf-746be83123e0');\n",
       "var x = new MutationObserver(function (mutations, observer) {{\n",
       "        var display = window.getComputedStyle(gd).display;\n",
       "        if (!display || display === 'none') {{\n",
       "            console.log([gd, 'removed!']);\n",
       "            Plotly.purge(gd);\n",
       "            observer.disconnect();\n",
       "        }}\n",
       "}});\n",
       "\n",
       "// Listen for the removal of the full notebook cells\n",
       "var notebookContainer = gd.closest('#notebook-container');\n",
       "if (notebookContainer) {{\n",
       "    x.observe(notebookContainer, {childList: true});\n",
       "}}\n",
       "\n",
       "// Listen for the clearing of the current output cell\n",
       "var outputEl = gd.closest('.output');\n",
       "if (outputEl) {{\n",
       "    x.observe(outputEl, {childList: true});\n",
       "}}\n",
       "\n",
       "                        })                };                });            </script>        </div>"
      ],
      "application/vnd.plotly.v1+json": {
       "config": {
        "linkText": "Export to plot.ly",
        "plotlyServerURL": "https://plot.ly",
        "showLink": true
       },
       "data": [
        {
         "line": {
          "color": "rgba(255, 153, 51, 1.0)",
          "dash": "solid",
          "shape": "linear",
          "width": 1.3
         },
         "mode": "lines",
         "name": "A",
         "text": "",
         "type": "scatter",
         "x": [
          0,
          1,
          2,
          3,
          4,
          5,
          6,
          7,
          8,
          9,
          10,
          11,
          12,
          13,
          14,
          15,
          16,
          17,
          18,
          19,
          20,
          21,
          22,
          23,
          24,
          25,
          26,
          27,
          28,
          29,
          30,
          31,
          32,
          33,
          34,
          35,
          36,
          37,
          38,
          39,
          40,
          41,
          42,
          43,
          44,
          45,
          46,
          47,
          48,
          49,
          50,
          51,
          52,
          53,
          54,
          55,
          56,
          57,
          58,
          59,
          60,
          61,
          62,
          63,
          64,
          65,
          66,
          67,
          68,
          69,
          70,
          71,
          72,
          73,
          74,
          75,
          76,
          77,
          78,
          79,
          80,
          81,
          82,
          83,
          84,
          85,
          86,
          87,
          88,
          89,
          90,
          91,
          92,
          93,
          94,
          95,
          96,
          97,
          98,
          99
         ],
         "y": [
          1.2976308828245577,
          0.02891563246579733,
          0.6488033830640866,
          -0.6518967120779291,
          0.6103043670864998,
          -0.9802372938491501,
          -0.07589310574178512,
          -2.157880119655764,
          0.868733577307398,
          -0.9351261375377906,
          -0.055140764914955565,
          -0.28589654616041965,
          0.5289452063496645,
          0.2781921010010714,
          0.16374723355678183,
          -0.39239282708924167,
          0.8934440501370563,
          0.40827977634283436,
          -0.6959647939739411,
          -1.1815300420355552,
          1.1163964121590395,
          0.3065108458385955,
          -2.0341160588793805,
          1.2298468146505241,
          0.05746358452739269,
          -1.9000194599015916,
          0.1415749888678313,
          -1.2239433218446887,
          1.201220006696403,
          1.428560258537245,
          -1.140941921397734,
          0.5353234970155184,
          1.0940387658031,
          0.22424057672913128,
          -0.8824973957848675,
          -1.8185038357772296,
          0.7229169486376175,
          0.9124963031268156,
          0.11107936758643822,
          -0.08086602502924477,
          1.2099660155692962,
          1.8518300739265623,
          -0.12137650834889625,
          -0.4858190401877175,
          1.3395698942139476,
          -0.17521586297401584,
          -1.373835557744931,
          -0.1897204092619399,
          0.19203332056959913,
          -0.18036257996181526,
          -0.15620054902084546,
          -2.84142252943806,
          -0.4349542942415666,
          0.22380447679552914,
          1.0785492355179809,
          -0.32649171717218634,
          0.08433694066275796,
          -0.13755292295945926,
          -0.43063226950394184,
          0.17155096628062336,
          -1.6044580181981711,
          0.05717561589713138,
          -0.06195786489501751,
          0.6380612124143483,
          0.6194226191395767,
          -0.7093593036394797,
          -0.2941371278104831,
          0.5636335693906555,
          0.17585797078580842,
          1.8454840837179403,
          -0.3635563229777336,
          -0.5476291459186988,
          0.6971996263353732,
          -0.10273204605952994,
          1.4857175198711914,
          -0.9602307332292892,
          0.5908545524036684,
          0.4127672484937881,
          -0.5266758464083148,
          -1.2170831072505595,
          1.9285580051166684,
          2.233682040310963,
          1.333969398397583,
          0.423248589364245,
          0.22258221659675845,
          -0.4043164692696297,
          0.6594803798259496,
          -2.285942806656985,
          1.0281945074225356,
          -1.037158988731567,
          -0.5828485188740444,
          -0.313430618132578,
          -1.3874377073665272,
          0.4099640243163893,
          0.24071529001761394,
          -0.12017792683193004,
          -0.9686450621979947,
          -0.03808213244543389,
          1.8023761654438561,
          -1.4301276228609552
         ]
        },
        {
         "line": {
          "color": "rgba(55, 128, 191, 1.0)",
          "dash": "solid",
          "shape": "linear",
          "width": 1.3
         },
         "mode": "lines",
         "name": "B",
         "text": "",
         "type": "scatter",
         "x": [
          0,
          1,
          2,
          3,
          4,
          5,
          6,
          7,
          8,
          9,
          10,
          11,
          12,
          13,
          14,
          15,
          16,
          17,
          18,
          19,
          20,
          21,
          22,
          23,
          24,
          25,
          26,
          27,
          28,
          29,
          30,
          31,
          32,
          33,
          34,
          35,
          36,
          37,
          38,
          39,
          40,
          41,
          42,
          43,
          44,
          45,
          46,
          47,
          48,
          49,
          50,
          51,
          52,
          53,
          54,
          55,
          56,
          57,
          58,
          59,
          60,
          61,
          62,
          63,
          64,
          65,
          66,
          67,
          68,
          69,
          70,
          71,
          72,
          73,
          74,
          75,
          76,
          77,
          78,
          79,
          80,
          81,
          82,
          83,
          84,
          85,
          86,
          87,
          88,
          89,
          90,
          91,
          92,
          93,
          94,
          95,
          96,
          97,
          98,
          99
         ],
         "y": [
          0.18926451945427628,
          0.16292694381339004,
          -0.566306058548627,
          -1.1871484670475736,
          -0.02625193941071388,
          0.6041199267212912,
          1.3741250423719473,
          -0.5088108537866691,
          0.19976539698307638,
          -1.395275921233364,
          -0.015878490774350308,
          0.8084804721162855,
          0.8034225968778593,
          -0.5168699421006512,
          -1.3796295609476623,
          -1.6941356174092017,
          -1.379959709057697,
          -0.11505112421545904,
          0.32984150289779074,
          -0.42834411191121147,
          1.2375552243795376,
          -0.5575710577973884,
          -0.1894786355299986,
          -0.23813580837486759,
          -0.45984534641133945,
          0.48937688393162654,
          0.576026131836969,
          -1.1993910275679727,
          0.15484795454435643,
          0.33950144682406125,
          0.31619953849918614,
          -0.8920510043930835,
          1.6552070877637908,
          1.0730130982097303,
          -0.09015798247656187,
          -1.0602573544408647,
          -0.5505686869004346,
          1.5327284332177737,
          -1.306471900965645,
          -0.3272434299662886,
          -0.4801211887802263,
          0.9169019760490729,
          -0.017979999266407094,
          -0.9511968823264166,
          -0.9627252363016441,
          -1.4628433017052838,
          -1.1821952702688425,
          -0.28148377358404764,
          -1.4044798089957289,
          0.062379443493298006,
          -1.261667708946712,
          2.0321741626905028,
          0.8208188001977202,
          1.5780470590866502,
          -1.5595133106751289,
          -0.5258041321901501,
          0.6970768226811306,
          -0.005408959849332933,
          0.0732974621650809,
          0.6935240608309962,
          0.345194496782059,
          -0.18429690989527864,
          0.22160274975209152,
          -0.4854806124075751,
          0.47488816725628835,
          -0.14852084415920547,
          0.8318360611705212,
          0.29468055995909737,
          -1.2880347602192437,
          0.35609655787191175,
          -0.22330297178159317,
          0.16497518724931692,
          0.2485388337776046,
          -0.7649918753979197,
          0.9026354406871174,
          -1.596064739107909,
          -0.6072502963690356,
          -0.7296920363391135,
          -0.7093956570250376,
          -0.9822586622490749,
          1.9182674900103864,
          -0.01898318330479451,
          -0.7695364688337993,
          0.9775997347713666,
          -0.5403883962773787,
          -0.0631483844680669,
          1.087217742194578,
          0.2926164774469953,
          -0.07524332323153042,
          0.5876958428402382,
          0.351391326724226,
          -1.0655695235292197,
          1.7359381836204664,
          -0.5167044830170687,
          -1.3410359409673123,
          -0.9910637169828151,
          -1.6014081994632958,
          -0.35636157582061334,
          -1.6790495903477574,
          -0.9810464442857267
         ]
        },
        {
         "line": {
          "color": "rgba(50, 171, 96, 1.0)",
          "dash": "solid",
          "shape": "linear",
          "width": 1.3
         },
         "mode": "lines",
         "name": "C",
         "text": "",
         "type": "scatter",
         "x": [
          0,
          1,
          2,
          3,
          4,
          5,
          6,
          7,
          8,
          9,
          10,
          11,
          12,
          13,
          14,
          15,
          16,
          17,
          18,
          19,
          20,
          21,
          22,
          23,
          24,
          25,
          26,
          27,
          28,
          29,
          30,
          31,
          32,
          33,
          34,
          35,
          36,
          37,
          38,
          39,
          40,
          41,
          42,
          43,
          44,
          45,
          46,
          47,
          48,
          49,
          50,
          51,
          52,
          53,
          54,
          55,
          56,
          57,
          58,
          59,
          60,
          61,
          62,
          63,
          64,
          65,
          66,
          67,
          68,
          69,
          70,
          71,
          72,
          73,
          74,
          75,
          76,
          77,
          78,
          79,
          80,
          81,
          82,
          83,
          84,
          85,
          86,
          87,
          88,
          89,
          90,
          91,
          92,
          93,
          94,
          95,
          96,
          97,
          98,
          99
         ],
         "y": [
          -1.1719714818817535,
          0.2332138753592973,
          -0.4546800061881979,
          1.3516237536173374,
          0.17179961485515238,
          1.0517724751027668,
          -0.7823463516887971,
          1.8074585106465186,
          1.3123352560032089,
          -1.820830963211993,
          3.4655352474152594,
          -1.6644082485933236,
          0.3327524789592473,
          0.7728081592370689,
          1.0106861388792414,
          -0.1360068676174408,
          1.067275308490196,
          1.7498323035351442,
          -0.42210531383943345,
          0.08274856032387486,
          1.3351535410116988,
          0.2898933488848551,
          0.4442997674702476,
          -1.0566350492449932,
          -1.1770610406741882,
          1.059136089759076,
          0.6358669397925498,
          -0.9873866966962658,
          -1.1928109033344136,
          0.2365081379323982,
          1.4119765789231435,
          -0.012412826944206104,
          -1.8181097862164766,
          2.1853022769975317,
          -0.14097762123253854,
          1.5150408956982442,
          0.8114345148559331,
          -1.026942869137855,
          0.8685950616036636,
          1.3873827877411171,
          0.2811520389861795,
          -2.2353418800786966,
          -0.3367239783801947,
          1.318690702877346,
          -0.13330465622915116,
          -1.614613802275598,
          -0.22014132742275344,
          -0.8563517414295124,
          -0.5763091648572842,
          -0.47336546528140866,
          0.1403426518366949,
          -1.1387953070329018,
          -0.19268812707847527,
          -1.1581771054106418,
          -0.19340924136897628,
          -0.14908746718245883,
          -1.3941423793138157,
          -1.2835470024222988,
          0.44031813337107395,
          -0.1356788494555008,
          -0.9840572679707422,
          0.8078129574771282,
          0.4267425553937342,
          -0.959346901827908,
          0.5938419248520675,
          1.0875161323394007,
          0.2510932564313161,
          0.24262070160603114,
          0.01778087882946292,
          1.6342184020158732,
          -0.23194589286996642,
          -0.39029141370906273,
          0.11551194440826097,
          0.5103878413697021,
          -0.8064734182549084,
          0.1402951495555622,
          0.3674712646729114,
          0.9584316439675348,
          1.8298277284273394,
          0.8920236547226964,
          -0.5212968676245798,
          -0.17238935097536456,
          0.8471726224699624,
          0.7617060079728852,
          -1.1911720287513288,
          -0.7448002940723181,
          0.24501002154222226,
          0.4226797203167203,
          -0.6777182689776893,
          0.3250244309256672,
          -0.06129106814175234,
          -0.5074724286972169,
          0.5685119579659011,
          1.9455820824933674,
          0.7062092630505239,
          -1.910879622003017,
          -0.23421828012397325,
          -0.03394700754584208,
          0.17577755569065942,
          -1.3676435491484122
         ]
        },
        {
         "line": {
          "color": "rgba(128, 0, 128, 1.0)",
          "dash": "solid",
          "shape": "linear",
          "width": 1.3
         },
         "mode": "lines",
         "name": "D",
         "text": "",
         "type": "scatter",
         "x": [
          0,
          1,
          2,
          3,
          4,
          5,
          6,
          7,
          8,
          9,
          10,
          11,
          12,
          13,
          14,
          15,
          16,
          17,
          18,
          19,
          20,
          21,
          22,
          23,
          24,
          25,
          26,
          27,
          28,
          29,
          30,
          31,
          32,
          33,
          34,
          35,
          36,
          37,
          38,
          39,
          40,
          41,
          42,
          43,
          44,
          45,
          46,
          47,
          48,
          49,
          50,
          51,
          52,
          53,
          54,
          55,
          56,
          57,
          58,
          59,
          60,
          61,
          62,
          63,
          64,
          65,
          66,
          67,
          68,
          69,
          70,
          71,
          72,
          73,
          74,
          75,
          76,
          77,
          78,
          79,
          80,
          81,
          82,
          83,
          84,
          85,
          86,
          87,
          88,
          89,
          90,
          91,
          92,
          93,
          94,
          95,
          96,
          97,
          98,
          99
         ],
         "y": [
          -0.12704856923915245,
          1.6938046160785538,
          0.5756190997868936,
          -0.17999592839220205,
          -0.00009163211638458499,
          1.4695089350289379,
          1.3548652763865952,
          -0.33235526694293527,
          -0.3822486177289395,
          -1.134475698013416,
          1.3847527542080538,
          -1.9991532972345138,
          1.9097487987135684,
          -1.1307328630005613,
          0.08202699286545966,
          -0.9261434359695201,
          -0.6432838379331188,
          0.30315341023978976,
          0.8716668324641216,
          1.001160525439211,
          -0.6200617114477807,
          0.5545756856829747,
          1.5269794887667125,
          0.2722912521021846,
          -1.3302386550206888,
          1.0820281408695263,
          0.4820220647486462,
          -0.026583117944890256,
          0.254307087002118,
          -0.23257206899068456,
          -0.6668408624159107,
          -1.3918058493032925,
          -0.9093808020672761,
          -0.8213125209510255,
          0.12617360302476713,
          1.1818422521706744,
          -2.1154345140812394,
          0.8289698795252698,
          -0.20329141711730483,
          1.1382443889578078,
          1.8069275473195896,
          -1.1912219328811458,
          -1.146680326335038,
          0.8328404693469593,
          0.5535333687685877,
          -1.6104707362516677,
          -0.4217307628110528,
          -0.8759338204297533,
          -2.0819318917445275,
          1.258434233114991,
          0.5176493763367291,
          0.24858411888945894,
          -1.289762415904675,
          -0.27923756675258127,
          1.0331102503945448,
          -0.7025549276141846,
          0.49671821491264867,
          -0.7124415305662497,
          -0.40816128697898746,
          0.5887113190152763,
          0.8052943692046769,
          0.04143367083255379,
          0.5315060348183375,
          0.8521759240730672,
          -0.11357150430083014,
          -0.5355160068590631,
          0.7262464673901955,
          0.4368507358817294,
          -0.5469509790576146,
          1.225346278034147,
          0.4716273182166465,
          -0.21321894212852888,
          -0.6651560509999196,
          0.8062087509024685,
          0.316387993098053,
          0.13662280110006966,
          -0.08136504655299272,
          0.35380080641358747,
          -1.1975953034380349,
          0.28675545644337425,
          -1.2907460928812213,
          -0.8220971385953828,
          1.1511920612407398,
          -0.6530289657038366,
          0.46763936539994966,
          1.5723356025836042,
          0.8537628199681853,
          -0.4427620032609995,
          -0.057184951567829934,
          -0.37879073207614317,
          0.3325060200718353,
          1.7535425767195376,
          -0.6266540549540228,
          -0.38014845782194295,
          -1.1657560542518957,
          1.3333117436860387,
          0.25983277624047507,
          -0.04858360050128592,
          -1.1525950412400925,
          0.9390252529338794
         ]
        }
       ],
       "layout": {
        "legend": {
         "bgcolor": "#F5F6F9",
         "font": {
          "color": "#4D5663"
         }
        },
        "paper_bgcolor": "#F5F6F9",
        "plot_bgcolor": "#F5F6F9",
        "template": {
         "data": {
          "bar": [
           {
            "error_x": {
             "color": "#2a3f5f"
            },
            "error_y": {
             "color": "#2a3f5f"
            },
            "marker": {
             "line": {
              "color": "#E5ECF6",
              "width": 0.5
             },
             "pattern": {
              "fillmode": "overlay",
              "size": 10,
              "solidity": 0.2
             }
            },
            "type": "bar"
           }
          ],
          "barpolar": [
           {
            "marker": {
             "line": {
              "color": "#E5ECF6",
              "width": 0.5
             },
             "pattern": {
              "fillmode": "overlay",
              "size": 10,
              "solidity": 0.2
             }
            },
            "type": "barpolar"
           }
          ],
          "carpet": [
           {
            "aaxis": {
             "endlinecolor": "#2a3f5f",
             "gridcolor": "white",
             "linecolor": "white",
             "minorgridcolor": "white",
             "startlinecolor": "#2a3f5f"
            },
            "baxis": {
             "endlinecolor": "#2a3f5f",
             "gridcolor": "white",
             "linecolor": "white",
             "minorgridcolor": "white",
             "startlinecolor": "#2a3f5f"
            },
            "type": "carpet"
           }
          ],
          "choropleth": [
           {
            "colorbar": {
             "outlinewidth": 0,
             "ticks": ""
            },
            "type": "choropleth"
           }
          ],
          "contour": [
           {
            "colorbar": {
             "outlinewidth": 0,
             "ticks": ""
            },
            "colorscale": [
             [
              0,
              "#0d0887"
             ],
             [
              0.1111111111111111,
              "#46039f"
             ],
             [
              0.2222222222222222,
              "#7201a8"
             ],
             [
              0.3333333333333333,
              "#9c179e"
             ],
             [
              0.4444444444444444,
              "#bd3786"
             ],
             [
              0.5555555555555556,
              "#d8576b"
             ],
             [
              0.6666666666666666,
              "#ed7953"
             ],
             [
              0.7777777777777778,
              "#fb9f3a"
             ],
             [
              0.8888888888888888,
              "#fdca26"
             ],
             [
              1,
              "#f0f921"
             ]
            ],
            "type": "contour"
           }
          ],
          "contourcarpet": [
           {
            "colorbar": {
             "outlinewidth": 0,
             "ticks": ""
            },
            "type": "contourcarpet"
           }
          ],
          "heatmap": [
           {
            "colorbar": {
             "outlinewidth": 0,
             "ticks": ""
            },
            "colorscale": [
             [
              0,
              "#0d0887"
             ],
             [
              0.1111111111111111,
              "#46039f"
             ],
             [
              0.2222222222222222,
              "#7201a8"
             ],
             [
              0.3333333333333333,
              "#9c179e"
             ],
             [
              0.4444444444444444,
              "#bd3786"
             ],
             [
              0.5555555555555556,
              "#d8576b"
             ],
             [
              0.6666666666666666,
              "#ed7953"
             ],
             [
              0.7777777777777778,
              "#fb9f3a"
             ],
             [
              0.8888888888888888,
              "#fdca26"
             ],
             [
              1,
              "#f0f921"
             ]
            ],
            "type": "heatmap"
           }
          ],
          "heatmapgl": [
           {
            "colorbar": {
             "outlinewidth": 0,
             "ticks": ""
            },
            "colorscale": [
             [
              0,
              "#0d0887"
             ],
             [
              0.1111111111111111,
              "#46039f"
             ],
             [
              0.2222222222222222,
              "#7201a8"
             ],
             [
              0.3333333333333333,
              "#9c179e"
             ],
             [
              0.4444444444444444,
              "#bd3786"
             ],
             [
              0.5555555555555556,
              "#d8576b"
             ],
             [
              0.6666666666666666,
              "#ed7953"
             ],
             [
              0.7777777777777778,
              "#fb9f3a"
             ],
             [
              0.8888888888888888,
              "#fdca26"
             ],
             [
              1,
              "#f0f921"
             ]
            ],
            "type": "heatmapgl"
           }
          ],
          "histogram": [
           {
            "marker": {
             "pattern": {
              "fillmode": "overlay",
              "size": 10,
              "solidity": 0.2
             }
            },
            "type": "histogram"
           }
          ],
          "histogram2d": [
           {
            "colorbar": {
             "outlinewidth": 0,
             "ticks": ""
            },
            "colorscale": [
             [
              0,
              "#0d0887"
             ],
             [
              0.1111111111111111,
              "#46039f"
             ],
             [
              0.2222222222222222,
              "#7201a8"
             ],
             [
              0.3333333333333333,
              "#9c179e"
             ],
             [
              0.4444444444444444,
              "#bd3786"
             ],
             [
              0.5555555555555556,
              "#d8576b"
             ],
             [
              0.6666666666666666,
              "#ed7953"
             ],
             [
              0.7777777777777778,
              "#fb9f3a"
             ],
             [
              0.8888888888888888,
              "#fdca26"
             ],
             [
              1,
              "#f0f921"
             ]
            ],
            "type": "histogram2d"
           }
          ],
          "histogram2dcontour": [
           {
            "colorbar": {
             "outlinewidth": 0,
             "ticks": ""
            },
            "colorscale": [
             [
              0,
              "#0d0887"
             ],
             [
              0.1111111111111111,
              "#46039f"
             ],
             [
              0.2222222222222222,
              "#7201a8"
             ],
             [
              0.3333333333333333,
              "#9c179e"
             ],
             [
              0.4444444444444444,
              "#bd3786"
             ],
             [
              0.5555555555555556,
              "#d8576b"
             ],
             [
              0.6666666666666666,
              "#ed7953"
             ],
             [
              0.7777777777777778,
              "#fb9f3a"
             ],
             [
              0.8888888888888888,
              "#fdca26"
             ],
             [
              1,
              "#f0f921"
             ]
            ],
            "type": "histogram2dcontour"
           }
          ],
          "mesh3d": [
           {
            "colorbar": {
             "outlinewidth": 0,
             "ticks": ""
            },
            "type": "mesh3d"
           }
          ],
          "parcoords": [
           {
            "line": {
             "colorbar": {
              "outlinewidth": 0,
              "ticks": ""
             }
            },
            "type": "parcoords"
           }
          ],
          "pie": [
           {
            "automargin": true,
            "type": "pie"
           }
          ],
          "scatter": [
           {
            "marker": {
             "colorbar": {
              "outlinewidth": 0,
              "ticks": ""
             }
            },
            "type": "scatter"
           }
          ],
          "scatter3d": [
           {
            "line": {
             "colorbar": {
              "outlinewidth": 0,
              "ticks": ""
             }
            },
            "marker": {
             "colorbar": {
              "outlinewidth": 0,
              "ticks": ""
             }
            },
            "type": "scatter3d"
           }
          ],
          "scattercarpet": [
           {
            "marker": {
             "colorbar": {
              "outlinewidth": 0,
              "ticks": ""
             }
            },
            "type": "scattercarpet"
           }
          ],
          "scattergeo": [
           {
            "marker": {
             "colorbar": {
              "outlinewidth": 0,
              "ticks": ""
             }
            },
            "type": "scattergeo"
           }
          ],
          "scattergl": [
           {
            "marker": {
             "colorbar": {
              "outlinewidth": 0,
              "ticks": ""
             }
            },
            "type": "scattergl"
           }
          ],
          "scattermapbox": [
           {
            "marker": {
             "colorbar": {
              "outlinewidth": 0,
              "ticks": ""
             }
            },
            "type": "scattermapbox"
           }
          ],
          "scatterpolar": [
           {
            "marker": {
             "colorbar": {
              "outlinewidth": 0,
              "ticks": ""
             }
            },
            "type": "scatterpolar"
           }
          ],
          "scatterpolargl": [
           {
            "marker": {
             "colorbar": {
              "outlinewidth": 0,
              "ticks": ""
             }
            },
            "type": "scatterpolargl"
           }
          ],
          "scatterternary": [
           {
            "marker": {
             "colorbar": {
              "outlinewidth": 0,
              "ticks": ""
             }
            },
            "type": "scatterternary"
           }
          ],
          "surface": [
           {
            "colorbar": {
             "outlinewidth": 0,
             "ticks": ""
            },
            "colorscale": [
             [
              0,
              "#0d0887"
             ],
             [
              0.1111111111111111,
              "#46039f"
             ],
             [
              0.2222222222222222,
              "#7201a8"
             ],
             [
              0.3333333333333333,
              "#9c179e"
             ],
             [
              0.4444444444444444,
              "#bd3786"
             ],
             [
              0.5555555555555556,
              "#d8576b"
             ],
             [
              0.6666666666666666,
              "#ed7953"
             ],
             [
              0.7777777777777778,
              "#fb9f3a"
             ],
             [
              0.8888888888888888,
              "#fdca26"
             ],
             [
              1,
              "#f0f921"
             ]
            ],
            "type": "surface"
           }
          ],
          "table": [
           {
            "cells": {
             "fill": {
              "color": "#EBF0F8"
             },
             "line": {
              "color": "white"
             }
            },
            "header": {
             "fill": {
              "color": "#C8D4E3"
             },
             "line": {
              "color": "white"
             }
            },
            "type": "table"
           }
          ]
         },
         "layout": {
          "annotationdefaults": {
           "arrowcolor": "#2a3f5f",
           "arrowhead": 0,
           "arrowwidth": 1
          },
          "autotypenumbers": "strict",
          "coloraxis": {
           "colorbar": {
            "outlinewidth": 0,
            "ticks": ""
           }
          },
          "colorscale": {
           "diverging": [
            [
             0,
             "#8e0152"
            ],
            [
             0.1,
             "#c51b7d"
            ],
            [
             0.2,
             "#de77ae"
            ],
            [
             0.3,
             "#f1b6da"
            ],
            [
             0.4,
             "#fde0ef"
            ],
            [
             0.5,
             "#f7f7f7"
            ],
            [
             0.6,
             "#e6f5d0"
            ],
            [
             0.7,
             "#b8e186"
            ],
            [
             0.8,
             "#7fbc41"
            ],
            [
             0.9,
             "#4d9221"
            ],
            [
             1,
             "#276419"
            ]
           ],
           "sequential": [
            [
             0,
             "#0d0887"
            ],
            [
             0.1111111111111111,
             "#46039f"
            ],
            [
             0.2222222222222222,
             "#7201a8"
            ],
            [
             0.3333333333333333,
             "#9c179e"
            ],
            [
             0.4444444444444444,
             "#bd3786"
            ],
            [
             0.5555555555555556,
             "#d8576b"
            ],
            [
             0.6666666666666666,
             "#ed7953"
            ],
            [
             0.7777777777777778,
             "#fb9f3a"
            ],
            [
             0.8888888888888888,
             "#fdca26"
            ],
            [
             1,
             "#f0f921"
            ]
           ],
           "sequentialminus": [
            [
             0,
             "#0d0887"
            ],
            [
             0.1111111111111111,
             "#46039f"
            ],
            [
             0.2222222222222222,
             "#7201a8"
            ],
            [
             0.3333333333333333,
             "#9c179e"
            ],
            [
             0.4444444444444444,
             "#bd3786"
            ],
            [
             0.5555555555555556,
             "#d8576b"
            ],
            [
             0.6666666666666666,
             "#ed7953"
            ],
            [
             0.7777777777777778,
             "#fb9f3a"
            ],
            [
             0.8888888888888888,
             "#fdca26"
            ],
            [
             1,
             "#f0f921"
            ]
           ]
          },
          "colorway": [
           "#636efa",
           "#EF553B",
           "#00cc96",
           "#ab63fa",
           "#FFA15A",
           "#19d3f3",
           "#FF6692",
           "#B6E880",
           "#FF97FF",
           "#FECB52"
          ],
          "font": {
           "color": "#2a3f5f"
          },
          "geo": {
           "bgcolor": "white",
           "lakecolor": "white",
           "landcolor": "#E5ECF6",
           "showlakes": true,
           "showland": true,
           "subunitcolor": "white"
          },
          "hoverlabel": {
           "align": "left"
          },
          "hovermode": "closest",
          "mapbox": {
           "style": "light"
          },
          "paper_bgcolor": "white",
          "plot_bgcolor": "#E5ECF6",
          "polar": {
           "angularaxis": {
            "gridcolor": "white",
            "linecolor": "white",
            "ticks": ""
           },
           "bgcolor": "#E5ECF6",
           "radialaxis": {
            "gridcolor": "white",
            "linecolor": "white",
            "ticks": ""
           }
          },
          "scene": {
           "xaxis": {
            "backgroundcolor": "#E5ECF6",
            "gridcolor": "white",
            "gridwidth": 2,
            "linecolor": "white",
            "showbackground": true,
            "ticks": "",
            "zerolinecolor": "white"
           },
           "yaxis": {
            "backgroundcolor": "#E5ECF6",
            "gridcolor": "white",
            "gridwidth": 2,
            "linecolor": "white",
            "showbackground": true,
            "ticks": "",
            "zerolinecolor": "white"
           },
           "zaxis": {
            "backgroundcolor": "#E5ECF6",
            "gridcolor": "white",
            "gridwidth": 2,
            "linecolor": "white",
            "showbackground": true,
            "ticks": "",
            "zerolinecolor": "white"
           }
          },
          "shapedefaults": {
           "line": {
            "color": "#2a3f5f"
           }
          },
          "ternary": {
           "aaxis": {
            "gridcolor": "white",
            "linecolor": "white",
            "ticks": ""
           },
           "baxis": {
            "gridcolor": "white",
            "linecolor": "white",
            "ticks": ""
           },
           "bgcolor": "#E5ECF6",
           "caxis": {
            "gridcolor": "white",
            "linecolor": "white",
            "ticks": ""
           }
          },
          "title": {
           "x": 0.05
          },
          "xaxis": {
           "automargin": true,
           "gridcolor": "white",
           "linecolor": "white",
           "ticks": "",
           "title": {
            "standoff": 15
           },
           "zerolinecolor": "white",
           "zerolinewidth": 2
          },
          "yaxis": {
           "automargin": true,
           "gridcolor": "white",
           "linecolor": "white",
           "ticks": "",
           "title": {
            "standoff": 15
           },
           "zerolinecolor": "white",
           "zerolinewidth": 2
          }
         }
        },
        "title": {
         "font": {
          "color": "#4D5663"
         }
        },
        "xaxis": {
         "gridcolor": "#E1E5ED",
         "showgrid": true,
         "tickfont": {
          "color": "#4D5663"
         },
         "title": {
          "font": {
           "color": "#4D5663"
          },
          "text": ""
         },
         "zerolinecolor": "#E1E5ED"
        },
        "yaxis": {
         "gridcolor": "#E1E5ED",
         "showgrid": true,
         "tickfont": {
          "color": "#4D5663"
         },
         "title": {
          "font": {
           "color": "#4D5663"
          },
          "text": ""
         },
         "zerolinecolor": "#E1E5ED"
        }
       }
      }
     },
     "metadata": {}
    }
   ],
   "metadata": {}
  },
  {
   "cell_type": "code",
   "execution_count": 44,
   "source": [
    "df.iplot(kind='scatter', x='A', y='B', mode='markers', size=15)"
   ],
   "outputs": [
    {
     "output_type": "display_data",
     "data": {
      "text/html": [
       "<div>                            <div id=\"e3f14504-5771-47b9-a9fc-17d31b0b97a7\" class=\"plotly-graph-div\" style=\"height:525px; width:100%;\"></div>            <script type=\"text/javascript\">                require([\"plotly\"], function(Plotly) {                    window.PLOTLYENV=window.PLOTLYENV || {};\n",
       "                    window.PLOTLYENV.BASE_URL='https://plot.ly';                                    if (document.getElementById(\"e3f14504-5771-47b9-a9fc-17d31b0b97a7\")) {                    Plotly.newPlot(                        \"e3f14504-5771-47b9-a9fc-17d31b0b97a7\",                        [{\"line\":{\"color\":\"rgba(255, 153, 51, 1.0)\",\"dash\":\"solid\",\"shape\":\"linear\",\"width\":1.3},\"marker\":{\"size\":15,\"symbol\":\"circle\"},\"mode\":\"markers\",\"name\":\"B\",\"text\":\"\",\"type\":\"scatter\",\"x\":[1.2976308828245577,0.02891563246579733,0.6488033830640866,-0.6518967120779291,0.6103043670864998,-0.9802372938491501,-0.07589310574178512,-2.157880119655764,0.868733577307398,-0.9351261375377906,-0.055140764914955565,-0.28589654616041965,0.5289452063496645,0.2781921010010714,0.16374723355678183,-0.39239282708924167,0.8934440501370563,0.40827977634283436,-0.6959647939739411,-1.1815300420355552,1.1163964121590395,0.3065108458385955,-2.0341160588793805,1.2298468146505241,0.05746358452739269,-1.9000194599015916,0.1415749888678313,-1.2239433218446887,1.201220006696403,1.428560258537245,-1.140941921397734,0.5353234970155184,1.0940387658031,0.22424057672913128,-0.8824973957848675,-1.8185038357772296,0.7229169486376175,0.9124963031268156,0.11107936758643822,-0.08086602502924477,1.2099660155692962,1.8518300739265623,-0.12137650834889625,-0.4858190401877175,1.3395698942139476,-0.17521586297401584,-1.373835557744931,-0.1897204092619399,0.19203332056959913,-0.18036257996181526,-0.15620054902084546,-2.84142252943806,-0.4349542942415666,0.22380447679552914,1.0785492355179809,-0.32649171717218634,0.08433694066275796,-0.13755292295945926,-0.43063226950394184,0.17155096628062336,-1.6044580181981711,0.05717561589713138,-0.06195786489501751,0.6380612124143483,0.6194226191395767,-0.7093593036394797,-0.2941371278104831,0.5636335693906555,0.17585797078580842,1.8454840837179403,-0.3635563229777336,-0.5476291459186988,0.6971996263353732,-0.10273204605952994,1.4857175198711914,-0.9602307332292892,0.5908545524036684,0.4127672484937881,-0.5266758464083148,-1.2170831072505595,1.9285580051166684,2.233682040310963,1.333969398397583,0.423248589364245,0.22258221659675845,-0.4043164692696297,0.6594803798259496,-2.285942806656985,1.0281945074225356,-1.037158988731567,-0.5828485188740444,-0.313430618132578,-1.3874377073665272,0.4099640243163893,0.24071529001761394,-0.12017792683193004,-0.9686450621979947,-0.03808213244543389,1.8023761654438561,-1.4301276228609552],\"y\":[0.18926451945427628,0.16292694381339004,-0.566306058548627,-1.1871484670475736,-0.02625193941071388,0.6041199267212912,1.3741250423719473,-0.5088108537866691,0.19976539698307638,-1.395275921233364,-0.015878490774350308,0.8084804721162855,0.8034225968778593,-0.5168699421006512,-1.3796295609476623,-1.6941356174092017,-1.379959709057697,-0.11505112421545904,0.32984150289779074,-0.42834411191121147,1.2375552243795376,-0.5575710577973884,-0.1894786355299986,-0.23813580837486759,-0.45984534641133945,0.48937688393162654,0.576026131836969,-1.1993910275679727,0.15484795454435643,0.33950144682406125,0.31619953849918614,-0.8920510043930835,1.6552070877637908,1.0730130982097303,-0.09015798247656187,-1.0602573544408647,-0.5505686869004346,1.5327284332177737,-1.306471900965645,-0.3272434299662886,-0.4801211887802263,0.9169019760490729,-0.017979999266407094,-0.9511968823264166,-0.9627252363016441,-1.4628433017052838,-1.1821952702688425,-0.28148377358404764,-1.4044798089957289,0.062379443493298006,-1.261667708946712,2.0321741626905028,0.8208188001977202,1.5780470590866502,-1.5595133106751289,-0.5258041321901501,0.6970768226811306,-0.005408959849332933,0.0732974621650809,0.6935240608309962,0.345194496782059,-0.18429690989527864,0.22160274975209152,-0.4854806124075751,0.47488816725628835,-0.14852084415920547,0.8318360611705212,0.29468055995909737,-1.2880347602192437,0.35609655787191175,-0.22330297178159317,0.16497518724931692,0.2485388337776046,-0.7649918753979197,0.9026354406871174,-1.596064739107909,-0.6072502963690356,-0.7296920363391135,-0.7093956570250376,-0.9822586622490749,1.9182674900103864,-0.01898318330479451,-0.7695364688337993,0.9775997347713666,-0.5403883962773787,-0.0631483844680669,1.087217742194578,0.2926164774469953,-0.07524332323153042,0.5876958428402382,0.351391326724226,-1.0655695235292197,1.7359381836204664,-0.5167044830170687,-1.3410359409673123,-0.9910637169828151,-1.6014081994632958,-0.35636157582061334,-1.6790495903477574,-0.9810464442857267]}],                        {\"legend\":{\"bgcolor\":\"#F5F6F9\",\"font\":{\"color\":\"#4D5663\"}},\"paper_bgcolor\":\"#F5F6F9\",\"plot_bgcolor\":\"#F5F6F9\",\"template\":{\"data\":{\"bar\":[{\"error_x\":{\"color\":\"#2a3f5f\"},\"error_y\":{\"color\":\"#2a3f5f\"},\"marker\":{\"line\":{\"color\":\"#E5ECF6\",\"width\":0.5},\"pattern\":{\"fillmode\":\"overlay\",\"size\":10,\"solidity\":0.2}},\"type\":\"bar\"}],\"barpolar\":[{\"marker\":{\"line\":{\"color\":\"#E5ECF6\",\"width\":0.5},\"pattern\":{\"fillmode\":\"overlay\",\"size\":10,\"solidity\":0.2}},\"type\":\"barpolar\"}],\"carpet\":[{\"aaxis\":{\"endlinecolor\":\"#2a3f5f\",\"gridcolor\":\"white\",\"linecolor\":\"white\",\"minorgridcolor\":\"white\",\"startlinecolor\":\"#2a3f5f\"},\"baxis\":{\"endlinecolor\":\"#2a3f5f\",\"gridcolor\":\"white\",\"linecolor\":\"white\",\"minorgridcolor\":\"white\",\"startlinecolor\":\"#2a3f5f\"},\"type\":\"carpet\"}],\"choropleth\":[{\"colorbar\":{\"outlinewidth\":0,\"ticks\":\"\"},\"type\":\"choropleth\"}],\"contour\":[{\"colorbar\":{\"outlinewidth\":0,\"ticks\":\"\"},\"colorscale\":[[0.0,\"#0d0887\"],[0.1111111111111111,\"#46039f\"],[0.2222222222222222,\"#7201a8\"],[0.3333333333333333,\"#9c179e\"],[0.4444444444444444,\"#bd3786\"],[0.5555555555555556,\"#d8576b\"],[0.6666666666666666,\"#ed7953\"],[0.7777777777777778,\"#fb9f3a\"],[0.8888888888888888,\"#fdca26\"],[1.0,\"#f0f921\"]],\"type\":\"contour\"}],\"contourcarpet\":[{\"colorbar\":{\"outlinewidth\":0,\"ticks\":\"\"},\"type\":\"contourcarpet\"}],\"heatmap\":[{\"colorbar\":{\"outlinewidth\":0,\"ticks\":\"\"},\"colorscale\":[[0.0,\"#0d0887\"],[0.1111111111111111,\"#46039f\"],[0.2222222222222222,\"#7201a8\"],[0.3333333333333333,\"#9c179e\"],[0.4444444444444444,\"#bd3786\"],[0.5555555555555556,\"#d8576b\"],[0.6666666666666666,\"#ed7953\"],[0.7777777777777778,\"#fb9f3a\"],[0.8888888888888888,\"#fdca26\"],[1.0,\"#f0f921\"]],\"type\":\"heatmap\"}],\"heatmapgl\":[{\"colorbar\":{\"outlinewidth\":0,\"ticks\":\"\"},\"colorscale\":[[0.0,\"#0d0887\"],[0.1111111111111111,\"#46039f\"],[0.2222222222222222,\"#7201a8\"],[0.3333333333333333,\"#9c179e\"],[0.4444444444444444,\"#bd3786\"],[0.5555555555555556,\"#d8576b\"],[0.6666666666666666,\"#ed7953\"],[0.7777777777777778,\"#fb9f3a\"],[0.8888888888888888,\"#fdca26\"],[1.0,\"#f0f921\"]],\"type\":\"heatmapgl\"}],\"histogram\":[{\"marker\":{\"pattern\":{\"fillmode\":\"overlay\",\"size\":10,\"solidity\":0.2}},\"type\":\"histogram\"}],\"histogram2d\":[{\"colorbar\":{\"outlinewidth\":0,\"ticks\":\"\"},\"colorscale\":[[0.0,\"#0d0887\"],[0.1111111111111111,\"#46039f\"],[0.2222222222222222,\"#7201a8\"],[0.3333333333333333,\"#9c179e\"],[0.4444444444444444,\"#bd3786\"],[0.5555555555555556,\"#d8576b\"],[0.6666666666666666,\"#ed7953\"],[0.7777777777777778,\"#fb9f3a\"],[0.8888888888888888,\"#fdca26\"],[1.0,\"#f0f921\"]],\"type\":\"histogram2d\"}],\"histogram2dcontour\":[{\"colorbar\":{\"outlinewidth\":0,\"ticks\":\"\"},\"colorscale\":[[0.0,\"#0d0887\"],[0.1111111111111111,\"#46039f\"],[0.2222222222222222,\"#7201a8\"],[0.3333333333333333,\"#9c179e\"],[0.4444444444444444,\"#bd3786\"],[0.5555555555555556,\"#d8576b\"],[0.6666666666666666,\"#ed7953\"],[0.7777777777777778,\"#fb9f3a\"],[0.8888888888888888,\"#fdca26\"],[1.0,\"#f0f921\"]],\"type\":\"histogram2dcontour\"}],\"mesh3d\":[{\"colorbar\":{\"outlinewidth\":0,\"ticks\":\"\"},\"type\":\"mesh3d\"}],\"parcoords\":[{\"line\":{\"colorbar\":{\"outlinewidth\":0,\"ticks\":\"\"}},\"type\":\"parcoords\"}],\"pie\":[{\"automargin\":true,\"type\":\"pie\"}],\"scatter\":[{\"marker\":{\"colorbar\":{\"outlinewidth\":0,\"ticks\":\"\"}},\"type\":\"scatter\"}],\"scatter3d\":[{\"line\":{\"colorbar\":{\"outlinewidth\":0,\"ticks\":\"\"}},\"marker\":{\"colorbar\":{\"outlinewidth\":0,\"ticks\":\"\"}},\"type\":\"scatter3d\"}],\"scattercarpet\":[{\"marker\":{\"colorbar\":{\"outlinewidth\":0,\"ticks\":\"\"}},\"type\":\"scattercarpet\"}],\"scattergeo\":[{\"marker\":{\"colorbar\":{\"outlinewidth\":0,\"ticks\":\"\"}},\"type\":\"scattergeo\"}],\"scattergl\":[{\"marker\":{\"colorbar\":{\"outlinewidth\":0,\"ticks\":\"\"}},\"type\":\"scattergl\"}],\"scattermapbox\":[{\"marker\":{\"colorbar\":{\"outlinewidth\":0,\"ticks\":\"\"}},\"type\":\"scattermapbox\"}],\"scatterpolar\":[{\"marker\":{\"colorbar\":{\"outlinewidth\":0,\"ticks\":\"\"}},\"type\":\"scatterpolar\"}],\"scatterpolargl\":[{\"marker\":{\"colorbar\":{\"outlinewidth\":0,\"ticks\":\"\"}},\"type\":\"scatterpolargl\"}],\"scatterternary\":[{\"marker\":{\"colorbar\":{\"outlinewidth\":0,\"ticks\":\"\"}},\"type\":\"scatterternary\"}],\"surface\":[{\"colorbar\":{\"outlinewidth\":0,\"ticks\":\"\"},\"colorscale\":[[0.0,\"#0d0887\"],[0.1111111111111111,\"#46039f\"],[0.2222222222222222,\"#7201a8\"],[0.3333333333333333,\"#9c179e\"],[0.4444444444444444,\"#bd3786\"],[0.5555555555555556,\"#d8576b\"],[0.6666666666666666,\"#ed7953\"],[0.7777777777777778,\"#fb9f3a\"],[0.8888888888888888,\"#fdca26\"],[1.0,\"#f0f921\"]],\"type\":\"surface\"}],\"table\":[{\"cells\":{\"fill\":{\"color\":\"#EBF0F8\"},\"line\":{\"color\":\"white\"}},\"header\":{\"fill\":{\"color\":\"#C8D4E3\"},\"line\":{\"color\":\"white\"}},\"type\":\"table\"}]},\"layout\":{\"annotationdefaults\":{\"arrowcolor\":\"#2a3f5f\",\"arrowhead\":0,\"arrowwidth\":1},\"autotypenumbers\":\"strict\",\"coloraxis\":{\"colorbar\":{\"outlinewidth\":0,\"ticks\":\"\"}},\"colorscale\":{\"diverging\":[[0,\"#8e0152\"],[0.1,\"#c51b7d\"],[0.2,\"#de77ae\"],[0.3,\"#f1b6da\"],[0.4,\"#fde0ef\"],[0.5,\"#f7f7f7\"],[0.6,\"#e6f5d0\"],[0.7,\"#b8e186\"],[0.8,\"#7fbc41\"],[0.9,\"#4d9221\"],[1,\"#276419\"]],\"sequential\":[[0.0,\"#0d0887\"],[0.1111111111111111,\"#46039f\"],[0.2222222222222222,\"#7201a8\"],[0.3333333333333333,\"#9c179e\"],[0.4444444444444444,\"#bd3786\"],[0.5555555555555556,\"#d8576b\"],[0.6666666666666666,\"#ed7953\"],[0.7777777777777778,\"#fb9f3a\"],[0.8888888888888888,\"#fdca26\"],[1.0,\"#f0f921\"]],\"sequentialminus\":[[0.0,\"#0d0887\"],[0.1111111111111111,\"#46039f\"],[0.2222222222222222,\"#7201a8\"],[0.3333333333333333,\"#9c179e\"],[0.4444444444444444,\"#bd3786\"],[0.5555555555555556,\"#d8576b\"],[0.6666666666666666,\"#ed7953\"],[0.7777777777777778,\"#fb9f3a\"],[0.8888888888888888,\"#fdca26\"],[1.0,\"#f0f921\"]]},\"colorway\":[\"#636efa\",\"#EF553B\",\"#00cc96\",\"#ab63fa\",\"#FFA15A\",\"#19d3f3\",\"#FF6692\",\"#B6E880\",\"#FF97FF\",\"#FECB52\"],\"font\":{\"color\":\"#2a3f5f\"},\"geo\":{\"bgcolor\":\"white\",\"lakecolor\":\"white\",\"landcolor\":\"#E5ECF6\",\"showlakes\":true,\"showland\":true,\"subunitcolor\":\"white\"},\"hoverlabel\":{\"align\":\"left\"},\"hovermode\":\"closest\",\"mapbox\":{\"style\":\"light\"},\"paper_bgcolor\":\"white\",\"plot_bgcolor\":\"#E5ECF6\",\"polar\":{\"angularaxis\":{\"gridcolor\":\"white\",\"linecolor\":\"white\",\"ticks\":\"\"},\"bgcolor\":\"#E5ECF6\",\"radialaxis\":{\"gridcolor\":\"white\",\"linecolor\":\"white\",\"ticks\":\"\"}},\"scene\":{\"xaxis\":{\"backgroundcolor\":\"#E5ECF6\",\"gridcolor\":\"white\",\"gridwidth\":2,\"linecolor\":\"white\",\"showbackground\":true,\"ticks\":\"\",\"zerolinecolor\":\"white\"},\"yaxis\":{\"backgroundcolor\":\"#E5ECF6\",\"gridcolor\":\"white\",\"gridwidth\":2,\"linecolor\":\"white\",\"showbackground\":true,\"ticks\":\"\",\"zerolinecolor\":\"white\"},\"zaxis\":{\"backgroundcolor\":\"#E5ECF6\",\"gridcolor\":\"white\",\"gridwidth\":2,\"linecolor\":\"white\",\"showbackground\":true,\"ticks\":\"\",\"zerolinecolor\":\"white\"}},\"shapedefaults\":{\"line\":{\"color\":\"#2a3f5f\"}},\"ternary\":{\"aaxis\":{\"gridcolor\":\"white\",\"linecolor\":\"white\",\"ticks\":\"\"},\"baxis\":{\"gridcolor\":\"white\",\"linecolor\":\"white\",\"ticks\":\"\"},\"bgcolor\":\"#E5ECF6\",\"caxis\":{\"gridcolor\":\"white\",\"linecolor\":\"white\",\"ticks\":\"\"}},\"title\":{\"x\":0.05},\"xaxis\":{\"automargin\":true,\"gridcolor\":\"white\",\"linecolor\":\"white\",\"ticks\":\"\",\"title\":{\"standoff\":15},\"zerolinecolor\":\"white\",\"zerolinewidth\":2},\"yaxis\":{\"automargin\":true,\"gridcolor\":\"white\",\"linecolor\":\"white\",\"ticks\":\"\",\"title\":{\"standoff\":15},\"zerolinecolor\":\"white\",\"zerolinewidth\":2}}},\"title\":{\"font\":{\"color\":\"#4D5663\"}},\"xaxis\":{\"gridcolor\":\"#E1E5ED\",\"showgrid\":true,\"tickfont\":{\"color\":\"#4D5663\"},\"title\":{\"font\":{\"color\":\"#4D5663\"},\"text\":\"\"},\"zerolinecolor\":\"#E1E5ED\"},\"yaxis\":{\"gridcolor\":\"#E1E5ED\",\"showgrid\":true,\"tickfont\":{\"color\":\"#4D5663\"},\"title\":{\"font\":{\"color\":\"#4D5663\"},\"text\":\"\"},\"zerolinecolor\":\"#E1E5ED\"}},                        {\"showLink\": true, \"linkText\": \"Export to plot.ly\", \"plotlyServerURL\": \"https://plot.ly\", \"responsive\": true}                    ).then(function(){\n",
       "                            \n",
       "var gd = document.getElementById('e3f14504-5771-47b9-a9fc-17d31b0b97a7');\n",
       "var x = new MutationObserver(function (mutations, observer) {{\n",
       "        var display = window.getComputedStyle(gd).display;\n",
       "        if (!display || display === 'none') {{\n",
       "            console.log([gd, 'removed!']);\n",
       "            Plotly.purge(gd);\n",
       "            observer.disconnect();\n",
       "        }}\n",
       "}});\n",
       "\n",
       "// Listen for the removal of the full notebook cells\n",
       "var notebookContainer = gd.closest('#notebook-container');\n",
       "if (notebookContainer) {{\n",
       "    x.observe(notebookContainer, {childList: true});\n",
       "}}\n",
       "\n",
       "// Listen for the clearing of the current output cell\n",
       "var outputEl = gd.closest('.output');\n",
       "if (outputEl) {{\n",
       "    x.observe(outputEl, {childList: true});\n",
       "}}\n",
       "\n",
       "                        })                };                });            </script>        </div>"
      ],
      "application/vnd.plotly.v1+json": {
       "config": {
        "linkText": "Export to plot.ly",
        "plotlyServerURL": "https://plot.ly",
        "showLink": true
       },
       "data": [
        {
         "line": {
          "color": "rgba(255, 153, 51, 1.0)",
          "dash": "solid",
          "shape": "linear",
          "width": 1.3
         },
         "marker": {
          "size": 15,
          "symbol": "circle"
         },
         "mode": "markers",
         "name": "B",
         "text": "",
         "type": "scatter",
         "x": [
          1.2976308828245577,
          0.02891563246579733,
          0.6488033830640866,
          -0.6518967120779291,
          0.6103043670864998,
          -0.9802372938491501,
          -0.07589310574178512,
          -2.157880119655764,
          0.868733577307398,
          -0.9351261375377906,
          -0.055140764914955565,
          -0.28589654616041965,
          0.5289452063496645,
          0.2781921010010714,
          0.16374723355678183,
          -0.39239282708924167,
          0.8934440501370563,
          0.40827977634283436,
          -0.6959647939739411,
          -1.1815300420355552,
          1.1163964121590395,
          0.3065108458385955,
          -2.0341160588793805,
          1.2298468146505241,
          0.05746358452739269,
          -1.9000194599015916,
          0.1415749888678313,
          -1.2239433218446887,
          1.201220006696403,
          1.428560258537245,
          -1.140941921397734,
          0.5353234970155184,
          1.0940387658031,
          0.22424057672913128,
          -0.8824973957848675,
          -1.8185038357772296,
          0.7229169486376175,
          0.9124963031268156,
          0.11107936758643822,
          -0.08086602502924477,
          1.2099660155692962,
          1.8518300739265623,
          -0.12137650834889625,
          -0.4858190401877175,
          1.3395698942139476,
          -0.17521586297401584,
          -1.373835557744931,
          -0.1897204092619399,
          0.19203332056959913,
          -0.18036257996181526,
          -0.15620054902084546,
          -2.84142252943806,
          -0.4349542942415666,
          0.22380447679552914,
          1.0785492355179809,
          -0.32649171717218634,
          0.08433694066275796,
          -0.13755292295945926,
          -0.43063226950394184,
          0.17155096628062336,
          -1.6044580181981711,
          0.05717561589713138,
          -0.06195786489501751,
          0.6380612124143483,
          0.6194226191395767,
          -0.7093593036394797,
          -0.2941371278104831,
          0.5636335693906555,
          0.17585797078580842,
          1.8454840837179403,
          -0.3635563229777336,
          -0.5476291459186988,
          0.6971996263353732,
          -0.10273204605952994,
          1.4857175198711914,
          -0.9602307332292892,
          0.5908545524036684,
          0.4127672484937881,
          -0.5266758464083148,
          -1.2170831072505595,
          1.9285580051166684,
          2.233682040310963,
          1.333969398397583,
          0.423248589364245,
          0.22258221659675845,
          -0.4043164692696297,
          0.6594803798259496,
          -2.285942806656985,
          1.0281945074225356,
          -1.037158988731567,
          -0.5828485188740444,
          -0.313430618132578,
          -1.3874377073665272,
          0.4099640243163893,
          0.24071529001761394,
          -0.12017792683193004,
          -0.9686450621979947,
          -0.03808213244543389,
          1.8023761654438561,
          -1.4301276228609552
         ],
         "y": [
          0.18926451945427628,
          0.16292694381339004,
          -0.566306058548627,
          -1.1871484670475736,
          -0.02625193941071388,
          0.6041199267212912,
          1.3741250423719473,
          -0.5088108537866691,
          0.19976539698307638,
          -1.395275921233364,
          -0.015878490774350308,
          0.8084804721162855,
          0.8034225968778593,
          -0.5168699421006512,
          -1.3796295609476623,
          -1.6941356174092017,
          -1.379959709057697,
          -0.11505112421545904,
          0.32984150289779074,
          -0.42834411191121147,
          1.2375552243795376,
          -0.5575710577973884,
          -0.1894786355299986,
          -0.23813580837486759,
          -0.45984534641133945,
          0.48937688393162654,
          0.576026131836969,
          -1.1993910275679727,
          0.15484795454435643,
          0.33950144682406125,
          0.31619953849918614,
          -0.8920510043930835,
          1.6552070877637908,
          1.0730130982097303,
          -0.09015798247656187,
          -1.0602573544408647,
          -0.5505686869004346,
          1.5327284332177737,
          -1.306471900965645,
          -0.3272434299662886,
          -0.4801211887802263,
          0.9169019760490729,
          -0.017979999266407094,
          -0.9511968823264166,
          -0.9627252363016441,
          -1.4628433017052838,
          -1.1821952702688425,
          -0.28148377358404764,
          -1.4044798089957289,
          0.062379443493298006,
          -1.261667708946712,
          2.0321741626905028,
          0.8208188001977202,
          1.5780470590866502,
          -1.5595133106751289,
          -0.5258041321901501,
          0.6970768226811306,
          -0.005408959849332933,
          0.0732974621650809,
          0.6935240608309962,
          0.345194496782059,
          -0.18429690989527864,
          0.22160274975209152,
          -0.4854806124075751,
          0.47488816725628835,
          -0.14852084415920547,
          0.8318360611705212,
          0.29468055995909737,
          -1.2880347602192437,
          0.35609655787191175,
          -0.22330297178159317,
          0.16497518724931692,
          0.2485388337776046,
          -0.7649918753979197,
          0.9026354406871174,
          -1.596064739107909,
          -0.6072502963690356,
          -0.7296920363391135,
          -0.7093956570250376,
          -0.9822586622490749,
          1.9182674900103864,
          -0.01898318330479451,
          -0.7695364688337993,
          0.9775997347713666,
          -0.5403883962773787,
          -0.0631483844680669,
          1.087217742194578,
          0.2926164774469953,
          -0.07524332323153042,
          0.5876958428402382,
          0.351391326724226,
          -1.0655695235292197,
          1.7359381836204664,
          -0.5167044830170687,
          -1.3410359409673123,
          -0.9910637169828151,
          -1.6014081994632958,
          -0.35636157582061334,
          -1.6790495903477574,
          -0.9810464442857267
         ]
        }
       ],
       "layout": {
        "legend": {
         "bgcolor": "#F5F6F9",
         "font": {
          "color": "#4D5663"
         }
        },
        "paper_bgcolor": "#F5F6F9",
        "plot_bgcolor": "#F5F6F9",
        "template": {
         "data": {
          "bar": [
           {
            "error_x": {
             "color": "#2a3f5f"
            },
            "error_y": {
             "color": "#2a3f5f"
            },
            "marker": {
             "line": {
              "color": "#E5ECF6",
              "width": 0.5
             },
             "pattern": {
              "fillmode": "overlay",
              "size": 10,
              "solidity": 0.2
             }
            },
            "type": "bar"
           }
          ],
          "barpolar": [
           {
            "marker": {
             "line": {
              "color": "#E5ECF6",
              "width": 0.5
             },
             "pattern": {
              "fillmode": "overlay",
              "size": 10,
              "solidity": 0.2
             }
            },
            "type": "barpolar"
           }
          ],
          "carpet": [
           {
            "aaxis": {
             "endlinecolor": "#2a3f5f",
             "gridcolor": "white",
             "linecolor": "white",
             "minorgridcolor": "white",
             "startlinecolor": "#2a3f5f"
            },
            "baxis": {
             "endlinecolor": "#2a3f5f",
             "gridcolor": "white",
             "linecolor": "white",
             "minorgridcolor": "white",
             "startlinecolor": "#2a3f5f"
            },
            "type": "carpet"
           }
          ],
          "choropleth": [
           {
            "colorbar": {
             "outlinewidth": 0,
             "ticks": ""
            },
            "type": "choropleth"
           }
          ],
          "contour": [
           {
            "colorbar": {
             "outlinewidth": 0,
             "ticks": ""
            },
            "colorscale": [
             [
              0,
              "#0d0887"
             ],
             [
              0.1111111111111111,
              "#46039f"
             ],
             [
              0.2222222222222222,
              "#7201a8"
             ],
             [
              0.3333333333333333,
              "#9c179e"
             ],
             [
              0.4444444444444444,
              "#bd3786"
             ],
             [
              0.5555555555555556,
              "#d8576b"
             ],
             [
              0.6666666666666666,
              "#ed7953"
             ],
             [
              0.7777777777777778,
              "#fb9f3a"
             ],
             [
              0.8888888888888888,
              "#fdca26"
             ],
             [
              1,
              "#f0f921"
             ]
            ],
            "type": "contour"
           }
          ],
          "contourcarpet": [
           {
            "colorbar": {
             "outlinewidth": 0,
             "ticks": ""
            },
            "type": "contourcarpet"
           }
          ],
          "heatmap": [
           {
            "colorbar": {
             "outlinewidth": 0,
             "ticks": ""
            },
            "colorscale": [
             [
              0,
              "#0d0887"
             ],
             [
              0.1111111111111111,
              "#46039f"
             ],
             [
              0.2222222222222222,
              "#7201a8"
             ],
             [
              0.3333333333333333,
              "#9c179e"
             ],
             [
              0.4444444444444444,
              "#bd3786"
             ],
             [
              0.5555555555555556,
              "#d8576b"
             ],
             [
              0.6666666666666666,
              "#ed7953"
             ],
             [
              0.7777777777777778,
              "#fb9f3a"
             ],
             [
              0.8888888888888888,
              "#fdca26"
             ],
             [
              1,
              "#f0f921"
             ]
            ],
            "type": "heatmap"
           }
          ],
          "heatmapgl": [
           {
            "colorbar": {
             "outlinewidth": 0,
             "ticks": ""
            },
            "colorscale": [
             [
              0,
              "#0d0887"
             ],
             [
              0.1111111111111111,
              "#46039f"
             ],
             [
              0.2222222222222222,
              "#7201a8"
             ],
             [
              0.3333333333333333,
              "#9c179e"
             ],
             [
              0.4444444444444444,
              "#bd3786"
             ],
             [
              0.5555555555555556,
              "#d8576b"
             ],
             [
              0.6666666666666666,
              "#ed7953"
             ],
             [
              0.7777777777777778,
              "#fb9f3a"
             ],
             [
              0.8888888888888888,
              "#fdca26"
             ],
             [
              1,
              "#f0f921"
             ]
            ],
            "type": "heatmapgl"
           }
          ],
          "histogram": [
           {
            "marker": {
             "pattern": {
              "fillmode": "overlay",
              "size": 10,
              "solidity": 0.2
             }
            },
            "type": "histogram"
           }
          ],
          "histogram2d": [
           {
            "colorbar": {
             "outlinewidth": 0,
             "ticks": ""
            },
            "colorscale": [
             [
              0,
              "#0d0887"
             ],
             [
              0.1111111111111111,
              "#46039f"
             ],
             [
              0.2222222222222222,
              "#7201a8"
             ],
             [
              0.3333333333333333,
              "#9c179e"
             ],
             [
              0.4444444444444444,
              "#bd3786"
             ],
             [
              0.5555555555555556,
              "#d8576b"
             ],
             [
              0.6666666666666666,
              "#ed7953"
             ],
             [
              0.7777777777777778,
              "#fb9f3a"
             ],
             [
              0.8888888888888888,
              "#fdca26"
             ],
             [
              1,
              "#f0f921"
             ]
            ],
            "type": "histogram2d"
           }
          ],
          "histogram2dcontour": [
           {
            "colorbar": {
             "outlinewidth": 0,
             "ticks": ""
            },
            "colorscale": [
             [
              0,
              "#0d0887"
             ],
             [
              0.1111111111111111,
              "#46039f"
             ],
             [
              0.2222222222222222,
              "#7201a8"
             ],
             [
              0.3333333333333333,
              "#9c179e"
             ],
             [
              0.4444444444444444,
              "#bd3786"
             ],
             [
              0.5555555555555556,
              "#d8576b"
             ],
             [
              0.6666666666666666,
              "#ed7953"
             ],
             [
              0.7777777777777778,
              "#fb9f3a"
             ],
             [
              0.8888888888888888,
              "#fdca26"
             ],
             [
              1,
              "#f0f921"
             ]
            ],
            "type": "histogram2dcontour"
           }
          ],
          "mesh3d": [
           {
            "colorbar": {
             "outlinewidth": 0,
             "ticks": ""
            },
            "type": "mesh3d"
           }
          ],
          "parcoords": [
           {
            "line": {
             "colorbar": {
              "outlinewidth": 0,
              "ticks": ""
             }
            },
            "type": "parcoords"
           }
          ],
          "pie": [
           {
            "automargin": true,
            "type": "pie"
           }
          ],
          "scatter": [
           {
            "marker": {
             "colorbar": {
              "outlinewidth": 0,
              "ticks": ""
             }
            },
            "type": "scatter"
           }
          ],
          "scatter3d": [
           {
            "line": {
             "colorbar": {
              "outlinewidth": 0,
              "ticks": ""
             }
            },
            "marker": {
             "colorbar": {
              "outlinewidth": 0,
              "ticks": ""
             }
            },
            "type": "scatter3d"
           }
          ],
          "scattercarpet": [
           {
            "marker": {
             "colorbar": {
              "outlinewidth": 0,
              "ticks": ""
             }
            },
            "type": "scattercarpet"
           }
          ],
          "scattergeo": [
           {
            "marker": {
             "colorbar": {
              "outlinewidth": 0,
              "ticks": ""
             }
            },
            "type": "scattergeo"
           }
          ],
          "scattergl": [
           {
            "marker": {
             "colorbar": {
              "outlinewidth": 0,
              "ticks": ""
             }
            },
            "type": "scattergl"
           }
          ],
          "scattermapbox": [
           {
            "marker": {
             "colorbar": {
              "outlinewidth": 0,
              "ticks": ""
             }
            },
            "type": "scattermapbox"
           }
          ],
          "scatterpolar": [
           {
            "marker": {
             "colorbar": {
              "outlinewidth": 0,
              "ticks": ""
             }
            },
            "type": "scatterpolar"
           }
          ],
          "scatterpolargl": [
           {
            "marker": {
             "colorbar": {
              "outlinewidth": 0,
              "ticks": ""
             }
            },
            "type": "scatterpolargl"
           }
          ],
          "scatterternary": [
           {
            "marker": {
             "colorbar": {
              "outlinewidth": 0,
              "ticks": ""
             }
            },
            "type": "scatterternary"
           }
          ],
          "surface": [
           {
            "colorbar": {
             "outlinewidth": 0,
             "ticks": ""
            },
            "colorscale": [
             [
              0,
              "#0d0887"
             ],
             [
              0.1111111111111111,
              "#46039f"
             ],
             [
              0.2222222222222222,
              "#7201a8"
             ],
             [
              0.3333333333333333,
              "#9c179e"
             ],
             [
              0.4444444444444444,
              "#bd3786"
             ],
             [
              0.5555555555555556,
              "#d8576b"
             ],
             [
              0.6666666666666666,
              "#ed7953"
             ],
             [
              0.7777777777777778,
              "#fb9f3a"
             ],
             [
              0.8888888888888888,
              "#fdca26"
             ],
             [
              1,
              "#f0f921"
             ]
            ],
            "type": "surface"
           }
          ],
          "table": [
           {
            "cells": {
             "fill": {
              "color": "#EBF0F8"
             },
             "line": {
              "color": "white"
             }
            },
            "header": {
             "fill": {
              "color": "#C8D4E3"
             },
             "line": {
              "color": "white"
             }
            },
            "type": "table"
           }
          ]
         },
         "layout": {
          "annotationdefaults": {
           "arrowcolor": "#2a3f5f",
           "arrowhead": 0,
           "arrowwidth": 1
          },
          "autotypenumbers": "strict",
          "coloraxis": {
           "colorbar": {
            "outlinewidth": 0,
            "ticks": ""
           }
          },
          "colorscale": {
           "diverging": [
            [
             0,
             "#8e0152"
            ],
            [
             0.1,
             "#c51b7d"
            ],
            [
             0.2,
             "#de77ae"
            ],
            [
             0.3,
             "#f1b6da"
            ],
            [
             0.4,
             "#fde0ef"
            ],
            [
             0.5,
             "#f7f7f7"
            ],
            [
             0.6,
             "#e6f5d0"
            ],
            [
             0.7,
             "#b8e186"
            ],
            [
             0.8,
             "#7fbc41"
            ],
            [
             0.9,
             "#4d9221"
            ],
            [
             1,
             "#276419"
            ]
           ],
           "sequential": [
            [
             0,
             "#0d0887"
            ],
            [
             0.1111111111111111,
             "#46039f"
            ],
            [
             0.2222222222222222,
             "#7201a8"
            ],
            [
             0.3333333333333333,
             "#9c179e"
            ],
            [
             0.4444444444444444,
             "#bd3786"
            ],
            [
             0.5555555555555556,
             "#d8576b"
            ],
            [
             0.6666666666666666,
             "#ed7953"
            ],
            [
             0.7777777777777778,
             "#fb9f3a"
            ],
            [
             0.8888888888888888,
             "#fdca26"
            ],
            [
             1,
             "#f0f921"
            ]
           ],
           "sequentialminus": [
            [
             0,
             "#0d0887"
            ],
            [
             0.1111111111111111,
             "#46039f"
            ],
            [
             0.2222222222222222,
             "#7201a8"
            ],
            [
             0.3333333333333333,
             "#9c179e"
            ],
            [
             0.4444444444444444,
             "#bd3786"
            ],
            [
             0.5555555555555556,
             "#d8576b"
            ],
            [
             0.6666666666666666,
             "#ed7953"
            ],
            [
             0.7777777777777778,
             "#fb9f3a"
            ],
            [
             0.8888888888888888,
             "#fdca26"
            ],
            [
             1,
             "#f0f921"
            ]
           ]
          },
          "colorway": [
           "#636efa",
           "#EF553B",
           "#00cc96",
           "#ab63fa",
           "#FFA15A",
           "#19d3f3",
           "#FF6692",
           "#B6E880",
           "#FF97FF",
           "#FECB52"
          ],
          "font": {
           "color": "#2a3f5f"
          },
          "geo": {
           "bgcolor": "white",
           "lakecolor": "white",
           "landcolor": "#E5ECF6",
           "showlakes": true,
           "showland": true,
           "subunitcolor": "white"
          },
          "hoverlabel": {
           "align": "left"
          },
          "hovermode": "closest",
          "mapbox": {
           "style": "light"
          },
          "paper_bgcolor": "white",
          "plot_bgcolor": "#E5ECF6",
          "polar": {
           "angularaxis": {
            "gridcolor": "white",
            "linecolor": "white",
            "ticks": ""
           },
           "bgcolor": "#E5ECF6",
           "radialaxis": {
            "gridcolor": "white",
            "linecolor": "white",
            "ticks": ""
           }
          },
          "scene": {
           "xaxis": {
            "backgroundcolor": "#E5ECF6",
            "gridcolor": "white",
            "gridwidth": 2,
            "linecolor": "white",
            "showbackground": true,
            "ticks": "",
            "zerolinecolor": "white"
           },
           "yaxis": {
            "backgroundcolor": "#E5ECF6",
            "gridcolor": "white",
            "gridwidth": 2,
            "linecolor": "white",
            "showbackground": true,
            "ticks": "",
            "zerolinecolor": "white"
           },
           "zaxis": {
            "backgroundcolor": "#E5ECF6",
            "gridcolor": "white",
            "gridwidth": 2,
            "linecolor": "white",
            "showbackground": true,
            "ticks": "",
            "zerolinecolor": "white"
           }
          },
          "shapedefaults": {
           "line": {
            "color": "#2a3f5f"
           }
          },
          "ternary": {
           "aaxis": {
            "gridcolor": "white",
            "linecolor": "white",
            "ticks": ""
           },
           "baxis": {
            "gridcolor": "white",
            "linecolor": "white",
            "ticks": ""
           },
           "bgcolor": "#E5ECF6",
           "caxis": {
            "gridcolor": "white",
            "linecolor": "white",
            "ticks": ""
           }
          },
          "title": {
           "x": 0.05
          },
          "xaxis": {
           "automargin": true,
           "gridcolor": "white",
           "linecolor": "white",
           "ticks": "",
           "title": {
            "standoff": 15
           },
           "zerolinecolor": "white",
           "zerolinewidth": 2
          },
          "yaxis": {
           "automargin": true,
           "gridcolor": "white",
           "linecolor": "white",
           "ticks": "",
           "title": {
            "standoff": 15
           },
           "zerolinecolor": "white",
           "zerolinewidth": 2
          }
         }
        },
        "title": {
         "font": {
          "color": "#4D5663"
         }
        },
        "xaxis": {
         "gridcolor": "#E1E5ED",
         "showgrid": true,
         "tickfont": {
          "color": "#4D5663"
         },
         "title": {
          "font": {
           "color": "#4D5663"
          },
          "text": ""
         },
         "zerolinecolor": "#E1E5ED"
        },
        "yaxis": {
         "gridcolor": "#E1E5ED",
         "showgrid": true,
         "tickfont": {
          "color": "#4D5663"
         },
         "title": {
          "font": {
           "color": "#4D5663"
          },
          "text": ""
         },
         "zerolinecolor": "#E1E5ED"
        }
       }
      }
     },
     "metadata": {}
    }
   ],
   "metadata": {}
  },
  {
   "cell_type": "code",
   "execution_count": 45,
   "source": [
    "df2.iplot(kind='bar', x='Category', y='Values')"
   ],
   "outputs": [
    {
     "output_type": "display_data",
     "data": {
      "text/html": [
       "<div>                            <div id=\"e4970dc8-8fe8-409d-9453-4284fd70fd9a\" class=\"plotly-graph-div\" style=\"height:525px; width:100%;\"></div>            <script type=\"text/javascript\">                require([\"plotly\"], function(Plotly) {                    window.PLOTLYENV=window.PLOTLYENV || {};\n",
       "                    window.PLOTLYENV.BASE_URL='https://plot.ly';                                    if (document.getElementById(\"e4970dc8-8fe8-409d-9453-4284fd70fd9a\")) {                    Plotly.newPlot(                        \"e4970dc8-8fe8-409d-9453-4284fd70fd9a\",                        [{\"marker\":{\"color\":\"rgba(255, 153, 51, 0.6)\",\"line\":{\"color\":\"rgba(255, 153, 51, 1.0)\",\"width\":1}},\"name\":\"Values\",\"orientation\":\"v\",\"text\":\"\",\"type\":\"bar\",\"x\":[\"A\",\"B\",\"C\"],\"y\":[32,43,50]}],                        {\"legend\":{\"bgcolor\":\"#F5F6F9\",\"font\":{\"color\":\"#4D5663\"}},\"paper_bgcolor\":\"#F5F6F9\",\"plot_bgcolor\":\"#F5F6F9\",\"template\":{\"data\":{\"bar\":[{\"error_x\":{\"color\":\"#2a3f5f\"},\"error_y\":{\"color\":\"#2a3f5f\"},\"marker\":{\"line\":{\"color\":\"#E5ECF6\",\"width\":0.5},\"pattern\":{\"fillmode\":\"overlay\",\"size\":10,\"solidity\":0.2}},\"type\":\"bar\"}],\"barpolar\":[{\"marker\":{\"line\":{\"color\":\"#E5ECF6\",\"width\":0.5},\"pattern\":{\"fillmode\":\"overlay\",\"size\":10,\"solidity\":0.2}},\"type\":\"barpolar\"}],\"carpet\":[{\"aaxis\":{\"endlinecolor\":\"#2a3f5f\",\"gridcolor\":\"white\",\"linecolor\":\"white\",\"minorgridcolor\":\"white\",\"startlinecolor\":\"#2a3f5f\"},\"baxis\":{\"endlinecolor\":\"#2a3f5f\",\"gridcolor\":\"white\",\"linecolor\":\"white\",\"minorgridcolor\":\"white\",\"startlinecolor\":\"#2a3f5f\"},\"type\":\"carpet\"}],\"choropleth\":[{\"colorbar\":{\"outlinewidth\":0,\"ticks\":\"\"},\"type\":\"choropleth\"}],\"contour\":[{\"colorbar\":{\"outlinewidth\":0,\"ticks\":\"\"},\"colorscale\":[[0.0,\"#0d0887\"],[0.1111111111111111,\"#46039f\"],[0.2222222222222222,\"#7201a8\"],[0.3333333333333333,\"#9c179e\"],[0.4444444444444444,\"#bd3786\"],[0.5555555555555556,\"#d8576b\"],[0.6666666666666666,\"#ed7953\"],[0.7777777777777778,\"#fb9f3a\"],[0.8888888888888888,\"#fdca26\"],[1.0,\"#f0f921\"]],\"type\":\"contour\"}],\"contourcarpet\":[{\"colorbar\":{\"outlinewidth\":0,\"ticks\":\"\"},\"type\":\"contourcarpet\"}],\"heatmap\":[{\"colorbar\":{\"outlinewidth\":0,\"ticks\":\"\"},\"colorscale\":[[0.0,\"#0d0887\"],[0.1111111111111111,\"#46039f\"],[0.2222222222222222,\"#7201a8\"],[0.3333333333333333,\"#9c179e\"],[0.4444444444444444,\"#bd3786\"],[0.5555555555555556,\"#d8576b\"],[0.6666666666666666,\"#ed7953\"],[0.7777777777777778,\"#fb9f3a\"],[0.8888888888888888,\"#fdca26\"],[1.0,\"#f0f921\"]],\"type\":\"heatmap\"}],\"heatmapgl\":[{\"colorbar\":{\"outlinewidth\":0,\"ticks\":\"\"},\"colorscale\":[[0.0,\"#0d0887\"],[0.1111111111111111,\"#46039f\"],[0.2222222222222222,\"#7201a8\"],[0.3333333333333333,\"#9c179e\"],[0.4444444444444444,\"#bd3786\"],[0.5555555555555556,\"#d8576b\"],[0.6666666666666666,\"#ed7953\"],[0.7777777777777778,\"#fb9f3a\"],[0.8888888888888888,\"#fdca26\"],[1.0,\"#f0f921\"]],\"type\":\"heatmapgl\"}],\"histogram\":[{\"marker\":{\"pattern\":{\"fillmode\":\"overlay\",\"size\":10,\"solidity\":0.2}},\"type\":\"histogram\"}],\"histogram2d\":[{\"colorbar\":{\"outlinewidth\":0,\"ticks\":\"\"},\"colorscale\":[[0.0,\"#0d0887\"],[0.1111111111111111,\"#46039f\"],[0.2222222222222222,\"#7201a8\"],[0.3333333333333333,\"#9c179e\"],[0.4444444444444444,\"#bd3786\"],[0.5555555555555556,\"#d8576b\"],[0.6666666666666666,\"#ed7953\"],[0.7777777777777778,\"#fb9f3a\"],[0.8888888888888888,\"#fdca26\"],[1.0,\"#f0f921\"]],\"type\":\"histogram2d\"}],\"histogram2dcontour\":[{\"colorbar\":{\"outlinewidth\":0,\"ticks\":\"\"},\"colorscale\":[[0.0,\"#0d0887\"],[0.1111111111111111,\"#46039f\"],[0.2222222222222222,\"#7201a8\"],[0.3333333333333333,\"#9c179e\"],[0.4444444444444444,\"#bd3786\"],[0.5555555555555556,\"#d8576b\"],[0.6666666666666666,\"#ed7953\"],[0.7777777777777778,\"#fb9f3a\"],[0.8888888888888888,\"#fdca26\"],[1.0,\"#f0f921\"]],\"type\":\"histogram2dcontour\"}],\"mesh3d\":[{\"colorbar\":{\"outlinewidth\":0,\"ticks\":\"\"},\"type\":\"mesh3d\"}],\"parcoords\":[{\"line\":{\"colorbar\":{\"outlinewidth\":0,\"ticks\":\"\"}},\"type\":\"parcoords\"}],\"pie\":[{\"automargin\":true,\"type\":\"pie\"}],\"scatter\":[{\"marker\":{\"colorbar\":{\"outlinewidth\":0,\"ticks\":\"\"}},\"type\":\"scatter\"}],\"scatter3d\":[{\"line\":{\"colorbar\":{\"outlinewidth\":0,\"ticks\":\"\"}},\"marker\":{\"colorbar\":{\"outlinewidth\":0,\"ticks\":\"\"}},\"type\":\"scatter3d\"}],\"scattercarpet\":[{\"marker\":{\"colorbar\":{\"outlinewidth\":0,\"ticks\":\"\"}},\"type\":\"scattercarpet\"}],\"scattergeo\":[{\"marker\":{\"colorbar\":{\"outlinewidth\":0,\"ticks\":\"\"}},\"type\":\"scattergeo\"}],\"scattergl\":[{\"marker\":{\"colorbar\":{\"outlinewidth\":0,\"ticks\":\"\"}},\"type\":\"scattergl\"}],\"scattermapbox\":[{\"marker\":{\"colorbar\":{\"outlinewidth\":0,\"ticks\":\"\"}},\"type\":\"scattermapbox\"}],\"scatterpolar\":[{\"marker\":{\"colorbar\":{\"outlinewidth\":0,\"ticks\":\"\"}},\"type\":\"scatterpolar\"}],\"scatterpolargl\":[{\"marker\":{\"colorbar\":{\"outlinewidth\":0,\"ticks\":\"\"}},\"type\":\"scatterpolargl\"}],\"scatterternary\":[{\"marker\":{\"colorbar\":{\"outlinewidth\":0,\"ticks\":\"\"}},\"type\":\"scatterternary\"}],\"surface\":[{\"colorbar\":{\"outlinewidth\":0,\"ticks\":\"\"},\"colorscale\":[[0.0,\"#0d0887\"],[0.1111111111111111,\"#46039f\"],[0.2222222222222222,\"#7201a8\"],[0.3333333333333333,\"#9c179e\"],[0.4444444444444444,\"#bd3786\"],[0.5555555555555556,\"#d8576b\"],[0.6666666666666666,\"#ed7953\"],[0.7777777777777778,\"#fb9f3a\"],[0.8888888888888888,\"#fdca26\"],[1.0,\"#f0f921\"]],\"type\":\"surface\"}],\"table\":[{\"cells\":{\"fill\":{\"color\":\"#EBF0F8\"},\"line\":{\"color\":\"white\"}},\"header\":{\"fill\":{\"color\":\"#C8D4E3\"},\"line\":{\"color\":\"white\"}},\"type\":\"table\"}]},\"layout\":{\"annotationdefaults\":{\"arrowcolor\":\"#2a3f5f\",\"arrowhead\":0,\"arrowwidth\":1},\"autotypenumbers\":\"strict\",\"coloraxis\":{\"colorbar\":{\"outlinewidth\":0,\"ticks\":\"\"}},\"colorscale\":{\"diverging\":[[0,\"#8e0152\"],[0.1,\"#c51b7d\"],[0.2,\"#de77ae\"],[0.3,\"#f1b6da\"],[0.4,\"#fde0ef\"],[0.5,\"#f7f7f7\"],[0.6,\"#e6f5d0\"],[0.7,\"#b8e186\"],[0.8,\"#7fbc41\"],[0.9,\"#4d9221\"],[1,\"#276419\"]],\"sequential\":[[0.0,\"#0d0887\"],[0.1111111111111111,\"#46039f\"],[0.2222222222222222,\"#7201a8\"],[0.3333333333333333,\"#9c179e\"],[0.4444444444444444,\"#bd3786\"],[0.5555555555555556,\"#d8576b\"],[0.6666666666666666,\"#ed7953\"],[0.7777777777777778,\"#fb9f3a\"],[0.8888888888888888,\"#fdca26\"],[1.0,\"#f0f921\"]],\"sequentialminus\":[[0.0,\"#0d0887\"],[0.1111111111111111,\"#46039f\"],[0.2222222222222222,\"#7201a8\"],[0.3333333333333333,\"#9c179e\"],[0.4444444444444444,\"#bd3786\"],[0.5555555555555556,\"#d8576b\"],[0.6666666666666666,\"#ed7953\"],[0.7777777777777778,\"#fb9f3a\"],[0.8888888888888888,\"#fdca26\"],[1.0,\"#f0f921\"]]},\"colorway\":[\"#636efa\",\"#EF553B\",\"#00cc96\",\"#ab63fa\",\"#FFA15A\",\"#19d3f3\",\"#FF6692\",\"#B6E880\",\"#FF97FF\",\"#FECB52\"],\"font\":{\"color\":\"#2a3f5f\"},\"geo\":{\"bgcolor\":\"white\",\"lakecolor\":\"white\",\"landcolor\":\"#E5ECF6\",\"showlakes\":true,\"showland\":true,\"subunitcolor\":\"white\"},\"hoverlabel\":{\"align\":\"left\"},\"hovermode\":\"closest\",\"mapbox\":{\"style\":\"light\"},\"paper_bgcolor\":\"white\",\"plot_bgcolor\":\"#E5ECF6\",\"polar\":{\"angularaxis\":{\"gridcolor\":\"white\",\"linecolor\":\"white\",\"ticks\":\"\"},\"bgcolor\":\"#E5ECF6\",\"radialaxis\":{\"gridcolor\":\"white\",\"linecolor\":\"white\",\"ticks\":\"\"}},\"scene\":{\"xaxis\":{\"backgroundcolor\":\"#E5ECF6\",\"gridcolor\":\"white\",\"gridwidth\":2,\"linecolor\":\"white\",\"showbackground\":true,\"ticks\":\"\",\"zerolinecolor\":\"white\"},\"yaxis\":{\"backgroundcolor\":\"#E5ECF6\",\"gridcolor\":\"white\",\"gridwidth\":2,\"linecolor\":\"white\",\"showbackground\":true,\"ticks\":\"\",\"zerolinecolor\":\"white\"},\"zaxis\":{\"backgroundcolor\":\"#E5ECF6\",\"gridcolor\":\"white\",\"gridwidth\":2,\"linecolor\":\"white\",\"showbackground\":true,\"ticks\":\"\",\"zerolinecolor\":\"white\"}},\"shapedefaults\":{\"line\":{\"color\":\"#2a3f5f\"}},\"ternary\":{\"aaxis\":{\"gridcolor\":\"white\",\"linecolor\":\"white\",\"ticks\":\"\"},\"baxis\":{\"gridcolor\":\"white\",\"linecolor\":\"white\",\"ticks\":\"\"},\"bgcolor\":\"#E5ECF6\",\"caxis\":{\"gridcolor\":\"white\",\"linecolor\":\"white\",\"ticks\":\"\"}},\"title\":{\"x\":0.05},\"xaxis\":{\"automargin\":true,\"gridcolor\":\"white\",\"linecolor\":\"white\",\"ticks\":\"\",\"title\":{\"standoff\":15},\"zerolinecolor\":\"white\",\"zerolinewidth\":2},\"yaxis\":{\"automargin\":true,\"gridcolor\":\"white\",\"linecolor\":\"white\",\"ticks\":\"\",\"title\":{\"standoff\":15},\"zerolinecolor\":\"white\",\"zerolinewidth\":2}}},\"title\":{\"font\":{\"color\":\"#4D5663\"}},\"xaxis\":{\"gridcolor\":\"#E1E5ED\",\"showgrid\":true,\"tickfont\":{\"color\":\"#4D5663\"},\"title\":{\"font\":{\"color\":\"#4D5663\"},\"text\":\"\"},\"zerolinecolor\":\"#E1E5ED\"},\"yaxis\":{\"gridcolor\":\"#E1E5ED\",\"showgrid\":true,\"tickfont\":{\"color\":\"#4D5663\"},\"title\":{\"font\":{\"color\":\"#4D5663\"},\"text\":\"\"},\"zerolinecolor\":\"#E1E5ED\"}},                        {\"showLink\": true, \"linkText\": \"Export to plot.ly\", \"plotlyServerURL\": \"https://plot.ly\", \"responsive\": true}                    ).then(function(){\n",
       "                            \n",
       "var gd = document.getElementById('e4970dc8-8fe8-409d-9453-4284fd70fd9a');\n",
       "var x = new MutationObserver(function (mutations, observer) {{\n",
       "        var display = window.getComputedStyle(gd).display;\n",
       "        if (!display || display === 'none') {{\n",
       "            console.log([gd, 'removed!']);\n",
       "            Plotly.purge(gd);\n",
       "            observer.disconnect();\n",
       "        }}\n",
       "}});\n",
       "\n",
       "// Listen for the removal of the full notebook cells\n",
       "var notebookContainer = gd.closest('#notebook-container');\n",
       "if (notebookContainer) {{\n",
       "    x.observe(notebookContainer, {childList: true});\n",
       "}}\n",
       "\n",
       "// Listen for the clearing of the current output cell\n",
       "var outputEl = gd.closest('.output');\n",
       "if (outputEl) {{\n",
       "    x.observe(outputEl, {childList: true});\n",
       "}}\n",
       "\n",
       "                        })                };                });            </script>        </div>"
      ],
      "application/vnd.plotly.v1+json": {
       "config": {
        "linkText": "Export to plot.ly",
        "plotlyServerURL": "https://plot.ly",
        "showLink": true
       },
       "data": [
        {
         "marker": {
          "color": "rgba(255, 153, 51, 0.6)",
          "line": {
           "color": "rgba(255, 153, 51, 1.0)",
           "width": 1
          }
         },
         "name": "Values",
         "orientation": "v",
         "text": "",
         "type": "bar",
         "x": [
          "A",
          "B",
          "C"
         ],
         "y": [
          32,
          43,
          50
         ]
        }
       ],
       "layout": {
        "legend": {
         "bgcolor": "#F5F6F9",
         "font": {
          "color": "#4D5663"
         }
        },
        "paper_bgcolor": "#F5F6F9",
        "plot_bgcolor": "#F5F6F9",
        "template": {
         "data": {
          "bar": [
           {
            "error_x": {
             "color": "#2a3f5f"
            },
            "error_y": {
             "color": "#2a3f5f"
            },
            "marker": {
             "line": {
              "color": "#E5ECF6",
              "width": 0.5
             },
             "pattern": {
              "fillmode": "overlay",
              "size": 10,
              "solidity": 0.2
             }
            },
            "type": "bar"
           }
          ],
          "barpolar": [
           {
            "marker": {
             "line": {
              "color": "#E5ECF6",
              "width": 0.5
             },
             "pattern": {
              "fillmode": "overlay",
              "size": 10,
              "solidity": 0.2
             }
            },
            "type": "barpolar"
           }
          ],
          "carpet": [
           {
            "aaxis": {
             "endlinecolor": "#2a3f5f",
             "gridcolor": "white",
             "linecolor": "white",
             "minorgridcolor": "white",
             "startlinecolor": "#2a3f5f"
            },
            "baxis": {
             "endlinecolor": "#2a3f5f",
             "gridcolor": "white",
             "linecolor": "white",
             "minorgridcolor": "white",
             "startlinecolor": "#2a3f5f"
            },
            "type": "carpet"
           }
          ],
          "choropleth": [
           {
            "colorbar": {
             "outlinewidth": 0,
             "ticks": ""
            },
            "type": "choropleth"
           }
          ],
          "contour": [
           {
            "colorbar": {
             "outlinewidth": 0,
             "ticks": ""
            },
            "colorscale": [
             [
              0,
              "#0d0887"
             ],
             [
              0.1111111111111111,
              "#46039f"
             ],
             [
              0.2222222222222222,
              "#7201a8"
             ],
             [
              0.3333333333333333,
              "#9c179e"
             ],
             [
              0.4444444444444444,
              "#bd3786"
             ],
             [
              0.5555555555555556,
              "#d8576b"
             ],
             [
              0.6666666666666666,
              "#ed7953"
             ],
             [
              0.7777777777777778,
              "#fb9f3a"
             ],
             [
              0.8888888888888888,
              "#fdca26"
             ],
             [
              1,
              "#f0f921"
             ]
            ],
            "type": "contour"
           }
          ],
          "contourcarpet": [
           {
            "colorbar": {
             "outlinewidth": 0,
             "ticks": ""
            },
            "type": "contourcarpet"
           }
          ],
          "heatmap": [
           {
            "colorbar": {
             "outlinewidth": 0,
             "ticks": ""
            },
            "colorscale": [
             [
              0,
              "#0d0887"
             ],
             [
              0.1111111111111111,
              "#46039f"
             ],
             [
              0.2222222222222222,
              "#7201a8"
             ],
             [
              0.3333333333333333,
              "#9c179e"
             ],
             [
              0.4444444444444444,
              "#bd3786"
             ],
             [
              0.5555555555555556,
              "#d8576b"
             ],
             [
              0.6666666666666666,
              "#ed7953"
             ],
             [
              0.7777777777777778,
              "#fb9f3a"
             ],
             [
              0.8888888888888888,
              "#fdca26"
             ],
             [
              1,
              "#f0f921"
             ]
            ],
            "type": "heatmap"
           }
          ],
          "heatmapgl": [
           {
            "colorbar": {
             "outlinewidth": 0,
             "ticks": ""
            },
            "colorscale": [
             [
              0,
              "#0d0887"
             ],
             [
              0.1111111111111111,
              "#46039f"
             ],
             [
              0.2222222222222222,
              "#7201a8"
             ],
             [
              0.3333333333333333,
              "#9c179e"
             ],
             [
              0.4444444444444444,
              "#bd3786"
             ],
             [
              0.5555555555555556,
              "#d8576b"
             ],
             [
              0.6666666666666666,
              "#ed7953"
             ],
             [
              0.7777777777777778,
              "#fb9f3a"
             ],
             [
              0.8888888888888888,
              "#fdca26"
             ],
             [
              1,
              "#f0f921"
             ]
            ],
            "type": "heatmapgl"
           }
          ],
          "histogram": [
           {
            "marker": {
             "pattern": {
              "fillmode": "overlay",
              "size": 10,
              "solidity": 0.2
             }
            },
            "type": "histogram"
           }
          ],
          "histogram2d": [
           {
            "colorbar": {
             "outlinewidth": 0,
             "ticks": ""
            },
            "colorscale": [
             [
              0,
              "#0d0887"
             ],
             [
              0.1111111111111111,
              "#46039f"
             ],
             [
              0.2222222222222222,
              "#7201a8"
             ],
             [
              0.3333333333333333,
              "#9c179e"
             ],
             [
              0.4444444444444444,
              "#bd3786"
             ],
             [
              0.5555555555555556,
              "#d8576b"
             ],
             [
              0.6666666666666666,
              "#ed7953"
             ],
             [
              0.7777777777777778,
              "#fb9f3a"
             ],
             [
              0.8888888888888888,
              "#fdca26"
             ],
             [
              1,
              "#f0f921"
             ]
            ],
            "type": "histogram2d"
           }
          ],
          "histogram2dcontour": [
           {
            "colorbar": {
             "outlinewidth": 0,
             "ticks": ""
            },
            "colorscale": [
             [
              0,
              "#0d0887"
             ],
             [
              0.1111111111111111,
              "#46039f"
             ],
             [
              0.2222222222222222,
              "#7201a8"
             ],
             [
              0.3333333333333333,
              "#9c179e"
             ],
             [
              0.4444444444444444,
              "#bd3786"
             ],
             [
              0.5555555555555556,
              "#d8576b"
             ],
             [
              0.6666666666666666,
              "#ed7953"
             ],
             [
              0.7777777777777778,
              "#fb9f3a"
             ],
             [
              0.8888888888888888,
              "#fdca26"
             ],
             [
              1,
              "#f0f921"
             ]
            ],
            "type": "histogram2dcontour"
           }
          ],
          "mesh3d": [
           {
            "colorbar": {
             "outlinewidth": 0,
             "ticks": ""
            },
            "type": "mesh3d"
           }
          ],
          "parcoords": [
           {
            "line": {
             "colorbar": {
              "outlinewidth": 0,
              "ticks": ""
             }
            },
            "type": "parcoords"
           }
          ],
          "pie": [
           {
            "automargin": true,
            "type": "pie"
           }
          ],
          "scatter": [
           {
            "marker": {
             "colorbar": {
              "outlinewidth": 0,
              "ticks": ""
             }
            },
            "type": "scatter"
           }
          ],
          "scatter3d": [
           {
            "line": {
             "colorbar": {
              "outlinewidth": 0,
              "ticks": ""
             }
            },
            "marker": {
             "colorbar": {
              "outlinewidth": 0,
              "ticks": ""
             }
            },
            "type": "scatter3d"
           }
          ],
          "scattercarpet": [
           {
            "marker": {
             "colorbar": {
              "outlinewidth": 0,
              "ticks": ""
             }
            },
            "type": "scattercarpet"
           }
          ],
          "scattergeo": [
           {
            "marker": {
             "colorbar": {
              "outlinewidth": 0,
              "ticks": ""
             }
            },
            "type": "scattergeo"
           }
          ],
          "scattergl": [
           {
            "marker": {
             "colorbar": {
              "outlinewidth": 0,
              "ticks": ""
             }
            },
            "type": "scattergl"
           }
          ],
          "scattermapbox": [
           {
            "marker": {
             "colorbar": {
              "outlinewidth": 0,
              "ticks": ""
             }
            },
            "type": "scattermapbox"
           }
          ],
          "scatterpolar": [
           {
            "marker": {
             "colorbar": {
              "outlinewidth": 0,
              "ticks": ""
             }
            },
            "type": "scatterpolar"
           }
          ],
          "scatterpolargl": [
           {
            "marker": {
             "colorbar": {
              "outlinewidth": 0,
              "ticks": ""
             }
            },
            "type": "scatterpolargl"
           }
          ],
          "scatterternary": [
           {
            "marker": {
             "colorbar": {
              "outlinewidth": 0,
              "ticks": ""
             }
            },
            "type": "scatterternary"
           }
          ],
          "surface": [
           {
            "colorbar": {
             "outlinewidth": 0,
             "ticks": ""
            },
            "colorscale": [
             [
              0,
              "#0d0887"
             ],
             [
              0.1111111111111111,
              "#46039f"
             ],
             [
              0.2222222222222222,
              "#7201a8"
             ],
             [
              0.3333333333333333,
              "#9c179e"
             ],
             [
              0.4444444444444444,
              "#bd3786"
             ],
             [
              0.5555555555555556,
              "#d8576b"
             ],
             [
              0.6666666666666666,
              "#ed7953"
             ],
             [
              0.7777777777777778,
              "#fb9f3a"
             ],
             [
              0.8888888888888888,
              "#fdca26"
             ],
             [
              1,
              "#f0f921"
             ]
            ],
            "type": "surface"
           }
          ],
          "table": [
           {
            "cells": {
             "fill": {
              "color": "#EBF0F8"
             },
             "line": {
              "color": "white"
             }
            },
            "header": {
             "fill": {
              "color": "#C8D4E3"
             },
             "line": {
              "color": "white"
             }
            },
            "type": "table"
           }
          ]
         },
         "layout": {
          "annotationdefaults": {
           "arrowcolor": "#2a3f5f",
           "arrowhead": 0,
           "arrowwidth": 1
          },
          "autotypenumbers": "strict",
          "coloraxis": {
           "colorbar": {
            "outlinewidth": 0,
            "ticks": ""
           }
          },
          "colorscale": {
           "diverging": [
            [
             0,
             "#8e0152"
            ],
            [
             0.1,
             "#c51b7d"
            ],
            [
             0.2,
             "#de77ae"
            ],
            [
             0.3,
             "#f1b6da"
            ],
            [
             0.4,
             "#fde0ef"
            ],
            [
             0.5,
             "#f7f7f7"
            ],
            [
             0.6,
             "#e6f5d0"
            ],
            [
             0.7,
             "#b8e186"
            ],
            [
             0.8,
             "#7fbc41"
            ],
            [
             0.9,
             "#4d9221"
            ],
            [
             1,
             "#276419"
            ]
           ],
           "sequential": [
            [
             0,
             "#0d0887"
            ],
            [
             0.1111111111111111,
             "#46039f"
            ],
            [
             0.2222222222222222,
             "#7201a8"
            ],
            [
             0.3333333333333333,
             "#9c179e"
            ],
            [
             0.4444444444444444,
             "#bd3786"
            ],
            [
             0.5555555555555556,
             "#d8576b"
            ],
            [
             0.6666666666666666,
             "#ed7953"
            ],
            [
             0.7777777777777778,
             "#fb9f3a"
            ],
            [
             0.8888888888888888,
             "#fdca26"
            ],
            [
             1,
             "#f0f921"
            ]
           ],
           "sequentialminus": [
            [
             0,
             "#0d0887"
            ],
            [
             0.1111111111111111,
             "#46039f"
            ],
            [
             0.2222222222222222,
             "#7201a8"
            ],
            [
             0.3333333333333333,
             "#9c179e"
            ],
            [
             0.4444444444444444,
             "#bd3786"
            ],
            [
             0.5555555555555556,
             "#d8576b"
            ],
            [
             0.6666666666666666,
             "#ed7953"
            ],
            [
             0.7777777777777778,
             "#fb9f3a"
            ],
            [
             0.8888888888888888,
             "#fdca26"
            ],
            [
             1,
             "#f0f921"
            ]
           ]
          },
          "colorway": [
           "#636efa",
           "#EF553B",
           "#00cc96",
           "#ab63fa",
           "#FFA15A",
           "#19d3f3",
           "#FF6692",
           "#B6E880",
           "#FF97FF",
           "#FECB52"
          ],
          "font": {
           "color": "#2a3f5f"
          },
          "geo": {
           "bgcolor": "white",
           "lakecolor": "white",
           "landcolor": "#E5ECF6",
           "showlakes": true,
           "showland": true,
           "subunitcolor": "white"
          },
          "hoverlabel": {
           "align": "left"
          },
          "hovermode": "closest",
          "mapbox": {
           "style": "light"
          },
          "paper_bgcolor": "white",
          "plot_bgcolor": "#E5ECF6",
          "polar": {
           "angularaxis": {
            "gridcolor": "white",
            "linecolor": "white",
            "ticks": ""
           },
           "bgcolor": "#E5ECF6",
           "radialaxis": {
            "gridcolor": "white",
            "linecolor": "white",
            "ticks": ""
           }
          },
          "scene": {
           "xaxis": {
            "backgroundcolor": "#E5ECF6",
            "gridcolor": "white",
            "gridwidth": 2,
            "linecolor": "white",
            "showbackground": true,
            "ticks": "",
            "zerolinecolor": "white"
           },
           "yaxis": {
            "backgroundcolor": "#E5ECF6",
            "gridcolor": "white",
            "gridwidth": 2,
            "linecolor": "white",
            "showbackground": true,
            "ticks": "",
            "zerolinecolor": "white"
           },
           "zaxis": {
            "backgroundcolor": "#E5ECF6",
            "gridcolor": "white",
            "gridwidth": 2,
            "linecolor": "white",
            "showbackground": true,
            "ticks": "",
            "zerolinecolor": "white"
           }
          },
          "shapedefaults": {
           "line": {
            "color": "#2a3f5f"
           }
          },
          "ternary": {
           "aaxis": {
            "gridcolor": "white",
            "linecolor": "white",
            "ticks": ""
           },
           "baxis": {
            "gridcolor": "white",
            "linecolor": "white",
            "ticks": ""
           },
           "bgcolor": "#E5ECF6",
           "caxis": {
            "gridcolor": "white",
            "linecolor": "white",
            "ticks": ""
           }
          },
          "title": {
           "x": 0.05
          },
          "xaxis": {
           "automargin": true,
           "gridcolor": "white",
           "linecolor": "white",
           "ticks": "",
           "title": {
            "standoff": 15
           },
           "zerolinecolor": "white",
           "zerolinewidth": 2
          },
          "yaxis": {
           "automargin": true,
           "gridcolor": "white",
           "linecolor": "white",
           "ticks": "",
           "title": {
            "standoff": 15
           },
           "zerolinecolor": "white",
           "zerolinewidth": 2
          }
         }
        },
        "title": {
         "font": {
          "color": "#4D5663"
         }
        },
        "xaxis": {
         "gridcolor": "#E1E5ED",
         "showgrid": true,
         "tickfont": {
          "color": "#4D5663"
         },
         "title": {
          "font": {
           "color": "#4D5663"
          },
          "text": ""
         },
         "zerolinecolor": "#E1E5ED"
        },
        "yaxis": {
         "gridcolor": "#E1E5ED",
         "showgrid": true,
         "tickfont": {
          "color": "#4D5663"
         },
         "title": {
          "font": {
           "color": "#4D5663"
          },
          "text": ""
         },
         "zerolinecolor": "#E1E5ED"
        }
       }
      }
     },
     "metadata": {}
    }
   ],
   "metadata": {}
  },
  {
   "cell_type": "code",
   "execution_count": 48,
   "source": [
    "df.sum().iplot('bar') #adding aggregate function to individual columns"
   ],
   "outputs": [
    {
     "output_type": "display_data",
     "data": {
      "text/html": [
       "<div>                            <div id=\"a0cb946a-79dc-4cec-a82d-b8701e6198ed\" class=\"plotly-graph-div\" style=\"height:525px; width:100%;\"></div>            <script type=\"text/javascript\">                require([\"plotly\"], function(Plotly) {                    window.PLOTLYENV=window.PLOTLYENV || {};\n",
       "                    window.PLOTLYENV.BASE_URL='https://plot.ly';                                    if (document.getElementById(\"a0cb946a-79dc-4cec-a82d-b8701e6198ed\")) {                    Plotly.newPlot(                        \"a0cb946a-79dc-4cec-a82d-b8701e6198ed\",                        [{\"marker\":{\"color\":\"rgba(255, 153, 51, 0.6)\",\"line\":{\"color\":\"rgba(255, 153, 51, 1.0)\",\"width\":1}},\"name\":\"None\",\"orientation\":\"v\",\"text\":\"\",\"type\":\"bar\",\"x\":[\"A\",\"B\",\"C\",\"D\"],\"y\":[0.026832166888173248,-14.387285359886247,7.892877666247364,4.818756017041467]}],                        {\"legend\":{\"bgcolor\":\"#F5F6F9\",\"font\":{\"color\":\"#4D5663\"}},\"paper_bgcolor\":\"#F5F6F9\",\"plot_bgcolor\":\"#F5F6F9\",\"template\":{\"data\":{\"bar\":[{\"error_x\":{\"color\":\"#2a3f5f\"},\"error_y\":{\"color\":\"#2a3f5f\"},\"marker\":{\"line\":{\"color\":\"#E5ECF6\",\"width\":0.5},\"pattern\":{\"fillmode\":\"overlay\",\"size\":10,\"solidity\":0.2}},\"type\":\"bar\"}],\"barpolar\":[{\"marker\":{\"line\":{\"color\":\"#E5ECF6\",\"width\":0.5},\"pattern\":{\"fillmode\":\"overlay\",\"size\":10,\"solidity\":0.2}},\"type\":\"barpolar\"}],\"carpet\":[{\"aaxis\":{\"endlinecolor\":\"#2a3f5f\",\"gridcolor\":\"white\",\"linecolor\":\"white\",\"minorgridcolor\":\"white\",\"startlinecolor\":\"#2a3f5f\"},\"baxis\":{\"endlinecolor\":\"#2a3f5f\",\"gridcolor\":\"white\",\"linecolor\":\"white\",\"minorgridcolor\":\"white\",\"startlinecolor\":\"#2a3f5f\"},\"type\":\"carpet\"}],\"choropleth\":[{\"colorbar\":{\"outlinewidth\":0,\"ticks\":\"\"},\"type\":\"choropleth\"}],\"contour\":[{\"colorbar\":{\"outlinewidth\":0,\"ticks\":\"\"},\"colorscale\":[[0.0,\"#0d0887\"],[0.1111111111111111,\"#46039f\"],[0.2222222222222222,\"#7201a8\"],[0.3333333333333333,\"#9c179e\"],[0.4444444444444444,\"#bd3786\"],[0.5555555555555556,\"#d8576b\"],[0.6666666666666666,\"#ed7953\"],[0.7777777777777778,\"#fb9f3a\"],[0.8888888888888888,\"#fdca26\"],[1.0,\"#f0f921\"]],\"type\":\"contour\"}],\"contourcarpet\":[{\"colorbar\":{\"outlinewidth\":0,\"ticks\":\"\"},\"type\":\"contourcarpet\"}],\"heatmap\":[{\"colorbar\":{\"outlinewidth\":0,\"ticks\":\"\"},\"colorscale\":[[0.0,\"#0d0887\"],[0.1111111111111111,\"#46039f\"],[0.2222222222222222,\"#7201a8\"],[0.3333333333333333,\"#9c179e\"],[0.4444444444444444,\"#bd3786\"],[0.5555555555555556,\"#d8576b\"],[0.6666666666666666,\"#ed7953\"],[0.7777777777777778,\"#fb9f3a\"],[0.8888888888888888,\"#fdca26\"],[1.0,\"#f0f921\"]],\"type\":\"heatmap\"}],\"heatmapgl\":[{\"colorbar\":{\"outlinewidth\":0,\"ticks\":\"\"},\"colorscale\":[[0.0,\"#0d0887\"],[0.1111111111111111,\"#46039f\"],[0.2222222222222222,\"#7201a8\"],[0.3333333333333333,\"#9c179e\"],[0.4444444444444444,\"#bd3786\"],[0.5555555555555556,\"#d8576b\"],[0.6666666666666666,\"#ed7953\"],[0.7777777777777778,\"#fb9f3a\"],[0.8888888888888888,\"#fdca26\"],[1.0,\"#f0f921\"]],\"type\":\"heatmapgl\"}],\"histogram\":[{\"marker\":{\"pattern\":{\"fillmode\":\"overlay\",\"size\":10,\"solidity\":0.2}},\"type\":\"histogram\"}],\"histogram2d\":[{\"colorbar\":{\"outlinewidth\":0,\"ticks\":\"\"},\"colorscale\":[[0.0,\"#0d0887\"],[0.1111111111111111,\"#46039f\"],[0.2222222222222222,\"#7201a8\"],[0.3333333333333333,\"#9c179e\"],[0.4444444444444444,\"#bd3786\"],[0.5555555555555556,\"#d8576b\"],[0.6666666666666666,\"#ed7953\"],[0.7777777777777778,\"#fb9f3a\"],[0.8888888888888888,\"#fdca26\"],[1.0,\"#f0f921\"]],\"type\":\"histogram2d\"}],\"histogram2dcontour\":[{\"colorbar\":{\"outlinewidth\":0,\"ticks\":\"\"},\"colorscale\":[[0.0,\"#0d0887\"],[0.1111111111111111,\"#46039f\"],[0.2222222222222222,\"#7201a8\"],[0.3333333333333333,\"#9c179e\"],[0.4444444444444444,\"#bd3786\"],[0.5555555555555556,\"#d8576b\"],[0.6666666666666666,\"#ed7953\"],[0.7777777777777778,\"#fb9f3a\"],[0.8888888888888888,\"#fdca26\"],[1.0,\"#f0f921\"]],\"type\":\"histogram2dcontour\"}],\"mesh3d\":[{\"colorbar\":{\"outlinewidth\":0,\"ticks\":\"\"},\"type\":\"mesh3d\"}],\"parcoords\":[{\"line\":{\"colorbar\":{\"outlinewidth\":0,\"ticks\":\"\"}},\"type\":\"parcoords\"}],\"pie\":[{\"automargin\":true,\"type\":\"pie\"}],\"scatter\":[{\"marker\":{\"colorbar\":{\"outlinewidth\":0,\"ticks\":\"\"}},\"type\":\"scatter\"}],\"scatter3d\":[{\"line\":{\"colorbar\":{\"outlinewidth\":0,\"ticks\":\"\"}},\"marker\":{\"colorbar\":{\"outlinewidth\":0,\"ticks\":\"\"}},\"type\":\"scatter3d\"}],\"scattercarpet\":[{\"marker\":{\"colorbar\":{\"outlinewidth\":0,\"ticks\":\"\"}},\"type\":\"scattercarpet\"}],\"scattergeo\":[{\"marker\":{\"colorbar\":{\"outlinewidth\":0,\"ticks\":\"\"}},\"type\":\"scattergeo\"}],\"scattergl\":[{\"marker\":{\"colorbar\":{\"outlinewidth\":0,\"ticks\":\"\"}},\"type\":\"scattergl\"}],\"scattermapbox\":[{\"marker\":{\"colorbar\":{\"outlinewidth\":0,\"ticks\":\"\"}},\"type\":\"scattermapbox\"}],\"scatterpolar\":[{\"marker\":{\"colorbar\":{\"outlinewidth\":0,\"ticks\":\"\"}},\"type\":\"scatterpolar\"}],\"scatterpolargl\":[{\"marker\":{\"colorbar\":{\"outlinewidth\":0,\"ticks\":\"\"}},\"type\":\"scatterpolargl\"}],\"scatterternary\":[{\"marker\":{\"colorbar\":{\"outlinewidth\":0,\"ticks\":\"\"}},\"type\":\"scatterternary\"}],\"surface\":[{\"colorbar\":{\"outlinewidth\":0,\"ticks\":\"\"},\"colorscale\":[[0.0,\"#0d0887\"],[0.1111111111111111,\"#46039f\"],[0.2222222222222222,\"#7201a8\"],[0.3333333333333333,\"#9c179e\"],[0.4444444444444444,\"#bd3786\"],[0.5555555555555556,\"#d8576b\"],[0.6666666666666666,\"#ed7953\"],[0.7777777777777778,\"#fb9f3a\"],[0.8888888888888888,\"#fdca26\"],[1.0,\"#f0f921\"]],\"type\":\"surface\"}],\"table\":[{\"cells\":{\"fill\":{\"color\":\"#EBF0F8\"},\"line\":{\"color\":\"white\"}},\"header\":{\"fill\":{\"color\":\"#C8D4E3\"},\"line\":{\"color\":\"white\"}},\"type\":\"table\"}]},\"layout\":{\"annotationdefaults\":{\"arrowcolor\":\"#2a3f5f\",\"arrowhead\":0,\"arrowwidth\":1},\"autotypenumbers\":\"strict\",\"coloraxis\":{\"colorbar\":{\"outlinewidth\":0,\"ticks\":\"\"}},\"colorscale\":{\"diverging\":[[0,\"#8e0152\"],[0.1,\"#c51b7d\"],[0.2,\"#de77ae\"],[0.3,\"#f1b6da\"],[0.4,\"#fde0ef\"],[0.5,\"#f7f7f7\"],[0.6,\"#e6f5d0\"],[0.7,\"#b8e186\"],[0.8,\"#7fbc41\"],[0.9,\"#4d9221\"],[1,\"#276419\"]],\"sequential\":[[0.0,\"#0d0887\"],[0.1111111111111111,\"#46039f\"],[0.2222222222222222,\"#7201a8\"],[0.3333333333333333,\"#9c179e\"],[0.4444444444444444,\"#bd3786\"],[0.5555555555555556,\"#d8576b\"],[0.6666666666666666,\"#ed7953\"],[0.7777777777777778,\"#fb9f3a\"],[0.8888888888888888,\"#fdca26\"],[1.0,\"#f0f921\"]],\"sequentialminus\":[[0.0,\"#0d0887\"],[0.1111111111111111,\"#46039f\"],[0.2222222222222222,\"#7201a8\"],[0.3333333333333333,\"#9c179e\"],[0.4444444444444444,\"#bd3786\"],[0.5555555555555556,\"#d8576b\"],[0.6666666666666666,\"#ed7953\"],[0.7777777777777778,\"#fb9f3a\"],[0.8888888888888888,\"#fdca26\"],[1.0,\"#f0f921\"]]},\"colorway\":[\"#636efa\",\"#EF553B\",\"#00cc96\",\"#ab63fa\",\"#FFA15A\",\"#19d3f3\",\"#FF6692\",\"#B6E880\",\"#FF97FF\",\"#FECB52\"],\"font\":{\"color\":\"#2a3f5f\"},\"geo\":{\"bgcolor\":\"white\",\"lakecolor\":\"white\",\"landcolor\":\"#E5ECF6\",\"showlakes\":true,\"showland\":true,\"subunitcolor\":\"white\"},\"hoverlabel\":{\"align\":\"left\"},\"hovermode\":\"closest\",\"mapbox\":{\"style\":\"light\"},\"paper_bgcolor\":\"white\",\"plot_bgcolor\":\"#E5ECF6\",\"polar\":{\"angularaxis\":{\"gridcolor\":\"white\",\"linecolor\":\"white\",\"ticks\":\"\"},\"bgcolor\":\"#E5ECF6\",\"radialaxis\":{\"gridcolor\":\"white\",\"linecolor\":\"white\",\"ticks\":\"\"}},\"scene\":{\"xaxis\":{\"backgroundcolor\":\"#E5ECF6\",\"gridcolor\":\"white\",\"gridwidth\":2,\"linecolor\":\"white\",\"showbackground\":true,\"ticks\":\"\",\"zerolinecolor\":\"white\"},\"yaxis\":{\"backgroundcolor\":\"#E5ECF6\",\"gridcolor\":\"white\",\"gridwidth\":2,\"linecolor\":\"white\",\"showbackground\":true,\"ticks\":\"\",\"zerolinecolor\":\"white\"},\"zaxis\":{\"backgroundcolor\":\"#E5ECF6\",\"gridcolor\":\"white\",\"gridwidth\":2,\"linecolor\":\"white\",\"showbackground\":true,\"ticks\":\"\",\"zerolinecolor\":\"white\"}},\"shapedefaults\":{\"line\":{\"color\":\"#2a3f5f\"}},\"ternary\":{\"aaxis\":{\"gridcolor\":\"white\",\"linecolor\":\"white\",\"ticks\":\"\"},\"baxis\":{\"gridcolor\":\"white\",\"linecolor\":\"white\",\"ticks\":\"\"},\"bgcolor\":\"#E5ECF6\",\"caxis\":{\"gridcolor\":\"white\",\"linecolor\":\"white\",\"ticks\":\"\"}},\"title\":{\"x\":0.05},\"xaxis\":{\"automargin\":true,\"gridcolor\":\"white\",\"linecolor\":\"white\",\"ticks\":\"\",\"title\":{\"standoff\":15},\"zerolinecolor\":\"white\",\"zerolinewidth\":2},\"yaxis\":{\"automargin\":true,\"gridcolor\":\"white\",\"linecolor\":\"white\",\"ticks\":\"\",\"title\":{\"standoff\":15},\"zerolinecolor\":\"white\",\"zerolinewidth\":2}}},\"title\":{\"font\":{\"color\":\"#4D5663\"}},\"xaxis\":{\"gridcolor\":\"#E1E5ED\",\"showgrid\":true,\"tickfont\":{\"color\":\"#4D5663\"},\"title\":{\"font\":{\"color\":\"#4D5663\"},\"text\":\"\"},\"zerolinecolor\":\"#E1E5ED\"},\"yaxis\":{\"gridcolor\":\"#E1E5ED\",\"showgrid\":true,\"tickfont\":{\"color\":\"#4D5663\"},\"title\":{\"font\":{\"color\":\"#4D5663\"},\"text\":\"\"},\"zerolinecolor\":\"#E1E5ED\"}},                        {\"showLink\": true, \"linkText\": \"Export to plot.ly\", \"plotlyServerURL\": \"https://plot.ly\", \"responsive\": true}                    ).then(function(){\n",
       "                            \n",
       "var gd = document.getElementById('a0cb946a-79dc-4cec-a82d-b8701e6198ed');\n",
       "var x = new MutationObserver(function (mutations, observer) {{\n",
       "        var display = window.getComputedStyle(gd).display;\n",
       "        if (!display || display === 'none') {{\n",
       "            console.log([gd, 'removed!']);\n",
       "            Plotly.purge(gd);\n",
       "            observer.disconnect();\n",
       "        }}\n",
       "}});\n",
       "\n",
       "// Listen for the removal of the full notebook cells\n",
       "var notebookContainer = gd.closest('#notebook-container');\n",
       "if (notebookContainer) {{\n",
       "    x.observe(notebookContainer, {childList: true});\n",
       "}}\n",
       "\n",
       "// Listen for the clearing of the current output cell\n",
       "var outputEl = gd.closest('.output');\n",
       "if (outputEl) {{\n",
       "    x.observe(outputEl, {childList: true});\n",
       "}}\n",
       "\n",
       "                        })                };                });            </script>        </div>"
      ],
      "application/vnd.plotly.v1+json": {
       "config": {
        "linkText": "Export to plot.ly",
        "plotlyServerURL": "https://plot.ly",
        "showLink": true
       },
       "data": [
        {
         "marker": {
          "color": "rgba(255, 153, 51, 0.6)",
          "line": {
           "color": "rgba(255, 153, 51, 1.0)",
           "width": 1
          }
         },
         "name": "None",
         "orientation": "v",
         "text": "",
         "type": "bar",
         "x": [
          "A",
          "B",
          "C",
          "D"
         ],
         "y": [
          0.026832166888173248,
          -14.387285359886247,
          7.892877666247364,
          4.818756017041467
         ]
        }
       ],
       "layout": {
        "legend": {
         "bgcolor": "#F5F6F9",
         "font": {
          "color": "#4D5663"
         }
        },
        "paper_bgcolor": "#F5F6F9",
        "plot_bgcolor": "#F5F6F9",
        "template": {
         "data": {
          "bar": [
           {
            "error_x": {
             "color": "#2a3f5f"
            },
            "error_y": {
             "color": "#2a3f5f"
            },
            "marker": {
             "line": {
              "color": "#E5ECF6",
              "width": 0.5
             },
             "pattern": {
              "fillmode": "overlay",
              "size": 10,
              "solidity": 0.2
             }
            },
            "type": "bar"
           }
          ],
          "barpolar": [
           {
            "marker": {
             "line": {
              "color": "#E5ECF6",
              "width": 0.5
             },
             "pattern": {
              "fillmode": "overlay",
              "size": 10,
              "solidity": 0.2
             }
            },
            "type": "barpolar"
           }
          ],
          "carpet": [
           {
            "aaxis": {
             "endlinecolor": "#2a3f5f",
             "gridcolor": "white",
             "linecolor": "white",
             "minorgridcolor": "white",
             "startlinecolor": "#2a3f5f"
            },
            "baxis": {
             "endlinecolor": "#2a3f5f",
             "gridcolor": "white",
             "linecolor": "white",
             "minorgridcolor": "white",
             "startlinecolor": "#2a3f5f"
            },
            "type": "carpet"
           }
          ],
          "choropleth": [
           {
            "colorbar": {
             "outlinewidth": 0,
             "ticks": ""
            },
            "type": "choropleth"
           }
          ],
          "contour": [
           {
            "colorbar": {
             "outlinewidth": 0,
             "ticks": ""
            },
            "colorscale": [
             [
              0,
              "#0d0887"
             ],
             [
              0.1111111111111111,
              "#46039f"
             ],
             [
              0.2222222222222222,
              "#7201a8"
             ],
             [
              0.3333333333333333,
              "#9c179e"
             ],
             [
              0.4444444444444444,
              "#bd3786"
             ],
             [
              0.5555555555555556,
              "#d8576b"
             ],
             [
              0.6666666666666666,
              "#ed7953"
             ],
             [
              0.7777777777777778,
              "#fb9f3a"
             ],
             [
              0.8888888888888888,
              "#fdca26"
             ],
             [
              1,
              "#f0f921"
             ]
            ],
            "type": "contour"
           }
          ],
          "contourcarpet": [
           {
            "colorbar": {
             "outlinewidth": 0,
             "ticks": ""
            },
            "type": "contourcarpet"
           }
          ],
          "heatmap": [
           {
            "colorbar": {
             "outlinewidth": 0,
             "ticks": ""
            },
            "colorscale": [
             [
              0,
              "#0d0887"
             ],
             [
              0.1111111111111111,
              "#46039f"
             ],
             [
              0.2222222222222222,
              "#7201a8"
             ],
             [
              0.3333333333333333,
              "#9c179e"
             ],
             [
              0.4444444444444444,
              "#bd3786"
             ],
             [
              0.5555555555555556,
              "#d8576b"
             ],
             [
              0.6666666666666666,
              "#ed7953"
             ],
             [
              0.7777777777777778,
              "#fb9f3a"
             ],
             [
              0.8888888888888888,
              "#fdca26"
             ],
             [
              1,
              "#f0f921"
             ]
            ],
            "type": "heatmap"
           }
          ],
          "heatmapgl": [
           {
            "colorbar": {
             "outlinewidth": 0,
             "ticks": ""
            },
            "colorscale": [
             [
              0,
              "#0d0887"
             ],
             [
              0.1111111111111111,
              "#46039f"
             ],
             [
              0.2222222222222222,
              "#7201a8"
             ],
             [
              0.3333333333333333,
              "#9c179e"
             ],
             [
              0.4444444444444444,
              "#bd3786"
             ],
             [
              0.5555555555555556,
              "#d8576b"
             ],
             [
              0.6666666666666666,
              "#ed7953"
             ],
             [
              0.7777777777777778,
              "#fb9f3a"
             ],
             [
              0.8888888888888888,
              "#fdca26"
             ],
             [
              1,
              "#f0f921"
             ]
            ],
            "type": "heatmapgl"
           }
          ],
          "histogram": [
           {
            "marker": {
             "pattern": {
              "fillmode": "overlay",
              "size": 10,
              "solidity": 0.2
             }
            },
            "type": "histogram"
           }
          ],
          "histogram2d": [
           {
            "colorbar": {
             "outlinewidth": 0,
             "ticks": ""
            },
            "colorscale": [
             [
              0,
              "#0d0887"
             ],
             [
              0.1111111111111111,
              "#46039f"
             ],
             [
              0.2222222222222222,
              "#7201a8"
             ],
             [
              0.3333333333333333,
              "#9c179e"
             ],
             [
              0.4444444444444444,
              "#bd3786"
             ],
             [
              0.5555555555555556,
              "#d8576b"
             ],
             [
              0.6666666666666666,
              "#ed7953"
             ],
             [
              0.7777777777777778,
              "#fb9f3a"
             ],
             [
              0.8888888888888888,
              "#fdca26"
             ],
             [
              1,
              "#f0f921"
             ]
            ],
            "type": "histogram2d"
           }
          ],
          "histogram2dcontour": [
           {
            "colorbar": {
             "outlinewidth": 0,
             "ticks": ""
            },
            "colorscale": [
             [
              0,
              "#0d0887"
             ],
             [
              0.1111111111111111,
              "#46039f"
             ],
             [
              0.2222222222222222,
              "#7201a8"
             ],
             [
              0.3333333333333333,
              "#9c179e"
             ],
             [
              0.4444444444444444,
              "#bd3786"
             ],
             [
              0.5555555555555556,
              "#d8576b"
             ],
             [
              0.6666666666666666,
              "#ed7953"
             ],
             [
              0.7777777777777778,
              "#fb9f3a"
             ],
             [
              0.8888888888888888,
              "#fdca26"
             ],
             [
              1,
              "#f0f921"
             ]
            ],
            "type": "histogram2dcontour"
           }
          ],
          "mesh3d": [
           {
            "colorbar": {
             "outlinewidth": 0,
             "ticks": ""
            },
            "type": "mesh3d"
           }
          ],
          "parcoords": [
           {
            "line": {
             "colorbar": {
              "outlinewidth": 0,
              "ticks": ""
             }
            },
            "type": "parcoords"
           }
          ],
          "pie": [
           {
            "automargin": true,
            "type": "pie"
           }
          ],
          "scatter": [
           {
            "marker": {
             "colorbar": {
              "outlinewidth": 0,
              "ticks": ""
             }
            },
            "type": "scatter"
           }
          ],
          "scatter3d": [
           {
            "line": {
             "colorbar": {
              "outlinewidth": 0,
              "ticks": ""
             }
            },
            "marker": {
             "colorbar": {
              "outlinewidth": 0,
              "ticks": ""
             }
            },
            "type": "scatter3d"
           }
          ],
          "scattercarpet": [
           {
            "marker": {
             "colorbar": {
              "outlinewidth": 0,
              "ticks": ""
             }
            },
            "type": "scattercarpet"
           }
          ],
          "scattergeo": [
           {
            "marker": {
             "colorbar": {
              "outlinewidth": 0,
              "ticks": ""
             }
            },
            "type": "scattergeo"
           }
          ],
          "scattergl": [
           {
            "marker": {
             "colorbar": {
              "outlinewidth": 0,
              "ticks": ""
             }
            },
            "type": "scattergl"
           }
          ],
          "scattermapbox": [
           {
            "marker": {
             "colorbar": {
              "outlinewidth": 0,
              "ticks": ""
             }
            },
            "type": "scattermapbox"
           }
          ],
          "scatterpolar": [
           {
            "marker": {
             "colorbar": {
              "outlinewidth": 0,
              "ticks": ""
             }
            },
            "type": "scatterpolar"
           }
          ],
          "scatterpolargl": [
           {
            "marker": {
             "colorbar": {
              "outlinewidth": 0,
              "ticks": ""
             }
            },
            "type": "scatterpolargl"
           }
          ],
          "scatterternary": [
           {
            "marker": {
             "colorbar": {
              "outlinewidth": 0,
              "ticks": ""
             }
            },
            "type": "scatterternary"
           }
          ],
          "surface": [
           {
            "colorbar": {
             "outlinewidth": 0,
             "ticks": ""
            },
            "colorscale": [
             [
              0,
              "#0d0887"
             ],
             [
              0.1111111111111111,
              "#46039f"
             ],
             [
              0.2222222222222222,
              "#7201a8"
             ],
             [
              0.3333333333333333,
              "#9c179e"
             ],
             [
              0.4444444444444444,
              "#bd3786"
             ],
             [
              0.5555555555555556,
              "#d8576b"
             ],
             [
              0.6666666666666666,
              "#ed7953"
             ],
             [
              0.7777777777777778,
              "#fb9f3a"
             ],
             [
              0.8888888888888888,
              "#fdca26"
             ],
             [
              1,
              "#f0f921"
             ]
            ],
            "type": "surface"
           }
          ],
          "table": [
           {
            "cells": {
             "fill": {
              "color": "#EBF0F8"
             },
             "line": {
              "color": "white"
             }
            },
            "header": {
             "fill": {
              "color": "#C8D4E3"
             },
             "line": {
              "color": "white"
             }
            },
            "type": "table"
           }
          ]
         },
         "layout": {
          "annotationdefaults": {
           "arrowcolor": "#2a3f5f",
           "arrowhead": 0,
           "arrowwidth": 1
          },
          "autotypenumbers": "strict",
          "coloraxis": {
           "colorbar": {
            "outlinewidth": 0,
            "ticks": ""
           }
          },
          "colorscale": {
           "diverging": [
            [
             0,
             "#8e0152"
            ],
            [
             0.1,
             "#c51b7d"
            ],
            [
             0.2,
             "#de77ae"
            ],
            [
             0.3,
             "#f1b6da"
            ],
            [
             0.4,
             "#fde0ef"
            ],
            [
             0.5,
             "#f7f7f7"
            ],
            [
             0.6,
             "#e6f5d0"
            ],
            [
             0.7,
             "#b8e186"
            ],
            [
             0.8,
             "#7fbc41"
            ],
            [
             0.9,
             "#4d9221"
            ],
            [
             1,
             "#276419"
            ]
           ],
           "sequential": [
            [
             0,
             "#0d0887"
            ],
            [
             0.1111111111111111,
             "#46039f"
            ],
            [
             0.2222222222222222,
             "#7201a8"
            ],
            [
             0.3333333333333333,
             "#9c179e"
            ],
            [
             0.4444444444444444,
             "#bd3786"
            ],
            [
             0.5555555555555556,
             "#d8576b"
            ],
            [
             0.6666666666666666,
             "#ed7953"
            ],
            [
             0.7777777777777778,
             "#fb9f3a"
            ],
            [
             0.8888888888888888,
             "#fdca26"
            ],
            [
             1,
             "#f0f921"
            ]
           ],
           "sequentialminus": [
            [
             0,
             "#0d0887"
            ],
            [
             0.1111111111111111,
             "#46039f"
            ],
            [
             0.2222222222222222,
             "#7201a8"
            ],
            [
             0.3333333333333333,
             "#9c179e"
            ],
            [
             0.4444444444444444,
             "#bd3786"
            ],
            [
             0.5555555555555556,
             "#d8576b"
            ],
            [
             0.6666666666666666,
             "#ed7953"
            ],
            [
             0.7777777777777778,
             "#fb9f3a"
            ],
            [
             0.8888888888888888,
             "#fdca26"
            ],
            [
             1,
             "#f0f921"
            ]
           ]
          },
          "colorway": [
           "#636efa",
           "#EF553B",
           "#00cc96",
           "#ab63fa",
           "#FFA15A",
           "#19d3f3",
           "#FF6692",
           "#B6E880",
           "#FF97FF",
           "#FECB52"
          ],
          "font": {
           "color": "#2a3f5f"
          },
          "geo": {
           "bgcolor": "white",
           "lakecolor": "white",
           "landcolor": "#E5ECF6",
           "showlakes": true,
           "showland": true,
           "subunitcolor": "white"
          },
          "hoverlabel": {
           "align": "left"
          },
          "hovermode": "closest",
          "mapbox": {
           "style": "light"
          },
          "paper_bgcolor": "white",
          "plot_bgcolor": "#E5ECF6",
          "polar": {
           "angularaxis": {
            "gridcolor": "white",
            "linecolor": "white",
            "ticks": ""
           },
           "bgcolor": "#E5ECF6",
           "radialaxis": {
            "gridcolor": "white",
            "linecolor": "white",
            "ticks": ""
           }
          },
          "scene": {
           "xaxis": {
            "backgroundcolor": "#E5ECF6",
            "gridcolor": "white",
            "gridwidth": 2,
            "linecolor": "white",
            "showbackground": true,
            "ticks": "",
            "zerolinecolor": "white"
           },
           "yaxis": {
            "backgroundcolor": "#E5ECF6",
            "gridcolor": "white",
            "gridwidth": 2,
            "linecolor": "white",
            "showbackground": true,
            "ticks": "",
            "zerolinecolor": "white"
           },
           "zaxis": {
            "backgroundcolor": "#E5ECF6",
            "gridcolor": "white",
            "gridwidth": 2,
            "linecolor": "white",
            "showbackground": true,
            "ticks": "",
            "zerolinecolor": "white"
           }
          },
          "shapedefaults": {
           "line": {
            "color": "#2a3f5f"
           }
          },
          "ternary": {
           "aaxis": {
            "gridcolor": "white",
            "linecolor": "white",
            "ticks": ""
           },
           "baxis": {
            "gridcolor": "white",
            "linecolor": "white",
            "ticks": ""
           },
           "bgcolor": "#E5ECF6",
           "caxis": {
            "gridcolor": "white",
            "linecolor": "white",
            "ticks": ""
           }
          },
          "title": {
           "x": 0.05
          },
          "xaxis": {
           "automargin": true,
           "gridcolor": "white",
           "linecolor": "white",
           "ticks": "",
           "title": {
            "standoff": 15
           },
           "zerolinecolor": "white",
           "zerolinewidth": 2
          },
          "yaxis": {
           "automargin": true,
           "gridcolor": "white",
           "linecolor": "white",
           "ticks": "",
           "title": {
            "standoff": 15
           },
           "zerolinecolor": "white",
           "zerolinewidth": 2
          }
         }
        },
        "title": {
         "font": {
          "color": "#4D5663"
         }
        },
        "xaxis": {
         "gridcolor": "#E1E5ED",
         "showgrid": true,
         "tickfont": {
          "color": "#4D5663"
         },
         "title": {
          "font": {
           "color": "#4D5663"
          },
          "text": ""
         },
         "zerolinecolor": "#E1E5ED"
        },
        "yaxis": {
         "gridcolor": "#E1E5ED",
         "showgrid": true,
         "tickfont": {
          "color": "#4D5663"
         },
         "title": {
          "font": {
           "color": "#4D5663"
          },
          "text": ""
         },
         "zerolinecolor": "#E1E5ED"
        }
       }
      }
     },
     "metadata": {}
    }
   ],
   "metadata": {}
  },
  {
   "cell_type": "code",
   "execution_count": 49,
   "source": [
    "df"
   ],
   "outputs": [
    {
     "output_type": "execute_result",
     "data": {
      "text/plain": [
       "           A         B         C         D\n",
       "0   1.297631  0.189265 -1.171971 -0.127049\n",
       "1   0.028916  0.162927  0.233214  1.693805\n",
       "2   0.648803 -0.566306 -0.454680  0.575619\n",
       "3  -0.651897 -1.187148  1.351624 -0.179996\n",
       "4   0.610304 -0.026252  0.171800 -0.000092\n",
       "..       ...       ...       ...       ...\n",
       "95 -0.120178 -0.991064 -1.910880  1.333312\n",
       "96 -0.968645 -1.601408 -0.234218  0.259833\n",
       "97 -0.038082 -0.356362 -0.033947 -0.048584\n",
       "98  1.802376 -1.679050  0.175778 -1.152595\n",
       "99 -1.430128 -0.981046 -1.367644  0.939025\n",
       "\n",
       "[100 rows x 4 columns]"
      ],
      "text/html": [
       "<div>\n",
       "<style scoped>\n",
       "    .dataframe tbody tr th:only-of-type {\n",
       "        vertical-align: middle;\n",
       "    }\n",
       "\n",
       "    .dataframe tbody tr th {\n",
       "        vertical-align: top;\n",
       "    }\n",
       "\n",
       "    .dataframe thead th {\n",
       "        text-align: right;\n",
       "    }\n",
       "</style>\n",
       "<table border=\"1\" class=\"dataframe\">\n",
       "  <thead>\n",
       "    <tr style=\"text-align: right;\">\n",
       "      <th></th>\n",
       "      <th>A</th>\n",
       "      <th>B</th>\n",
       "      <th>C</th>\n",
       "      <th>D</th>\n",
       "    </tr>\n",
       "  </thead>\n",
       "  <tbody>\n",
       "    <tr>\n",
       "      <th>0</th>\n",
       "      <td>1.297631</td>\n",
       "      <td>0.189265</td>\n",
       "      <td>-1.171971</td>\n",
       "      <td>-0.127049</td>\n",
       "    </tr>\n",
       "    <tr>\n",
       "      <th>1</th>\n",
       "      <td>0.028916</td>\n",
       "      <td>0.162927</td>\n",
       "      <td>0.233214</td>\n",
       "      <td>1.693805</td>\n",
       "    </tr>\n",
       "    <tr>\n",
       "      <th>2</th>\n",
       "      <td>0.648803</td>\n",
       "      <td>-0.566306</td>\n",
       "      <td>-0.454680</td>\n",
       "      <td>0.575619</td>\n",
       "    </tr>\n",
       "    <tr>\n",
       "      <th>3</th>\n",
       "      <td>-0.651897</td>\n",
       "      <td>-1.187148</td>\n",
       "      <td>1.351624</td>\n",
       "      <td>-0.179996</td>\n",
       "    </tr>\n",
       "    <tr>\n",
       "      <th>4</th>\n",
       "      <td>0.610304</td>\n",
       "      <td>-0.026252</td>\n",
       "      <td>0.171800</td>\n",
       "      <td>-0.000092</td>\n",
       "    </tr>\n",
       "    <tr>\n",
       "      <th>...</th>\n",
       "      <td>...</td>\n",
       "      <td>...</td>\n",
       "      <td>...</td>\n",
       "      <td>...</td>\n",
       "    </tr>\n",
       "    <tr>\n",
       "      <th>95</th>\n",
       "      <td>-0.120178</td>\n",
       "      <td>-0.991064</td>\n",
       "      <td>-1.910880</td>\n",
       "      <td>1.333312</td>\n",
       "    </tr>\n",
       "    <tr>\n",
       "      <th>96</th>\n",
       "      <td>-0.968645</td>\n",
       "      <td>-1.601408</td>\n",
       "      <td>-0.234218</td>\n",
       "      <td>0.259833</td>\n",
       "    </tr>\n",
       "    <tr>\n",
       "      <th>97</th>\n",
       "      <td>-0.038082</td>\n",
       "      <td>-0.356362</td>\n",
       "      <td>-0.033947</td>\n",
       "      <td>-0.048584</td>\n",
       "    </tr>\n",
       "    <tr>\n",
       "      <th>98</th>\n",
       "      <td>1.802376</td>\n",
       "      <td>-1.679050</td>\n",
       "      <td>0.175778</td>\n",
       "      <td>-1.152595</td>\n",
       "    </tr>\n",
       "    <tr>\n",
       "      <th>99</th>\n",
       "      <td>-1.430128</td>\n",
       "      <td>-0.981046</td>\n",
       "      <td>-1.367644</td>\n",
       "      <td>0.939025</td>\n",
       "    </tr>\n",
       "  </tbody>\n",
       "</table>\n",
       "<p>100 rows × 4 columns</p>\n",
       "</div>"
      ]
     },
     "metadata": {},
     "execution_count": 49
    }
   ],
   "metadata": {}
  },
  {
   "cell_type": "code",
   "execution_count": 50,
   "source": [
    "df.iplot('box')"
   ],
   "outputs": [
    {
     "output_type": "display_data",
     "data": {
      "text/html": [
       "<div>                            <div id=\"de14c242-c324-44ba-99e7-99609165b03b\" class=\"plotly-graph-div\" style=\"height:525px; width:100%;\"></div>            <script type=\"text/javascript\">                require([\"plotly\"], function(Plotly) {                    window.PLOTLYENV=window.PLOTLYENV || {};\n",
       "                    window.PLOTLYENV.BASE_URL='https://plot.ly';                                    if (document.getElementById(\"de14c242-c324-44ba-99e7-99609165b03b\")) {                    Plotly.newPlot(                        \"de14c242-c324-44ba-99e7-99609165b03b\",                        [{\"boxpoints\":false,\"line\":{\"width\":1.3},\"marker\":{\"color\":\"rgba(255, 153, 51, 1.0)\"},\"name\":\"A\",\"orientation\":\"v\",\"type\":\"box\",\"y\":[1.2976308828245577,0.02891563246579733,0.6488033830640866,-0.6518967120779291,0.6103043670864998,-0.9802372938491501,-0.07589310574178512,-2.157880119655764,0.868733577307398,-0.9351261375377906,-0.055140764914955565,-0.28589654616041965,0.5289452063496645,0.2781921010010714,0.16374723355678183,-0.39239282708924167,0.8934440501370563,0.40827977634283436,-0.6959647939739411,-1.1815300420355552,1.1163964121590395,0.3065108458385955,-2.0341160588793805,1.2298468146505241,0.05746358452739269,-1.9000194599015916,0.1415749888678313,-1.2239433218446887,1.201220006696403,1.428560258537245,-1.140941921397734,0.5353234970155184,1.0940387658031,0.22424057672913128,-0.8824973957848675,-1.8185038357772296,0.7229169486376175,0.9124963031268156,0.11107936758643822,-0.08086602502924477,1.2099660155692962,1.8518300739265623,-0.12137650834889625,-0.4858190401877175,1.3395698942139476,-0.17521586297401584,-1.373835557744931,-0.1897204092619399,0.19203332056959913,-0.18036257996181526,-0.15620054902084546,-2.84142252943806,-0.4349542942415666,0.22380447679552914,1.0785492355179809,-0.32649171717218634,0.08433694066275796,-0.13755292295945926,-0.43063226950394184,0.17155096628062336,-1.6044580181981711,0.05717561589713138,-0.06195786489501751,0.6380612124143483,0.6194226191395767,-0.7093593036394797,-0.2941371278104831,0.5636335693906555,0.17585797078580842,1.8454840837179403,-0.3635563229777336,-0.5476291459186988,0.6971996263353732,-0.10273204605952994,1.4857175198711914,-0.9602307332292892,0.5908545524036684,0.4127672484937881,-0.5266758464083148,-1.2170831072505595,1.9285580051166684,2.233682040310963,1.333969398397583,0.423248589364245,0.22258221659675845,-0.4043164692696297,0.6594803798259496,-2.285942806656985,1.0281945074225356,-1.037158988731567,-0.5828485188740444,-0.313430618132578,-1.3874377073665272,0.4099640243163893,0.24071529001761394,-0.12017792683193004,-0.9686450621979947,-0.03808213244543389,1.8023761654438561,-1.4301276228609552]},{\"boxpoints\":false,\"line\":{\"width\":1.3},\"marker\":{\"color\":\"rgba(55, 128, 191, 1.0)\"},\"name\":\"B\",\"orientation\":\"v\",\"type\":\"box\",\"y\":[0.18926451945427628,0.16292694381339004,-0.566306058548627,-1.1871484670475736,-0.02625193941071388,0.6041199267212912,1.3741250423719473,-0.5088108537866691,0.19976539698307638,-1.395275921233364,-0.015878490774350308,0.8084804721162855,0.8034225968778593,-0.5168699421006512,-1.3796295609476623,-1.6941356174092017,-1.379959709057697,-0.11505112421545904,0.32984150289779074,-0.42834411191121147,1.2375552243795376,-0.5575710577973884,-0.1894786355299986,-0.23813580837486759,-0.45984534641133945,0.48937688393162654,0.576026131836969,-1.1993910275679727,0.15484795454435643,0.33950144682406125,0.31619953849918614,-0.8920510043930835,1.6552070877637908,1.0730130982097303,-0.09015798247656187,-1.0602573544408647,-0.5505686869004346,1.5327284332177737,-1.306471900965645,-0.3272434299662886,-0.4801211887802263,0.9169019760490729,-0.017979999266407094,-0.9511968823264166,-0.9627252363016441,-1.4628433017052838,-1.1821952702688425,-0.28148377358404764,-1.4044798089957289,0.062379443493298006,-1.261667708946712,2.0321741626905028,0.8208188001977202,1.5780470590866502,-1.5595133106751289,-0.5258041321901501,0.6970768226811306,-0.005408959849332933,0.0732974621650809,0.6935240608309962,0.345194496782059,-0.18429690989527864,0.22160274975209152,-0.4854806124075751,0.47488816725628835,-0.14852084415920547,0.8318360611705212,0.29468055995909737,-1.2880347602192437,0.35609655787191175,-0.22330297178159317,0.16497518724931692,0.2485388337776046,-0.7649918753979197,0.9026354406871174,-1.596064739107909,-0.6072502963690356,-0.7296920363391135,-0.7093956570250376,-0.9822586622490749,1.9182674900103864,-0.01898318330479451,-0.7695364688337993,0.9775997347713666,-0.5403883962773787,-0.0631483844680669,1.087217742194578,0.2926164774469953,-0.07524332323153042,0.5876958428402382,0.351391326724226,-1.0655695235292197,1.7359381836204664,-0.5167044830170687,-1.3410359409673123,-0.9910637169828151,-1.6014081994632958,-0.35636157582061334,-1.6790495903477574,-0.9810464442857267]},{\"boxpoints\":false,\"line\":{\"width\":1.3},\"marker\":{\"color\":\"rgba(50, 171, 96, 1.0)\"},\"name\":\"C\",\"orientation\":\"v\",\"type\":\"box\",\"y\":[-1.1719714818817535,0.2332138753592973,-0.4546800061881979,1.3516237536173374,0.17179961485515238,1.0517724751027668,-0.7823463516887971,1.8074585106465186,1.3123352560032089,-1.820830963211993,3.4655352474152594,-1.6644082485933236,0.3327524789592473,0.7728081592370689,1.0106861388792414,-0.1360068676174408,1.067275308490196,1.7498323035351442,-0.42210531383943345,0.08274856032387486,1.3351535410116988,0.2898933488848551,0.4442997674702476,-1.0566350492449932,-1.1770610406741882,1.059136089759076,0.6358669397925498,-0.9873866966962658,-1.1928109033344136,0.2365081379323982,1.4119765789231435,-0.012412826944206104,-1.8181097862164766,2.1853022769975317,-0.14097762123253854,1.5150408956982442,0.8114345148559331,-1.026942869137855,0.8685950616036636,1.3873827877411171,0.2811520389861795,-2.2353418800786966,-0.3367239783801947,1.318690702877346,-0.13330465622915116,-1.614613802275598,-0.22014132742275344,-0.8563517414295124,-0.5763091648572842,-0.47336546528140866,0.1403426518366949,-1.1387953070329018,-0.19268812707847527,-1.1581771054106418,-0.19340924136897628,-0.14908746718245883,-1.3941423793138157,-1.2835470024222988,0.44031813337107395,-0.1356788494555008,-0.9840572679707422,0.8078129574771282,0.4267425553937342,-0.959346901827908,0.5938419248520675,1.0875161323394007,0.2510932564313161,0.24262070160603114,0.01778087882946292,1.6342184020158732,-0.23194589286996642,-0.39029141370906273,0.11551194440826097,0.5103878413697021,-0.8064734182549084,0.1402951495555622,0.3674712646729114,0.9584316439675348,1.8298277284273394,0.8920236547226964,-0.5212968676245798,-0.17238935097536456,0.8471726224699624,0.7617060079728852,-1.1911720287513288,-0.7448002940723181,0.24501002154222226,0.4226797203167203,-0.6777182689776893,0.3250244309256672,-0.06129106814175234,-0.5074724286972169,0.5685119579659011,1.9455820824933674,0.7062092630505239,-1.910879622003017,-0.23421828012397325,-0.03394700754584208,0.17577755569065942,-1.3676435491484122]},{\"boxpoints\":false,\"line\":{\"width\":1.3},\"marker\":{\"color\":\"rgba(128, 0, 128, 1.0)\"},\"name\":\"D\",\"orientation\":\"v\",\"type\":\"box\",\"y\":[-0.12704856923915245,1.6938046160785538,0.5756190997868936,-0.17999592839220205,-9.163211638458499e-05,1.4695089350289379,1.3548652763865952,-0.33235526694293527,-0.3822486177289395,-1.134475698013416,1.3847527542080538,-1.9991532972345138,1.9097487987135684,-1.1307328630005613,0.08202699286545966,-0.9261434359695201,-0.6432838379331188,0.30315341023978976,0.8716668324641216,1.001160525439211,-0.6200617114477807,0.5545756856829747,1.5269794887667125,0.2722912521021846,-1.3302386550206888,1.0820281408695263,0.4820220647486462,-0.026583117944890256,0.254307087002118,-0.23257206899068456,-0.6668408624159107,-1.3918058493032925,-0.9093808020672761,-0.8213125209510255,0.12617360302476713,1.1818422521706744,-2.1154345140812394,0.8289698795252698,-0.20329141711730483,1.1382443889578078,1.8069275473195896,-1.1912219328811458,-1.146680326335038,0.8328404693469593,0.5535333687685877,-1.6104707362516677,-0.4217307628110528,-0.8759338204297533,-2.0819318917445275,1.258434233114991,0.5176493763367291,0.24858411888945894,-1.289762415904675,-0.27923756675258127,1.0331102503945448,-0.7025549276141846,0.49671821491264867,-0.7124415305662497,-0.40816128697898746,0.5887113190152763,0.8052943692046769,0.04143367083255379,0.5315060348183375,0.8521759240730672,-0.11357150430083014,-0.5355160068590631,0.7262464673901955,0.4368507358817294,-0.5469509790576146,1.225346278034147,0.4716273182166465,-0.21321894212852888,-0.6651560509999196,0.8062087509024685,0.316387993098053,0.13662280110006966,-0.08136504655299272,0.35380080641358747,-1.1975953034380349,0.28675545644337425,-1.2907460928812213,-0.8220971385953828,1.1511920612407398,-0.6530289657038366,0.46763936539994966,1.5723356025836042,0.8537628199681853,-0.4427620032609995,-0.057184951567829934,-0.37879073207614317,0.3325060200718353,1.7535425767195376,-0.6266540549540228,-0.38014845782194295,-1.1657560542518957,1.3333117436860387,0.25983277624047507,-0.04858360050128592,-1.1525950412400925,0.9390252529338794]}],                        {\"legend\":{\"bgcolor\":\"#F5F6F9\",\"font\":{\"color\":\"#4D5663\"}},\"paper_bgcolor\":\"#F5F6F9\",\"plot_bgcolor\":\"#F5F6F9\",\"template\":{\"data\":{\"bar\":[{\"error_x\":{\"color\":\"#2a3f5f\"},\"error_y\":{\"color\":\"#2a3f5f\"},\"marker\":{\"line\":{\"color\":\"#E5ECF6\",\"width\":0.5},\"pattern\":{\"fillmode\":\"overlay\",\"size\":10,\"solidity\":0.2}},\"type\":\"bar\"}],\"barpolar\":[{\"marker\":{\"line\":{\"color\":\"#E5ECF6\",\"width\":0.5},\"pattern\":{\"fillmode\":\"overlay\",\"size\":10,\"solidity\":0.2}},\"type\":\"barpolar\"}],\"carpet\":[{\"aaxis\":{\"endlinecolor\":\"#2a3f5f\",\"gridcolor\":\"white\",\"linecolor\":\"white\",\"minorgridcolor\":\"white\",\"startlinecolor\":\"#2a3f5f\"},\"baxis\":{\"endlinecolor\":\"#2a3f5f\",\"gridcolor\":\"white\",\"linecolor\":\"white\",\"minorgridcolor\":\"white\",\"startlinecolor\":\"#2a3f5f\"},\"type\":\"carpet\"}],\"choropleth\":[{\"colorbar\":{\"outlinewidth\":0,\"ticks\":\"\"},\"type\":\"choropleth\"}],\"contour\":[{\"colorbar\":{\"outlinewidth\":0,\"ticks\":\"\"},\"colorscale\":[[0.0,\"#0d0887\"],[0.1111111111111111,\"#46039f\"],[0.2222222222222222,\"#7201a8\"],[0.3333333333333333,\"#9c179e\"],[0.4444444444444444,\"#bd3786\"],[0.5555555555555556,\"#d8576b\"],[0.6666666666666666,\"#ed7953\"],[0.7777777777777778,\"#fb9f3a\"],[0.8888888888888888,\"#fdca26\"],[1.0,\"#f0f921\"]],\"type\":\"contour\"}],\"contourcarpet\":[{\"colorbar\":{\"outlinewidth\":0,\"ticks\":\"\"},\"type\":\"contourcarpet\"}],\"heatmap\":[{\"colorbar\":{\"outlinewidth\":0,\"ticks\":\"\"},\"colorscale\":[[0.0,\"#0d0887\"],[0.1111111111111111,\"#46039f\"],[0.2222222222222222,\"#7201a8\"],[0.3333333333333333,\"#9c179e\"],[0.4444444444444444,\"#bd3786\"],[0.5555555555555556,\"#d8576b\"],[0.6666666666666666,\"#ed7953\"],[0.7777777777777778,\"#fb9f3a\"],[0.8888888888888888,\"#fdca26\"],[1.0,\"#f0f921\"]],\"type\":\"heatmap\"}],\"heatmapgl\":[{\"colorbar\":{\"outlinewidth\":0,\"ticks\":\"\"},\"colorscale\":[[0.0,\"#0d0887\"],[0.1111111111111111,\"#46039f\"],[0.2222222222222222,\"#7201a8\"],[0.3333333333333333,\"#9c179e\"],[0.4444444444444444,\"#bd3786\"],[0.5555555555555556,\"#d8576b\"],[0.6666666666666666,\"#ed7953\"],[0.7777777777777778,\"#fb9f3a\"],[0.8888888888888888,\"#fdca26\"],[1.0,\"#f0f921\"]],\"type\":\"heatmapgl\"}],\"histogram\":[{\"marker\":{\"pattern\":{\"fillmode\":\"overlay\",\"size\":10,\"solidity\":0.2}},\"type\":\"histogram\"}],\"histogram2d\":[{\"colorbar\":{\"outlinewidth\":0,\"ticks\":\"\"},\"colorscale\":[[0.0,\"#0d0887\"],[0.1111111111111111,\"#46039f\"],[0.2222222222222222,\"#7201a8\"],[0.3333333333333333,\"#9c179e\"],[0.4444444444444444,\"#bd3786\"],[0.5555555555555556,\"#d8576b\"],[0.6666666666666666,\"#ed7953\"],[0.7777777777777778,\"#fb9f3a\"],[0.8888888888888888,\"#fdca26\"],[1.0,\"#f0f921\"]],\"type\":\"histogram2d\"}],\"histogram2dcontour\":[{\"colorbar\":{\"outlinewidth\":0,\"ticks\":\"\"},\"colorscale\":[[0.0,\"#0d0887\"],[0.1111111111111111,\"#46039f\"],[0.2222222222222222,\"#7201a8\"],[0.3333333333333333,\"#9c179e\"],[0.4444444444444444,\"#bd3786\"],[0.5555555555555556,\"#d8576b\"],[0.6666666666666666,\"#ed7953\"],[0.7777777777777778,\"#fb9f3a\"],[0.8888888888888888,\"#fdca26\"],[1.0,\"#f0f921\"]],\"type\":\"histogram2dcontour\"}],\"mesh3d\":[{\"colorbar\":{\"outlinewidth\":0,\"ticks\":\"\"},\"type\":\"mesh3d\"}],\"parcoords\":[{\"line\":{\"colorbar\":{\"outlinewidth\":0,\"ticks\":\"\"}},\"type\":\"parcoords\"}],\"pie\":[{\"automargin\":true,\"type\":\"pie\"}],\"scatter\":[{\"marker\":{\"colorbar\":{\"outlinewidth\":0,\"ticks\":\"\"}},\"type\":\"scatter\"}],\"scatter3d\":[{\"line\":{\"colorbar\":{\"outlinewidth\":0,\"ticks\":\"\"}},\"marker\":{\"colorbar\":{\"outlinewidth\":0,\"ticks\":\"\"}},\"type\":\"scatter3d\"}],\"scattercarpet\":[{\"marker\":{\"colorbar\":{\"outlinewidth\":0,\"ticks\":\"\"}},\"type\":\"scattercarpet\"}],\"scattergeo\":[{\"marker\":{\"colorbar\":{\"outlinewidth\":0,\"ticks\":\"\"}},\"type\":\"scattergeo\"}],\"scattergl\":[{\"marker\":{\"colorbar\":{\"outlinewidth\":0,\"ticks\":\"\"}},\"type\":\"scattergl\"}],\"scattermapbox\":[{\"marker\":{\"colorbar\":{\"outlinewidth\":0,\"ticks\":\"\"}},\"type\":\"scattermapbox\"}],\"scatterpolar\":[{\"marker\":{\"colorbar\":{\"outlinewidth\":0,\"ticks\":\"\"}},\"type\":\"scatterpolar\"}],\"scatterpolargl\":[{\"marker\":{\"colorbar\":{\"outlinewidth\":0,\"ticks\":\"\"}},\"type\":\"scatterpolargl\"}],\"scatterternary\":[{\"marker\":{\"colorbar\":{\"outlinewidth\":0,\"ticks\":\"\"}},\"type\":\"scatterternary\"}],\"surface\":[{\"colorbar\":{\"outlinewidth\":0,\"ticks\":\"\"},\"colorscale\":[[0.0,\"#0d0887\"],[0.1111111111111111,\"#46039f\"],[0.2222222222222222,\"#7201a8\"],[0.3333333333333333,\"#9c179e\"],[0.4444444444444444,\"#bd3786\"],[0.5555555555555556,\"#d8576b\"],[0.6666666666666666,\"#ed7953\"],[0.7777777777777778,\"#fb9f3a\"],[0.8888888888888888,\"#fdca26\"],[1.0,\"#f0f921\"]],\"type\":\"surface\"}],\"table\":[{\"cells\":{\"fill\":{\"color\":\"#EBF0F8\"},\"line\":{\"color\":\"white\"}},\"header\":{\"fill\":{\"color\":\"#C8D4E3\"},\"line\":{\"color\":\"white\"}},\"type\":\"table\"}]},\"layout\":{\"annotationdefaults\":{\"arrowcolor\":\"#2a3f5f\",\"arrowhead\":0,\"arrowwidth\":1},\"autotypenumbers\":\"strict\",\"coloraxis\":{\"colorbar\":{\"outlinewidth\":0,\"ticks\":\"\"}},\"colorscale\":{\"diverging\":[[0,\"#8e0152\"],[0.1,\"#c51b7d\"],[0.2,\"#de77ae\"],[0.3,\"#f1b6da\"],[0.4,\"#fde0ef\"],[0.5,\"#f7f7f7\"],[0.6,\"#e6f5d0\"],[0.7,\"#b8e186\"],[0.8,\"#7fbc41\"],[0.9,\"#4d9221\"],[1,\"#276419\"]],\"sequential\":[[0.0,\"#0d0887\"],[0.1111111111111111,\"#46039f\"],[0.2222222222222222,\"#7201a8\"],[0.3333333333333333,\"#9c179e\"],[0.4444444444444444,\"#bd3786\"],[0.5555555555555556,\"#d8576b\"],[0.6666666666666666,\"#ed7953\"],[0.7777777777777778,\"#fb9f3a\"],[0.8888888888888888,\"#fdca26\"],[1.0,\"#f0f921\"]],\"sequentialminus\":[[0.0,\"#0d0887\"],[0.1111111111111111,\"#46039f\"],[0.2222222222222222,\"#7201a8\"],[0.3333333333333333,\"#9c179e\"],[0.4444444444444444,\"#bd3786\"],[0.5555555555555556,\"#d8576b\"],[0.6666666666666666,\"#ed7953\"],[0.7777777777777778,\"#fb9f3a\"],[0.8888888888888888,\"#fdca26\"],[1.0,\"#f0f921\"]]},\"colorway\":[\"#636efa\",\"#EF553B\",\"#00cc96\",\"#ab63fa\",\"#FFA15A\",\"#19d3f3\",\"#FF6692\",\"#B6E880\",\"#FF97FF\",\"#FECB52\"],\"font\":{\"color\":\"#2a3f5f\"},\"geo\":{\"bgcolor\":\"white\",\"lakecolor\":\"white\",\"landcolor\":\"#E5ECF6\",\"showlakes\":true,\"showland\":true,\"subunitcolor\":\"white\"},\"hoverlabel\":{\"align\":\"left\"},\"hovermode\":\"closest\",\"mapbox\":{\"style\":\"light\"},\"paper_bgcolor\":\"white\",\"plot_bgcolor\":\"#E5ECF6\",\"polar\":{\"angularaxis\":{\"gridcolor\":\"white\",\"linecolor\":\"white\",\"ticks\":\"\"},\"bgcolor\":\"#E5ECF6\",\"radialaxis\":{\"gridcolor\":\"white\",\"linecolor\":\"white\",\"ticks\":\"\"}},\"scene\":{\"xaxis\":{\"backgroundcolor\":\"#E5ECF6\",\"gridcolor\":\"white\",\"gridwidth\":2,\"linecolor\":\"white\",\"showbackground\":true,\"ticks\":\"\",\"zerolinecolor\":\"white\"},\"yaxis\":{\"backgroundcolor\":\"#E5ECF6\",\"gridcolor\":\"white\",\"gridwidth\":2,\"linecolor\":\"white\",\"showbackground\":true,\"ticks\":\"\",\"zerolinecolor\":\"white\"},\"zaxis\":{\"backgroundcolor\":\"#E5ECF6\",\"gridcolor\":\"white\",\"gridwidth\":2,\"linecolor\":\"white\",\"showbackground\":true,\"ticks\":\"\",\"zerolinecolor\":\"white\"}},\"shapedefaults\":{\"line\":{\"color\":\"#2a3f5f\"}},\"ternary\":{\"aaxis\":{\"gridcolor\":\"white\",\"linecolor\":\"white\",\"ticks\":\"\"},\"baxis\":{\"gridcolor\":\"white\",\"linecolor\":\"white\",\"ticks\":\"\"},\"bgcolor\":\"#E5ECF6\",\"caxis\":{\"gridcolor\":\"white\",\"linecolor\":\"white\",\"ticks\":\"\"}},\"title\":{\"x\":0.05},\"xaxis\":{\"automargin\":true,\"gridcolor\":\"white\",\"linecolor\":\"white\",\"ticks\":\"\",\"title\":{\"standoff\":15},\"zerolinecolor\":\"white\",\"zerolinewidth\":2},\"yaxis\":{\"automargin\":true,\"gridcolor\":\"white\",\"linecolor\":\"white\",\"ticks\":\"\",\"title\":{\"standoff\":15},\"zerolinecolor\":\"white\",\"zerolinewidth\":2}}},\"title\":{\"font\":{\"color\":\"#4D5663\"}},\"xaxis\":{\"gridcolor\":\"#E1E5ED\",\"showgrid\":true,\"tickfont\":{\"color\":\"#4D5663\"},\"title\":{\"font\":{\"color\":\"#4D5663\"},\"text\":\"\"},\"zerolinecolor\":\"#E1E5ED\"},\"yaxis\":{\"gridcolor\":\"#E1E5ED\",\"showgrid\":true,\"tickfont\":{\"color\":\"#4D5663\"},\"title\":{\"font\":{\"color\":\"#4D5663\"},\"text\":\"\"},\"zerolinecolor\":\"#E1E5ED\"}},                        {\"showLink\": true, \"linkText\": \"Export to plot.ly\", \"plotlyServerURL\": \"https://plot.ly\", \"responsive\": true}                    ).then(function(){\n",
       "                            \n",
       "var gd = document.getElementById('de14c242-c324-44ba-99e7-99609165b03b');\n",
       "var x = new MutationObserver(function (mutations, observer) {{\n",
       "        var display = window.getComputedStyle(gd).display;\n",
       "        if (!display || display === 'none') {{\n",
       "            console.log([gd, 'removed!']);\n",
       "            Plotly.purge(gd);\n",
       "            observer.disconnect();\n",
       "        }}\n",
       "}});\n",
       "\n",
       "// Listen for the removal of the full notebook cells\n",
       "var notebookContainer = gd.closest('#notebook-container');\n",
       "if (notebookContainer) {{\n",
       "    x.observe(notebookContainer, {childList: true});\n",
       "}}\n",
       "\n",
       "// Listen for the clearing of the current output cell\n",
       "var outputEl = gd.closest('.output');\n",
       "if (outputEl) {{\n",
       "    x.observe(outputEl, {childList: true});\n",
       "}}\n",
       "\n",
       "                        })                };                });            </script>        </div>"
      ],
      "application/vnd.plotly.v1+json": {
       "config": {
        "linkText": "Export to plot.ly",
        "plotlyServerURL": "https://plot.ly",
        "showLink": true
       },
       "data": [
        {
         "boxpoints": false,
         "line": {
          "width": 1.3
         },
         "marker": {
          "color": "rgba(255, 153, 51, 1.0)"
         },
         "name": "A",
         "orientation": "v",
         "type": "box",
         "y": [
          1.2976308828245577,
          0.02891563246579733,
          0.6488033830640866,
          -0.6518967120779291,
          0.6103043670864998,
          -0.9802372938491501,
          -0.07589310574178512,
          -2.157880119655764,
          0.868733577307398,
          -0.9351261375377906,
          -0.055140764914955565,
          -0.28589654616041965,
          0.5289452063496645,
          0.2781921010010714,
          0.16374723355678183,
          -0.39239282708924167,
          0.8934440501370563,
          0.40827977634283436,
          -0.6959647939739411,
          -1.1815300420355552,
          1.1163964121590395,
          0.3065108458385955,
          -2.0341160588793805,
          1.2298468146505241,
          0.05746358452739269,
          -1.9000194599015916,
          0.1415749888678313,
          -1.2239433218446887,
          1.201220006696403,
          1.428560258537245,
          -1.140941921397734,
          0.5353234970155184,
          1.0940387658031,
          0.22424057672913128,
          -0.8824973957848675,
          -1.8185038357772296,
          0.7229169486376175,
          0.9124963031268156,
          0.11107936758643822,
          -0.08086602502924477,
          1.2099660155692962,
          1.8518300739265623,
          -0.12137650834889625,
          -0.4858190401877175,
          1.3395698942139476,
          -0.17521586297401584,
          -1.373835557744931,
          -0.1897204092619399,
          0.19203332056959913,
          -0.18036257996181526,
          -0.15620054902084546,
          -2.84142252943806,
          -0.4349542942415666,
          0.22380447679552914,
          1.0785492355179809,
          -0.32649171717218634,
          0.08433694066275796,
          -0.13755292295945926,
          -0.43063226950394184,
          0.17155096628062336,
          -1.6044580181981711,
          0.05717561589713138,
          -0.06195786489501751,
          0.6380612124143483,
          0.6194226191395767,
          -0.7093593036394797,
          -0.2941371278104831,
          0.5636335693906555,
          0.17585797078580842,
          1.8454840837179403,
          -0.3635563229777336,
          -0.5476291459186988,
          0.6971996263353732,
          -0.10273204605952994,
          1.4857175198711914,
          -0.9602307332292892,
          0.5908545524036684,
          0.4127672484937881,
          -0.5266758464083148,
          -1.2170831072505595,
          1.9285580051166684,
          2.233682040310963,
          1.333969398397583,
          0.423248589364245,
          0.22258221659675845,
          -0.4043164692696297,
          0.6594803798259496,
          -2.285942806656985,
          1.0281945074225356,
          -1.037158988731567,
          -0.5828485188740444,
          -0.313430618132578,
          -1.3874377073665272,
          0.4099640243163893,
          0.24071529001761394,
          -0.12017792683193004,
          -0.9686450621979947,
          -0.03808213244543389,
          1.8023761654438561,
          -1.4301276228609552
         ]
        },
        {
         "boxpoints": false,
         "line": {
          "width": 1.3
         },
         "marker": {
          "color": "rgba(55, 128, 191, 1.0)"
         },
         "name": "B",
         "orientation": "v",
         "type": "box",
         "y": [
          0.18926451945427628,
          0.16292694381339004,
          -0.566306058548627,
          -1.1871484670475736,
          -0.02625193941071388,
          0.6041199267212912,
          1.3741250423719473,
          -0.5088108537866691,
          0.19976539698307638,
          -1.395275921233364,
          -0.015878490774350308,
          0.8084804721162855,
          0.8034225968778593,
          -0.5168699421006512,
          -1.3796295609476623,
          -1.6941356174092017,
          -1.379959709057697,
          -0.11505112421545904,
          0.32984150289779074,
          -0.42834411191121147,
          1.2375552243795376,
          -0.5575710577973884,
          -0.1894786355299986,
          -0.23813580837486759,
          -0.45984534641133945,
          0.48937688393162654,
          0.576026131836969,
          -1.1993910275679727,
          0.15484795454435643,
          0.33950144682406125,
          0.31619953849918614,
          -0.8920510043930835,
          1.6552070877637908,
          1.0730130982097303,
          -0.09015798247656187,
          -1.0602573544408647,
          -0.5505686869004346,
          1.5327284332177737,
          -1.306471900965645,
          -0.3272434299662886,
          -0.4801211887802263,
          0.9169019760490729,
          -0.017979999266407094,
          -0.9511968823264166,
          -0.9627252363016441,
          -1.4628433017052838,
          -1.1821952702688425,
          -0.28148377358404764,
          -1.4044798089957289,
          0.062379443493298006,
          -1.261667708946712,
          2.0321741626905028,
          0.8208188001977202,
          1.5780470590866502,
          -1.5595133106751289,
          -0.5258041321901501,
          0.6970768226811306,
          -0.005408959849332933,
          0.0732974621650809,
          0.6935240608309962,
          0.345194496782059,
          -0.18429690989527864,
          0.22160274975209152,
          -0.4854806124075751,
          0.47488816725628835,
          -0.14852084415920547,
          0.8318360611705212,
          0.29468055995909737,
          -1.2880347602192437,
          0.35609655787191175,
          -0.22330297178159317,
          0.16497518724931692,
          0.2485388337776046,
          -0.7649918753979197,
          0.9026354406871174,
          -1.596064739107909,
          -0.6072502963690356,
          -0.7296920363391135,
          -0.7093956570250376,
          -0.9822586622490749,
          1.9182674900103864,
          -0.01898318330479451,
          -0.7695364688337993,
          0.9775997347713666,
          -0.5403883962773787,
          -0.0631483844680669,
          1.087217742194578,
          0.2926164774469953,
          -0.07524332323153042,
          0.5876958428402382,
          0.351391326724226,
          -1.0655695235292197,
          1.7359381836204664,
          -0.5167044830170687,
          -1.3410359409673123,
          -0.9910637169828151,
          -1.6014081994632958,
          -0.35636157582061334,
          -1.6790495903477574,
          -0.9810464442857267
         ]
        },
        {
         "boxpoints": false,
         "line": {
          "width": 1.3
         },
         "marker": {
          "color": "rgba(50, 171, 96, 1.0)"
         },
         "name": "C",
         "orientation": "v",
         "type": "box",
         "y": [
          -1.1719714818817535,
          0.2332138753592973,
          -0.4546800061881979,
          1.3516237536173374,
          0.17179961485515238,
          1.0517724751027668,
          -0.7823463516887971,
          1.8074585106465186,
          1.3123352560032089,
          -1.820830963211993,
          3.4655352474152594,
          -1.6644082485933236,
          0.3327524789592473,
          0.7728081592370689,
          1.0106861388792414,
          -0.1360068676174408,
          1.067275308490196,
          1.7498323035351442,
          -0.42210531383943345,
          0.08274856032387486,
          1.3351535410116988,
          0.2898933488848551,
          0.4442997674702476,
          -1.0566350492449932,
          -1.1770610406741882,
          1.059136089759076,
          0.6358669397925498,
          -0.9873866966962658,
          -1.1928109033344136,
          0.2365081379323982,
          1.4119765789231435,
          -0.012412826944206104,
          -1.8181097862164766,
          2.1853022769975317,
          -0.14097762123253854,
          1.5150408956982442,
          0.8114345148559331,
          -1.026942869137855,
          0.8685950616036636,
          1.3873827877411171,
          0.2811520389861795,
          -2.2353418800786966,
          -0.3367239783801947,
          1.318690702877346,
          -0.13330465622915116,
          -1.614613802275598,
          -0.22014132742275344,
          -0.8563517414295124,
          -0.5763091648572842,
          -0.47336546528140866,
          0.1403426518366949,
          -1.1387953070329018,
          -0.19268812707847527,
          -1.1581771054106418,
          -0.19340924136897628,
          -0.14908746718245883,
          -1.3941423793138157,
          -1.2835470024222988,
          0.44031813337107395,
          -0.1356788494555008,
          -0.9840572679707422,
          0.8078129574771282,
          0.4267425553937342,
          -0.959346901827908,
          0.5938419248520675,
          1.0875161323394007,
          0.2510932564313161,
          0.24262070160603114,
          0.01778087882946292,
          1.6342184020158732,
          -0.23194589286996642,
          -0.39029141370906273,
          0.11551194440826097,
          0.5103878413697021,
          -0.8064734182549084,
          0.1402951495555622,
          0.3674712646729114,
          0.9584316439675348,
          1.8298277284273394,
          0.8920236547226964,
          -0.5212968676245798,
          -0.17238935097536456,
          0.8471726224699624,
          0.7617060079728852,
          -1.1911720287513288,
          -0.7448002940723181,
          0.24501002154222226,
          0.4226797203167203,
          -0.6777182689776893,
          0.3250244309256672,
          -0.06129106814175234,
          -0.5074724286972169,
          0.5685119579659011,
          1.9455820824933674,
          0.7062092630505239,
          -1.910879622003017,
          -0.23421828012397325,
          -0.03394700754584208,
          0.17577755569065942,
          -1.3676435491484122
         ]
        },
        {
         "boxpoints": false,
         "line": {
          "width": 1.3
         },
         "marker": {
          "color": "rgba(128, 0, 128, 1.0)"
         },
         "name": "D",
         "orientation": "v",
         "type": "box",
         "y": [
          -0.12704856923915245,
          1.6938046160785538,
          0.5756190997868936,
          -0.17999592839220205,
          -0.00009163211638458499,
          1.4695089350289379,
          1.3548652763865952,
          -0.33235526694293527,
          -0.3822486177289395,
          -1.134475698013416,
          1.3847527542080538,
          -1.9991532972345138,
          1.9097487987135684,
          -1.1307328630005613,
          0.08202699286545966,
          -0.9261434359695201,
          -0.6432838379331188,
          0.30315341023978976,
          0.8716668324641216,
          1.001160525439211,
          -0.6200617114477807,
          0.5545756856829747,
          1.5269794887667125,
          0.2722912521021846,
          -1.3302386550206888,
          1.0820281408695263,
          0.4820220647486462,
          -0.026583117944890256,
          0.254307087002118,
          -0.23257206899068456,
          -0.6668408624159107,
          -1.3918058493032925,
          -0.9093808020672761,
          -0.8213125209510255,
          0.12617360302476713,
          1.1818422521706744,
          -2.1154345140812394,
          0.8289698795252698,
          -0.20329141711730483,
          1.1382443889578078,
          1.8069275473195896,
          -1.1912219328811458,
          -1.146680326335038,
          0.8328404693469593,
          0.5535333687685877,
          -1.6104707362516677,
          -0.4217307628110528,
          -0.8759338204297533,
          -2.0819318917445275,
          1.258434233114991,
          0.5176493763367291,
          0.24858411888945894,
          -1.289762415904675,
          -0.27923756675258127,
          1.0331102503945448,
          -0.7025549276141846,
          0.49671821491264867,
          -0.7124415305662497,
          -0.40816128697898746,
          0.5887113190152763,
          0.8052943692046769,
          0.04143367083255379,
          0.5315060348183375,
          0.8521759240730672,
          -0.11357150430083014,
          -0.5355160068590631,
          0.7262464673901955,
          0.4368507358817294,
          -0.5469509790576146,
          1.225346278034147,
          0.4716273182166465,
          -0.21321894212852888,
          -0.6651560509999196,
          0.8062087509024685,
          0.316387993098053,
          0.13662280110006966,
          -0.08136504655299272,
          0.35380080641358747,
          -1.1975953034380349,
          0.28675545644337425,
          -1.2907460928812213,
          -0.8220971385953828,
          1.1511920612407398,
          -0.6530289657038366,
          0.46763936539994966,
          1.5723356025836042,
          0.8537628199681853,
          -0.4427620032609995,
          -0.057184951567829934,
          -0.37879073207614317,
          0.3325060200718353,
          1.7535425767195376,
          -0.6266540549540228,
          -0.38014845782194295,
          -1.1657560542518957,
          1.3333117436860387,
          0.25983277624047507,
          -0.04858360050128592,
          -1.1525950412400925,
          0.9390252529338794
         ]
        }
       ],
       "layout": {
        "legend": {
         "bgcolor": "#F5F6F9",
         "font": {
          "color": "#4D5663"
         }
        },
        "paper_bgcolor": "#F5F6F9",
        "plot_bgcolor": "#F5F6F9",
        "template": {
         "data": {
          "bar": [
           {
            "error_x": {
             "color": "#2a3f5f"
            },
            "error_y": {
             "color": "#2a3f5f"
            },
            "marker": {
             "line": {
              "color": "#E5ECF6",
              "width": 0.5
             },
             "pattern": {
              "fillmode": "overlay",
              "size": 10,
              "solidity": 0.2
             }
            },
            "type": "bar"
           }
          ],
          "barpolar": [
           {
            "marker": {
             "line": {
              "color": "#E5ECF6",
              "width": 0.5
             },
             "pattern": {
              "fillmode": "overlay",
              "size": 10,
              "solidity": 0.2
             }
            },
            "type": "barpolar"
           }
          ],
          "carpet": [
           {
            "aaxis": {
             "endlinecolor": "#2a3f5f",
             "gridcolor": "white",
             "linecolor": "white",
             "minorgridcolor": "white",
             "startlinecolor": "#2a3f5f"
            },
            "baxis": {
             "endlinecolor": "#2a3f5f",
             "gridcolor": "white",
             "linecolor": "white",
             "minorgridcolor": "white",
             "startlinecolor": "#2a3f5f"
            },
            "type": "carpet"
           }
          ],
          "choropleth": [
           {
            "colorbar": {
             "outlinewidth": 0,
             "ticks": ""
            },
            "type": "choropleth"
           }
          ],
          "contour": [
           {
            "colorbar": {
             "outlinewidth": 0,
             "ticks": ""
            },
            "colorscale": [
             [
              0,
              "#0d0887"
             ],
             [
              0.1111111111111111,
              "#46039f"
             ],
             [
              0.2222222222222222,
              "#7201a8"
             ],
             [
              0.3333333333333333,
              "#9c179e"
             ],
             [
              0.4444444444444444,
              "#bd3786"
             ],
             [
              0.5555555555555556,
              "#d8576b"
             ],
             [
              0.6666666666666666,
              "#ed7953"
             ],
             [
              0.7777777777777778,
              "#fb9f3a"
             ],
             [
              0.8888888888888888,
              "#fdca26"
             ],
             [
              1,
              "#f0f921"
             ]
            ],
            "type": "contour"
           }
          ],
          "contourcarpet": [
           {
            "colorbar": {
             "outlinewidth": 0,
             "ticks": ""
            },
            "type": "contourcarpet"
           }
          ],
          "heatmap": [
           {
            "colorbar": {
             "outlinewidth": 0,
             "ticks": ""
            },
            "colorscale": [
             [
              0,
              "#0d0887"
             ],
             [
              0.1111111111111111,
              "#46039f"
             ],
             [
              0.2222222222222222,
              "#7201a8"
             ],
             [
              0.3333333333333333,
              "#9c179e"
             ],
             [
              0.4444444444444444,
              "#bd3786"
             ],
             [
              0.5555555555555556,
              "#d8576b"
             ],
             [
              0.6666666666666666,
              "#ed7953"
             ],
             [
              0.7777777777777778,
              "#fb9f3a"
             ],
             [
              0.8888888888888888,
              "#fdca26"
             ],
             [
              1,
              "#f0f921"
             ]
            ],
            "type": "heatmap"
           }
          ],
          "heatmapgl": [
           {
            "colorbar": {
             "outlinewidth": 0,
             "ticks": ""
            },
            "colorscale": [
             [
              0,
              "#0d0887"
             ],
             [
              0.1111111111111111,
              "#46039f"
             ],
             [
              0.2222222222222222,
              "#7201a8"
             ],
             [
              0.3333333333333333,
              "#9c179e"
             ],
             [
              0.4444444444444444,
              "#bd3786"
             ],
             [
              0.5555555555555556,
              "#d8576b"
             ],
             [
              0.6666666666666666,
              "#ed7953"
             ],
             [
              0.7777777777777778,
              "#fb9f3a"
             ],
             [
              0.8888888888888888,
              "#fdca26"
             ],
             [
              1,
              "#f0f921"
             ]
            ],
            "type": "heatmapgl"
           }
          ],
          "histogram": [
           {
            "marker": {
             "pattern": {
              "fillmode": "overlay",
              "size": 10,
              "solidity": 0.2
             }
            },
            "type": "histogram"
           }
          ],
          "histogram2d": [
           {
            "colorbar": {
             "outlinewidth": 0,
             "ticks": ""
            },
            "colorscale": [
             [
              0,
              "#0d0887"
             ],
             [
              0.1111111111111111,
              "#46039f"
             ],
             [
              0.2222222222222222,
              "#7201a8"
             ],
             [
              0.3333333333333333,
              "#9c179e"
             ],
             [
              0.4444444444444444,
              "#bd3786"
             ],
             [
              0.5555555555555556,
              "#d8576b"
             ],
             [
              0.6666666666666666,
              "#ed7953"
             ],
             [
              0.7777777777777778,
              "#fb9f3a"
             ],
             [
              0.8888888888888888,
              "#fdca26"
             ],
             [
              1,
              "#f0f921"
             ]
            ],
            "type": "histogram2d"
           }
          ],
          "histogram2dcontour": [
           {
            "colorbar": {
             "outlinewidth": 0,
             "ticks": ""
            },
            "colorscale": [
             [
              0,
              "#0d0887"
             ],
             [
              0.1111111111111111,
              "#46039f"
             ],
             [
              0.2222222222222222,
              "#7201a8"
             ],
             [
              0.3333333333333333,
              "#9c179e"
             ],
             [
              0.4444444444444444,
              "#bd3786"
             ],
             [
              0.5555555555555556,
              "#d8576b"
             ],
             [
              0.6666666666666666,
              "#ed7953"
             ],
             [
              0.7777777777777778,
              "#fb9f3a"
             ],
             [
              0.8888888888888888,
              "#fdca26"
             ],
             [
              1,
              "#f0f921"
             ]
            ],
            "type": "histogram2dcontour"
           }
          ],
          "mesh3d": [
           {
            "colorbar": {
             "outlinewidth": 0,
             "ticks": ""
            },
            "type": "mesh3d"
           }
          ],
          "parcoords": [
           {
            "line": {
             "colorbar": {
              "outlinewidth": 0,
              "ticks": ""
             }
            },
            "type": "parcoords"
           }
          ],
          "pie": [
           {
            "automargin": true,
            "type": "pie"
           }
          ],
          "scatter": [
           {
            "marker": {
             "colorbar": {
              "outlinewidth": 0,
              "ticks": ""
             }
            },
            "type": "scatter"
           }
          ],
          "scatter3d": [
           {
            "line": {
             "colorbar": {
              "outlinewidth": 0,
              "ticks": ""
             }
            },
            "marker": {
             "colorbar": {
              "outlinewidth": 0,
              "ticks": ""
             }
            },
            "type": "scatter3d"
           }
          ],
          "scattercarpet": [
           {
            "marker": {
             "colorbar": {
              "outlinewidth": 0,
              "ticks": ""
             }
            },
            "type": "scattercarpet"
           }
          ],
          "scattergeo": [
           {
            "marker": {
             "colorbar": {
              "outlinewidth": 0,
              "ticks": ""
             }
            },
            "type": "scattergeo"
           }
          ],
          "scattergl": [
           {
            "marker": {
             "colorbar": {
              "outlinewidth": 0,
              "ticks": ""
             }
            },
            "type": "scattergl"
           }
          ],
          "scattermapbox": [
           {
            "marker": {
             "colorbar": {
              "outlinewidth": 0,
              "ticks": ""
             }
            },
            "type": "scattermapbox"
           }
          ],
          "scatterpolar": [
           {
            "marker": {
             "colorbar": {
              "outlinewidth": 0,
              "ticks": ""
             }
            },
            "type": "scatterpolar"
           }
          ],
          "scatterpolargl": [
           {
            "marker": {
             "colorbar": {
              "outlinewidth": 0,
              "ticks": ""
             }
            },
            "type": "scatterpolargl"
           }
          ],
          "scatterternary": [
           {
            "marker": {
             "colorbar": {
              "outlinewidth": 0,
              "ticks": ""
             }
            },
            "type": "scatterternary"
           }
          ],
          "surface": [
           {
            "colorbar": {
             "outlinewidth": 0,
             "ticks": ""
            },
            "colorscale": [
             [
              0,
              "#0d0887"
             ],
             [
              0.1111111111111111,
              "#46039f"
             ],
             [
              0.2222222222222222,
              "#7201a8"
             ],
             [
              0.3333333333333333,
              "#9c179e"
             ],
             [
              0.4444444444444444,
              "#bd3786"
             ],
             [
              0.5555555555555556,
              "#d8576b"
             ],
             [
              0.6666666666666666,
              "#ed7953"
             ],
             [
              0.7777777777777778,
              "#fb9f3a"
             ],
             [
              0.8888888888888888,
              "#fdca26"
             ],
             [
              1,
              "#f0f921"
             ]
            ],
            "type": "surface"
           }
          ],
          "table": [
           {
            "cells": {
             "fill": {
              "color": "#EBF0F8"
             },
             "line": {
              "color": "white"
             }
            },
            "header": {
             "fill": {
              "color": "#C8D4E3"
             },
             "line": {
              "color": "white"
             }
            },
            "type": "table"
           }
          ]
         },
         "layout": {
          "annotationdefaults": {
           "arrowcolor": "#2a3f5f",
           "arrowhead": 0,
           "arrowwidth": 1
          },
          "autotypenumbers": "strict",
          "coloraxis": {
           "colorbar": {
            "outlinewidth": 0,
            "ticks": ""
           }
          },
          "colorscale": {
           "diverging": [
            [
             0,
             "#8e0152"
            ],
            [
             0.1,
             "#c51b7d"
            ],
            [
             0.2,
             "#de77ae"
            ],
            [
             0.3,
             "#f1b6da"
            ],
            [
             0.4,
             "#fde0ef"
            ],
            [
             0.5,
             "#f7f7f7"
            ],
            [
             0.6,
             "#e6f5d0"
            ],
            [
             0.7,
             "#b8e186"
            ],
            [
             0.8,
             "#7fbc41"
            ],
            [
             0.9,
             "#4d9221"
            ],
            [
             1,
             "#276419"
            ]
           ],
           "sequential": [
            [
             0,
             "#0d0887"
            ],
            [
             0.1111111111111111,
             "#46039f"
            ],
            [
             0.2222222222222222,
             "#7201a8"
            ],
            [
             0.3333333333333333,
             "#9c179e"
            ],
            [
             0.4444444444444444,
             "#bd3786"
            ],
            [
             0.5555555555555556,
             "#d8576b"
            ],
            [
             0.6666666666666666,
             "#ed7953"
            ],
            [
             0.7777777777777778,
             "#fb9f3a"
            ],
            [
             0.8888888888888888,
             "#fdca26"
            ],
            [
             1,
             "#f0f921"
            ]
           ],
           "sequentialminus": [
            [
             0,
             "#0d0887"
            ],
            [
             0.1111111111111111,
             "#46039f"
            ],
            [
             0.2222222222222222,
             "#7201a8"
            ],
            [
             0.3333333333333333,
             "#9c179e"
            ],
            [
             0.4444444444444444,
             "#bd3786"
            ],
            [
             0.5555555555555556,
             "#d8576b"
            ],
            [
             0.6666666666666666,
             "#ed7953"
            ],
            [
             0.7777777777777778,
             "#fb9f3a"
            ],
            [
             0.8888888888888888,
             "#fdca26"
            ],
            [
             1,
             "#f0f921"
            ]
           ]
          },
          "colorway": [
           "#636efa",
           "#EF553B",
           "#00cc96",
           "#ab63fa",
           "#FFA15A",
           "#19d3f3",
           "#FF6692",
           "#B6E880",
           "#FF97FF",
           "#FECB52"
          ],
          "font": {
           "color": "#2a3f5f"
          },
          "geo": {
           "bgcolor": "white",
           "lakecolor": "white",
           "landcolor": "#E5ECF6",
           "showlakes": true,
           "showland": true,
           "subunitcolor": "white"
          },
          "hoverlabel": {
           "align": "left"
          },
          "hovermode": "closest",
          "mapbox": {
           "style": "light"
          },
          "paper_bgcolor": "white",
          "plot_bgcolor": "#E5ECF6",
          "polar": {
           "angularaxis": {
            "gridcolor": "white",
            "linecolor": "white",
            "ticks": ""
           },
           "bgcolor": "#E5ECF6",
           "radialaxis": {
            "gridcolor": "white",
            "linecolor": "white",
            "ticks": ""
           }
          },
          "scene": {
           "xaxis": {
            "backgroundcolor": "#E5ECF6",
            "gridcolor": "white",
            "gridwidth": 2,
            "linecolor": "white",
            "showbackground": true,
            "ticks": "",
            "zerolinecolor": "white"
           },
           "yaxis": {
            "backgroundcolor": "#E5ECF6",
            "gridcolor": "white",
            "gridwidth": 2,
            "linecolor": "white",
            "showbackground": true,
            "ticks": "",
            "zerolinecolor": "white"
           },
           "zaxis": {
            "backgroundcolor": "#E5ECF6",
            "gridcolor": "white",
            "gridwidth": 2,
            "linecolor": "white",
            "showbackground": true,
            "ticks": "",
            "zerolinecolor": "white"
           }
          },
          "shapedefaults": {
           "line": {
            "color": "#2a3f5f"
           }
          },
          "ternary": {
           "aaxis": {
            "gridcolor": "white",
            "linecolor": "white",
            "ticks": ""
           },
           "baxis": {
            "gridcolor": "white",
            "linecolor": "white",
            "ticks": ""
           },
           "bgcolor": "#E5ECF6",
           "caxis": {
            "gridcolor": "white",
            "linecolor": "white",
            "ticks": ""
           }
          },
          "title": {
           "x": 0.05
          },
          "xaxis": {
           "automargin": true,
           "gridcolor": "white",
           "linecolor": "white",
           "ticks": "",
           "title": {
            "standoff": 15
           },
           "zerolinecolor": "white",
           "zerolinewidth": 2
          },
          "yaxis": {
           "automargin": true,
           "gridcolor": "white",
           "linecolor": "white",
           "ticks": "",
           "title": {
            "standoff": 15
           },
           "zerolinecolor": "white",
           "zerolinewidth": 2
          }
         }
        },
        "title": {
         "font": {
          "color": "#4D5663"
         }
        },
        "xaxis": {
         "gridcolor": "#E1E5ED",
         "showgrid": true,
         "tickfont": {
          "color": "#4D5663"
         },
         "title": {
          "font": {
           "color": "#4D5663"
          },
          "text": ""
         },
         "zerolinecolor": "#E1E5ED"
        },
        "yaxis": {
         "gridcolor": "#E1E5ED",
         "showgrid": true,
         "tickfont": {
          "color": "#4D5663"
         },
         "title": {
          "font": {
           "color": "#4D5663"
          },
          "text": ""
         },
         "zerolinecolor": "#E1E5ED"
        }
       }
      }
     },
     "metadata": {}
    }
   ],
   "metadata": {}
  },
  {
   "cell_type": "markdown",
   "source": [],
   "metadata": {}
  },
  {
   "cell_type": "markdown",
   "source": [
    "## `3D plots`"
   ],
   "metadata": {}
  },
  {
   "cell_type": "code",
   "execution_count": 54,
   "source": [
    "df3 = pd.DataFrame({'x': [1,2,3,4,5], 'y':[10,20,30,20,10], 'z':[5,4,3,2,1]})"
   ],
   "outputs": [],
   "metadata": {}
  },
  {
   "cell_type": "code",
   "execution_count": 55,
   "source": [
    "df3"
   ],
   "outputs": [
    {
     "output_type": "execute_result",
     "data": {
      "text/plain": [
       "   x   y  z\n",
       "0  1  10  5\n",
       "1  2  20  4\n",
       "2  3  30  3\n",
       "3  4  20  2\n",
       "4  5  10  1"
      ],
      "text/html": [
       "<div>\n",
       "<style scoped>\n",
       "    .dataframe tbody tr th:only-of-type {\n",
       "        vertical-align: middle;\n",
       "    }\n",
       "\n",
       "    .dataframe tbody tr th {\n",
       "        vertical-align: top;\n",
       "    }\n",
       "\n",
       "    .dataframe thead th {\n",
       "        text-align: right;\n",
       "    }\n",
       "</style>\n",
       "<table border=\"1\" class=\"dataframe\">\n",
       "  <thead>\n",
       "    <tr style=\"text-align: right;\">\n",
       "      <th></th>\n",
       "      <th>x</th>\n",
       "      <th>y</th>\n",
       "      <th>z</th>\n",
       "    </tr>\n",
       "  </thead>\n",
       "  <tbody>\n",
       "    <tr>\n",
       "      <th>0</th>\n",
       "      <td>1</td>\n",
       "      <td>10</td>\n",
       "      <td>5</td>\n",
       "    </tr>\n",
       "    <tr>\n",
       "      <th>1</th>\n",
       "      <td>2</td>\n",
       "      <td>20</td>\n",
       "      <td>4</td>\n",
       "    </tr>\n",
       "    <tr>\n",
       "      <th>2</th>\n",
       "      <td>3</td>\n",
       "      <td>30</td>\n",
       "      <td>3</td>\n",
       "    </tr>\n",
       "    <tr>\n",
       "      <th>3</th>\n",
       "      <td>4</td>\n",
       "      <td>20</td>\n",
       "      <td>2</td>\n",
       "    </tr>\n",
       "    <tr>\n",
       "      <th>4</th>\n",
       "      <td>5</td>\n",
       "      <td>10</td>\n",
       "      <td>1</td>\n",
       "    </tr>\n",
       "  </tbody>\n",
       "</table>\n",
       "</div>"
      ]
     },
     "metadata": {},
     "execution_count": 55
    }
   ],
   "metadata": {}
  },
  {
   "cell_type": "code",
   "execution_count": 58,
   "source": [
    "df3.iplot(kind='surface',colorscale='rdylbu')"
   ],
   "outputs": [
    {
     "output_type": "display_data",
     "data": {
      "text/html": [
       "<div>                            <div id=\"c4db8aab-f87f-4abd-8b33-b5d84d281e81\" class=\"plotly-graph-div\" style=\"height:525px; width:100%;\"></div>            <script type=\"text/javascript\">                require([\"plotly\"], function(Plotly) {                    window.PLOTLYENV=window.PLOTLYENV || {};\n",
       "                    window.PLOTLYENV.BASE_URL='https://plot.ly';                                    if (document.getElementById(\"c4db8aab-f87f-4abd-8b33-b5d84d281e81\")) {                    Plotly.newPlot(                        \"c4db8aab-f87f-4abd-8b33-b5d84d281e81\",                        [{\"colorscale\":[[0.0,\"rgb(165,0,38)\"],[0.1,\"rgb(215,48,39)\"],[0.2,\"rgb(244,109,67)\"],[0.3,\"rgb(253,174,97)\"],[0.4,\"rgb(254,224,144)\"],[0.5,\"rgb(255,255,191)\"],[0.6,\"rgb(224,243,248)\"],[0.7,\"rgb(171,217,233)\"],[0.8,\"rgb(116,173,209)\"],[0.9,\"rgb(69,117,180)\"],[1.0,\"rgb(49,54,149)\"]],\"type\":\"surface\",\"x\":[0,1,2,3,4],\"y\":[\"x\",\"y\",\"z\"],\"z\":[[1,2,3,4,5],[10,20,30,20,10],[5,4,3,2,1]]}],                        {\"legend\":{\"bgcolor\":\"#F5F6F9\",\"font\":{\"color\":\"#4D5663\"}},\"paper_bgcolor\":\"#F5F6F9\",\"plot_bgcolor\":\"#F5F6F9\",\"template\":{\"data\":{\"bar\":[{\"error_x\":{\"color\":\"#2a3f5f\"},\"error_y\":{\"color\":\"#2a3f5f\"},\"marker\":{\"line\":{\"color\":\"#E5ECF6\",\"width\":0.5},\"pattern\":{\"fillmode\":\"overlay\",\"size\":10,\"solidity\":0.2}},\"type\":\"bar\"}],\"barpolar\":[{\"marker\":{\"line\":{\"color\":\"#E5ECF6\",\"width\":0.5},\"pattern\":{\"fillmode\":\"overlay\",\"size\":10,\"solidity\":0.2}},\"type\":\"barpolar\"}],\"carpet\":[{\"aaxis\":{\"endlinecolor\":\"#2a3f5f\",\"gridcolor\":\"white\",\"linecolor\":\"white\",\"minorgridcolor\":\"white\",\"startlinecolor\":\"#2a3f5f\"},\"baxis\":{\"endlinecolor\":\"#2a3f5f\",\"gridcolor\":\"white\",\"linecolor\":\"white\",\"minorgridcolor\":\"white\",\"startlinecolor\":\"#2a3f5f\"},\"type\":\"carpet\"}],\"choropleth\":[{\"colorbar\":{\"outlinewidth\":0,\"ticks\":\"\"},\"type\":\"choropleth\"}],\"contour\":[{\"colorbar\":{\"outlinewidth\":0,\"ticks\":\"\"},\"colorscale\":[[0.0,\"#0d0887\"],[0.1111111111111111,\"#46039f\"],[0.2222222222222222,\"#7201a8\"],[0.3333333333333333,\"#9c179e\"],[0.4444444444444444,\"#bd3786\"],[0.5555555555555556,\"#d8576b\"],[0.6666666666666666,\"#ed7953\"],[0.7777777777777778,\"#fb9f3a\"],[0.8888888888888888,\"#fdca26\"],[1.0,\"#f0f921\"]],\"type\":\"contour\"}],\"contourcarpet\":[{\"colorbar\":{\"outlinewidth\":0,\"ticks\":\"\"},\"type\":\"contourcarpet\"}],\"heatmap\":[{\"colorbar\":{\"outlinewidth\":0,\"ticks\":\"\"},\"colorscale\":[[0.0,\"#0d0887\"],[0.1111111111111111,\"#46039f\"],[0.2222222222222222,\"#7201a8\"],[0.3333333333333333,\"#9c179e\"],[0.4444444444444444,\"#bd3786\"],[0.5555555555555556,\"#d8576b\"],[0.6666666666666666,\"#ed7953\"],[0.7777777777777778,\"#fb9f3a\"],[0.8888888888888888,\"#fdca26\"],[1.0,\"#f0f921\"]],\"type\":\"heatmap\"}],\"heatmapgl\":[{\"colorbar\":{\"outlinewidth\":0,\"ticks\":\"\"},\"colorscale\":[[0.0,\"#0d0887\"],[0.1111111111111111,\"#46039f\"],[0.2222222222222222,\"#7201a8\"],[0.3333333333333333,\"#9c179e\"],[0.4444444444444444,\"#bd3786\"],[0.5555555555555556,\"#d8576b\"],[0.6666666666666666,\"#ed7953\"],[0.7777777777777778,\"#fb9f3a\"],[0.8888888888888888,\"#fdca26\"],[1.0,\"#f0f921\"]],\"type\":\"heatmapgl\"}],\"histogram\":[{\"marker\":{\"pattern\":{\"fillmode\":\"overlay\",\"size\":10,\"solidity\":0.2}},\"type\":\"histogram\"}],\"histogram2d\":[{\"colorbar\":{\"outlinewidth\":0,\"ticks\":\"\"},\"colorscale\":[[0.0,\"#0d0887\"],[0.1111111111111111,\"#46039f\"],[0.2222222222222222,\"#7201a8\"],[0.3333333333333333,\"#9c179e\"],[0.4444444444444444,\"#bd3786\"],[0.5555555555555556,\"#d8576b\"],[0.6666666666666666,\"#ed7953\"],[0.7777777777777778,\"#fb9f3a\"],[0.8888888888888888,\"#fdca26\"],[1.0,\"#f0f921\"]],\"type\":\"histogram2d\"}],\"histogram2dcontour\":[{\"colorbar\":{\"outlinewidth\":0,\"ticks\":\"\"},\"colorscale\":[[0.0,\"#0d0887\"],[0.1111111111111111,\"#46039f\"],[0.2222222222222222,\"#7201a8\"],[0.3333333333333333,\"#9c179e\"],[0.4444444444444444,\"#bd3786\"],[0.5555555555555556,\"#d8576b\"],[0.6666666666666666,\"#ed7953\"],[0.7777777777777778,\"#fb9f3a\"],[0.8888888888888888,\"#fdca26\"],[1.0,\"#f0f921\"]],\"type\":\"histogram2dcontour\"}],\"mesh3d\":[{\"colorbar\":{\"outlinewidth\":0,\"ticks\":\"\"},\"type\":\"mesh3d\"}],\"parcoords\":[{\"line\":{\"colorbar\":{\"outlinewidth\":0,\"ticks\":\"\"}},\"type\":\"parcoords\"}],\"pie\":[{\"automargin\":true,\"type\":\"pie\"}],\"scatter\":[{\"marker\":{\"colorbar\":{\"outlinewidth\":0,\"ticks\":\"\"}},\"type\":\"scatter\"}],\"scatter3d\":[{\"line\":{\"colorbar\":{\"outlinewidth\":0,\"ticks\":\"\"}},\"marker\":{\"colorbar\":{\"outlinewidth\":0,\"ticks\":\"\"}},\"type\":\"scatter3d\"}],\"scattercarpet\":[{\"marker\":{\"colorbar\":{\"outlinewidth\":0,\"ticks\":\"\"}},\"type\":\"scattercarpet\"}],\"scattergeo\":[{\"marker\":{\"colorbar\":{\"outlinewidth\":0,\"ticks\":\"\"}},\"type\":\"scattergeo\"}],\"scattergl\":[{\"marker\":{\"colorbar\":{\"outlinewidth\":0,\"ticks\":\"\"}},\"type\":\"scattergl\"}],\"scattermapbox\":[{\"marker\":{\"colorbar\":{\"outlinewidth\":0,\"ticks\":\"\"}},\"type\":\"scattermapbox\"}],\"scatterpolar\":[{\"marker\":{\"colorbar\":{\"outlinewidth\":0,\"ticks\":\"\"}},\"type\":\"scatterpolar\"}],\"scatterpolargl\":[{\"marker\":{\"colorbar\":{\"outlinewidth\":0,\"ticks\":\"\"}},\"type\":\"scatterpolargl\"}],\"scatterternary\":[{\"marker\":{\"colorbar\":{\"outlinewidth\":0,\"ticks\":\"\"}},\"type\":\"scatterternary\"}],\"surface\":[{\"colorbar\":{\"outlinewidth\":0,\"ticks\":\"\"},\"colorscale\":[[0.0,\"#0d0887\"],[0.1111111111111111,\"#46039f\"],[0.2222222222222222,\"#7201a8\"],[0.3333333333333333,\"#9c179e\"],[0.4444444444444444,\"#bd3786\"],[0.5555555555555556,\"#d8576b\"],[0.6666666666666666,\"#ed7953\"],[0.7777777777777778,\"#fb9f3a\"],[0.8888888888888888,\"#fdca26\"],[1.0,\"#f0f921\"]],\"type\":\"surface\"}],\"table\":[{\"cells\":{\"fill\":{\"color\":\"#EBF0F8\"},\"line\":{\"color\":\"white\"}},\"header\":{\"fill\":{\"color\":\"#C8D4E3\"},\"line\":{\"color\":\"white\"}},\"type\":\"table\"}]},\"layout\":{\"annotationdefaults\":{\"arrowcolor\":\"#2a3f5f\",\"arrowhead\":0,\"arrowwidth\":1},\"autotypenumbers\":\"strict\",\"coloraxis\":{\"colorbar\":{\"outlinewidth\":0,\"ticks\":\"\"}},\"colorscale\":{\"diverging\":[[0,\"#8e0152\"],[0.1,\"#c51b7d\"],[0.2,\"#de77ae\"],[0.3,\"#f1b6da\"],[0.4,\"#fde0ef\"],[0.5,\"#f7f7f7\"],[0.6,\"#e6f5d0\"],[0.7,\"#b8e186\"],[0.8,\"#7fbc41\"],[0.9,\"#4d9221\"],[1,\"#276419\"]],\"sequential\":[[0.0,\"#0d0887\"],[0.1111111111111111,\"#46039f\"],[0.2222222222222222,\"#7201a8\"],[0.3333333333333333,\"#9c179e\"],[0.4444444444444444,\"#bd3786\"],[0.5555555555555556,\"#d8576b\"],[0.6666666666666666,\"#ed7953\"],[0.7777777777777778,\"#fb9f3a\"],[0.8888888888888888,\"#fdca26\"],[1.0,\"#f0f921\"]],\"sequentialminus\":[[0.0,\"#0d0887\"],[0.1111111111111111,\"#46039f\"],[0.2222222222222222,\"#7201a8\"],[0.3333333333333333,\"#9c179e\"],[0.4444444444444444,\"#bd3786\"],[0.5555555555555556,\"#d8576b\"],[0.6666666666666666,\"#ed7953\"],[0.7777777777777778,\"#fb9f3a\"],[0.8888888888888888,\"#fdca26\"],[1.0,\"#f0f921\"]]},\"colorway\":[\"#636efa\",\"#EF553B\",\"#00cc96\",\"#ab63fa\",\"#FFA15A\",\"#19d3f3\",\"#FF6692\",\"#B6E880\",\"#FF97FF\",\"#FECB52\"],\"font\":{\"color\":\"#2a3f5f\"},\"geo\":{\"bgcolor\":\"white\",\"lakecolor\":\"white\",\"landcolor\":\"#E5ECF6\",\"showlakes\":true,\"showland\":true,\"subunitcolor\":\"white\"},\"hoverlabel\":{\"align\":\"left\"},\"hovermode\":\"closest\",\"mapbox\":{\"style\":\"light\"},\"paper_bgcolor\":\"white\",\"plot_bgcolor\":\"#E5ECF6\",\"polar\":{\"angularaxis\":{\"gridcolor\":\"white\",\"linecolor\":\"white\",\"ticks\":\"\"},\"bgcolor\":\"#E5ECF6\",\"radialaxis\":{\"gridcolor\":\"white\",\"linecolor\":\"white\",\"ticks\":\"\"}},\"scene\":{\"xaxis\":{\"backgroundcolor\":\"#E5ECF6\",\"gridcolor\":\"white\",\"gridwidth\":2,\"linecolor\":\"white\",\"showbackground\":true,\"ticks\":\"\",\"zerolinecolor\":\"white\"},\"yaxis\":{\"backgroundcolor\":\"#E5ECF6\",\"gridcolor\":\"white\",\"gridwidth\":2,\"linecolor\":\"white\",\"showbackground\":true,\"ticks\":\"\",\"zerolinecolor\":\"white\"},\"zaxis\":{\"backgroundcolor\":\"#E5ECF6\",\"gridcolor\":\"white\",\"gridwidth\":2,\"linecolor\":\"white\",\"showbackground\":true,\"ticks\":\"\",\"zerolinecolor\":\"white\"}},\"shapedefaults\":{\"line\":{\"color\":\"#2a3f5f\"}},\"ternary\":{\"aaxis\":{\"gridcolor\":\"white\",\"linecolor\":\"white\",\"ticks\":\"\"},\"baxis\":{\"gridcolor\":\"white\",\"linecolor\":\"white\",\"ticks\":\"\"},\"bgcolor\":\"#E5ECF6\",\"caxis\":{\"gridcolor\":\"white\",\"linecolor\":\"white\",\"ticks\":\"\"}},\"title\":{\"x\":0.05},\"xaxis\":{\"automargin\":true,\"gridcolor\":\"white\",\"linecolor\":\"white\",\"ticks\":\"\",\"title\":{\"standoff\":15},\"zerolinecolor\":\"white\",\"zerolinewidth\":2},\"yaxis\":{\"automargin\":true,\"gridcolor\":\"white\",\"linecolor\":\"white\",\"ticks\":\"\",\"title\":{\"standoff\":15},\"zerolinecolor\":\"white\",\"zerolinewidth\":2}}},\"title\":{\"font\":{\"color\":\"#4D5663\"}},\"xaxis\":{\"gridcolor\":\"#E1E5ED\",\"showgrid\":true,\"tickfont\":{\"color\":\"#4D5663\"},\"title\":{\"font\":{\"color\":\"#4D5663\"},\"text\":\"\"},\"zerolinecolor\":\"#E1E5ED\"},\"yaxis\":{\"gridcolor\":\"#E1E5ED\",\"showgrid\":true,\"tickfont\":{\"color\":\"#4D5663\"},\"title\":{\"font\":{\"color\":\"#4D5663\"},\"text\":\"\"},\"zerolinecolor\":\"#E1E5ED\"}},                        {\"showLink\": true, \"linkText\": \"Export to plot.ly\", \"plotlyServerURL\": \"https://plot.ly\", \"responsive\": true}                    ).then(function(){\n",
       "                            \n",
       "var gd = document.getElementById('c4db8aab-f87f-4abd-8b33-b5d84d281e81');\n",
       "var x = new MutationObserver(function (mutations, observer) {{\n",
       "        var display = window.getComputedStyle(gd).display;\n",
       "        if (!display || display === 'none') {{\n",
       "            console.log([gd, 'removed!']);\n",
       "            Plotly.purge(gd);\n",
       "            observer.disconnect();\n",
       "        }}\n",
       "}});\n",
       "\n",
       "// Listen for the removal of the full notebook cells\n",
       "var notebookContainer = gd.closest('#notebook-container');\n",
       "if (notebookContainer) {{\n",
       "    x.observe(notebookContainer, {childList: true});\n",
       "}}\n",
       "\n",
       "// Listen for the clearing of the current output cell\n",
       "var outputEl = gd.closest('.output');\n",
       "if (outputEl) {{\n",
       "    x.observe(outputEl, {childList: true});\n",
       "}}\n",
       "\n",
       "                        })                };                });            </script>        </div>"
      ],
      "application/vnd.plotly.v1+json": {
       "config": {
        "linkText": "Export to plot.ly",
        "plotlyServerURL": "https://plot.ly",
        "showLink": true
       },
       "data": [
        {
         "colorscale": [
          [
           0,
           "rgb(165,0,38)"
          ],
          [
           0.1,
           "rgb(215,48,39)"
          ],
          [
           0.2,
           "rgb(244,109,67)"
          ],
          [
           0.3,
           "rgb(253,174,97)"
          ],
          [
           0.4,
           "rgb(254,224,144)"
          ],
          [
           0.5,
           "rgb(255,255,191)"
          ],
          [
           0.6,
           "rgb(224,243,248)"
          ],
          [
           0.7,
           "rgb(171,217,233)"
          ],
          [
           0.8,
           "rgb(116,173,209)"
          ],
          [
           0.9,
           "rgb(69,117,180)"
          ],
          [
           1,
           "rgb(49,54,149)"
          ]
         ],
         "type": "surface",
         "x": [
          0,
          1,
          2,
          3,
          4
         ],
         "y": [
          "x",
          "y",
          "z"
         ],
         "z": [
          [
           1,
           2,
           3,
           4,
           5
          ],
          [
           10,
           20,
           30,
           20,
           10
          ],
          [
           5,
           4,
           3,
           2,
           1
          ]
         ]
        }
       ],
       "layout": {
        "legend": {
         "bgcolor": "#F5F6F9",
         "font": {
          "color": "#4D5663"
         }
        },
        "paper_bgcolor": "#F5F6F9",
        "plot_bgcolor": "#F5F6F9",
        "template": {
         "data": {
          "bar": [
           {
            "error_x": {
             "color": "#2a3f5f"
            },
            "error_y": {
             "color": "#2a3f5f"
            },
            "marker": {
             "line": {
              "color": "#E5ECF6",
              "width": 0.5
             },
             "pattern": {
              "fillmode": "overlay",
              "size": 10,
              "solidity": 0.2
             }
            },
            "type": "bar"
           }
          ],
          "barpolar": [
           {
            "marker": {
             "line": {
              "color": "#E5ECF6",
              "width": 0.5
             },
             "pattern": {
              "fillmode": "overlay",
              "size": 10,
              "solidity": 0.2
             }
            },
            "type": "barpolar"
           }
          ],
          "carpet": [
           {
            "aaxis": {
             "endlinecolor": "#2a3f5f",
             "gridcolor": "white",
             "linecolor": "white",
             "minorgridcolor": "white",
             "startlinecolor": "#2a3f5f"
            },
            "baxis": {
             "endlinecolor": "#2a3f5f",
             "gridcolor": "white",
             "linecolor": "white",
             "minorgridcolor": "white",
             "startlinecolor": "#2a3f5f"
            },
            "type": "carpet"
           }
          ],
          "choropleth": [
           {
            "colorbar": {
             "outlinewidth": 0,
             "ticks": ""
            },
            "type": "choropleth"
           }
          ],
          "contour": [
           {
            "colorbar": {
             "outlinewidth": 0,
             "ticks": ""
            },
            "colorscale": [
             [
              0,
              "#0d0887"
             ],
             [
              0.1111111111111111,
              "#46039f"
             ],
             [
              0.2222222222222222,
              "#7201a8"
             ],
             [
              0.3333333333333333,
              "#9c179e"
             ],
             [
              0.4444444444444444,
              "#bd3786"
             ],
             [
              0.5555555555555556,
              "#d8576b"
             ],
             [
              0.6666666666666666,
              "#ed7953"
             ],
             [
              0.7777777777777778,
              "#fb9f3a"
             ],
             [
              0.8888888888888888,
              "#fdca26"
             ],
             [
              1,
              "#f0f921"
             ]
            ],
            "type": "contour"
           }
          ],
          "contourcarpet": [
           {
            "colorbar": {
             "outlinewidth": 0,
             "ticks": ""
            },
            "type": "contourcarpet"
           }
          ],
          "heatmap": [
           {
            "colorbar": {
             "outlinewidth": 0,
             "ticks": ""
            },
            "colorscale": [
             [
              0,
              "#0d0887"
             ],
             [
              0.1111111111111111,
              "#46039f"
             ],
             [
              0.2222222222222222,
              "#7201a8"
             ],
             [
              0.3333333333333333,
              "#9c179e"
             ],
             [
              0.4444444444444444,
              "#bd3786"
             ],
             [
              0.5555555555555556,
              "#d8576b"
             ],
             [
              0.6666666666666666,
              "#ed7953"
             ],
             [
              0.7777777777777778,
              "#fb9f3a"
             ],
             [
              0.8888888888888888,
              "#fdca26"
             ],
             [
              1,
              "#f0f921"
             ]
            ],
            "type": "heatmap"
           }
          ],
          "heatmapgl": [
           {
            "colorbar": {
             "outlinewidth": 0,
             "ticks": ""
            },
            "colorscale": [
             [
              0,
              "#0d0887"
             ],
             [
              0.1111111111111111,
              "#46039f"
             ],
             [
              0.2222222222222222,
              "#7201a8"
             ],
             [
              0.3333333333333333,
              "#9c179e"
             ],
             [
              0.4444444444444444,
              "#bd3786"
             ],
             [
              0.5555555555555556,
              "#d8576b"
             ],
             [
              0.6666666666666666,
              "#ed7953"
             ],
             [
              0.7777777777777778,
              "#fb9f3a"
             ],
             [
              0.8888888888888888,
              "#fdca26"
             ],
             [
              1,
              "#f0f921"
             ]
            ],
            "type": "heatmapgl"
           }
          ],
          "histogram": [
           {
            "marker": {
             "pattern": {
              "fillmode": "overlay",
              "size": 10,
              "solidity": 0.2
             }
            },
            "type": "histogram"
           }
          ],
          "histogram2d": [
           {
            "colorbar": {
             "outlinewidth": 0,
             "ticks": ""
            },
            "colorscale": [
             [
              0,
              "#0d0887"
             ],
             [
              0.1111111111111111,
              "#46039f"
             ],
             [
              0.2222222222222222,
              "#7201a8"
             ],
             [
              0.3333333333333333,
              "#9c179e"
             ],
             [
              0.4444444444444444,
              "#bd3786"
             ],
             [
              0.5555555555555556,
              "#d8576b"
             ],
             [
              0.6666666666666666,
              "#ed7953"
             ],
             [
              0.7777777777777778,
              "#fb9f3a"
             ],
             [
              0.8888888888888888,
              "#fdca26"
             ],
             [
              1,
              "#f0f921"
             ]
            ],
            "type": "histogram2d"
           }
          ],
          "histogram2dcontour": [
           {
            "colorbar": {
             "outlinewidth": 0,
             "ticks": ""
            },
            "colorscale": [
             [
              0,
              "#0d0887"
             ],
             [
              0.1111111111111111,
              "#46039f"
             ],
             [
              0.2222222222222222,
              "#7201a8"
             ],
             [
              0.3333333333333333,
              "#9c179e"
             ],
             [
              0.4444444444444444,
              "#bd3786"
             ],
             [
              0.5555555555555556,
              "#d8576b"
             ],
             [
              0.6666666666666666,
              "#ed7953"
             ],
             [
              0.7777777777777778,
              "#fb9f3a"
             ],
             [
              0.8888888888888888,
              "#fdca26"
             ],
             [
              1,
              "#f0f921"
             ]
            ],
            "type": "histogram2dcontour"
           }
          ],
          "mesh3d": [
           {
            "colorbar": {
             "outlinewidth": 0,
             "ticks": ""
            },
            "type": "mesh3d"
           }
          ],
          "parcoords": [
           {
            "line": {
             "colorbar": {
              "outlinewidth": 0,
              "ticks": ""
             }
            },
            "type": "parcoords"
           }
          ],
          "pie": [
           {
            "automargin": true,
            "type": "pie"
           }
          ],
          "scatter": [
           {
            "marker": {
             "colorbar": {
              "outlinewidth": 0,
              "ticks": ""
             }
            },
            "type": "scatter"
           }
          ],
          "scatter3d": [
           {
            "line": {
             "colorbar": {
              "outlinewidth": 0,
              "ticks": ""
             }
            },
            "marker": {
             "colorbar": {
              "outlinewidth": 0,
              "ticks": ""
             }
            },
            "type": "scatter3d"
           }
          ],
          "scattercarpet": [
           {
            "marker": {
             "colorbar": {
              "outlinewidth": 0,
              "ticks": ""
             }
            },
            "type": "scattercarpet"
           }
          ],
          "scattergeo": [
           {
            "marker": {
             "colorbar": {
              "outlinewidth": 0,
              "ticks": ""
             }
            },
            "type": "scattergeo"
           }
          ],
          "scattergl": [
           {
            "marker": {
             "colorbar": {
              "outlinewidth": 0,
              "ticks": ""
             }
            },
            "type": "scattergl"
           }
          ],
          "scattermapbox": [
           {
            "marker": {
             "colorbar": {
              "outlinewidth": 0,
              "ticks": ""
             }
            },
            "type": "scattermapbox"
           }
          ],
          "scatterpolar": [
           {
            "marker": {
             "colorbar": {
              "outlinewidth": 0,
              "ticks": ""
             }
            },
            "type": "scatterpolar"
           }
          ],
          "scatterpolargl": [
           {
            "marker": {
             "colorbar": {
              "outlinewidth": 0,
              "ticks": ""
             }
            },
            "type": "scatterpolargl"
           }
          ],
          "scatterternary": [
           {
            "marker": {
             "colorbar": {
              "outlinewidth": 0,
              "ticks": ""
             }
            },
            "type": "scatterternary"
           }
          ],
          "surface": [
           {
            "colorbar": {
             "outlinewidth": 0,
             "ticks": ""
            },
            "colorscale": [
             [
              0,
              "#0d0887"
             ],
             [
              0.1111111111111111,
              "#46039f"
             ],
             [
              0.2222222222222222,
              "#7201a8"
             ],
             [
              0.3333333333333333,
              "#9c179e"
             ],
             [
              0.4444444444444444,
              "#bd3786"
             ],
             [
              0.5555555555555556,
              "#d8576b"
             ],
             [
              0.6666666666666666,
              "#ed7953"
             ],
             [
              0.7777777777777778,
              "#fb9f3a"
             ],
             [
              0.8888888888888888,
              "#fdca26"
             ],
             [
              1,
              "#f0f921"
             ]
            ],
            "type": "surface"
           }
          ],
          "table": [
           {
            "cells": {
             "fill": {
              "color": "#EBF0F8"
             },
             "line": {
              "color": "white"
             }
            },
            "header": {
             "fill": {
              "color": "#C8D4E3"
             },
             "line": {
              "color": "white"
             }
            },
            "type": "table"
           }
          ]
         },
         "layout": {
          "annotationdefaults": {
           "arrowcolor": "#2a3f5f",
           "arrowhead": 0,
           "arrowwidth": 1
          },
          "autotypenumbers": "strict",
          "coloraxis": {
           "colorbar": {
            "outlinewidth": 0,
            "ticks": ""
           }
          },
          "colorscale": {
           "diverging": [
            [
             0,
             "#8e0152"
            ],
            [
             0.1,
             "#c51b7d"
            ],
            [
             0.2,
             "#de77ae"
            ],
            [
             0.3,
             "#f1b6da"
            ],
            [
             0.4,
             "#fde0ef"
            ],
            [
             0.5,
             "#f7f7f7"
            ],
            [
             0.6,
             "#e6f5d0"
            ],
            [
             0.7,
             "#b8e186"
            ],
            [
             0.8,
             "#7fbc41"
            ],
            [
             0.9,
             "#4d9221"
            ],
            [
             1,
             "#276419"
            ]
           ],
           "sequential": [
            [
             0,
             "#0d0887"
            ],
            [
             0.1111111111111111,
             "#46039f"
            ],
            [
             0.2222222222222222,
             "#7201a8"
            ],
            [
             0.3333333333333333,
             "#9c179e"
            ],
            [
             0.4444444444444444,
             "#bd3786"
            ],
            [
             0.5555555555555556,
             "#d8576b"
            ],
            [
             0.6666666666666666,
             "#ed7953"
            ],
            [
             0.7777777777777778,
             "#fb9f3a"
            ],
            [
             0.8888888888888888,
             "#fdca26"
            ],
            [
             1,
             "#f0f921"
            ]
           ],
           "sequentialminus": [
            [
             0,
             "#0d0887"
            ],
            [
             0.1111111111111111,
             "#46039f"
            ],
            [
             0.2222222222222222,
             "#7201a8"
            ],
            [
             0.3333333333333333,
             "#9c179e"
            ],
            [
             0.4444444444444444,
             "#bd3786"
            ],
            [
             0.5555555555555556,
             "#d8576b"
            ],
            [
             0.6666666666666666,
             "#ed7953"
            ],
            [
             0.7777777777777778,
             "#fb9f3a"
            ],
            [
             0.8888888888888888,
             "#fdca26"
            ],
            [
             1,
             "#f0f921"
            ]
           ]
          },
          "colorway": [
           "#636efa",
           "#EF553B",
           "#00cc96",
           "#ab63fa",
           "#FFA15A",
           "#19d3f3",
           "#FF6692",
           "#B6E880",
           "#FF97FF",
           "#FECB52"
          ],
          "font": {
           "color": "#2a3f5f"
          },
          "geo": {
           "bgcolor": "white",
           "lakecolor": "white",
           "landcolor": "#E5ECF6",
           "showlakes": true,
           "showland": true,
           "subunitcolor": "white"
          },
          "hoverlabel": {
           "align": "left"
          },
          "hovermode": "closest",
          "mapbox": {
           "style": "light"
          },
          "paper_bgcolor": "white",
          "plot_bgcolor": "#E5ECF6",
          "polar": {
           "angularaxis": {
            "gridcolor": "white",
            "linecolor": "white",
            "ticks": ""
           },
           "bgcolor": "#E5ECF6",
           "radialaxis": {
            "gridcolor": "white",
            "linecolor": "white",
            "ticks": ""
           }
          },
          "scene": {
           "xaxis": {
            "backgroundcolor": "#E5ECF6",
            "gridcolor": "white",
            "gridwidth": 2,
            "linecolor": "white",
            "showbackground": true,
            "ticks": "",
            "zerolinecolor": "white"
           },
           "yaxis": {
            "backgroundcolor": "#E5ECF6",
            "gridcolor": "white",
            "gridwidth": 2,
            "linecolor": "white",
            "showbackground": true,
            "ticks": "",
            "zerolinecolor": "white"
           },
           "zaxis": {
            "backgroundcolor": "#E5ECF6",
            "gridcolor": "white",
            "gridwidth": 2,
            "linecolor": "white",
            "showbackground": true,
            "ticks": "",
            "zerolinecolor": "white"
           }
          },
          "shapedefaults": {
           "line": {
            "color": "#2a3f5f"
           }
          },
          "ternary": {
           "aaxis": {
            "gridcolor": "white",
            "linecolor": "white",
            "ticks": ""
           },
           "baxis": {
            "gridcolor": "white",
            "linecolor": "white",
            "ticks": ""
           },
           "bgcolor": "#E5ECF6",
           "caxis": {
            "gridcolor": "white",
            "linecolor": "white",
            "ticks": ""
           }
          },
          "title": {
           "x": 0.05
          },
          "xaxis": {
           "automargin": true,
           "gridcolor": "white",
           "linecolor": "white",
           "ticks": "",
           "title": {
            "standoff": 15
           },
           "zerolinecolor": "white",
           "zerolinewidth": 2
          },
          "yaxis": {
           "automargin": true,
           "gridcolor": "white",
           "linecolor": "white",
           "ticks": "",
           "title": {
            "standoff": 15
           },
           "zerolinecolor": "white",
           "zerolinewidth": 2
          }
         }
        },
        "title": {
         "font": {
          "color": "#4D5663"
         }
        },
        "xaxis": {
         "gridcolor": "#E1E5ED",
         "showgrid": true,
         "tickfont": {
          "color": "#4D5663"
         },
         "title": {
          "font": {
           "color": "#4D5663"
          },
          "text": ""
         },
         "zerolinecolor": "#E1E5ED"
        },
        "yaxis": {
         "gridcolor": "#E1E5ED",
         "showgrid": true,
         "tickfont": {
          "color": "#4D5663"
         },
         "title": {
          "font": {
           "color": "#4D5663"
          },
          "text": ""
         },
         "zerolinecolor": "#E1E5ED"
        }
       }
      }
     },
     "metadata": {}
    }
   ],
   "metadata": {}
  },
  {
   "cell_type": "code",
   "execution_count": 61,
   "source": [
    "df['A'].iplot(kind='hist', bins=50)"
   ],
   "outputs": [
    {
     "output_type": "display_data",
     "data": {
      "text/html": [
       "<div>                            <div id=\"6b20e19b-6184-4e6c-a5e7-0ccaf023f869\" class=\"plotly-graph-div\" style=\"height:525px; width:100%;\"></div>            <script type=\"text/javascript\">                require([\"plotly\"], function(Plotly) {                    window.PLOTLYENV=window.PLOTLYENV || {};\n",
       "                    window.PLOTLYENV.BASE_URL='https://plot.ly';                                    if (document.getElementById(\"6b20e19b-6184-4e6c-a5e7-0ccaf023f869\")) {                    Plotly.newPlot(                        \"6b20e19b-6184-4e6c-a5e7-0ccaf023f869\",                        [{\"histfunc\":\"count\",\"histnorm\":\"\",\"marker\":{\"color\":\"rgba(255, 153, 51, 1.0)\",\"line\":{\"color\":\"#4D5663\",\"width\":1.3}},\"name\":\"A\",\"nbinsx\":50,\"opacity\":0.8,\"orientation\":\"v\",\"type\":\"histogram\",\"x\":[1.2976308828245577,0.02891563246579733,0.6488033830640866,-0.6518967120779291,0.6103043670864998,-0.9802372938491501,-0.07589310574178512,-2.157880119655764,0.868733577307398,-0.9351261375377906,-0.055140764914955565,-0.28589654616041965,0.5289452063496645,0.2781921010010714,0.16374723355678183,-0.39239282708924167,0.8934440501370563,0.40827977634283436,-0.6959647939739411,-1.1815300420355552,1.1163964121590395,0.3065108458385955,-2.0341160588793805,1.2298468146505241,0.05746358452739269,-1.9000194599015916,0.1415749888678313,-1.2239433218446887,1.201220006696403,1.428560258537245,-1.140941921397734,0.5353234970155184,1.0940387658031,0.22424057672913128,-0.8824973957848675,-1.8185038357772296,0.7229169486376175,0.9124963031268156,0.11107936758643822,-0.08086602502924477,1.2099660155692962,1.8518300739265623,-0.12137650834889625,-0.4858190401877175,1.3395698942139476,-0.17521586297401584,-1.373835557744931,-0.1897204092619399,0.19203332056959913,-0.18036257996181526,-0.15620054902084546,-2.84142252943806,-0.4349542942415666,0.22380447679552914,1.0785492355179809,-0.32649171717218634,0.08433694066275796,-0.13755292295945926,-0.43063226950394184,0.17155096628062336,-1.6044580181981711,0.05717561589713138,-0.06195786489501751,0.6380612124143483,0.6194226191395767,-0.7093593036394797,-0.2941371278104831,0.5636335693906555,0.17585797078580842,1.8454840837179403,-0.3635563229777336,-0.5476291459186988,0.6971996263353732,-0.10273204605952994,1.4857175198711914,-0.9602307332292892,0.5908545524036684,0.4127672484937881,-0.5266758464083148,-1.2170831072505595,1.9285580051166684,2.233682040310963,1.333969398397583,0.423248589364245,0.22258221659675845,-0.4043164692696297,0.6594803798259496,-2.285942806656985,1.0281945074225356,-1.037158988731567,-0.5828485188740444,-0.313430618132578,-1.3874377073665272,0.4099640243163893,0.24071529001761394,-0.12017792683193004,-0.9686450621979947,-0.03808213244543389,1.8023761654438561,-1.4301276228609552]}],                        {\"barmode\":\"overlay\",\"legend\":{\"bgcolor\":\"#F5F6F9\",\"font\":{\"color\":\"#4D5663\"}},\"paper_bgcolor\":\"#F5F6F9\",\"plot_bgcolor\":\"#F5F6F9\",\"template\":{\"data\":{\"bar\":[{\"error_x\":{\"color\":\"#2a3f5f\"},\"error_y\":{\"color\":\"#2a3f5f\"},\"marker\":{\"line\":{\"color\":\"#E5ECF6\",\"width\":0.5},\"pattern\":{\"fillmode\":\"overlay\",\"size\":10,\"solidity\":0.2}},\"type\":\"bar\"}],\"barpolar\":[{\"marker\":{\"line\":{\"color\":\"#E5ECF6\",\"width\":0.5},\"pattern\":{\"fillmode\":\"overlay\",\"size\":10,\"solidity\":0.2}},\"type\":\"barpolar\"}],\"carpet\":[{\"aaxis\":{\"endlinecolor\":\"#2a3f5f\",\"gridcolor\":\"white\",\"linecolor\":\"white\",\"minorgridcolor\":\"white\",\"startlinecolor\":\"#2a3f5f\"},\"baxis\":{\"endlinecolor\":\"#2a3f5f\",\"gridcolor\":\"white\",\"linecolor\":\"white\",\"minorgridcolor\":\"white\",\"startlinecolor\":\"#2a3f5f\"},\"type\":\"carpet\"}],\"choropleth\":[{\"colorbar\":{\"outlinewidth\":0,\"ticks\":\"\"},\"type\":\"choropleth\"}],\"contour\":[{\"colorbar\":{\"outlinewidth\":0,\"ticks\":\"\"},\"colorscale\":[[0.0,\"#0d0887\"],[0.1111111111111111,\"#46039f\"],[0.2222222222222222,\"#7201a8\"],[0.3333333333333333,\"#9c179e\"],[0.4444444444444444,\"#bd3786\"],[0.5555555555555556,\"#d8576b\"],[0.6666666666666666,\"#ed7953\"],[0.7777777777777778,\"#fb9f3a\"],[0.8888888888888888,\"#fdca26\"],[1.0,\"#f0f921\"]],\"type\":\"contour\"}],\"contourcarpet\":[{\"colorbar\":{\"outlinewidth\":0,\"ticks\":\"\"},\"type\":\"contourcarpet\"}],\"heatmap\":[{\"colorbar\":{\"outlinewidth\":0,\"ticks\":\"\"},\"colorscale\":[[0.0,\"#0d0887\"],[0.1111111111111111,\"#46039f\"],[0.2222222222222222,\"#7201a8\"],[0.3333333333333333,\"#9c179e\"],[0.4444444444444444,\"#bd3786\"],[0.5555555555555556,\"#d8576b\"],[0.6666666666666666,\"#ed7953\"],[0.7777777777777778,\"#fb9f3a\"],[0.8888888888888888,\"#fdca26\"],[1.0,\"#f0f921\"]],\"type\":\"heatmap\"}],\"heatmapgl\":[{\"colorbar\":{\"outlinewidth\":0,\"ticks\":\"\"},\"colorscale\":[[0.0,\"#0d0887\"],[0.1111111111111111,\"#46039f\"],[0.2222222222222222,\"#7201a8\"],[0.3333333333333333,\"#9c179e\"],[0.4444444444444444,\"#bd3786\"],[0.5555555555555556,\"#d8576b\"],[0.6666666666666666,\"#ed7953\"],[0.7777777777777778,\"#fb9f3a\"],[0.8888888888888888,\"#fdca26\"],[1.0,\"#f0f921\"]],\"type\":\"heatmapgl\"}],\"histogram\":[{\"marker\":{\"pattern\":{\"fillmode\":\"overlay\",\"size\":10,\"solidity\":0.2}},\"type\":\"histogram\"}],\"histogram2d\":[{\"colorbar\":{\"outlinewidth\":0,\"ticks\":\"\"},\"colorscale\":[[0.0,\"#0d0887\"],[0.1111111111111111,\"#46039f\"],[0.2222222222222222,\"#7201a8\"],[0.3333333333333333,\"#9c179e\"],[0.4444444444444444,\"#bd3786\"],[0.5555555555555556,\"#d8576b\"],[0.6666666666666666,\"#ed7953\"],[0.7777777777777778,\"#fb9f3a\"],[0.8888888888888888,\"#fdca26\"],[1.0,\"#f0f921\"]],\"type\":\"histogram2d\"}],\"histogram2dcontour\":[{\"colorbar\":{\"outlinewidth\":0,\"ticks\":\"\"},\"colorscale\":[[0.0,\"#0d0887\"],[0.1111111111111111,\"#46039f\"],[0.2222222222222222,\"#7201a8\"],[0.3333333333333333,\"#9c179e\"],[0.4444444444444444,\"#bd3786\"],[0.5555555555555556,\"#d8576b\"],[0.6666666666666666,\"#ed7953\"],[0.7777777777777778,\"#fb9f3a\"],[0.8888888888888888,\"#fdca26\"],[1.0,\"#f0f921\"]],\"type\":\"histogram2dcontour\"}],\"mesh3d\":[{\"colorbar\":{\"outlinewidth\":0,\"ticks\":\"\"},\"type\":\"mesh3d\"}],\"parcoords\":[{\"line\":{\"colorbar\":{\"outlinewidth\":0,\"ticks\":\"\"}},\"type\":\"parcoords\"}],\"pie\":[{\"automargin\":true,\"type\":\"pie\"}],\"scatter\":[{\"marker\":{\"colorbar\":{\"outlinewidth\":0,\"ticks\":\"\"}},\"type\":\"scatter\"}],\"scatter3d\":[{\"line\":{\"colorbar\":{\"outlinewidth\":0,\"ticks\":\"\"}},\"marker\":{\"colorbar\":{\"outlinewidth\":0,\"ticks\":\"\"}},\"type\":\"scatter3d\"}],\"scattercarpet\":[{\"marker\":{\"colorbar\":{\"outlinewidth\":0,\"ticks\":\"\"}},\"type\":\"scattercarpet\"}],\"scattergeo\":[{\"marker\":{\"colorbar\":{\"outlinewidth\":0,\"ticks\":\"\"}},\"type\":\"scattergeo\"}],\"scattergl\":[{\"marker\":{\"colorbar\":{\"outlinewidth\":0,\"ticks\":\"\"}},\"type\":\"scattergl\"}],\"scattermapbox\":[{\"marker\":{\"colorbar\":{\"outlinewidth\":0,\"ticks\":\"\"}},\"type\":\"scattermapbox\"}],\"scatterpolar\":[{\"marker\":{\"colorbar\":{\"outlinewidth\":0,\"ticks\":\"\"}},\"type\":\"scatterpolar\"}],\"scatterpolargl\":[{\"marker\":{\"colorbar\":{\"outlinewidth\":0,\"ticks\":\"\"}},\"type\":\"scatterpolargl\"}],\"scatterternary\":[{\"marker\":{\"colorbar\":{\"outlinewidth\":0,\"ticks\":\"\"}},\"type\":\"scatterternary\"}],\"surface\":[{\"colorbar\":{\"outlinewidth\":0,\"ticks\":\"\"},\"colorscale\":[[0.0,\"#0d0887\"],[0.1111111111111111,\"#46039f\"],[0.2222222222222222,\"#7201a8\"],[0.3333333333333333,\"#9c179e\"],[0.4444444444444444,\"#bd3786\"],[0.5555555555555556,\"#d8576b\"],[0.6666666666666666,\"#ed7953\"],[0.7777777777777778,\"#fb9f3a\"],[0.8888888888888888,\"#fdca26\"],[1.0,\"#f0f921\"]],\"type\":\"surface\"}],\"table\":[{\"cells\":{\"fill\":{\"color\":\"#EBF0F8\"},\"line\":{\"color\":\"white\"}},\"header\":{\"fill\":{\"color\":\"#C8D4E3\"},\"line\":{\"color\":\"white\"}},\"type\":\"table\"}]},\"layout\":{\"annotationdefaults\":{\"arrowcolor\":\"#2a3f5f\",\"arrowhead\":0,\"arrowwidth\":1},\"autotypenumbers\":\"strict\",\"coloraxis\":{\"colorbar\":{\"outlinewidth\":0,\"ticks\":\"\"}},\"colorscale\":{\"diverging\":[[0,\"#8e0152\"],[0.1,\"#c51b7d\"],[0.2,\"#de77ae\"],[0.3,\"#f1b6da\"],[0.4,\"#fde0ef\"],[0.5,\"#f7f7f7\"],[0.6,\"#e6f5d0\"],[0.7,\"#b8e186\"],[0.8,\"#7fbc41\"],[0.9,\"#4d9221\"],[1,\"#276419\"]],\"sequential\":[[0.0,\"#0d0887\"],[0.1111111111111111,\"#46039f\"],[0.2222222222222222,\"#7201a8\"],[0.3333333333333333,\"#9c179e\"],[0.4444444444444444,\"#bd3786\"],[0.5555555555555556,\"#d8576b\"],[0.6666666666666666,\"#ed7953\"],[0.7777777777777778,\"#fb9f3a\"],[0.8888888888888888,\"#fdca26\"],[1.0,\"#f0f921\"]],\"sequentialminus\":[[0.0,\"#0d0887\"],[0.1111111111111111,\"#46039f\"],[0.2222222222222222,\"#7201a8\"],[0.3333333333333333,\"#9c179e\"],[0.4444444444444444,\"#bd3786\"],[0.5555555555555556,\"#d8576b\"],[0.6666666666666666,\"#ed7953\"],[0.7777777777777778,\"#fb9f3a\"],[0.8888888888888888,\"#fdca26\"],[1.0,\"#f0f921\"]]},\"colorway\":[\"#636efa\",\"#EF553B\",\"#00cc96\",\"#ab63fa\",\"#FFA15A\",\"#19d3f3\",\"#FF6692\",\"#B6E880\",\"#FF97FF\",\"#FECB52\"],\"font\":{\"color\":\"#2a3f5f\"},\"geo\":{\"bgcolor\":\"white\",\"lakecolor\":\"white\",\"landcolor\":\"#E5ECF6\",\"showlakes\":true,\"showland\":true,\"subunitcolor\":\"white\"},\"hoverlabel\":{\"align\":\"left\"},\"hovermode\":\"closest\",\"mapbox\":{\"style\":\"light\"},\"paper_bgcolor\":\"white\",\"plot_bgcolor\":\"#E5ECF6\",\"polar\":{\"angularaxis\":{\"gridcolor\":\"white\",\"linecolor\":\"white\",\"ticks\":\"\"},\"bgcolor\":\"#E5ECF6\",\"radialaxis\":{\"gridcolor\":\"white\",\"linecolor\":\"white\",\"ticks\":\"\"}},\"scene\":{\"xaxis\":{\"backgroundcolor\":\"#E5ECF6\",\"gridcolor\":\"white\",\"gridwidth\":2,\"linecolor\":\"white\",\"showbackground\":true,\"ticks\":\"\",\"zerolinecolor\":\"white\"},\"yaxis\":{\"backgroundcolor\":\"#E5ECF6\",\"gridcolor\":\"white\",\"gridwidth\":2,\"linecolor\":\"white\",\"showbackground\":true,\"ticks\":\"\",\"zerolinecolor\":\"white\"},\"zaxis\":{\"backgroundcolor\":\"#E5ECF6\",\"gridcolor\":\"white\",\"gridwidth\":2,\"linecolor\":\"white\",\"showbackground\":true,\"ticks\":\"\",\"zerolinecolor\":\"white\"}},\"shapedefaults\":{\"line\":{\"color\":\"#2a3f5f\"}},\"ternary\":{\"aaxis\":{\"gridcolor\":\"white\",\"linecolor\":\"white\",\"ticks\":\"\"},\"baxis\":{\"gridcolor\":\"white\",\"linecolor\":\"white\",\"ticks\":\"\"},\"bgcolor\":\"#E5ECF6\",\"caxis\":{\"gridcolor\":\"white\",\"linecolor\":\"white\",\"ticks\":\"\"}},\"title\":{\"x\":0.05},\"xaxis\":{\"automargin\":true,\"gridcolor\":\"white\",\"linecolor\":\"white\",\"ticks\":\"\",\"title\":{\"standoff\":15},\"zerolinecolor\":\"white\",\"zerolinewidth\":2},\"yaxis\":{\"automargin\":true,\"gridcolor\":\"white\",\"linecolor\":\"white\",\"ticks\":\"\",\"title\":{\"standoff\":15},\"zerolinecolor\":\"white\",\"zerolinewidth\":2}}},\"title\":{\"font\":{\"color\":\"#4D5663\"}},\"xaxis\":{\"gridcolor\":\"#E1E5ED\",\"showgrid\":true,\"tickfont\":{\"color\":\"#4D5663\"},\"title\":{\"font\":{\"color\":\"#4D5663\"},\"text\":\"\"},\"zerolinecolor\":\"#E1E5ED\"},\"yaxis\":{\"gridcolor\":\"#E1E5ED\",\"showgrid\":true,\"tickfont\":{\"color\":\"#4D5663\"},\"title\":{\"font\":{\"color\":\"#4D5663\"},\"text\":\"\"},\"zerolinecolor\":\"#E1E5ED\"}},                        {\"showLink\": true, \"linkText\": \"Export to plot.ly\", \"plotlyServerURL\": \"https://plot.ly\", \"responsive\": true}                    ).then(function(){\n",
       "                            \n",
       "var gd = document.getElementById('6b20e19b-6184-4e6c-a5e7-0ccaf023f869');\n",
       "var x = new MutationObserver(function (mutations, observer) {{\n",
       "        var display = window.getComputedStyle(gd).display;\n",
       "        if (!display || display === 'none') {{\n",
       "            console.log([gd, 'removed!']);\n",
       "            Plotly.purge(gd);\n",
       "            observer.disconnect();\n",
       "        }}\n",
       "}});\n",
       "\n",
       "// Listen for the removal of the full notebook cells\n",
       "var notebookContainer = gd.closest('#notebook-container');\n",
       "if (notebookContainer) {{\n",
       "    x.observe(notebookContainer, {childList: true});\n",
       "}}\n",
       "\n",
       "// Listen for the clearing of the current output cell\n",
       "var outputEl = gd.closest('.output');\n",
       "if (outputEl) {{\n",
       "    x.observe(outputEl, {childList: true});\n",
       "}}\n",
       "\n",
       "                        })                };                });            </script>        </div>"
      ],
      "application/vnd.plotly.v1+json": {
       "config": {
        "linkText": "Export to plot.ly",
        "plotlyServerURL": "https://plot.ly",
        "showLink": true
       },
       "data": [
        {
         "histfunc": "count",
         "histnorm": "",
         "marker": {
          "color": "rgba(255, 153, 51, 1.0)",
          "line": {
           "color": "#4D5663",
           "width": 1.3
          }
         },
         "name": "A",
         "nbinsx": 50,
         "opacity": 0.8,
         "orientation": "v",
         "type": "histogram",
         "x": [
          1.2976308828245577,
          0.02891563246579733,
          0.6488033830640866,
          -0.6518967120779291,
          0.6103043670864998,
          -0.9802372938491501,
          -0.07589310574178512,
          -2.157880119655764,
          0.868733577307398,
          -0.9351261375377906,
          -0.055140764914955565,
          -0.28589654616041965,
          0.5289452063496645,
          0.2781921010010714,
          0.16374723355678183,
          -0.39239282708924167,
          0.8934440501370563,
          0.40827977634283436,
          -0.6959647939739411,
          -1.1815300420355552,
          1.1163964121590395,
          0.3065108458385955,
          -2.0341160588793805,
          1.2298468146505241,
          0.05746358452739269,
          -1.9000194599015916,
          0.1415749888678313,
          -1.2239433218446887,
          1.201220006696403,
          1.428560258537245,
          -1.140941921397734,
          0.5353234970155184,
          1.0940387658031,
          0.22424057672913128,
          -0.8824973957848675,
          -1.8185038357772296,
          0.7229169486376175,
          0.9124963031268156,
          0.11107936758643822,
          -0.08086602502924477,
          1.2099660155692962,
          1.8518300739265623,
          -0.12137650834889625,
          -0.4858190401877175,
          1.3395698942139476,
          -0.17521586297401584,
          -1.373835557744931,
          -0.1897204092619399,
          0.19203332056959913,
          -0.18036257996181526,
          -0.15620054902084546,
          -2.84142252943806,
          -0.4349542942415666,
          0.22380447679552914,
          1.0785492355179809,
          -0.32649171717218634,
          0.08433694066275796,
          -0.13755292295945926,
          -0.43063226950394184,
          0.17155096628062336,
          -1.6044580181981711,
          0.05717561589713138,
          -0.06195786489501751,
          0.6380612124143483,
          0.6194226191395767,
          -0.7093593036394797,
          -0.2941371278104831,
          0.5636335693906555,
          0.17585797078580842,
          1.8454840837179403,
          -0.3635563229777336,
          -0.5476291459186988,
          0.6971996263353732,
          -0.10273204605952994,
          1.4857175198711914,
          -0.9602307332292892,
          0.5908545524036684,
          0.4127672484937881,
          -0.5266758464083148,
          -1.2170831072505595,
          1.9285580051166684,
          2.233682040310963,
          1.333969398397583,
          0.423248589364245,
          0.22258221659675845,
          -0.4043164692696297,
          0.6594803798259496,
          -2.285942806656985,
          1.0281945074225356,
          -1.037158988731567,
          -0.5828485188740444,
          -0.313430618132578,
          -1.3874377073665272,
          0.4099640243163893,
          0.24071529001761394,
          -0.12017792683193004,
          -0.9686450621979947,
          -0.03808213244543389,
          1.8023761654438561,
          -1.4301276228609552
         ]
        }
       ],
       "layout": {
        "barmode": "overlay",
        "legend": {
         "bgcolor": "#F5F6F9",
         "font": {
          "color": "#4D5663"
         }
        },
        "paper_bgcolor": "#F5F6F9",
        "plot_bgcolor": "#F5F6F9",
        "template": {
         "data": {
          "bar": [
           {
            "error_x": {
             "color": "#2a3f5f"
            },
            "error_y": {
             "color": "#2a3f5f"
            },
            "marker": {
             "line": {
              "color": "#E5ECF6",
              "width": 0.5
             },
             "pattern": {
              "fillmode": "overlay",
              "size": 10,
              "solidity": 0.2
             }
            },
            "type": "bar"
           }
          ],
          "barpolar": [
           {
            "marker": {
             "line": {
              "color": "#E5ECF6",
              "width": 0.5
             },
             "pattern": {
              "fillmode": "overlay",
              "size": 10,
              "solidity": 0.2
             }
            },
            "type": "barpolar"
           }
          ],
          "carpet": [
           {
            "aaxis": {
             "endlinecolor": "#2a3f5f",
             "gridcolor": "white",
             "linecolor": "white",
             "minorgridcolor": "white",
             "startlinecolor": "#2a3f5f"
            },
            "baxis": {
             "endlinecolor": "#2a3f5f",
             "gridcolor": "white",
             "linecolor": "white",
             "minorgridcolor": "white",
             "startlinecolor": "#2a3f5f"
            },
            "type": "carpet"
           }
          ],
          "choropleth": [
           {
            "colorbar": {
             "outlinewidth": 0,
             "ticks": ""
            },
            "type": "choropleth"
           }
          ],
          "contour": [
           {
            "colorbar": {
             "outlinewidth": 0,
             "ticks": ""
            },
            "colorscale": [
             [
              0,
              "#0d0887"
             ],
             [
              0.1111111111111111,
              "#46039f"
             ],
             [
              0.2222222222222222,
              "#7201a8"
             ],
             [
              0.3333333333333333,
              "#9c179e"
             ],
             [
              0.4444444444444444,
              "#bd3786"
             ],
             [
              0.5555555555555556,
              "#d8576b"
             ],
             [
              0.6666666666666666,
              "#ed7953"
             ],
             [
              0.7777777777777778,
              "#fb9f3a"
             ],
             [
              0.8888888888888888,
              "#fdca26"
             ],
             [
              1,
              "#f0f921"
             ]
            ],
            "type": "contour"
           }
          ],
          "contourcarpet": [
           {
            "colorbar": {
             "outlinewidth": 0,
             "ticks": ""
            },
            "type": "contourcarpet"
           }
          ],
          "heatmap": [
           {
            "colorbar": {
             "outlinewidth": 0,
             "ticks": ""
            },
            "colorscale": [
             [
              0,
              "#0d0887"
             ],
             [
              0.1111111111111111,
              "#46039f"
             ],
             [
              0.2222222222222222,
              "#7201a8"
             ],
             [
              0.3333333333333333,
              "#9c179e"
             ],
             [
              0.4444444444444444,
              "#bd3786"
             ],
             [
              0.5555555555555556,
              "#d8576b"
             ],
             [
              0.6666666666666666,
              "#ed7953"
             ],
             [
              0.7777777777777778,
              "#fb9f3a"
             ],
             [
              0.8888888888888888,
              "#fdca26"
             ],
             [
              1,
              "#f0f921"
             ]
            ],
            "type": "heatmap"
           }
          ],
          "heatmapgl": [
           {
            "colorbar": {
             "outlinewidth": 0,
             "ticks": ""
            },
            "colorscale": [
             [
              0,
              "#0d0887"
             ],
             [
              0.1111111111111111,
              "#46039f"
             ],
             [
              0.2222222222222222,
              "#7201a8"
             ],
             [
              0.3333333333333333,
              "#9c179e"
             ],
             [
              0.4444444444444444,
              "#bd3786"
             ],
             [
              0.5555555555555556,
              "#d8576b"
             ],
             [
              0.6666666666666666,
              "#ed7953"
             ],
             [
              0.7777777777777778,
              "#fb9f3a"
             ],
             [
              0.8888888888888888,
              "#fdca26"
             ],
             [
              1,
              "#f0f921"
             ]
            ],
            "type": "heatmapgl"
           }
          ],
          "histogram": [
           {
            "marker": {
             "pattern": {
              "fillmode": "overlay",
              "size": 10,
              "solidity": 0.2
             }
            },
            "type": "histogram"
           }
          ],
          "histogram2d": [
           {
            "colorbar": {
             "outlinewidth": 0,
             "ticks": ""
            },
            "colorscale": [
             [
              0,
              "#0d0887"
             ],
             [
              0.1111111111111111,
              "#46039f"
             ],
             [
              0.2222222222222222,
              "#7201a8"
             ],
             [
              0.3333333333333333,
              "#9c179e"
             ],
             [
              0.4444444444444444,
              "#bd3786"
             ],
             [
              0.5555555555555556,
              "#d8576b"
             ],
             [
              0.6666666666666666,
              "#ed7953"
             ],
             [
              0.7777777777777778,
              "#fb9f3a"
             ],
             [
              0.8888888888888888,
              "#fdca26"
             ],
             [
              1,
              "#f0f921"
             ]
            ],
            "type": "histogram2d"
           }
          ],
          "histogram2dcontour": [
           {
            "colorbar": {
             "outlinewidth": 0,
             "ticks": ""
            },
            "colorscale": [
             [
              0,
              "#0d0887"
             ],
             [
              0.1111111111111111,
              "#46039f"
             ],
             [
              0.2222222222222222,
              "#7201a8"
             ],
             [
              0.3333333333333333,
              "#9c179e"
             ],
             [
              0.4444444444444444,
              "#bd3786"
             ],
             [
              0.5555555555555556,
              "#d8576b"
             ],
             [
              0.6666666666666666,
              "#ed7953"
             ],
             [
              0.7777777777777778,
              "#fb9f3a"
             ],
             [
              0.8888888888888888,
              "#fdca26"
             ],
             [
              1,
              "#f0f921"
             ]
            ],
            "type": "histogram2dcontour"
           }
          ],
          "mesh3d": [
           {
            "colorbar": {
             "outlinewidth": 0,
             "ticks": ""
            },
            "type": "mesh3d"
           }
          ],
          "parcoords": [
           {
            "line": {
             "colorbar": {
              "outlinewidth": 0,
              "ticks": ""
             }
            },
            "type": "parcoords"
           }
          ],
          "pie": [
           {
            "automargin": true,
            "type": "pie"
           }
          ],
          "scatter": [
           {
            "marker": {
             "colorbar": {
              "outlinewidth": 0,
              "ticks": ""
             }
            },
            "type": "scatter"
           }
          ],
          "scatter3d": [
           {
            "line": {
             "colorbar": {
              "outlinewidth": 0,
              "ticks": ""
             }
            },
            "marker": {
             "colorbar": {
              "outlinewidth": 0,
              "ticks": ""
             }
            },
            "type": "scatter3d"
           }
          ],
          "scattercarpet": [
           {
            "marker": {
             "colorbar": {
              "outlinewidth": 0,
              "ticks": ""
             }
            },
            "type": "scattercarpet"
           }
          ],
          "scattergeo": [
           {
            "marker": {
             "colorbar": {
              "outlinewidth": 0,
              "ticks": ""
             }
            },
            "type": "scattergeo"
           }
          ],
          "scattergl": [
           {
            "marker": {
             "colorbar": {
              "outlinewidth": 0,
              "ticks": ""
             }
            },
            "type": "scattergl"
           }
          ],
          "scattermapbox": [
           {
            "marker": {
             "colorbar": {
              "outlinewidth": 0,
              "ticks": ""
             }
            },
            "type": "scattermapbox"
           }
          ],
          "scatterpolar": [
           {
            "marker": {
             "colorbar": {
              "outlinewidth": 0,
              "ticks": ""
             }
            },
            "type": "scatterpolar"
           }
          ],
          "scatterpolargl": [
           {
            "marker": {
             "colorbar": {
              "outlinewidth": 0,
              "ticks": ""
             }
            },
            "type": "scatterpolargl"
           }
          ],
          "scatterternary": [
           {
            "marker": {
             "colorbar": {
              "outlinewidth": 0,
              "ticks": ""
             }
            },
            "type": "scatterternary"
           }
          ],
          "surface": [
           {
            "colorbar": {
             "outlinewidth": 0,
             "ticks": ""
            },
            "colorscale": [
             [
              0,
              "#0d0887"
             ],
             [
              0.1111111111111111,
              "#46039f"
             ],
             [
              0.2222222222222222,
              "#7201a8"
             ],
             [
              0.3333333333333333,
              "#9c179e"
             ],
             [
              0.4444444444444444,
              "#bd3786"
             ],
             [
              0.5555555555555556,
              "#d8576b"
             ],
             [
              0.6666666666666666,
              "#ed7953"
             ],
             [
              0.7777777777777778,
              "#fb9f3a"
             ],
             [
              0.8888888888888888,
              "#fdca26"
             ],
             [
              1,
              "#f0f921"
             ]
            ],
            "type": "surface"
           }
          ],
          "table": [
           {
            "cells": {
             "fill": {
              "color": "#EBF0F8"
             },
             "line": {
              "color": "white"
             }
            },
            "header": {
             "fill": {
              "color": "#C8D4E3"
             },
             "line": {
              "color": "white"
             }
            },
            "type": "table"
           }
          ]
         },
         "layout": {
          "annotationdefaults": {
           "arrowcolor": "#2a3f5f",
           "arrowhead": 0,
           "arrowwidth": 1
          },
          "autotypenumbers": "strict",
          "coloraxis": {
           "colorbar": {
            "outlinewidth": 0,
            "ticks": ""
           }
          },
          "colorscale": {
           "diverging": [
            [
             0,
             "#8e0152"
            ],
            [
             0.1,
             "#c51b7d"
            ],
            [
             0.2,
             "#de77ae"
            ],
            [
             0.3,
             "#f1b6da"
            ],
            [
             0.4,
             "#fde0ef"
            ],
            [
             0.5,
             "#f7f7f7"
            ],
            [
             0.6,
             "#e6f5d0"
            ],
            [
             0.7,
             "#b8e186"
            ],
            [
             0.8,
             "#7fbc41"
            ],
            [
             0.9,
             "#4d9221"
            ],
            [
             1,
             "#276419"
            ]
           ],
           "sequential": [
            [
             0,
             "#0d0887"
            ],
            [
             0.1111111111111111,
             "#46039f"
            ],
            [
             0.2222222222222222,
             "#7201a8"
            ],
            [
             0.3333333333333333,
             "#9c179e"
            ],
            [
             0.4444444444444444,
             "#bd3786"
            ],
            [
             0.5555555555555556,
             "#d8576b"
            ],
            [
             0.6666666666666666,
             "#ed7953"
            ],
            [
             0.7777777777777778,
             "#fb9f3a"
            ],
            [
             0.8888888888888888,
             "#fdca26"
            ],
            [
             1,
             "#f0f921"
            ]
           ],
           "sequentialminus": [
            [
             0,
             "#0d0887"
            ],
            [
             0.1111111111111111,
             "#46039f"
            ],
            [
             0.2222222222222222,
             "#7201a8"
            ],
            [
             0.3333333333333333,
             "#9c179e"
            ],
            [
             0.4444444444444444,
             "#bd3786"
            ],
            [
             0.5555555555555556,
             "#d8576b"
            ],
            [
             0.6666666666666666,
             "#ed7953"
            ],
            [
             0.7777777777777778,
             "#fb9f3a"
            ],
            [
             0.8888888888888888,
             "#fdca26"
            ],
            [
             1,
             "#f0f921"
            ]
           ]
          },
          "colorway": [
           "#636efa",
           "#EF553B",
           "#00cc96",
           "#ab63fa",
           "#FFA15A",
           "#19d3f3",
           "#FF6692",
           "#B6E880",
           "#FF97FF",
           "#FECB52"
          ],
          "font": {
           "color": "#2a3f5f"
          },
          "geo": {
           "bgcolor": "white",
           "lakecolor": "white",
           "landcolor": "#E5ECF6",
           "showlakes": true,
           "showland": true,
           "subunitcolor": "white"
          },
          "hoverlabel": {
           "align": "left"
          },
          "hovermode": "closest",
          "mapbox": {
           "style": "light"
          },
          "paper_bgcolor": "white",
          "plot_bgcolor": "#E5ECF6",
          "polar": {
           "angularaxis": {
            "gridcolor": "white",
            "linecolor": "white",
            "ticks": ""
           },
           "bgcolor": "#E5ECF6",
           "radialaxis": {
            "gridcolor": "white",
            "linecolor": "white",
            "ticks": ""
           }
          },
          "scene": {
           "xaxis": {
            "backgroundcolor": "#E5ECF6",
            "gridcolor": "white",
            "gridwidth": 2,
            "linecolor": "white",
            "showbackground": true,
            "ticks": "",
            "zerolinecolor": "white"
           },
           "yaxis": {
            "backgroundcolor": "#E5ECF6",
            "gridcolor": "white",
            "gridwidth": 2,
            "linecolor": "white",
            "showbackground": true,
            "ticks": "",
            "zerolinecolor": "white"
           },
           "zaxis": {
            "backgroundcolor": "#E5ECF6",
            "gridcolor": "white",
            "gridwidth": 2,
            "linecolor": "white",
            "showbackground": true,
            "ticks": "",
            "zerolinecolor": "white"
           }
          },
          "shapedefaults": {
           "line": {
            "color": "#2a3f5f"
           }
          },
          "ternary": {
           "aaxis": {
            "gridcolor": "white",
            "linecolor": "white",
            "ticks": ""
           },
           "baxis": {
            "gridcolor": "white",
            "linecolor": "white",
            "ticks": ""
           },
           "bgcolor": "#E5ECF6",
           "caxis": {
            "gridcolor": "white",
            "linecolor": "white",
            "ticks": ""
           }
          },
          "title": {
           "x": 0.05
          },
          "xaxis": {
           "automargin": true,
           "gridcolor": "white",
           "linecolor": "white",
           "ticks": "",
           "title": {
            "standoff": 15
           },
           "zerolinecolor": "white",
           "zerolinewidth": 2
          },
          "yaxis": {
           "automargin": true,
           "gridcolor": "white",
           "linecolor": "white",
           "ticks": "",
           "title": {
            "standoff": 15
           },
           "zerolinecolor": "white",
           "zerolinewidth": 2
          }
         }
        },
        "title": {
         "font": {
          "color": "#4D5663"
         }
        },
        "xaxis": {
         "gridcolor": "#E1E5ED",
         "showgrid": true,
         "tickfont": {
          "color": "#4D5663"
         },
         "title": {
          "font": {
           "color": "#4D5663"
          },
          "text": ""
         },
         "zerolinecolor": "#E1E5ED"
        },
        "yaxis": {
         "gridcolor": "#E1E5ED",
         "showgrid": true,
         "tickfont": {
          "color": "#4D5663"
         },
         "title": {
          "font": {
           "color": "#4D5663"
          },
          "text": ""
         },
         "zerolinecolor": "#E1E5ED"
        }
       }
      }
     },
     "metadata": {}
    }
   ],
   "metadata": {}
  },
  {
   "cell_type": "code",
   "execution_count": 62,
   "source": [
    "df.iplot('hist')"
   ],
   "outputs": [
    {
     "output_type": "display_data",
     "data": {
      "text/html": [
       "<div>                            <div id=\"e76ba227-489f-4fe0-a009-92843e796861\" class=\"plotly-graph-div\" style=\"height:525px; width:100%;\"></div>            <script type=\"text/javascript\">                require([\"plotly\"], function(Plotly) {                    window.PLOTLYENV=window.PLOTLYENV || {};\n",
       "                    window.PLOTLYENV.BASE_URL='https://plot.ly';                                    if (document.getElementById(\"e76ba227-489f-4fe0-a009-92843e796861\")) {                    Plotly.newPlot(                        \"e76ba227-489f-4fe0-a009-92843e796861\",                        [{\"histfunc\":\"count\",\"histnorm\":\"\",\"marker\":{\"color\":\"rgba(255, 153, 51, 1.0)\",\"line\":{\"color\":\"#4D5663\",\"width\":1.3}},\"name\":\"A\",\"opacity\":0.8,\"orientation\":\"v\",\"type\":\"histogram\",\"x\":[1.2976308828245577,0.02891563246579733,0.6488033830640866,-0.6518967120779291,0.6103043670864998,-0.9802372938491501,-0.07589310574178512,-2.157880119655764,0.868733577307398,-0.9351261375377906,-0.055140764914955565,-0.28589654616041965,0.5289452063496645,0.2781921010010714,0.16374723355678183,-0.39239282708924167,0.8934440501370563,0.40827977634283436,-0.6959647939739411,-1.1815300420355552,1.1163964121590395,0.3065108458385955,-2.0341160588793805,1.2298468146505241,0.05746358452739269,-1.9000194599015916,0.1415749888678313,-1.2239433218446887,1.201220006696403,1.428560258537245,-1.140941921397734,0.5353234970155184,1.0940387658031,0.22424057672913128,-0.8824973957848675,-1.8185038357772296,0.7229169486376175,0.9124963031268156,0.11107936758643822,-0.08086602502924477,1.2099660155692962,1.8518300739265623,-0.12137650834889625,-0.4858190401877175,1.3395698942139476,-0.17521586297401584,-1.373835557744931,-0.1897204092619399,0.19203332056959913,-0.18036257996181526,-0.15620054902084546,-2.84142252943806,-0.4349542942415666,0.22380447679552914,1.0785492355179809,-0.32649171717218634,0.08433694066275796,-0.13755292295945926,-0.43063226950394184,0.17155096628062336,-1.6044580181981711,0.05717561589713138,-0.06195786489501751,0.6380612124143483,0.6194226191395767,-0.7093593036394797,-0.2941371278104831,0.5636335693906555,0.17585797078580842,1.8454840837179403,-0.3635563229777336,-0.5476291459186988,0.6971996263353732,-0.10273204605952994,1.4857175198711914,-0.9602307332292892,0.5908545524036684,0.4127672484937881,-0.5266758464083148,-1.2170831072505595,1.9285580051166684,2.233682040310963,1.333969398397583,0.423248589364245,0.22258221659675845,-0.4043164692696297,0.6594803798259496,-2.285942806656985,1.0281945074225356,-1.037158988731567,-0.5828485188740444,-0.313430618132578,-1.3874377073665272,0.4099640243163893,0.24071529001761394,-0.12017792683193004,-0.9686450621979947,-0.03808213244543389,1.8023761654438561,-1.4301276228609552]},{\"histfunc\":\"count\",\"histnorm\":\"\",\"marker\":{\"color\":\"rgba(55, 128, 191, 1.0)\",\"line\":{\"color\":\"#4D5663\",\"width\":1.3}},\"name\":\"B\",\"opacity\":0.8,\"orientation\":\"v\",\"type\":\"histogram\",\"x\":[0.18926451945427628,0.16292694381339004,-0.566306058548627,-1.1871484670475736,-0.02625193941071388,0.6041199267212912,1.3741250423719473,-0.5088108537866691,0.19976539698307638,-1.395275921233364,-0.015878490774350308,0.8084804721162855,0.8034225968778593,-0.5168699421006512,-1.3796295609476623,-1.6941356174092017,-1.379959709057697,-0.11505112421545904,0.32984150289779074,-0.42834411191121147,1.2375552243795376,-0.5575710577973884,-0.1894786355299986,-0.23813580837486759,-0.45984534641133945,0.48937688393162654,0.576026131836969,-1.1993910275679727,0.15484795454435643,0.33950144682406125,0.31619953849918614,-0.8920510043930835,1.6552070877637908,1.0730130982097303,-0.09015798247656187,-1.0602573544408647,-0.5505686869004346,1.5327284332177737,-1.306471900965645,-0.3272434299662886,-0.4801211887802263,0.9169019760490729,-0.017979999266407094,-0.9511968823264166,-0.9627252363016441,-1.4628433017052838,-1.1821952702688425,-0.28148377358404764,-1.4044798089957289,0.062379443493298006,-1.261667708946712,2.0321741626905028,0.8208188001977202,1.5780470590866502,-1.5595133106751289,-0.5258041321901501,0.6970768226811306,-0.005408959849332933,0.0732974621650809,0.6935240608309962,0.345194496782059,-0.18429690989527864,0.22160274975209152,-0.4854806124075751,0.47488816725628835,-0.14852084415920547,0.8318360611705212,0.29468055995909737,-1.2880347602192437,0.35609655787191175,-0.22330297178159317,0.16497518724931692,0.2485388337776046,-0.7649918753979197,0.9026354406871174,-1.596064739107909,-0.6072502963690356,-0.7296920363391135,-0.7093956570250376,-0.9822586622490749,1.9182674900103864,-0.01898318330479451,-0.7695364688337993,0.9775997347713666,-0.5403883962773787,-0.0631483844680669,1.087217742194578,0.2926164774469953,-0.07524332323153042,0.5876958428402382,0.351391326724226,-1.0655695235292197,1.7359381836204664,-0.5167044830170687,-1.3410359409673123,-0.9910637169828151,-1.6014081994632958,-0.35636157582061334,-1.6790495903477574,-0.9810464442857267]},{\"histfunc\":\"count\",\"histnorm\":\"\",\"marker\":{\"color\":\"rgba(50, 171, 96, 1.0)\",\"line\":{\"color\":\"#4D5663\",\"width\":1.3}},\"name\":\"C\",\"opacity\":0.8,\"orientation\":\"v\",\"type\":\"histogram\",\"x\":[-1.1719714818817535,0.2332138753592973,-0.4546800061881979,1.3516237536173374,0.17179961485515238,1.0517724751027668,-0.7823463516887971,1.8074585106465186,1.3123352560032089,-1.820830963211993,3.4655352474152594,-1.6644082485933236,0.3327524789592473,0.7728081592370689,1.0106861388792414,-0.1360068676174408,1.067275308490196,1.7498323035351442,-0.42210531383943345,0.08274856032387486,1.3351535410116988,0.2898933488848551,0.4442997674702476,-1.0566350492449932,-1.1770610406741882,1.059136089759076,0.6358669397925498,-0.9873866966962658,-1.1928109033344136,0.2365081379323982,1.4119765789231435,-0.012412826944206104,-1.8181097862164766,2.1853022769975317,-0.14097762123253854,1.5150408956982442,0.8114345148559331,-1.026942869137855,0.8685950616036636,1.3873827877411171,0.2811520389861795,-2.2353418800786966,-0.3367239783801947,1.318690702877346,-0.13330465622915116,-1.614613802275598,-0.22014132742275344,-0.8563517414295124,-0.5763091648572842,-0.47336546528140866,0.1403426518366949,-1.1387953070329018,-0.19268812707847527,-1.1581771054106418,-0.19340924136897628,-0.14908746718245883,-1.3941423793138157,-1.2835470024222988,0.44031813337107395,-0.1356788494555008,-0.9840572679707422,0.8078129574771282,0.4267425553937342,-0.959346901827908,0.5938419248520675,1.0875161323394007,0.2510932564313161,0.24262070160603114,0.01778087882946292,1.6342184020158732,-0.23194589286996642,-0.39029141370906273,0.11551194440826097,0.5103878413697021,-0.8064734182549084,0.1402951495555622,0.3674712646729114,0.9584316439675348,1.8298277284273394,0.8920236547226964,-0.5212968676245798,-0.17238935097536456,0.8471726224699624,0.7617060079728852,-1.1911720287513288,-0.7448002940723181,0.24501002154222226,0.4226797203167203,-0.6777182689776893,0.3250244309256672,-0.06129106814175234,-0.5074724286972169,0.5685119579659011,1.9455820824933674,0.7062092630505239,-1.910879622003017,-0.23421828012397325,-0.03394700754584208,0.17577755569065942,-1.3676435491484122]},{\"histfunc\":\"count\",\"histnorm\":\"\",\"marker\":{\"color\":\"rgba(128, 0, 128, 1.0)\",\"line\":{\"color\":\"#4D5663\",\"width\":1.3}},\"name\":\"D\",\"opacity\":0.8,\"orientation\":\"v\",\"type\":\"histogram\",\"x\":[-0.12704856923915245,1.6938046160785538,0.5756190997868936,-0.17999592839220205,-9.163211638458499e-05,1.4695089350289379,1.3548652763865952,-0.33235526694293527,-0.3822486177289395,-1.134475698013416,1.3847527542080538,-1.9991532972345138,1.9097487987135684,-1.1307328630005613,0.08202699286545966,-0.9261434359695201,-0.6432838379331188,0.30315341023978976,0.8716668324641216,1.001160525439211,-0.6200617114477807,0.5545756856829747,1.5269794887667125,0.2722912521021846,-1.3302386550206888,1.0820281408695263,0.4820220647486462,-0.026583117944890256,0.254307087002118,-0.23257206899068456,-0.6668408624159107,-1.3918058493032925,-0.9093808020672761,-0.8213125209510255,0.12617360302476713,1.1818422521706744,-2.1154345140812394,0.8289698795252698,-0.20329141711730483,1.1382443889578078,1.8069275473195896,-1.1912219328811458,-1.146680326335038,0.8328404693469593,0.5535333687685877,-1.6104707362516677,-0.4217307628110528,-0.8759338204297533,-2.0819318917445275,1.258434233114991,0.5176493763367291,0.24858411888945894,-1.289762415904675,-0.27923756675258127,1.0331102503945448,-0.7025549276141846,0.49671821491264867,-0.7124415305662497,-0.40816128697898746,0.5887113190152763,0.8052943692046769,0.04143367083255379,0.5315060348183375,0.8521759240730672,-0.11357150430083014,-0.5355160068590631,0.7262464673901955,0.4368507358817294,-0.5469509790576146,1.225346278034147,0.4716273182166465,-0.21321894212852888,-0.6651560509999196,0.8062087509024685,0.316387993098053,0.13662280110006966,-0.08136504655299272,0.35380080641358747,-1.1975953034380349,0.28675545644337425,-1.2907460928812213,-0.8220971385953828,1.1511920612407398,-0.6530289657038366,0.46763936539994966,1.5723356025836042,0.8537628199681853,-0.4427620032609995,-0.057184951567829934,-0.37879073207614317,0.3325060200718353,1.7535425767195376,-0.6266540549540228,-0.38014845782194295,-1.1657560542518957,1.3333117436860387,0.25983277624047507,-0.04858360050128592,-1.1525950412400925,0.9390252529338794]}],                        {\"barmode\":\"overlay\",\"legend\":{\"bgcolor\":\"#F5F6F9\",\"font\":{\"color\":\"#4D5663\"}},\"paper_bgcolor\":\"#F5F6F9\",\"plot_bgcolor\":\"#F5F6F9\",\"template\":{\"data\":{\"bar\":[{\"error_x\":{\"color\":\"#2a3f5f\"},\"error_y\":{\"color\":\"#2a3f5f\"},\"marker\":{\"line\":{\"color\":\"#E5ECF6\",\"width\":0.5},\"pattern\":{\"fillmode\":\"overlay\",\"size\":10,\"solidity\":0.2}},\"type\":\"bar\"}],\"barpolar\":[{\"marker\":{\"line\":{\"color\":\"#E5ECF6\",\"width\":0.5},\"pattern\":{\"fillmode\":\"overlay\",\"size\":10,\"solidity\":0.2}},\"type\":\"barpolar\"}],\"carpet\":[{\"aaxis\":{\"endlinecolor\":\"#2a3f5f\",\"gridcolor\":\"white\",\"linecolor\":\"white\",\"minorgridcolor\":\"white\",\"startlinecolor\":\"#2a3f5f\"},\"baxis\":{\"endlinecolor\":\"#2a3f5f\",\"gridcolor\":\"white\",\"linecolor\":\"white\",\"minorgridcolor\":\"white\",\"startlinecolor\":\"#2a3f5f\"},\"type\":\"carpet\"}],\"choropleth\":[{\"colorbar\":{\"outlinewidth\":0,\"ticks\":\"\"},\"type\":\"choropleth\"}],\"contour\":[{\"colorbar\":{\"outlinewidth\":0,\"ticks\":\"\"},\"colorscale\":[[0.0,\"#0d0887\"],[0.1111111111111111,\"#46039f\"],[0.2222222222222222,\"#7201a8\"],[0.3333333333333333,\"#9c179e\"],[0.4444444444444444,\"#bd3786\"],[0.5555555555555556,\"#d8576b\"],[0.6666666666666666,\"#ed7953\"],[0.7777777777777778,\"#fb9f3a\"],[0.8888888888888888,\"#fdca26\"],[1.0,\"#f0f921\"]],\"type\":\"contour\"}],\"contourcarpet\":[{\"colorbar\":{\"outlinewidth\":0,\"ticks\":\"\"},\"type\":\"contourcarpet\"}],\"heatmap\":[{\"colorbar\":{\"outlinewidth\":0,\"ticks\":\"\"},\"colorscale\":[[0.0,\"#0d0887\"],[0.1111111111111111,\"#46039f\"],[0.2222222222222222,\"#7201a8\"],[0.3333333333333333,\"#9c179e\"],[0.4444444444444444,\"#bd3786\"],[0.5555555555555556,\"#d8576b\"],[0.6666666666666666,\"#ed7953\"],[0.7777777777777778,\"#fb9f3a\"],[0.8888888888888888,\"#fdca26\"],[1.0,\"#f0f921\"]],\"type\":\"heatmap\"}],\"heatmapgl\":[{\"colorbar\":{\"outlinewidth\":0,\"ticks\":\"\"},\"colorscale\":[[0.0,\"#0d0887\"],[0.1111111111111111,\"#46039f\"],[0.2222222222222222,\"#7201a8\"],[0.3333333333333333,\"#9c179e\"],[0.4444444444444444,\"#bd3786\"],[0.5555555555555556,\"#d8576b\"],[0.6666666666666666,\"#ed7953\"],[0.7777777777777778,\"#fb9f3a\"],[0.8888888888888888,\"#fdca26\"],[1.0,\"#f0f921\"]],\"type\":\"heatmapgl\"}],\"histogram\":[{\"marker\":{\"pattern\":{\"fillmode\":\"overlay\",\"size\":10,\"solidity\":0.2}},\"type\":\"histogram\"}],\"histogram2d\":[{\"colorbar\":{\"outlinewidth\":0,\"ticks\":\"\"},\"colorscale\":[[0.0,\"#0d0887\"],[0.1111111111111111,\"#46039f\"],[0.2222222222222222,\"#7201a8\"],[0.3333333333333333,\"#9c179e\"],[0.4444444444444444,\"#bd3786\"],[0.5555555555555556,\"#d8576b\"],[0.6666666666666666,\"#ed7953\"],[0.7777777777777778,\"#fb9f3a\"],[0.8888888888888888,\"#fdca26\"],[1.0,\"#f0f921\"]],\"type\":\"histogram2d\"}],\"histogram2dcontour\":[{\"colorbar\":{\"outlinewidth\":0,\"ticks\":\"\"},\"colorscale\":[[0.0,\"#0d0887\"],[0.1111111111111111,\"#46039f\"],[0.2222222222222222,\"#7201a8\"],[0.3333333333333333,\"#9c179e\"],[0.4444444444444444,\"#bd3786\"],[0.5555555555555556,\"#d8576b\"],[0.6666666666666666,\"#ed7953\"],[0.7777777777777778,\"#fb9f3a\"],[0.8888888888888888,\"#fdca26\"],[1.0,\"#f0f921\"]],\"type\":\"histogram2dcontour\"}],\"mesh3d\":[{\"colorbar\":{\"outlinewidth\":0,\"ticks\":\"\"},\"type\":\"mesh3d\"}],\"parcoords\":[{\"line\":{\"colorbar\":{\"outlinewidth\":0,\"ticks\":\"\"}},\"type\":\"parcoords\"}],\"pie\":[{\"automargin\":true,\"type\":\"pie\"}],\"scatter\":[{\"marker\":{\"colorbar\":{\"outlinewidth\":0,\"ticks\":\"\"}},\"type\":\"scatter\"}],\"scatter3d\":[{\"line\":{\"colorbar\":{\"outlinewidth\":0,\"ticks\":\"\"}},\"marker\":{\"colorbar\":{\"outlinewidth\":0,\"ticks\":\"\"}},\"type\":\"scatter3d\"}],\"scattercarpet\":[{\"marker\":{\"colorbar\":{\"outlinewidth\":0,\"ticks\":\"\"}},\"type\":\"scattercarpet\"}],\"scattergeo\":[{\"marker\":{\"colorbar\":{\"outlinewidth\":0,\"ticks\":\"\"}},\"type\":\"scattergeo\"}],\"scattergl\":[{\"marker\":{\"colorbar\":{\"outlinewidth\":0,\"ticks\":\"\"}},\"type\":\"scattergl\"}],\"scattermapbox\":[{\"marker\":{\"colorbar\":{\"outlinewidth\":0,\"ticks\":\"\"}},\"type\":\"scattermapbox\"}],\"scatterpolar\":[{\"marker\":{\"colorbar\":{\"outlinewidth\":0,\"ticks\":\"\"}},\"type\":\"scatterpolar\"}],\"scatterpolargl\":[{\"marker\":{\"colorbar\":{\"outlinewidth\":0,\"ticks\":\"\"}},\"type\":\"scatterpolargl\"}],\"scatterternary\":[{\"marker\":{\"colorbar\":{\"outlinewidth\":0,\"ticks\":\"\"}},\"type\":\"scatterternary\"}],\"surface\":[{\"colorbar\":{\"outlinewidth\":0,\"ticks\":\"\"},\"colorscale\":[[0.0,\"#0d0887\"],[0.1111111111111111,\"#46039f\"],[0.2222222222222222,\"#7201a8\"],[0.3333333333333333,\"#9c179e\"],[0.4444444444444444,\"#bd3786\"],[0.5555555555555556,\"#d8576b\"],[0.6666666666666666,\"#ed7953\"],[0.7777777777777778,\"#fb9f3a\"],[0.8888888888888888,\"#fdca26\"],[1.0,\"#f0f921\"]],\"type\":\"surface\"}],\"table\":[{\"cells\":{\"fill\":{\"color\":\"#EBF0F8\"},\"line\":{\"color\":\"white\"}},\"header\":{\"fill\":{\"color\":\"#C8D4E3\"},\"line\":{\"color\":\"white\"}},\"type\":\"table\"}]},\"layout\":{\"annotationdefaults\":{\"arrowcolor\":\"#2a3f5f\",\"arrowhead\":0,\"arrowwidth\":1},\"autotypenumbers\":\"strict\",\"coloraxis\":{\"colorbar\":{\"outlinewidth\":0,\"ticks\":\"\"}},\"colorscale\":{\"diverging\":[[0,\"#8e0152\"],[0.1,\"#c51b7d\"],[0.2,\"#de77ae\"],[0.3,\"#f1b6da\"],[0.4,\"#fde0ef\"],[0.5,\"#f7f7f7\"],[0.6,\"#e6f5d0\"],[0.7,\"#b8e186\"],[0.8,\"#7fbc41\"],[0.9,\"#4d9221\"],[1,\"#276419\"]],\"sequential\":[[0.0,\"#0d0887\"],[0.1111111111111111,\"#46039f\"],[0.2222222222222222,\"#7201a8\"],[0.3333333333333333,\"#9c179e\"],[0.4444444444444444,\"#bd3786\"],[0.5555555555555556,\"#d8576b\"],[0.6666666666666666,\"#ed7953\"],[0.7777777777777778,\"#fb9f3a\"],[0.8888888888888888,\"#fdca26\"],[1.0,\"#f0f921\"]],\"sequentialminus\":[[0.0,\"#0d0887\"],[0.1111111111111111,\"#46039f\"],[0.2222222222222222,\"#7201a8\"],[0.3333333333333333,\"#9c179e\"],[0.4444444444444444,\"#bd3786\"],[0.5555555555555556,\"#d8576b\"],[0.6666666666666666,\"#ed7953\"],[0.7777777777777778,\"#fb9f3a\"],[0.8888888888888888,\"#fdca26\"],[1.0,\"#f0f921\"]]},\"colorway\":[\"#636efa\",\"#EF553B\",\"#00cc96\",\"#ab63fa\",\"#FFA15A\",\"#19d3f3\",\"#FF6692\",\"#B6E880\",\"#FF97FF\",\"#FECB52\"],\"font\":{\"color\":\"#2a3f5f\"},\"geo\":{\"bgcolor\":\"white\",\"lakecolor\":\"white\",\"landcolor\":\"#E5ECF6\",\"showlakes\":true,\"showland\":true,\"subunitcolor\":\"white\"},\"hoverlabel\":{\"align\":\"left\"},\"hovermode\":\"closest\",\"mapbox\":{\"style\":\"light\"},\"paper_bgcolor\":\"white\",\"plot_bgcolor\":\"#E5ECF6\",\"polar\":{\"angularaxis\":{\"gridcolor\":\"white\",\"linecolor\":\"white\",\"ticks\":\"\"},\"bgcolor\":\"#E5ECF6\",\"radialaxis\":{\"gridcolor\":\"white\",\"linecolor\":\"white\",\"ticks\":\"\"}},\"scene\":{\"xaxis\":{\"backgroundcolor\":\"#E5ECF6\",\"gridcolor\":\"white\",\"gridwidth\":2,\"linecolor\":\"white\",\"showbackground\":true,\"ticks\":\"\",\"zerolinecolor\":\"white\"},\"yaxis\":{\"backgroundcolor\":\"#E5ECF6\",\"gridcolor\":\"white\",\"gridwidth\":2,\"linecolor\":\"white\",\"showbackground\":true,\"ticks\":\"\",\"zerolinecolor\":\"white\"},\"zaxis\":{\"backgroundcolor\":\"#E5ECF6\",\"gridcolor\":\"white\",\"gridwidth\":2,\"linecolor\":\"white\",\"showbackground\":true,\"ticks\":\"\",\"zerolinecolor\":\"white\"}},\"shapedefaults\":{\"line\":{\"color\":\"#2a3f5f\"}},\"ternary\":{\"aaxis\":{\"gridcolor\":\"white\",\"linecolor\":\"white\",\"ticks\":\"\"},\"baxis\":{\"gridcolor\":\"white\",\"linecolor\":\"white\",\"ticks\":\"\"},\"bgcolor\":\"#E5ECF6\",\"caxis\":{\"gridcolor\":\"white\",\"linecolor\":\"white\",\"ticks\":\"\"}},\"title\":{\"x\":0.05},\"xaxis\":{\"automargin\":true,\"gridcolor\":\"white\",\"linecolor\":\"white\",\"ticks\":\"\",\"title\":{\"standoff\":15},\"zerolinecolor\":\"white\",\"zerolinewidth\":2},\"yaxis\":{\"automargin\":true,\"gridcolor\":\"white\",\"linecolor\":\"white\",\"ticks\":\"\",\"title\":{\"standoff\":15},\"zerolinecolor\":\"white\",\"zerolinewidth\":2}}},\"title\":{\"font\":{\"color\":\"#4D5663\"}},\"xaxis\":{\"gridcolor\":\"#E1E5ED\",\"showgrid\":true,\"tickfont\":{\"color\":\"#4D5663\"},\"title\":{\"font\":{\"color\":\"#4D5663\"},\"text\":\"\"},\"zerolinecolor\":\"#E1E5ED\"},\"yaxis\":{\"gridcolor\":\"#E1E5ED\",\"showgrid\":true,\"tickfont\":{\"color\":\"#4D5663\"},\"title\":{\"font\":{\"color\":\"#4D5663\"},\"text\":\"\"},\"zerolinecolor\":\"#E1E5ED\"}},                        {\"showLink\": true, \"linkText\": \"Export to plot.ly\", \"plotlyServerURL\": \"https://plot.ly\", \"responsive\": true}                    ).then(function(){\n",
       "                            \n",
       "var gd = document.getElementById('e76ba227-489f-4fe0-a009-92843e796861');\n",
       "var x = new MutationObserver(function (mutations, observer) {{\n",
       "        var display = window.getComputedStyle(gd).display;\n",
       "        if (!display || display === 'none') {{\n",
       "            console.log([gd, 'removed!']);\n",
       "            Plotly.purge(gd);\n",
       "            observer.disconnect();\n",
       "        }}\n",
       "}});\n",
       "\n",
       "// Listen for the removal of the full notebook cells\n",
       "var notebookContainer = gd.closest('#notebook-container');\n",
       "if (notebookContainer) {{\n",
       "    x.observe(notebookContainer, {childList: true});\n",
       "}}\n",
       "\n",
       "// Listen for the clearing of the current output cell\n",
       "var outputEl = gd.closest('.output');\n",
       "if (outputEl) {{\n",
       "    x.observe(outputEl, {childList: true});\n",
       "}}\n",
       "\n",
       "                        })                };                });            </script>        </div>"
      ],
      "application/vnd.plotly.v1+json": {
       "config": {
        "linkText": "Export to plot.ly",
        "plotlyServerURL": "https://plot.ly",
        "showLink": true
       },
       "data": [
        {
         "histfunc": "count",
         "histnorm": "",
         "marker": {
          "color": "rgba(255, 153, 51, 1.0)",
          "line": {
           "color": "#4D5663",
           "width": 1.3
          }
         },
         "name": "A",
         "opacity": 0.8,
         "orientation": "v",
         "type": "histogram",
         "x": [
          1.2976308828245577,
          0.02891563246579733,
          0.6488033830640866,
          -0.6518967120779291,
          0.6103043670864998,
          -0.9802372938491501,
          -0.07589310574178512,
          -2.157880119655764,
          0.868733577307398,
          -0.9351261375377906,
          -0.055140764914955565,
          -0.28589654616041965,
          0.5289452063496645,
          0.2781921010010714,
          0.16374723355678183,
          -0.39239282708924167,
          0.8934440501370563,
          0.40827977634283436,
          -0.6959647939739411,
          -1.1815300420355552,
          1.1163964121590395,
          0.3065108458385955,
          -2.0341160588793805,
          1.2298468146505241,
          0.05746358452739269,
          -1.9000194599015916,
          0.1415749888678313,
          -1.2239433218446887,
          1.201220006696403,
          1.428560258537245,
          -1.140941921397734,
          0.5353234970155184,
          1.0940387658031,
          0.22424057672913128,
          -0.8824973957848675,
          -1.8185038357772296,
          0.7229169486376175,
          0.9124963031268156,
          0.11107936758643822,
          -0.08086602502924477,
          1.2099660155692962,
          1.8518300739265623,
          -0.12137650834889625,
          -0.4858190401877175,
          1.3395698942139476,
          -0.17521586297401584,
          -1.373835557744931,
          -0.1897204092619399,
          0.19203332056959913,
          -0.18036257996181526,
          -0.15620054902084546,
          -2.84142252943806,
          -0.4349542942415666,
          0.22380447679552914,
          1.0785492355179809,
          -0.32649171717218634,
          0.08433694066275796,
          -0.13755292295945926,
          -0.43063226950394184,
          0.17155096628062336,
          -1.6044580181981711,
          0.05717561589713138,
          -0.06195786489501751,
          0.6380612124143483,
          0.6194226191395767,
          -0.7093593036394797,
          -0.2941371278104831,
          0.5636335693906555,
          0.17585797078580842,
          1.8454840837179403,
          -0.3635563229777336,
          -0.5476291459186988,
          0.6971996263353732,
          -0.10273204605952994,
          1.4857175198711914,
          -0.9602307332292892,
          0.5908545524036684,
          0.4127672484937881,
          -0.5266758464083148,
          -1.2170831072505595,
          1.9285580051166684,
          2.233682040310963,
          1.333969398397583,
          0.423248589364245,
          0.22258221659675845,
          -0.4043164692696297,
          0.6594803798259496,
          -2.285942806656985,
          1.0281945074225356,
          -1.037158988731567,
          -0.5828485188740444,
          -0.313430618132578,
          -1.3874377073665272,
          0.4099640243163893,
          0.24071529001761394,
          -0.12017792683193004,
          -0.9686450621979947,
          -0.03808213244543389,
          1.8023761654438561,
          -1.4301276228609552
         ]
        },
        {
         "histfunc": "count",
         "histnorm": "",
         "marker": {
          "color": "rgba(55, 128, 191, 1.0)",
          "line": {
           "color": "#4D5663",
           "width": 1.3
          }
         },
         "name": "B",
         "opacity": 0.8,
         "orientation": "v",
         "type": "histogram",
         "x": [
          0.18926451945427628,
          0.16292694381339004,
          -0.566306058548627,
          -1.1871484670475736,
          -0.02625193941071388,
          0.6041199267212912,
          1.3741250423719473,
          -0.5088108537866691,
          0.19976539698307638,
          -1.395275921233364,
          -0.015878490774350308,
          0.8084804721162855,
          0.8034225968778593,
          -0.5168699421006512,
          -1.3796295609476623,
          -1.6941356174092017,
          -1.379959709057697,
          -0.11505112421545904,
          0.32984150289779074,
          -0.42834411191121147,
          1.2375552243795376,
          -0.5575710577973884,
          -0.1894786355299986,
          -0.23813580837486759,
          -0.45984534641133945,
          0.48937688393162654,
          0.576026131836969,
          -1.1993910275679727,
          0.15484795454435643,
          0.33950144682406125,
          0.31619953849918614,
          -0.8920510043930835,
          1.6552070877637908,
          1.0730130982097303,
          -0.09015798247656187,
          -1.0602573544408647,
          -0.5505686869004346,
          1.5327284332177737,
          -1.306471900965645,
          -0.3272434299662886,
          -0.4801211887802263,
          0.9169019760490729,
          -0.017979999266407094,
          -0.9511968823264166,
          -0.9627252363016441,
          -1.4628433017052838,
          -1.1821952702688425,
          -0.28148377358404764,
          -1.4044798089957289,
          0.062379443493298006,
          -1.261667708946712,
          2.0321741626905028,
          0.8208188001977202,
          1.5780470590866502,
          -1.5595133106751289,
          -0.5258041321901501,
          0.6970768226811306,
          -0.005408959849332933,
          0.0732974621650809,
          0.6935240608309962,
          0.345194496782059,
          -0.18429690989527864,
          0.22160274975209152,
          -0.4854806124075751,
          0.47488816725628835,
          -0.14852084415920547,
          0.8318360611705212,
          0.29468055995909737,
          -1.2880347602192437,
          0.35609655787191175,
          -0.22330297178159317,
          0.16497518724931692,
          0.2485388337776046,
          -0.7649918753979197,
          0.9026354406871174,
          -1.596064739107909,
          -0.6072502963690356,
          -0.7296920363391135,
          -0.7093956570250376,
          -0.9822586622490749,
          1.9182674900103864,
          -0.01898318330479451,
          -0.7695364688337993,
          0.9775997347713666,
          -0.5403883962773787,
          -0.0631483844680669,
          1.087217742194578,
          0.2926164774469953,
          -0.07524332323153042,
          0.5876958428402382,
          0.351391326724226,
          -1.0655695235292197,
          1.7359381836204664,
          -0.5167044830170687,
          -1.3410359409673123,
          -0.9910637169828151,
          -1.6014081994632958,
          -0.35636157582061334,
          -1.6790495903477574,
          -0.9810464442857267
         ]
        },
        {
         "histfunc": "count",
         "histnorm": "",
         "marker": {
          "color": "rgba(50, 171, 96, 1.0)",
          "line": {
           "color": "#4D5663",
           "width": 1.3
          }
         },
         "name": "C",
         "opacity": 0.8,
         "orientation": "v",
         "type": "histogram",
         "x": [
          -1.1719714818817535,
          0.2332138753592973,
          -0.4546800061881979,
          1.3516237536173374,
          0.17179961485515238,
          1.0517724751027668,
          -0.7823463516887971,
          1.8074585106465186,
          1.3123352560032089,
          -1.820830963211993,
          3.4655352474152594,
          -1.6644082485933236,
          0.3327524789592473,
          0.7728081592370689,
          1.0106861388792414,
          -0.1360068676174408,
          1.067275308490196,
          1.7498323035351442,
          -0.42210531383943345,
          0.08274856032387486,
          1.3351535410116988,
          0.2898933488848551,
          0.4442997674702476,
          -1.0566350492449932,
          -1.1770610406741882,
          1.059136089759076,
          0.6358669397925498,
          -0.9873866966962658,
          -1.1928109033344136,
          0.2365081379323982,
          1.4119765789231435,
          -0.012412826944206104,
          -1.8181097862164766,
          2.1853022769975317,
          -0.14097762123253854,
          1.5150408956982442,
          0.8114345148559331,
          -1.026942869137855,
          0.8685950616036636,
          1.3873827877411171,
          0.2811520389861795,
          -2.2353418800786966,
          -0.3367239783801947,
          1.318690702877346,
          -0.13330465622915116,
          -1.614613802275598,
          -0.22014132742275344,
          -0.8563517414295124,
          -0.5763091648572842,
          -0.47336546528140866,
          0.1403426518366949,
          -1.1387953070329018,
          -0.19268812707847527,
          -1.1581771054106418,
          -0.19340924136897628,
          -0.14908746718245883,
          -1.3941423793138157,
          -1.2835470024222988,
          0.44031813337107395,
          -0.1356788494555008,
          -0.9840572679707422,
          0.8078129574771282,
          0.4267425553937342,
          -0.959346901827908,
          0.5938419248520675,
          1.0875161323394007,
          0.2510932564313161,
          0.24262070160603114,
          0.01778087882946292,
          1.6342184020158732,
          -0.23194589286996642,
          -0.39029141370906273,
          0.11551194440826097,
          0.5103878413697021,
          -0.8064734182549084,
          0.1402951495555622,
          0.3674712646729114,
          0.9584316439675348,
          1.8298277284273394,
          0.8920236547226964,
          -0.5212968676245798,
          -0.17238935097536456,
          0.8471726224699624,
          0.7617060079728852,
          -1.1911720287513288,
          -0.7448002940723181,
          0.24501002154222226,
          0.4226797203167203,
          -0.6777182689776893,
          0.3250244309256672,
          -0.06129106814175234,
          -0.5074724286972169,
          0.5685119579659011,
          1.9455820824933674,
          0.7062092630505239,
          -1.910879622003017,
          -0.23421828012397325,
          -0.03394700754584208,
          0.17577755569065942,
          -1.3676435491484122
         ]
        },
        {
         "histfunc": "count",
         "histnorm": "",
         "marker": {
          "color": "rgba(128, 0, 128, 1.0)",
          "line": {
           "color": "#4D5663",
           "width": 1.3
          }
         },
         "name": "D",
         "opacity": 0.8,
         "orientation": "v",
         "type": "histogram",
         "x": [
          -0.12704856923915245,
          1.6938046160785538,
          0.5756190997868936,
          -0.17999592839220205,
          -0.00009163211638458499,
          1.4695089350289379,
          1.3548652763865952,
          -0.33235526694293527,
          -0.3822486177289395,
          -1.134475698013416,
          1.3847527542080538,
          -1.9991532972345138,
          1.9097487987135684,
          -1.1307328630005613,
          0.08202699286545966,
          -0.9261434359695201,
          -0.6432838379331188,
          0.30315341023978976,
          0.8716668324641216,
          1.001160525439211,
          -0.6200617114477807,
          0.5545756856829747,
          1.5269794887667125,
          0.2722912521021846,
          -1.3302386550206888,
          1.0820281408695263,
          0.4820220647486462,
          -0.026583117944890256,
          0.254307087002118,
          -0.23257206899068456,
          -0.6668408624159107,
          -1.3918058493032925,
          -0.9093808020672761,
          -0.8213125209510255,
          0.12617360302476713,
          1.1818422521706744,
          -2.1154345140812394,
          0.8289698795252698,
          -0.20329141711730483,
          1.1382443889578078,
          1.8069275473195896,
          -1.1912219328811458,
          -1.146680326335038,
          0.8328404693469593,
          0.5535333687685877,
          -1.6104707362516677,
          -0.4217307628110528,
          -0.8759338204297533,
          -2.0819318917445275,
          1.258434233114991,
          0.5176493763367291,
          0.24858411888945894,
          -1.289762415904675,
          -0.27923756675258127,
          1.0331102503945448,
          -0.7025549276141846,
          0.49671821491264867,
          -0.7124415305662497,
          -0.40816128697898746,
          0.5887113190152763,
          0.8052943692046769,
          0.04143367083255379,
          0.5315060348183375,
          0.8521759240730672,
          -0.11357150430083014,
          -0.5355160068590631,
          0.7262464673901955,
          0.4368507358817294,
          -0.5469509790576146,
          1.225346278034147,
          0.4716273182166465,
          -0.21321894212852888,
          -0.6651560509999196,
          0.8062087509024685,
          0.316387993098053,
          0.13662280110006966,
          -0.08136504655299272,
          0.35380080641358747,
          -1.1975953034380349,
          0.28675545644337425,
          -1.2907460928812213,
          -0.8220971385953828,
          1.1511920612407398,
          -0.6530289657038366,
          0.46763936539994966,
          1.5723356025836042,
          0.8537628199681853,
          -0.4427620032609995,
          -0.057184951567829934,
          -0.37879073207614317,
          0.3325060200718353,
          1.7535425767195376,
          -0.6266540549540228,
          -0.38014845782194295,
          -1.1657560542518957,
          1.3333117436860387,
          0.25983277624047507,
          -0.04858360050128592,
          -1.1525950412400925,
          0.9390252529338794
         ]
        }
       ],
       "layout": {
        "barmode": "overlay",
        "legend": {
         "bgcolor": "#F5F6F9",
         "font": {
          "color": "#4D5663"
         }
        },
        "paper_bgcolor": "#F5F6F9",
        "plot_bgcolor": "#F5F6F9",
        "template": {
         "data": {
          "bar": [
           {
            "error_x": {
             "color": "#2a3f5f"
            },
            "error_y": {
             "color": "#2a3f5f"
            },
            "marker": {
             "line": {
              "color": "#E5ECF6",
              "width": 0.5
             },
             "pattern": {
              "fillmode": "overlay",
              "size": 10,
              "solidity": 0.2
             }
            },
            "type": "bar"
           }
          ],
          "barpolar": [
           {
            "marker": {
             "line": {
              "color": "#E5ECF6",
              "width": 0.5
             },
             "pattern": {
              "fillmode": "overlay",
              "size": 10,
              "solidity": 0.2
             }
            },
            "type": "barpolar"
           }
          ],
          "carpet": [
           {
            "aaxis": {
             "endlinecolor": "#2a3f5f",
             "gridcolor": "white",
             "linecolor": "white",
             "minorgridcolor": "white",
             "startlinecolor": "#2a3f5f"
            },
            "baxis": {
             "endlinecolor": "#2a3f5f",
             "gridcolor": "white",
             "linecolor": "white",
             "minorgridcolor": "white",
             "startlinecolor": "#2a3f5f"
            },
            "type": "carpet"
           }
          ],
          "choropleth": [
           {
            "colorbar": {
             "outlinewidth": 0,
             "ticks": ""
            },
            "type": "choropleth"
           }
          ],
          "contour": [
           {
            "colorbar": {
             "outlinewidth": 0,
             "ticks": ""
            },
            "colorscale": [
             [
              0,
              "#0d0887"
             ],
             [
              0.1111111111111111,
              "#46039f"
             ],
             [
              0.2222222222222222,
              "#7201a8"
             ],
             [
              0.3333333333333333,
              "#9c179e"
             ],
             [
              0.4444444444444444,
              "#bd3786"
             ],
             [
              0.5555555555555556,
              "#d8576b"
             ],
             [
              0.6666666666666666,
              "#ed7953"
             ],
             [
              0.7777777777777778,
              "#fb9f3a"
             ],
             [
              0.8888888888888888,
              "#fdca26"
             ],
             [
              1,
              "#f0f921"
             ]
            ],
            "type": "contour"
           }
          ],
          "contourcarpet": [
           {
            "colorbar": {
             "outlinewidth": 0,
             "ticks": ""
            },
            "type": "contourcarpet"
           }
          ],
          "heatmap": [
           {
            "colorbar": {
             "outlinewidth": 0,
             "ticks": ""
            },
            "colorscale": [
             [
              0,
              "#0d0887"
             ],
             [
              0.1111111111111111,
              "#46039f"
             ],
             [
              0.2222222222222222,
              "#7201a8"
             ],
             [
              0.3333333333333333,
              "#9c179e"
             ],
             [
              0.4444444444444444,
              "#bd3786"
             ],
             [
              0.5555555555555556,
              "#d8576b"
             ],
             [
              0.6666666666666666,
              "#ed7953"
             ],
             [
              0.7777777777777778,
              "#fb9f3a"
             ],
             [
              0.8888888888888888,
              "#fdca26"
             ],
             [
              1,
              "#f0f921"
             ]
            ],
            "type": "heatmap"
           }
          ],
          "heatmapgl": [
           {
            "colorbar": {
             "outlinewidth": 0,
             "ticks": ""
            },
            "colorscale": [
             [
              0,
              "#0d0887"
             ],
             [
              0.1111111111111111,
              "#46039f"
             ],
             [
              0.2222222222222222,
              "#7201a8"
             ],
             [
              0.3333333333333333,
              "#9c179e"
             ],
             [
              0.4444444444444444,
              "#bd3786"
             ],
             [
              0.5555555555555556,
              "#d8576b"
             ],
             [
              0.6666666666666666,
              "#ed7953"
             ],
             [
              0.7777777777777778,
              "#fb9f3a"
             ],
             [
              0.8888888888888888,
              "#fdca26"
             ],
             [
              1,
              "#f0f921"
             ]
            ],
            "type": "heatmapgl"
           }
          ],
          "histogram": [
           {
            "marker": {
             "pattern": {
              "fillmode": "overlay",
              "size": 10,
              "solidity": 0.2
             }
            },
            "type": "histogram"
           }
          ],
          "histogram2d": [
           {
            "colorbar": {
             "outlinewidth": 0,
             "ticks": ""
            },
            "colorscale": [
             [
              0,
              "#0d0887"
             ],
             [
              0.1111111111111111,
              "#46039f"
             ],
             [
              0.2222222222222222,
              "#7201a8"
             ],
             [
              0.3333333333333333,
              "#9c179e"
             ],
             [
              0.4444444444444444,
              "#bd3786"
             ],
             [
              0.5555555555555556,
              "#d8576b"
             ],
             [
              0.6666666666666666,
              "#ed7953"
             ],
             [
              0.7777777777777778,
              "#fb9f3a"
             ],
             [
              0.8888888888888888,
              "#fdca26"
             ],
             [
              1,
              "#f0f921"
             ]
            ],
            "type": "histogram2d"
           }
          ],
          "histogram2dcontour": [
           {
            "colorbar": {
             "outlinewidth": 0,
             "ticks": ""
            },
            "colorscale": [
             [
              0,
              "#0d0887"
             ],
             [
              0.1111111111111111,
              "#46039f"
             ],
             [
              0.2222222222222222,
              "#7201a8"
             ],
             [
              0.3333333333333333,
              "#9c179e"
             ],
             [
              0.4444444444444444,
              "#bd3786"
             ],
             [
              0.5555555555555556,
              "#d8576b"
             ],
             [
              0.6666666666666666,
              "#ed7953"
             ],
             [
              0.7777777777777778,
              "#fb9f3a"
             ],
             [
              0.8888888888888888,
              "#fdca26"
             ],
             [
              1,
              "#f0f921"
             ]
            ],
            "type": "histogram2dcontour"
           }
          ],
          "mesh3d": [
           {
            "colorbar": {
             "outlinewidth": 0,
             "ticks": ""
            },
            "type": "mesh3d"
           }
          ],
          "parcoords": [
           {
            "line": {
             "colorbar": {
              "outlinewidth": 0,
              "ticks": ""
             }
            },
            "type": "parcoords"
           }
          ],
          "pie": [
           {
            "automargin": true,
            "type": "pie"
           }
          ],
          "scatter": [
           {
            "marker": {
             "colorbar": {
              "outlinewidth": 0,
              "ticks": ""
             }
            },
            "type": "scatter"
           }
          ],
          "scatter3d": [
           {
            "line": {
             "colorbar": {
              "outlinewidth": 0,
              "ticks": ""
             }
            },
            "marker": {
             "colorbar": {
              "outlinewidth": 0,
              "ticks": ""
             }
            },
            "type": "scatter3d"
           }
          ],
          "scattercarpet": [
           {
            "marker": {
             "colorbar": {
              "outlinewidth": 0,
              "ticks": ""
             }
            },
            "type": "scattercarpet"
           }
          ],
          "scattergeo": [
           {
            "marker": {
             "colorbar": {
              "outlinewidth": 0,
              "ticks": ""
             }
            },
            "type": "scattergeo"
           }
          ],
          "scattergl": [
           {
            "marker": {
             "colorbar": {
              "outlinewidth": 0,
              "ticks": ""
             }
            },
            "type": "scattergl"
           }
          ],
          "scattermapbox": [
           {
            "marker": {
             "colorbar": {
              "outlinewidth": 0,
              "ticks": ""
             }
            },
            "type": "scattermapbox"
           }
          ],
          "scatterpolar": [
           {
            "marker": {
             "colorbar": {
              "outlinewidth": 0,
              "ticks": ""
             }
            },
            "type": "scatterpolar"
           }
          ],
          "scatterpolargl": [
           {
            "marker": {
             "colorbar": {
              "outlinewidth": 0,
              "ticks": ""
             }
            },
            "type": "scatterpolargl"
           }
          ],
          "scatterternary": [
           {
            "marker": {
             "colorbar": {
              "outlinewidth": 0,
              "ticks": ""
             }
            },
            "type": "scatterternary"
           }
          ],
          "surface": [
           {
            "colorbar": {
             "outlinewidth": 0,
             "ticks": ""
            },
            "colorscale": [
             [
              0,
              "#0d0887"
             ],
             [
              0.1111111111111111,
              "#46039f"
             ],
             [
              0.2222222222222222,
              "#7201a8"
             ],
             [
              0.3333333333333333,
              "#9c179e"
             ],
             [
              0.4444444444444444,
              "#bd3786"
             ],
             [
              0.5555555555555556,
              "#d8576b"
             ],
             [
              0.6666666666666666,
              "#ed7953"
             ],
             [
              0.7777777777777778,
              "#fb9f3a"
             ],
             [
              0.8888888888888888,
              "#fdca26"
             ],
             [
              1,
              "#f0f921"
             ]
            ],
            "type": "surface"
           }
          ],
          "table": [
           {
            "cells": {
             "fill": {
              "color": "#EBF0F8"
             },
             "line": {
              "color": "white"
             }
            },
            "header": {
             "fill": {
              "color": "#C8D4E3"
             },
             "line": {
              "color": "white"
             }
            },
            "type": "table"
           }
          ]
         },
         "layout": {
          "annotationdefaults": {
           "arrowcolor": "#2a3f5f",
           "arrowhead": 0,
           "arrowwidth": 1
          },
          "autotypenumbers": "strict",
          "coloraxis": {
           "colorbar": {
            "outlinewidth": 0,
            "ticks": ""
           }
          },
          "colorscale": {
           "diverging": [
            [
             0,
             "#8e0152"
            ],
            [
             0.1,
             "#c51b7d"
            ],
            [
             0.2,
             "#de77ae"
            ],
            [
             0.3,
             "#f1b6da"
            ],
            [
             0.4,
             "#fde0ef"
            ],
            [
             0.5,
             "#f7f7f7"
            ],
            [
             0.6,
             "#e6f5d0"
            ],
            [
             0.7,
             "#b8e186"
            ],
            [
             0.8,
             "#7fbc41"
            ],
            [
             0.9,
             "#4d9221"
            ],
            [
             1,
             "#276419"
            ]
           ],
           "sequential": [
            [
             0,
             "#0d0887"
            ],
            [
             0.1111111111111111,
             "#46039f"
            ],
            [
             0.2222222222222222,
             "#7201a8"
            ],
            [
             0.3333333333333333,
             "#9c179e"
            ],
            [
             0.4444444444444444,
             "#bd3786"
            ],
            [
             0.5555555555555556,
             "#d8576b"
            ],
            [
             0.6666666666666666,
             "#ed7953"
            ],
            [
             0.7777777777777778,
             "#fb9f3a"
            ],
            [
             0.8888888888888888,
             "#fdca26"
            ],
            [
             1,
             "#f0f921"
            ]
           ],
           "sequentialminus": [
            [
             0,
             "#0d0887"
            ],
            [
             0.1111111111111111,
             "#46039f"
            ],
            [
             0.2222222222222222,
             "#7201a8"
            ],
            [
             0.3333333333333333,
             "#9c179e"
            ],
            [
             0.4444444444444444,
             "#bd3786"
            ],
            [
             0.5555555555555556,
             "#d8576b"
            ],
            [
             0.6666666666666666,
             "#ed7953"
            ],
            [
             0.7777777777777778,
             "#fb9f3a"
            ],
            [
             0.8888888888888888,
             "#fdca26"
            ],
            [
             1,
             "#f0f921"
            ]
           ]
          },
          "colorway": [
           "#636efa",
           "#EF553B",
           "#00cc96",
           "#ab63fa",
           "#FFA15A",
           "#19d3f3",
           "#FF6692",
           "#B6E880",
           "#FF97FF",
           "#FECB52"
          ],
          "font": {
           "color": "#2a3f5f"
          },
          "geo": {
           "bgcolor": "white",
           "lakecolor": "white",
           "landcolor": "#E5ECF6",
           "showlakes": true,
           "showland": true,
           "subunitcolor": "white"
          },
          "hoverlabel": {
           "align": "left"
          },
          "hovermode": "closest",
          "mapbox": {
           "style": "light"
          },
          "paper_bgcolor": "white",
          "plot_bgcolor": "#E5ECF6",
          "polar": {
           "angularaxis": {
            "gridcolor": "white",
            "linecolor": "white",
            "ticks": ""
           },
           "bgcolor": "#E5ECF6",
           "radialaxis": {
            "gridcolor": "white",
            "linecolor": "white",
            "ticks": ""
           }
          },
          "scene": {
           "xaxis": {
            "backgroundcolor": "#E5ECF6",
            "gridcolor": "white",
            "gridwidth": 2,
            "linecolor": "white",
            "showbackground": true,
            "ticks": "",
            "zerolinecolor": "white"
           },
           "yaxis": {
            "backgroundcolor": "#E5ECF6",
            "gridcolor": "white",
            "gridwidth": 2,
            "linecolor": "white",
            "showbackground": true,
            "ticks": "",
            "zerolinecolor": "white"
           },
           "zaxis": {
            "backgroundcolor": "#E5ECF6",
            "gridcolor": "white",
            "gridwidth": 2,
            "linecolor": "white",
            "showbackground": true,
            "ticks": "",
            "zerolinecolor": "white"
           }
          },
          "shapedefaults": {
           "line": {
            "color": "#2a3f5f"
           }
          },
          "ternary": {
           "aaxis": {
            "gridcolor": "white",
            "linecolor": "white",
            "ticks": ""
           },
           "baxis": {
            "gridcolor": "white",
            "linecolor": "white",
            "ticks": ""
           },
           "bgcolor": "#E5ECF6",
           "caxis": {
            "gridcolor": "white",
            "linecolor": "white",
            "ticks": ""
           }
          },
          "title": {
           "x": 0.05
          },
          "xaxis": {
           "automargin": true,
           "gridcolor": "white",
           "linecolor": "white",
           "ticks": "",
           "title": {
            "standoff": 15
           },
           "zerolinecolor": "white",
           "zerolinewidth": 2
          },
          "yaxis": {
           "automargin": true,
           "gridcolor": "white",
           "linecolor": "white",
           "ticks": "",
           "title": {
            "standoff": 15
           },
           "zerolinecolor": "white",
           "zerolinewidth": 2
          }
         }
        },
        "title": {
         "font": {
          "color": "#4D5663"
         }
        },
        "xaxis": {
         "gridcolor": "#E1E5ED",
         "showgrid": true,
         "tickfont": {
          "color": "#4D5663"
         },
         "title": {
          "font": {
           "color": "#4D5663"
          },
          "text": ""
         },
         "zerolinecolor": "#E1E5ED"
        },
        "yaxis": {
         "gridcolor": "#E1E5ED",
         "showgrid": true,
         "tickfont": {
          "color": "#4D5663"
         },
         "title": {
          "font": {
           "color": "#4D5663"
          },
          "text": ""
         },
         "zerolinecolor": "#E1E5ED"
        }
       }
      }
     },
     "metadata": {}
    }
   ],
   "metadata": {}
  },
  {
   "cell_type": "code",
   "execution_count": 63,
   "source": [
    "#spread type visualization (used for stock visualization)\n",
    "df[['A','B']].iplot(kind='spread')"
   ],
   "outputs": [
    {
     "output_type": "stream",
     "name": "stderr",
     "text": [
      "C:\\Users\\souma\\anaconda3\\lib\\site-packages\\cufflinks\\plotlytools.py:849: FutureWarning:\n",
      "\n",
      "The pandas.np module is deprecated and will be removed from pandas in a future version. Import numpy directly instead\n",
      "\n",
      "C:\\Users\\souma\\anaconda3\\lib\\site-packages\\cufflinks\\plotlytools.py:850: FutureWarning:\n",
      "\n",
      "The pandas.np module is deprecated and will be removed from pandas in a future version. Import numpy directly instead\n",
      "\n"
     ]
    },
    {
     "output_type": "display_data",
     "data": {
      "text/html": [
       "<div>                            <div id=\"ab33c691-2e9b-44b1-8061-b411a576ef54\" class=\"plotly-graph-div\" style=\"height:525px; width:100%;\"></div>            <script type=\"text/javascript\">                require([\"plotly\"], function(Plotly) {                    window.PLOTLYENV=window.PLOTLYENV || {};\n",
       "                    window.PLOTLYENV.BASE_URL='https://plot.ly';                                    if (document.getElementById(\"ab33c691-2e9b-44b1-8061-b411a576ef54\")) {                    Plotly.newPlot(                        \"ab33c691-2e9b-44b1-8061-b411a576ef54\",                        [{\"line\":{\"color\":\"rgba(255, 153, 51, 1.0)\",\"dash\":\"solid\",\"shape\":\"linear\",\"width\":1.3},\"mode\":\"lines\",\"name\":\"A\",\"text\":\"\",\"type\":\"scatter\",\"x\":[0,1,2,3,4,5,6,7,8,9,10,11,12,13,14,15,16,17,18,19,20,21,22,23,24,25,26,27,28,29,30,31,32,33,34,35,36,37,38,39,40,41,42,43,44,45,46,47,48,49,50,51,52,53,54,55,56,57,58,59,60,61,62,63,64,65,66,67,68,69,70,71,72,73,74,75,76,77,78,79,80,81,82,83,84,85,86,87,88,89,90,91,92,93,94,95,96,97,98,99],\"y\":[1.2976308828245577,0.02891563246579733,0.6488033830640866,-0.6518967120779291,0.6103043670864998,-0.9802372938491501,-0.07589310574178512,-2.157880119655764,0.868733577307398,-0.9351261375377906,-0.055140764914955565,-0.28589654616041965,0.5289452063496645,0.2781921010010714,0.16374723355678183,-0.39239282708924167,0.8934440501370563,0.40827977634283436,-0.6959647939739411,-1.1815300420355552,1.1163964121590395,0.3065108458385955,-2.0341160588793805,1.2298468146505241,0.05746358452739269,-1.9000194599015916,0.1415749888678313,-1.2239433218446887,1.201220006696403,1.428560258537245,-1.140941921397734,0.5353234970155184,1.0940387658031,0.22424057672913128,-0.8824973957848675,-1.8185038357772296,0.7229169486376175,0.9124963031268156,0.11107936758643822,-0.08086602502924477,1.2099660155692962,1.8518300739265623,-0.12137650834889625,-0.4858190401877175,1.3395698942139476,-0.17521586297401584,-1.373835557744931,-0.1897204092619399,0.19203332056959913,-0.18036257996181526,-0.15620054902084546,-2.84142252943806,-0.4349542942415666,0.22380447679552914,1.0785492355179809,-0.32649171717218634,0.08433694066275796,-0.13755292295945926,-0.43063226950394184,0.17155096628062336,-1.6044580181981711,0.05717561589713138,-0.06195786489501751,0.6380612124143483,0.6194226191395767,-0.7093593036394797,-0.2941371278104831,0.5636335693906555,0.17585797078580842,1.8454840837179403,-0.3635563229777336,-0.5476291459186988,0.6971996263353732,-0.10273204605952994,1.4857175198711914,-0.9602307332292892,0.5908545524036684,0.4127672484937881,-0.5266758464083148,-1.2170831072505595,1.9285580051166684,2.233682040310963,1.333969398397583,0.423248589364245,0.22258221659675845,-0.4043164692696297,0.6594803798259496,-2.285942806656985,1.0281945074225356,-1.037158988731567,-0.5828485188740444,-0.313430618132578,-1.3874377073665272,0.4099640243163893,0.24071529001761394,-0.12017792683193004,-0.9686450621979947,-0.03808213244543389,1.8023761654438561,-1.4301276228609552]},{\"line\":{\"color\":\"rgba(55, 128, 191, 1.0)\",\"dash\":\"solid\",\"shape\":\"linear\",\"width\":1.3},\"mode\":\"lines\",\"name\":\"B\",\"text\":\"\",\"type\":\"scatter\",\"x\":[0,1,2,3,4,5,6,7,8,9,10,11,12,13,14,15,16,17,18,19,20,21,22,23,24,25,26,27,28,29,30,31,32,33,34,35,36,37,38,39,40,41,42,43,44,45,46,47,48,49,50,51,52,53,54,55,56,57,58,59,60,61,62,63,64,65,66,67,68,69,70,71,72,73,74,75,76,77,78,79,80,81,82,83,84,85,86,87,88,89,90,91,92,93,94,95,96,97,98,99],\"y\":[0.18926451945427628,0.16292694381339004,-0.566306058548627,-1.1871484670475736,-0.02625193941071388,0.6041199267212912,1.3741250423719473,-0.5088108537866691,0.19976539698307638,-1.395275921233364,-0.015878490774350308,0.8084804721162855,0.8034225968778593,-0.5168699421006512,-1.3796295609476623,-1.6941356174092017,-1.379959709057697,-0.11505112421545904,0.32984150289779074,-0.42834411191121147,1.2375552243795376,-0.5575710577973884,-0.1894786355299986,-0.23813580837486759,-0.45984534641133945,0.48937688393162654,0.576026131836969,-1.1993910275679727,0.15484795454435643,0.33950144682406125,0.31619953849918614,-0.8920510043930835,1.6552070877637908,1.0730130982097303,-0.09015798247656187,-1.0602573544408647,-0.5505686869004346,1.5327284332177737,-1.306471900965645,-0.3272434299662886,-0.4801211887802263,0.9169019760490729,-0.017979999266407094,-0.9511968823264166,-0.9627252363016441,-1.4628433017052838,-1.1821952702688425,-0.28148377358404764,-1.4044798089957289,0.062379443493298006,-1.261667708946712,2.0321741626905028,0.8208188001977202,1.5780470590866502,-1.5595133106751289,-0.5258041321901501,0.6970768226811306,-0.005408959849332933,0.0732974621650809,0.6935240608309962,0.345194496782059,-0.18429690989527864,0.22160274975209152,-0.4854806124075751,0.47488816725628835,-0.14852084415920547,0.8318360611705212,0.29468055995909737,-1.2880347602192437,0.35609655787191175,-0.22330297178159317,0.16497518724931692,0.2485388337776046,-0.7649918753979197,0.9026354406871174,-1.596064739107909,-0.6072502963690356,-0.7296920363391135,-0.7093956570250376,-0.9822586622490749,1.9182674900103864,-0.01898318330479451,-0.7695364688337993,0.9775997347713666,-0.5403883962773787,-0.0631483844680669,1.087217742194578,0.2926164774469953,-0.07524332323153042,0.5876958428402382,0.351391326724226,-1.0655695235292197,1.7359381836204664,-0.5167044830170687,-1.3410359409673123,-0.9910637169828151,-1.6014081994632958,-0.35636157582061334,-1.6790495903477574,-0.9810464442857267]},{\"connectgaps\":false,\"fill\":\"tozeroy\",\"line\":{\"color\":\"green\",\"dash\":\"solid\",\"shape\":\"linear\",\"width\":0.5},\"mode\":\"lines\",\"name\":\"Spread\",\"showlegend\":false,\"type\":\"scatter\",\"x\":[0,1,2,3,4,5,6,7,8,9,10,11,12,13,14,15,16,17,18,19,20,21,22,23,24,25,26,27,28,29,30,31,32,33,34,35,36,37,38,39,40,41,42,43,44,45,46,47,48,49,50,51,52,53,54,55,56,57,58,59,60,61,62,63,64,65,66,67,68,69,70,71,72,73,74,75,76,77,78,79,80,81,82,83,84,85,86,87,88,89,90,91,92,93,94,95,96,97,98,99],\"xaxis\":\"x2\",\"y\":[1.1083663633702814,\"\",1.2151094416127135,0.5352517549696445,0.6365563064972137,\"\",\"\",\"\",0.6689681803243216,0.46014978369557347,\"\",\"\",\"\",0.7950620431017226,1.543376794504444,1.30174279031996,2.2734037591947533,0.5233309005582933,\"\",\"\",\"\",0.8640819036359839,\"\",1.4679826230253918,0.5173089309387321,\"\",\"\",\"\",1.0463720521520465,1.0890588117131839,\"\",1.427374501408602,\"\",\"\",\"\",\"\",1.273485635538052,\"\",1.4175512685520832,0.2463774049370438,1.6900872043495225,0.9349280978774894,\"\",0.46537784213869915,2.3022951305155916,1.2876274387312678,\"\",0.09176336432210774,1.596513129565328,\"\",1.1054671599258667,\"\",\"\",\"\",2.63806254619311,0.19931241501796376,\"\",\"\",\"\",\"\",\"\",0.24147252579241002,\"\",1.1235418248219236,0.1445344518832884,\"\",\"\",0.2689530094315581,1.463892731005052,1.4893875258460285,\"\",\"\",0.44866079255776864,0.6622598293383898,0.583082079184074,0.6358340058786198,1.198104848772704,1.1424592848329016,0.18271981061672282,\"\",0.010290515106281983,2.2526652236157574,2.1035058672313824,\"\",0.7629706128741371,\"\",\"\",\"\",1.103437830654066,\"\",\"\",0.7521389053966417,\"\",0.926668507333458,1.5817512309849262,0.8708857901508851,0.6327631372653011,0.31827944337517944,3.4814257557916135,\"\"],\"yaxis\":\"y2\"},{\"connectgaps\":false,\"fill\":\"tozeroy\",\"line\":{\"color\":\"red\",\"dash\":\"solid\",\"shape\":\"linear\",\"width\":0.5},\"mode\":\"lines\",\"name\":\"Spread\",\"showlegend\":false,\"type\":\"scatter\",\"x\":[0,1,2,3,4,5,6,7,8,9,10,11,12,13,14,15,16,17,18,19,20,21,22,23,24,25,26,27,28,29,30,31,32,33,34,35,36,37,38,39,40,41,42,43,44,45,46,47,48,49,50,51,52,53,54,55,56,57,58,59,60,61,62,63,64,65,66,67,68,69,70,71,72,73,74,75,76,77,78,79,80,81,82,83,84,85,86,87,88,89,90,91,92,93,94,95,96,97,98,99],\"xaxis\":\"x2\",\"y\":[\"\",-0.1340113113475927,\"\",\"\",\"\",-1.5843572205704413,-1.4500181481137324,-1.6490692658690949,\"\",\"\",-0.039262274140605256,-1.0943770182767052,-0.27447739052819486,\"\",\"\",\"\",\"\",\"\",-1.0258062968717319,-0.7531859301243438,-0.12115881222049807,\"\",-1.8446374233493819,\"\",\"\",-2.389396343833218,-0.4344511429691378,-0.024552294276716013,\"\",\"\",-1.4571414598969201,\"\",-0.5611683219606907,-0.848772521480599,-0.7923394133083057,-0.758246481336365,\"\",-0.6202321300909581,\"\",\"\",\"\",\"\",-0.10339650908248915,\"\",\"\",\"\",-0.19164028747608852,\"\",\"\",-0.24274202345511325,\"\",-4.873596692128563,-1.2557730944392869,-1.354242582291121,\"\",\"\",-0.6127398820183726,-0.13214396311012633,-0.5039297316690228,-0.5219730945503728,-1.9496525149802302,\"\",-0.283560614647109,\"\",\"\",-0.5608384594802742,-1.1259731889810043,\"\",\"\",\"\",-0.14025335119614044,-0.7126043331680157,\"\",\"\",\"\",\"\",\"\",\"\",\"\",-0.23482444500148458,\"\",\"\",\"\",-0.5543511454071217,\"\",-0.3411680848015628,-0.42773736236862825,-2.5785592841039806,\"\",-1.6248548315718052,-0.9342398455982704,\"\",-3.1233758909869938,\"\",\"\",\"\",\"\",\"\",\"\",-0.44908117857522845],\"yaxis\":\"y2\"}],                        {\"hovermode\":\"x\",\"legend\":{\"bgcolor\":\"#F5F6F9\",\"font\":{\"color\":\"#4D5663\"}},\"paper_bgcolor\":\"#F5F6F9\",\"plot_bgcolor\":\"#F5F6F9\",\"template\":{\"data\":{\"bar\":[{\"error_x\":{\"color\":\"#2a3f5f\"},\"error_y\":{\"color\":\"#2a3f5f\"},\"marker\":{\"line\":{\"color\":\"#E5ECF6\",\"width\":0.5},\"pattern\":{\"fillmode\":\"overlay\",\"size\":10,\"solidity\":0.2}},\"type\":\"bar\"}],\"barpolar\":[{\"marker\":{\"line\":{\"color\":\"#E5ECF6\",\"width\":0.5},\"pattern\":{\"fillmode\":\"overlay\",\"size\":10,\"solidity\":0.2}},\"type\":\"barpolar\"}],\"carpet\":[{\"aaxis\":{\"endlinecolor\":\"#2a3f5f\",\"gridcolor\":\"white\",\"linecolor\":\"white\",\"minorgridcolor\":\"white\",\"startlinecolor\":\"#2a3f5f\"},\"baxis\":{\"endlinecolor\":\"#2a3f5f\",\"gridcolor\":\"white\",\"linecolor\":\"white\",\"minorgridcolor\":\"white\",\"startlinecolor\":\"#2a3f5f\"},\"type\":\"carpet\"}],\"choropleth\":[{\"colorbar\":{\"outlinewidth\":0,\"ticks\":\"\"},\"type\":\"choropleth\"}],\"contour\":[{\"colorbar\":{\"outlinewidth\":0,\"ticks\":\"\"},\"colorscale\":[[0.0,\"#0d0887\"],[0.1111111111111111,\"#46039f\"],[0.2222222222222222,\"#7201a8\"],[0.3333333333333333,\"#9c179e\"],[0.4444444444444444,\"#bd3786\"],[0.5555555555555556,\"#d8576b\"],[0.6666666666666666,\"#ed7953\"],[0.7777777777777778,\"#fb9f3a\"],[0.8888888888888888,\"#fdca26\"],[1.0,\"#f0f921\"]],\"type\":\"contour\"}],\"contourcarpet\":[{\"colorbar\":{\"outlinewidth\":0,\"ticks\":\"\"},\"type\":\"contourcarpet\"}],\"heatmap\":[{\"colorbar\":{\"outlinewidth\":0,\"ticks\":\"\"},\"colorscale\":[[0.0,\"#0d0887\"],[0.1111111111111111,\"#46039f\"],[0.2222222222222222,\"#7201a8\"],[0.3333333333333333,\"#9c179e\"],[0.4444444444444444,\"#bd3786\"],[0.5555555555555556,\"#d8576b\"],[0.6666666666666666,\"#ed7953\"],[0.7777777777777778,\"#fb9f3a\"],[0.8888888888888888,\"#fdca26\"],[1.0,\"#f0f921\"]],\"type\":\"heatmap\"}],\"heatmapgl\":[{\"colorbar\":{\"outlinewidth\":0,\"ticks\":\"\"},\"colorscale\":[[0.0,\"#0d0887\"],[0.1111111111111111,\"#46039f\"],[0.2222222222222222,\"#7201a8\"],[0.3333333333333333,\"#9c179e\"],[0.4444444444444444,\"#bd3786\"],[0.5555555555555556,\"#d8576b\"],[0.6666666666666666,\"#ed7953\"],[0.7777777777777778,\"#fb9f3a\"],[0.8888888888888888,\"#fdca26\"],[1.0,\"#f0f921\"]],\"type\":\"heatmapgl\"}],\"histogram\":[{\"marker\":{\"pattern\":{\"fillmode\":\"overlay\",\"size\":10,\"solidity\":0.2}},\"type\":\"histogram\"}],\"histogram2d\":[{\"colorbar\":{\"outlinewidth\":0,\"ticks\":\"\"},\"colorscale\":[[0.0,\"#0d0887\"],[0.1111111111111111,\"#46039f\"],[0.2222222222222222,\"#7201a8\"],[0.3333333333333333,\"#9c179e\"],[0.4444444444444444,\"#bd3786\"],[0.5555555555555556,\"#d8576b\"],[0.6666666666666666,\"#ed7953\"],[0.7777777777777778,\"#fb9f3a\"],[0.8888888888888888,\"#fdca26\"],[1.0,\"#f0f921\"]],\"type\":\"histogram2d\"}],\"histogram2dcontour\":[{\"colorbar\":{\"outlinewidth\":0,\"ticks\":\"\"},\"colorscale\":[[0.0,\"#0d0887\"],[0.1111111111111111,\"#46039f\"],[0.2222222222222222,\"#7201a8\"],[0.3333333333333333,\"#9c179e\"],[0.4444444444444444,\"#bd3786\"],[0.5555555555555556,\"#d8576b\"],[0.6666666666666666,\"#ed7953\"],[0.7777777777777778,\"#fb9f3a\"],[0.8888888888888888,\"#fdca26\"],[1.0,\"#f0f921\"]],\"type\":\"histogram2dcontour\"}],\"mesh3d\":[{\"colorbar\":{\"outlinewidth\":0,\"ticks\":\"\"},\"type\":\"mesh3d\"}],\"parcoords\":[{\"line\":{\"colorbar\":{\"outlinewidth\":0,\"ticks\":\"\"}},\"type\":\"parcoords\"}],\"pie\":[{\"automargin\":true,\"type\":\"pie\"}],\"scatter\":[{\"marker\":{\"colorbar\":{\"outlinewidth\":0,\"ticks\":\"\"}},\"type\":\"scatter\"}],\"scatter3d\":[{\"line\":{\"colorbar\":{\"outlinewidth\":0,\"ticks\":\"\"}},\"marker\":{\"colorbar\":{\"outlinewidth\":0,\"ticks\":\"\"}},\"type\":\"scatter3d\"}],\"scattercarpet\":[{\"marker\":{\"colorbar\":{\"outlinewidth\":0,\"ticks\":\"\"}},\"type\":\"scattercarpet\"}],\"scattergeo\":[{\"marker\":{\"colorbar\":{\"outlinewidth\":0,\"ticks\":\"\"}},\"type\":\"scattergeo\"}],\"scattergl\":[{\"marker\":{\"colorbar\":{\"outlinewidth\":0,\"ticks\":\"\"}},\"type\":\"scattergl\"}],\"scattermapbox\":[{\"marker\":{\"colorbar\":{\"outlinewidth\":0,\"ticks\":\"\"}},\"type\":\"scattermapbox\"}],\"scatterpolar\":[{\"marker\":{\"colorbar\":{\"outlinewidth\":0,\"ticks\":\"\"}},\"type\":\"scatterpolar\"}],\"scatterpolargl\":[{\"marker\":{\"colorbar\":{\"outlinewidth\":0,\"ticks\":\"\"}},\"type\":\"scatterpolargl\"}],\"scatterternary\":[{\"marker\":{\"colorbar\":{\"outlinewidth\":0,\"ticks\":\"\"}},\"type\":\"scatterternary\"}],\"surface\":[{\"colorbar\":{\"outlinewidth\":0,\"ticks\":\"\"},\"colorscale\":[[0.0,\"#0d0887\"],[0.1111111111111111,\"#46039f\"],[0.2222222222222222,\"#7201a8\"],[0.3333333333333333,\"#9c179e\"],[0.4444444444444444,\"#bd3786\"],[0.5555555555555556,\"#d8576b\"],[0.6666666666666666,\"#ed7953\"],[0.7777777777777778,\"#fb9f3a\"],[0.8888888888888888,\"#fdca26\"],[1.0,\"#f0f921\"]],\"type\":\"surface\"}],\"table\":[{\"cells\":{\"fill\":{\"color\":\"#EBF0F8\"},\"line\":{\"color\":\"white\"}},\"header\":{\"fill\":{\"color\":\"#C8D4E3\"},\"line\":{\"color\":\"white\"}},\"type\":\"table\"}]},\"layout\":{\"annotationdefaults\":{\"arrowcolor\":\"#2a3f5f\",\"arrowhead\":0,\"arrowwidth\":1},\"autotypenumbers\":\"strict\",\"coloraxis\":{\"colorbar\":{\"outlinewidth\":0,\"ticks\":\"\"}},\"colorscale\":{\"diverging\":[[0,\"#8e0152\"],[0.1,\"#c51b7d\"],[0.2,\"#de77ae\"],[0.3,\"#f1b6da\"],[0.4,\"#fde0ef\"],[0.5,\"#f7f7f7\"],[0.6,\"#e6f5d0\"],[0.7,\"#b8e186\"],[0.8,\"#7fbc41\"],[0.9,\"#4d9221\"],[1,\"#276419\"]],\"sequential\":[[0.0,\"#0d0887\"],[0.1111111111111111,\"#46039f\"],[0.2222222222222222,\"#7201a8\"],[0.3333333333333333,\"#9c179e\"],[0.4444444444444444,\"#bd3786\"],[0.5555555555555556,\"#d8576b\"],[0.6666666666666666,\"#ed7953\"],[0.7777777777777778,\"#fb9f3a\"],[0.8888888888888888,\"#fdca26\"],[1.0,\"#f0f921\"]],\"sequentialminus\":[[0.0,\"#0d0887\"],[0.1111111111111111,\"#46039f\"],[0.2222222222222222,\"#7201a8\"],[0.3333333333333333,\"#9c179e\"],[0.4444444444444444,\"#bd3786\"],[0.5555555555555556,\"#d8576b\"],[0.6666666666666666,\"#ed7953\"],[0.7777777777777778,\"#fb9f3a\"],[0.8888888888888888,\"#fdca26\"],[1.0,\"#f0f921\"]]},\"colorway\":[\"#636efa\",\"#EF553B\",\"#00cc96\",\"#ab63fa\",\"#FFA15A\",\"#19d3f3\",\"#FF6692\",\"#B6E880\",\"#FF97FF\",\"#FECB52\"],\"font\":{\"color\":\"#2a3f5f\"},\"geo\":{\"bgcolor\":\"white\",\"lakecolor\":\"white\",\"landcolor\":\"#E5ECF6\",\"showlakes\":true,\"showland\":true,\"subunitcolor\":\"white\"},\"hoverlabel\":{\"align\":\"left\"},\"hovermode\":\"closest\",\"mapbox\":{\"style\":\"light\"},\"paper_bgcolor\":\"white\",\"plot_bgcolor\":\"#E5ECF6\",\"polar\":{\"angularaxis\":{\"gridcolor\":\"white\",\"linecolor\":\"white\",\"ticks\":\"\"},\"bgcolor\":\"#E5ECF6\",\"radialaxis\":{\"gridcolor\":\"white\",\"linecolor\":\"white\",\"ticks\":\"\"}},\"scene\":{\"xaxis\":{\"backgroundcolor\":\"#E5ECF6\",\"gridcolor\":\"white\",\"gridwidth\":2,\"linecolor\":\"white\",\"showbackground\":true,\"ticks\":\"\",\"zerolinecolor\":\"white\"},\"yaxis\":{\"backgroundcolor\":\"#E5ECF6\",\"gridcolor\":\"white\",\"gridwidth\":2,\"linecolor\":\"white\",\"showbackground\":true,\"ticks\":\"\",\"zerolinecolor\":\"white\"},\"zaxis\":{\"backgroundcolor\":\"#E5ECF6\",\"gridcolor\":\"white\",\"gridwidth\":2,\"linecolor\":\"white\",\"showbackground\":true,\"ticks\":\"\",\"zerolinecolor\":\"white\"}},\"shapedefaults\":{\"line\":{\"color\":\"#2a3f5f\"}},\"ternary\":{\"aaxis\":{\"gridcolor\":\"white\",\"linecolor\":\"white\",\"ticks\":\"\"},\"baxis\":{\"gridcolor\":\"white\",\"linecolor\":\"white\",\"ticks\":\"\"},\"bgcolor\":\"#E5ECF6\",\"caxis\":{\"gridcolor\":\"white\",\"linecolor\":\"white\",\"ticks\":\"\"}},\"title\":{\"x\":0.05},\"xaxis\":{\"automargin\":true,\"gridcolor\":\"white\",\"linecolor\":\"white\",\"ticks\":\"\",\"title\":{\"standoff\":15},\"zerolinecolor\":\"white\",\"zerolinewidth\":2},\"yaxis\":{\"automargin\":true,\"gridcolor\":\"white\",\"linecolor\":\"white\",\"ticks\":\"\",\"title\":{\"standoff\":15},\"zerolinecolor\":\"white\",\"zerolinewidth\":2}}},\"title\":{\"font\":{\"color\":\"#4D5663\"}},\"xaxis\":{\"gridcolor\":\"#E1E5ED\",\"showgrid\":true,\"tickfont\":{\"color\":\"#4D5663\"},\"title\":{\"font\":{\"color\":\"#4D5663\"},\"text\":\"\"},\"zerolinecolor\":\"#E1E5ED\"},\"xaxis2\":{\"anchor\":\"y2\",\"gridcolor\":\"#E1E5ED\",\"showgrid\":true,\"showticklabels\":false,\"tickfont\":{\"color\":\"#4D5663\"},\"title\":{\"font\":{\"color\":\"#4D5663\"},\"text\":\"\"},\"zerolinecolor\":\"#E1E5ED\"},\"yaxis\":{\"domain\":[0.3,1],\"gridcolor\":\"#E1E5ED\",\"showgrid\":true,\"tickfont\":{\"color\":\"#4D5663\"},\"title\":{\"font\":{\"color\":\"#4D5663\"},\"text\":\"\"},\"zerolinecolor\":\"#E1E5ED\"},\"yaxis2\":{\"domain\":[0,0.25],\"gridcolor\":\"#E1E5ED\",\"showgrid\":true,\"tickfont\":{\"color\":\"#4D5663\"},\"title\":{\"font\":{\"color\":\"#4D5663\"},\"text\":\"Spread\"},\"zerolinecolor\":\"#E1E5ED\"}},                        {\"showLink\": true, \"linkText\": \"Export to plot.ly\", \"plotlyServerURL\": \"https://plot.ly\", \"responsive\": true}                    ).then(function(){\n",
       "                            \n",
       "var gd = document.getElementById('ab33c691-2e9b-44b1-8061-b411a576ef54');\n",
       "var x = new MutationObserver(function (mutations, observer) {{\n",
       "        var display = window.getComputedStyle(gd).display;\n",
       "        if (!display || display === 'none') {{\n",
       "            console.log([gd, 'removed!']);\n",
       "            Plotly.purge(gd);\n",
       "            observer.disconnect();\n",
       "        }}\n",
       "}});\n",
       "\n",
       "// Listen for the removal of the full notebook cells\n",
       "var notebookContainer = gd.closest('#notebook-container');\n",
       "if (notebookContainer) {{\n",
       "    x.observe(notebookContainer, {childList: true});\n",
       "}}\n",
       "\n",
       "// Listen for the clearing of the current output cell\n",
       "var outputEl = gd.closest('.output');\n",
       "if (outputEl) {{\n",
       "    x.observe(outputEl, {childList: true});\n",
       "}}\n",
       "\n",
       "                        })                };                });            </script>        </div>"
      ],
      "application/vnd.plotly.v1+json": {
       "config": {
        "linkText": "Export to plot.ly",
        "plotlyServerURL": "https://plot.ly",
        "showLink": true
       },
       "data": [
        {
         "line": {
          "color": "rgba(255, 153, 51, 1.0)",
          "dash": "solid",
          "shape": "linear",
          "width": 1.3
         },
         "mode": "lines",
         "name": "A",
         "text": "",
         "type": "scatter",
         "x": [
          0,
          1,
          2,
          3,
          4,
          5,
          6,
          7,
          8,
          9,
          10,
          11,
          12,
          13,
          14,
          15,
          16,
          17,
          18,
          19,
          20,
          21,
          22,
          23,
          24,
          25,
          26,
          27,
          28,
          29,
          30,
          31,
          32,
          33,
          34,
          35,
          36,
          37,
          38,
          39,
          40,
          41,
          42,
          43,
          44,
          45,
          46,
          47,
          48,
          49,
          50,
          51,
          52,
          53,
          54,
          55,
          56,
          57,
          58,
          59,
          60,
          61,
          62,
          63,
          64,
          65,
          66,
          67,
          68,
          69,
          70,
          71,
          72,
          73,
          74,
          75,
          76,
          77,
          78,
          79,
          80,
          81,
          82,
          83,
          84,
          85,
          86,
          87,
          88,
          89,
          90,
          91,
          92,
          93,
          94,
          95,
          96,
          97,
          98,
          99
         ],
         "y": [
          1.2976308828245577,
          0.02891563246579733,
          0.6488033830640866,
          -0.6518967120779291,
          0.6103043670864998,
          -0.9802372938491501,
          -0.07589310574178512,
          -2.157880119655764,
          0.868733577307398,
          -0.9351261375377906,
          -0.055140764914955565,
          -0.28589654616041965,
          0.5289452063496645,
          0.2781921010010714,
          0.16374723355678183,
          -0.39239282708924167,
          0.8934440501370563,
          0.40827977634283436,
          -0.6959647939739411,
          -1.1815300420355552,
          1.1163964121590395,
          0.3065108458385955,
          -2.0341160588793805,
          1.2298468146505241,
          0.05746358452739269,
          -1.9000194599015916,
          0.1415749888678313,
          -1.2239433218446887,
          1.201220006696403,
          1.428560258537245,
          -1.140941921397734,
          0.5353234970155184,
          1.0940387658031,
          0.22424057672913128,
          -0.8824973957848675,
          -1.8185038357772296,
          0.7229169486376175,
          0.9124963031268156,
          0.11107936758643822,
          -0.08086602502924477,
          1.2099660155692962,
          1.8518300739265623,
          -0.12137650834889625,
          -0.4858190401877175,
          1.3395698942139476,
          -0.17521586297401584,
          -1.373835557744931,
          -0.1897204092619399,
          0.19203332056959913,
          -0.18036257996181526,
          -0.15620054902084546,
          -2.84142252943806,
          -0.4349542942415666,
          0.22380447679552914,
          1.0785492355179809,
          -0.32649171717218634,
          0.08433694066275796,
          -0.13755292295945926,
          -0.43063226950394184,
          0.17155096628062336,
          -1.6044580181981711,
          0.05717561589713138,
          -0.06195786489501751,
          0.6380612124143483,
          0.6194226191395767,
          -0.7093593036394797,
          -0.2941371278104831,
          0.5636335693906555,
          0.17585797078580842,
          1.8454840837179403,
          -0.3635563229777336,
          -0.5476291459186988,
          0.6971996263353732,
          -0.10273204605952994,
          1.4857175198711914,
          -0.9602307332292892,
          0.5908545524036684,
          0.4127672484937881,
          -0.5266758464083148,
          -1.2170831072505595,
          1.9285580051166684,
          2.233682040310963,
          1.333969398397583,
          0.423248589364245,
          0.22258221659675845,
          -0.4043164692696297,
          0.6594803798259496,
          -2.285942806656985,
          1.0281945074225356,
          -1.037158988731567,
          -0.5828485188740444,
          -0.313430618132578,
          -1.3874377073665272,
          0.4099640243163893,
          0.24071529001761394,
          -0.12017792683193004,
          -0.9686450621979947,
          -0.03808213244543389,
          1.8023761654438561,
          -1.4301276228609552
         ]
        },
        {
         "line": {
          "color": "rgba(55, 128, 191, 1.0)",
          "dash": "solid",
          "shape": "linear",
          "width": 1.3
         },
         "mode": "lines",
         "name": "B",
         "text": "",
         "type": "scatter",
         "x": [
          0,
          1,
          2,
          3,
          4,
          5,
          6,
          7,
          8,
          9,
          10,
          11,
          12,
          13,
          14,
          15,
          16,
          17,
          18,
          19,
          20,
          21,
          22,
          23,
          24,
          25,
          26,
          27,
          28,
          29,
          30,
          31,
          32,
          33,
          34,
          35,
          36,
          37,
          38,
          39,
          40,
          41,
          42,
          43,
          44,
          45,
          46,
          47,
          48,
          49,
          50,
          51,
          52,
          53,
          54,
          55,
          56,
          57,
          58,
          59,
          60,
          61,
          62,
          63,
          64,
          65,
          66,
          67,
          68,
          69,
          70,
          71,
          72,
          73,
          74,
          75,
          76,
          77,
          78,
          79,
          80,
          81,
          82,
          83,
          84,
          85,
          86,
          87,
          88,
          89,
          90,
          91,
          92,
          93,
          94,
          95,
          96,
          97,
          98,
          99
         ],
         "y": [
          0.18926451945427628,
          0.16292694381339004,
          -0.566306058548627,
          -1.1871484670475736,
          -0.02625193941071388,
          0.6041199267212912,
          1.3741250423719473,
          -0.5088108537866691,
          0.19976539698307638,
          -1.395275921233364,
          -0.015878490774350308,
          0.8084804721162855,
          0.8034225968778593,
          -0.5168699421006512,
          -1.3796295609476623,
          -1.6941356174092017,
          -1.379959709057697,
          -0.11505112421545904,
          0.32984150289779074,
          -0.42834411191121147,
          1.2375552243795376,
          -0.5575710577973884,
          -0.1894786355299986,
          -0.23813580837486759,
          -0.45984534641133945,
          0.48937688393162654,
          0.576026131836969,
          -1.1993910275679727,
          0.15484795454435643,
          0.33950144682406125,
          0.31619953849918614,
          -0.8920510043930835,
          1.6552070877637908,
          1.0730130982097303,
          -0.09015798247656187,
          -1.0602573544408647,
          -0.5505686869004346,
          1.5327284332177737,
          -1.306471900965645,
          -0.3272434299662886,
          -0.4801211887802263,
          0.9169019760490729,
          -0.017979999266407094,
          -0.9511968823264166,
          -0.9627252363016441,
          -1.4628433017052838,
          -1.1821952702688425,
          -0.28148377358404764,
          -1.4044798089957289,
          0.062379443493298006,
          -1.261667708946712,
          2.0321741626905028,
          0.8208188001977202,
          1.5780470590866502,
          -1.5595133106751289,
          -0.5258041321901501,
          0.6970768226811306,
          -0.005408959849332933,
          0.0732974621650809,
          0.6935240608309962,
          0.345194496782059,
          -0.18429690989527864,
          0.22160274975209152,
          -0.4854806124075751,
          0.47488816725628835,
          -0.14852084415920547,
          0.8318360611705212,
          0.29468055995909737,
          -1.2880347602192437,
          0.35609655787191175,
          -0.22330297178159317,
          0.16497518724931692,
          0.2485388337776046,
          -0.7649918753979197,
          0.9026354406871174,
          -1.596064739107909,
          -0.6072502963690356,
          -0.7296920363391135,
          -0.7093956570250376,
          -0.9822586622490749,
          1.9182674900103864,
          -0.01898318330479451,
          -0.7695364688337993,
          0.9775997347713666,
          -0.5403883962773787,
          -0.0631483844680669,
          1.087217742194578,
          0.2926164774469953,
          -0.07524332323153042,
          0.5876958428402382,
          0.351391326724226,
          -1.0655695235292197,
          1.7359381836204664,
          -0.5167044830170687,
          -1.3410359409673123,
          -0.9910637169828151,
          -1.6014081994632958,
          -0.35636157582061334,
          -1.6790495903477574,
          -0.9810464442857267
         ]
        },
        {
         "connectgaps": false,
         "fill": "tozeroy",
         "line": {
          "color": "green",
          "dash": "solid",
          "shape": "linear",
          "width": 0.5
         },
         "mode": "lines",
         "name": "Spread",
         "showlegend": false,
         "type": "scatter",
         "x": [
          0,
          1,
          2,
          3,
          4,
          5,
          6,
          7,
          8,
          9,
          10,
          11,
          12,
          13,
          14,
          15,
          16,
          17,
          18,
          19,
          20,
          21,
          22,
          23,
          24,
          25,
          26,
          27,
          28,
          29,
          30,
          31,
          32,
          33,
          34,
          35,
          36,
          37,
          38,
          39,
          40,
          41,
          42,
          43,
          44,
          45,
          46,
          47,
          48,
          49,
          50,
          51,
          52,
          53,
          54,
          55,
          56,
          57,
          58,
          59,
          60,
          61,
          62,
          63,
          64,
          65,
          66,
          67,
          68,
          69,
          70,
          71,
          72,
          73,
          74,
          75,
          76,
          77,
          78,
          79,
          80,
          81,
          82,
          83,
          84,
          85,
          86,
          87,
          88,
          89,
          90,
          91,
          92,
          93,
          94,
          95,
          96,
          97,
          98,
          99
         ],
         "xaxis": "x2",
         "y": [
          1.1083663633702814,
          "",
          1.2151094416127135,
          0.5352517549696445,
          0.6365563064972137,
          "",
          "",
          "",
          0.6689681803243216,
          0.46014978369557347,
          "",
          "",
          "",
          0.7950620431017226,
          1.543376794504444,
          1.30174279031996,
          2.2734037591947533,
          0.5233309005582933,
          "",
          "",
          "",
          0.8640819036359839,
          "",
          1.4679826230253918,
          0.5173089309387321,
          "",
          "",
          "",
          1.0463720521520465,
          1.0890588117131839,
          "",
          1.427374501408602,
          "",
          "",
          "",
          "",
          1.273485635538052,
          "",
          1.4175512685520832,
          0.2463774049370438,
          1.6900872043495225,
          0.9349280978774894,
          "",
          0.46537784213869915,
          2.3022951305155916,
          1.2876274387312678,
          "",
          0.09176336432210774,
          1.596513129565328,
          "",
          1.1054671599258667,
          "",
          "",
          "",
          2.63806254619311,
          0.19931241501796376,
          "",
          "",
          "",
          "",
          "",
          0.24147252579241002,
          "",
          1.1235418248219236,
          0.1445344518832884,
          "",
          "",
          0.2689530094315581,
          1.463892731005052,
          1.4893875258460285,
          "",
          "",
          0.44866079255776864,
          0.6622598293383898,
          0.583082079184074,
          0.6358340058786198,
          1.198104848772704,
          1.1424592848329016,
          0.18271981061672282,
          "",
          0.010290515106281983,
          2.2526652236157574,
          2.1035058672313824,
          "",
          0.7629706128741371,
          "",
          "",
          "",
          1.103437830654066,
          "",
          "",
          0.7521389053966417,
          "",
          0.926668507333458,
          1.5817512309849262,
          0.8708857901508851,
          0.6327631372653011,
          0.31827944337517944,
          3.4814257557916135,
          ""
         ],
         "yaxis": "y2"
        },
        {
         "connectgaps": false,
         "fill": "tozeroy",
         "line": {
          "color": "red",
          "dash": "solid",
          "shape": "linear",
          "width": 0.5
         },
         "mode": "lines",
         "name": "Spread",
         "showlegend": false,
         "type": "scatter",
         "x": [
          0,
          1,
          2,
          3,
          4,
          5,
          6,
          7,
          8,
          9,
          10,
          11,
          12,
          13,
          14,
          15,
          16,
          17,
          18,
          19,
          20,
          21,
          22,
          23,
          24,
          25,
          26,
          27,
          28,
          29,
          30,
          31,
          32,
          33,
          34,
          35,
          36,
          37,
          38,
          39,
          40,
          41,
          42,
          43,
          44,
          45,
          46,
          47,
          48,
          49,
          50,
          51,
          52,
          53,
          54,
          55,
          56,
          57,
          58,
          59,
          60,
          61,
          62,
          63,
          64,
          65,
          66,
          67,
          68,
          69,
          70,
          71,
          72,
          73,
          74,
          75,
          76,
          77,
          78,
          79,
          80,
          81,
          82,
          83,
          84,
          85,
          86,
          87,
          88,
          89,
          90,
          91,
          92,
          93,
          94,
          95,
          96,
          97,
          98,
          99
         ],
         "xaxis": "x2",
         "y": [
          "",
          -0.1340113113475927,
          "",
          "",
          "",
          -1.5843572205704413,
          -1.4500181481137324,
          -1.6490692658690949,
          "",
          "",
          -0.039262274140605256,
          -1.0943770182767052,
          -0.27447739052819486,
          "",
          "",
          "",
          "",
          "",
          -1.0258062968717319,
          -0.7531859301243438,
          -0.12115881222049807,
          "",
          -1.8446374233493819,
          "",
          "",
          -2.389396343833218,
          -0.4344511429691378,
          -0.024552294276716013,
          "",
          "",
          -1.4571414598969201,
          "",
          -0.5611683219606907,
          -0.848772521480599,
          -0.7923394133083057,
          -0.758246481336365,
          "",
          -0.6202321300909581,
          "",
          "",
          "",
          "",
          -0.10339650908248915,
          "",
          "",
          "",
          -0.19164028747608852,
          "",
          "",
          -0.24274202345511325,
          "",
          -4.873596692128563,
          -1.2557730944392869,
          -1.354242582291121,
          "",
          "",
          -0.6127398820183726,
          -0.13214396311012633,
          -0.5039297316690228,
          -0.5219730945503728,
          -1.9496525149802302,
          "",
          -0.283560614647109,
          "",
          "",
          -0.5608384594802742,
          -1.1259731889810043,
          "",
          "",
          "",
          -0.14025335119614044,
          -0.7126043331680157,
          "",
          "",
          "",
          "",
          "",
          "",
          "",
          -0.23482444500148458,
          "",
          "",
          "",
          -0.5543511454071217,
          "",
          -0.3411680848015628,
          -0.42773736236862825,
          -2.5785592841039806,
          "",
          -1.6248548315718052,
          -0.9342398455982704,
          "",
          -3.1233758909869938,
          "",
          "",
          "",
          "",
          "",
          "",
          -0.44908117857522845
         ],
         "yaxis": "y2"
        }
       ],
       "layout": {
        "hovermode": "x",
        "legend": {
         "bgcolor": "#F5F6F9",
         "font": {
          "color": "#4D5663"
         }
        },
        "paper_bgcolor": "#F5F6F9",
        "plot_bgcolor": "#F5F6F9",
        "template": {
         "data": {
          "bar": [
           {
            "error_x": {
             "color": "#2a3f5f"
            },
            "error_y": {
             "color": "#2a3f5f"
            },
            "marker": {
             "line": {
              "color": "#E5ECF6",
              "width": 0.5
             },
             "pattern": {
              "fillmode": "overlay",
              "size": 10,
              "solidity": 0.2
             }
            },
            "type": "bar"
           }
          ],
          "barpolar": [
           {
            "marker": {
             "line": {
              "color": "#E5ECF6",
              "width": 0.5
             },
             "pattern": {
              "fillmode": "overlay",
              "size": 10,
              "solidity": 0.2
             }
            },
            "type": "barpolar"
           }
          ],
          "carpet": [
           {
            "aaxis": {
             "endlinecolor": "#2a3f5f",
             "gridcolor": "white",
             "linecolor": "white",
             "minorgridcolor": "white",
             "startlinecolor": "#2a3f5f"
            },
            "baxis": {
             "endlinecolor": "#2a3f5f",
             "gridcolor": "white",
             "linecolor": "white",
             "minorgridcolor": "white",
             "startlinecolor": "#2a3f5f"
            },
            "type": "carpet"
           }
          ],
          "choropleth": [
           {
            "colorbar": {
             "outlinewidth": 0,
             "ticks": ""
            },
            "type": "choropleth"
           }
          ],
          "contour": [
           {
            "colorbar": {
             "outlinewidth": 0,
             "ticks": ""
            },
            "colorscale": [
             [
              0,
              "#0d0887"
             ],
             [
              0.1111111111111111,
              "#46039f"
             ],
             [
              0.2222222222222222,
              "#7201a8"
             ],
             [
              0.3333333333333333,
              "#9c179e"
             ],
             [
              0.4444444444444444,
              "#bd3786"
             ],
             [
              0.5555555555555556,
              "#d8576b"
             ],
             [
              0.6666666666666666,
              "#ed7953"
             ],
             [
              0.7777777777777778,
              "#fb9f3a"
             ],
             [
              0.8888888888888888,
              "#fdca26"
             ],
             [
              1,
              "#f0f921"
             ]
            ],
            "type": "contour"
           }
          ],
          "contourcarpet": [
           {
            "colorbar": {
             "outlinewidth": 0,
             "ticks": ""
            },
            "type": "contourcarpet"
           }
          ],
          "heatmap": [
           {
            "colorbar": {
             "outlinewidth": 0,
             "ticks": ""
            },
            "colorscale": [
             [
              0,
              "#0d0887"
             ],
             [
              0.1111111111111111,
              "#46039f"
             ],
             [
              0.2222222222222222,
              "#7201a8"
             ],
             [
              0.3333333333333333,
              "#9c179e"
             ],
             [
              0.4444444444444444,
              "#bd3786"
             ],
             [
              0.5555555555555556,
              "#d8576b"
             ],
             [
              0.6666666666666666,
              "#ed7953"
             ],
             [
              0.7777777777777778,
              "#fb9f3a"
             ],
             [
              0.8888888888888888,
              "#fdca26"
             ],
             [
              1,
              "#f0f921"
             ]
            ],
            "type": "heatmap"
           }
          ],
          "heatmapgl": [
           {
            "colorbar": {
             "outlinewidth": 0,
             "ticks": ""
            },
            "colorscale": [
             [
              0,
              "#0d0887"
             ],
             [
              0.1111111111111111,
              "#46039f"
             ],
             [
              0.2222222222222222,
              "#7201a8"
             ],
             [
              0.3333333333333333,
              "#9c179e"
             ],
             [
              0.4444444444444444,
              "#bd3786"
             ],
             [
              0.5555555555555556,
              "#d8576b"
             ],
             [
              0.6666666666666666,
              "#ed7953"
             ],
             [
              0.7777777777777778,
              "#fb9f3a"
             ],
             [
              0.8888888888888888,
              "#fdca26"
             ],
             [
              1,
              "#f0f921"
             ]
            ],
            "type": "heatmapgl"
           }
          ],
          "histogram": [
           {
            "marker": {
             "pattern": {
              "fillmode": "overlay",
              "size": 10,
              "solidity": 0.2
             }
            },
            "type": "histogram"
           }
          ],
          "histogram2d": [
           {
            "colorbar": {
             "outlinewidth": 0,
             "ticks": ""
            },
            "colorscale": [
             [
              0,
              "#0d0887"
             ],
             [
              0.1111111111111111,
              "#46039f"
             ],
             [
              0.2222222222222222,
              "#7201a8"
             ],
             [
              0.3333333333333333,
              "#9c179e"
             ],
             [
              0.4444444444444444,
              "#bd3786"
             ],
             [
              0.5555555555555556,
              "#d8576b"
             ],
             [
              0.6666666666666666,
              "#ed7953"
             ],
             [
              0.7777777777777778,
              "#fb9f3a"
             ],
             [
              0.8888888888888888,
              "#fdca26"
             ],
             [
              1,
              "#f0f921"
             ]
            ],
            "type": "histogram2d"
           }
          ],
          "histogram2dcontour": [
           {
            "colorbar": {
             "outlinewidth": 0,
             "ticks": ""
            },
            "colorscale": [
             [
              0,
              "#0d0887"
             ],
             [
              0.1111111111111111,
              "#46039f"
             ],
             [
              0.2222222222222222,
              "#7201a8"
             ],
             [
              0.3333333333333333,
              "#9c179e"
             ],
             [
              0.4444444444444444,
              "#bd3786"
             ],
             [
              0.5555555555555556,
              "#d8576b"
             ],
             [
              0.6666666666666666,
              "#ed7953"
             ],
             [
              0.7777777777777778,
              "#fb9f3a"
             ],
             [
              0.8888888888888888,
              "#fdca26"
             ],
             [
              1,
              "#f0f921"
             ]
            ],
            "type": "histogram2dcontour"
           }
          ],
          "mesh3d": [
           {
            "colorbar": {
             "outlinewidth": 0,
             "ticks": ""
            },
            "type": "mesh3d"
           }
          ],
          "parcoords": [
           {
            "line": {
             "colorbar": {
              "outlinewidth": 0,
              "ticks": ""
             }
            },
            "type": "parcoords"
           }
          ],
          "pie": [
           {
            "automargin": true,
            "type": "pie"
           }
          ],
          "scatter": [
           {
            "marker": {
             "colorbar": {
              "outlinewidth": 0,
              "ticks": ""
             }
            },
            "type": "scatter"
           }
          ],
          "scatter3d": [
           {
            "line": {
             "colorbar": {
              "outlinewidth": 0,
              "ticks": ""
             }
            },
            "marker": {
             "colorbar": {
              "outlinewidth": 0,
              "ticks": ""
             }
            },
            "type": "scatter3d"
           }
          ],
          "scattercarpet": [
           {
            "marker": {
             "colorbar": {
              "outlinewidth": 0,
              "ticks": ""
             }
            },
            "type": "scattercarpet"
           }
          ],
          "scattergeo": [
           {
            "marker": {
             "colorbar": {
              "outlinewidth": 0,
              "ticks": ""
             }
            },
            "type": "scattergeo"
           }
          ],
          "scattergl": [
           {
            "marker": {
             "colorbar": {
              "outlinewidth": 0,
              "ticks": ""
             }
            },
            "type": "scattergl"
           }
          ],
          "scattermapbox": [
           {
            "marker": {
             "colorbar": {
              "outlinewidth": 0,
              "ticks": ""
             }
            },
            "type": "scattermapbox"
           }
          ],
          "scatterpolar": [
           {
            "marker": {
             "colorbar": {
              "outlinewidth": 0,
              "ticks": ""
             }
            },
            "type": "scatterpolar"
           }
          ],
          "scatterpolargl": [
           {
            "marker": {
             "colorbar": {
              "outlinewidth": 0,
              "ticks": ""
             }
            },
            "type": "scatterpolargl"
           }
          ],
          "scatterternary": [
           {
            "marker": {
             "colorbar": {
              "outlinewidth": 0,
              "ticks": ""
             }
            },
            "type": "scatterternary"
           }
          ],
          "surface": [
           {
            "colorbar": {
             "outlinewidth": 0,
             "ticks": ""
            },
            "colorscale": [
             [
              0,
              "#0d0887"
             ],
             [
              0.1111111111111111,
              "#46039f"
             ],
             [
              0.2222222222222222,
              "#7201a8"
             ],
             [
              0.3333333333333333,
              "#9c179e"
             ],
             [
              0.4444444444444444,
              "#bd3786"
             ],
             [
              0.5555555555555556,
              "#d8576b"
             ],
             [
              0.6666666666666666,
              "#ed7953"
             ],
             [
              0.7777777777777778,
              "#fb9f3a"
             ],
             [
              0.8888888888888888,
              "#fdca26"
             ],
             [
              1,
              "#f0f921"
             ]
            ],
            "type": "surface"
           }
          ],
          "table": [
           {
            "cells": {
             "fill": {
              "color": "#EBF0F8"
             },
             "line": {
              "color": "white"
             }
            },
            "header": {
             "fill": {
              "color": "#C8D4E3"
             },
             "line": {
              "color": "white"
             }
            },
            "type": "table"
           }
          ]
         },
         "layout": {
          "annotationdefaults": {
           "arrowcolor": "#2a3f5f",
           "arrowhead": 0,
           "arrowwidth": 1
          },
          "autotypenumbers": "strict",
          "coloraxis": {
           "colorbar": {
            "outlinewidth": 0,
            "ticks": ""
           }
          },
          "colorscale": {
           "diverging": [
            [
             0,
             "#8e0152"
            ],
            [
             0.1,
             "#c51b7d"
            ],
            [
             0.2,
             "#de77ae"
            ],
            [
             0.3,
             "#f1b6da"
            ],
            [
             0.4,
             "#fde0ef"
            ],
            [
             0.5,
             "#f7f7f7"
            ],
            [
             0.6,
             "#e6f5d0"
            ],
            [
             0.7,
             "#b8e186"
            ],
            [
             0.8,
             "#7fbc41"
            ],
            [
             0.9,
             "#4d9221"
            ],
            [
             1,
             "#276419"
            ]
           ],
           "sequential": [
            [
             0,
             "#0d0887"
            ],
            [
             0.1111111111111111,
             "#46039f"
            ],
            [
             0.2222222222222222,
             "#7201a8"
            ],
            [
             0.3333333333333333,
             "#9c179e"
            ],
            [
             0.4444444444444444,
             "#bd3786"
            ],
            [
             0.5555555555555556,
             "#d8576b"
            ],
            [
             0.6666666666666666,
             "#ed7953"
            ],
            [
             0.7777777777777778,
             "#fb9f3a"
            ],
            [
             0.8888888888888888,
             "#fdca26"
            ],
            [
             1,
             "#f0f921"
            ]
           ],
           "sequentialminus": [
            [
             0,
             "#0d0887"
            ],
            [
             0.1111111111111111,
             "#46039f"
            ],
            [
             0.2222222222222222,
             "#7201a8"
            ],
            [
             0.3333333333333333,
             "#9c179e"
            ],
            [
             0.4444444444444444,
             "#bd3786"
            ],
            [
             0.5555555555555556,
             "#d8576b"
            ],
            [
             0.6666666666666666,
             "#ed7953"
            ],
            [
             0.7777777777777778,
             "#fb9f3a"
            ],
            [
             0.8888888888888888,
             "#fdca26"
            ],
            [
             1,
             "#f0f921"
            ]
           ]
          },
          "colorway": [
           "#636efa",
           "#EF553B",
           "#00cc96",
           "#ab63fa",
           "#FFA15A",
           "#19d3f3",
           "#FF6692",
           "#B6E880",
           "#FF97FF",
           "#FECB52"
          ],
          "font": {
           "color": "#2a3f5f"
          },
          "geo": {
           "bgcolor": "white",
           "lakecolor": "white",
           "landcolor": "#E5ECF6",
           "showlakes": true,
           "showland": true,
           "subunitcolor": "white"
          },
          "hoverlabel": {
           "align": "left"
          },
          "hovermode": "closest",
          "mapbox": {
           "style": "light"
          },
          "paper_bgcolor": "white",
          "plot_bgcolor": "#E5ECF6",
          "polar": {
           "angularaxis": {
            "gridcolor": "white",
            "linecolor": "white",
            "ticks": ""
           },
           "bgcolor": "#E5ECF6",
           "radialaxis": {
            "gridcolor": "white",
            "linecolor": "white",
            "ticks": ""
           }
          },
          "scene": {
           "xaxis": {
            "backgroundcolor": "#E5ECF6",
            "gridcolor": "white",
            "gridwidth": 2,
            "linecolor": "white",
            "showbackground": true,
            "ticks": "",
            "zerolinecolor": "white"
           },
           "yaxis": {
            "backgroundcolor": "#E5ECF6",
            "gridcolor": "white",
            "gridwidth": 2,
            "linecolor": "white",
            "showbackground": true,
            "ticks": "",
            "zerolinecolor": "white"
           },
           "zaxis": {
            "backgroundcolor": "#E5ECF6",
            "gridcolor": "white",
            "gridwidth": 2,
            "linecolor": "white",
            "showbackground": true,
            "ticks": "",
            "zerolinecolor": "white"
           }
          },
          "shapedefaults": {
           "line": {
            "color": "#2a3f5f"
           }
          },
          "ternary": {
           "aaxis": {
            "gridcolor": "white",
            "linecolor": "white",
            "ticks": ""
           },
           "baxis": {
            "gridcolor": "white",
            "linecolor": "white",
            "ticks": ""
           },
           "bgcolor": "#E5ECF6",
           "caxis": {
            "gridcolor": "white",
            "linecolor": "white",
            "ticks": ""
           }
          },
          "title": {
           "x": 0.05
          },
          "xaxis": {
           "automargin": true,
           "gridcolor": "white",
           "linecolor": "white",
           "ticks": "",
           "title": {
            "standoff": 15
           },
           "zerolinecolor": "white",
           "zerolinewidth": 2
          },
          "yaxis": {
           "automargin": true,
           "gridcolor": "white",
           "linecolor": "white",
           "ticks": "",
           "title": {
            "standoff": 15
           },
           "zerolinecolor": "white",
           "zerolinewidth": 2
          }
         }
        },
        "title": {
         "font": {
          "color": "#4D5663"
         }
        },
        "xaxis": {
         "gridcolor": "#E1E5ED",
         "showgrid": true,
         "tickfont": {
          "color": "#4D5663"
         },
         "title": {
          "font": {
           "color": "#4D5663"
          },
          "text": ""
         },
         "zerolinecolor": "#E1E5ED"
        },
        "xaxis2": {
         "anchor": "y2",
         "gridcolor": "#E1E5ED",
         "showgrid": true,
         "showticklabels": false,
         "tickfont": {
          "color": "#4D5663"
         },
         "title": {
          "font": {
           "color": "#4D5663"
          },
          "text": ""
         },
         "zerolinecolor": "#E1E5ED"
        },
        "yaxis": {
         "domain": [
          0.3,
          1
         ],
         "gridcolor": "#E1E5ED",
         "showgrid": true,
         "tickfont": {
          "color": "#4D5663"
         },
         "title": {
          "font": {
           "color": "#4D5663"
          },
          "text": ""
         },
         "zerolinecolor": "#E1E5ED"
        },
        "yaxis2": {
         "domain": [
          0,
          0.25
         ],
         "gridcolor": "#E1E5ED",
         "showgrid": true,
         "tickfont": {
          "color": "#4D5663"
         },
         "title": {
          "font": {
           "color": "#4D5663"
          },
          "text": "Spread"
         },
         "zerolinecolor": "#E1E5ED"
        }
       }
      }
     },
     "metadata": {}
    }
   ],
   "metadata": {}
  },
  {
   "cell_type": "code",
   "execution_count": 65,
   "source": [
    "df.iplot(kind='bubble', x='A', y='B', size='C', colorscale='rdylbu')"
   ],
   "outputs": [
    {
     "output_type": "display_data",
     "data": {
      "text/html": [
       "<div>                            <div id=\"72dec806-dca0-4914-99a2-fb958d55a843\" class=\"plotly-graph-div\" style=\"height:525px; width:100%;\"></div>            <script type=\"text/javascript\">                require([\"plotly\"], function(Plotly) {                    window.PLOTLYENV=window.PLOTLYENV || {};\n",
       "                    window.PLOTLYENV.BASE_URL='https://plot.ly';                                    if (document.getElementById(\"72dec806-dca0-4914-99a2-fb958d55a843\")) {                    Plotly.newPlot(                        \"72dec806-dca0-4914-99a2-fb958d55a843\",                        [{\"marker\":{\"color\":[\"rgb(165,0,38)\",\"rgb(215,48,39)\",\"rgb(244,109,67)\",\"rgb(253,174,97)\",\"rgb(254,224,144)\",\"rgb(255,255,191)\",\"rgb(224,243,248)\",\"rgb(171,217,233)\",\"rgb(116,173,209)\",\"rgb(69,117,180)\",\"rgb(49,54,149)\"],\"line\":{\"width\":1.3},\"size\":[30,55,43,74,54,69,37,82,74,19,112,22,57,64,68,48,69,81,43,52,74,56,59,32,30,69,62,33,30,55,75,50,19,89,48,77,65,33,66,75,56,12,45,74,48,22,47,36,41,42,53,31,47,30,47,48,26,28,58,48,33,65,58,34,61,70,55,55,51,79,47,44,53,60,37,53,57,68,83,66,42,48,66,64,30,38,55,58,39,56,50,42,61,85,63,17,47,50,54,27],\"symbol\":\"circle\"},\"mode\":\"markers\",\"text\":\"\",\"type\":\"scatter\",\"x\":[1.2976308828245577,0.02891563246579733,0.6488033830640866,-0.6518967120779291,0.6103043670864998,-0.9802372938491501,-0.07589310574178512,-2.157880119655764,0.868733577307398,-0.9351261375377906,-0.055140764914955565,-0.28589654616041965,0.5289452063496645,0.2781921010010714,0.16374723355678183,-0.39239282708924167,0.8934440501370563,0.40827977634283436,-0.6959647939739411,-1.1815300420355552,1.1163964121590395,0.3065108458385955,-2.0341160588793805,1.2298468146505241,0.05746358452739269,-1.9000194599015916,0.1415749888678313,-1.2239433218446887,1.201220006696403,1.428560258537245,-1.140941921397734,0.5353234970155184,1.0940387658031,0.22424057672913128,-0.8824973957848675,-1.8185038357772296,0.7229169486376175,0.9124963031268156,0.11107936758643822,-0.08086602502924477,1.2099660155692962,1.8518300739265623,-0.12137650834889625,-0.4858190401877175,1.3395698942139476,-0.17521586297401584,-1.373835557744931,-0.1897204092619399,0.19203332056959913,-0.18036257996181526,-0.15620054902084546,-2.84142252943806,-0.4349542942415666,0.22380447679552914,1.0785492355179809,-0.32649171717218634,0.08433694066275796,-0.13755292295945926,-0.43063226950394184,0.17155096628062336,-1.6044580181981711,0.05717561589713138,-0.06195786489501751,0.6380612124143483,0.6194226191395767,-0.7093593036394797,-0.2941371278104831,0.5636335693906555,0.17585797078580842,1.8454840837179403,-0.3635563229777336,-0.5476291459186988,0.6971996263353732,-0.10273204605952994,1.4857175198711914,-0.9602307332292892,0.5908545524036684,0.4127672484937881,-0.5266758464083148,-1.2170831072505595,1.9285580051166684,2.233682040310963,1.333969398397583,0.423248589364245,0.22258221659675845,-0.4043164692696297,0.6594803798259496,-2.285942806656985,1.0281945074225356,-1.037158988731567,-0.5828485188740444,-0.313430618132578,-1.3874377073665272,0.4099640243163893,0.24071529001761394,-0.12017792683193004,-0.9686450621979947,-0.03808213244543389,1.8023761654438561,-1.4301276228609552],\"y\":[0.18926451945427628,0.16292694381339004,-0.566306058548627,-1.1871484670475736,-0.02625193941071388,0.6041199267212912,1.3741250423719473,-0.5088108537866691,0.19976539698307638,-1.395275921233364,-0.015878490774350308,0.8084804721162855,0.8034225968778593,-0.5168699421006512,-1.3796295609476623,-1.6941356174092017,-1.379959709057697,-0.11505112421545904,0.32984150289779074,-0.42834411191121147,1.2375552243795376,-0.5575710577973884,-0.1894786355299986,-0.23813580837486759,-0.45984534641133945,0.48937688393162654,0.576026131836969,-1.1993910275679727,0.15484795454435643,0.33950144682406125,0.31619953849918614,-0.8920510043930835,1.6552070877637908,1.0730130982097303,-0.09015798247656187,-1.0602573544408647,-0.5505686869004346,1.5327284332177737,-1.306471900965645,-0.3272434299662886,-0.4801211887802263,0.9169019760490729,-0.017979999266407094,-0.9511968823264166,-0.9627252363016441,-1.4628433017052838,-1.1821952702688425,-0.28148377358404764,-1.4044798089957289,0.062379443493298006,-1.261667708946712,2.0321741626905028,0.8208188001977202,1.5780470590866502,-1.5595133106751289,-0.5258041321901501,0.6970768226811306,-0.005408959849332933,0.0732974621650809,0.6935240608309962,0.345194496782059,-0.18429690989527864,0.22160274975209152,-0.4854806124075751,0.47488816725628835,-0.14852084415920547,0.8318360611705212,0.29468055995909737,-1.2880347602192437,0.35609655787191175,-0.22330297178159317,0.16497518724931692,0.2485388337776046,-0.7649918753979197,0.9026354406871174,-1.596064739107909,-0.6072502963690356,-0.7296920363391135,-0.7093956570250376,-0.9822586622490749,1.9182674900103864,-0.01898318330479451,-0.7695364688337993,0.9775997347713666,-0.5403883962773787,-0.0631483844680669,1.087217742194578,0.2926164774469953,-0.07524332323153042,0.5876958428402382,0.351391326724226,-1.0655695235292197,1.7359381836204664,-0.5167044830170687,-1.3410359409673123,-0.9910637169828151,-1.6014081994632958,-0.35636157582061334,-1.6790495903477574,-0.9810464442857267]}],                        {\"legend\":{\"bgcolor\":\"#F5F6F9\",\"font\":{\"color\":\"#4D5663\"}},\"paper_bgcolor\":\"#F5F6F9\",\"plot_bgcolor\":\"#F5F6F9\",\"template\":{\"data\":{\"bar\":[{\"error_x\":{\"color\":\"#2a3f5f\"},\"error_y\":{\"color\":\"#2a3f5f\"},\"marker\":{\"line\":{\"color\":\"#E5ECF6\",\"width\":0.5},\"pattern\":{\"fillmode\":\"overlay\",\"size\":10,\"solidity\":0.2}},\"type\":\"bar\"}],\"barpolar\":[{\"marker\":{\"line\":{\"color\":\"#E5ECF6\",\"width\":0.5},\"pattern\":{\"fillmode\":\"overlay\",\"size\":10,\"solidity\":0.2}},\"type\":\"barpolar\"}],\"carpet\":[{\"aaxis\":{\"endlinecolor\":\"#2a3f5f\",\"gridcolor\":\"white\",\"linecolor\":\"white\",\"minorgridcolor\":\"white\",\"startlinecolor\":\"#2a3f5f\"},\"baxis\":{\"endlinecolor\":\"#2a3f5f\",\"gridcolor\":\"white\",\"linecolor\":\"white\",\"minorgridcolor\":\"white\",\"startlinecolor\":\"#2a3f5f\"},\"type\":\"carpet\"}],\"choropleth\":[{\"colorbar\":{\"outlinewidth\":0,\"ticks\":\"\"},\"type\":\"choropleth\"}],\"contour\":[{\"colorbar\":{\"outlinewidth\":0,\"ticks\":\"\"},\"colorscale\":[[0.0,\"#0d0887\"],[0.1111111111111111,\"#46039f\"],[0.2222222222222222,\"#7201a8\"],[0.3333333333333333,\"#9c179e\"],[0.4444444444444444,\"#bd3786\"],[0.5555555555555556,\"#d8576b\"],[0.6666666666666666,\"#ed7953\"],[0.7777777777777778,\"#fb9f3a\"],[0.8888888888888888,\"#fdca26\"],[1.0,\"#f0f921\"]],\"type\":\"contour\"}],\"contourcarpet\":[{\"colorbar\":{\"outlinewidth\":0,\"ticks\":\"\"},\"type\":\"contourcarpet\"}],\"heatmap\":[{\"colorbar\":{\"outlinewidth\":0,\"ticks\":\"\"},\"colorscale\":[[0.0,\"#0d0887\"],[0.1111111111111111,\"#46039f\"],[0.2222222222222222,\"#7201a8\"],[0.3333333333333333,\"#9c179e\"],[0.4444444444444444,\"#bd3786\"],[0.5555555555555556,\"#d8576b\"],[0.6666666666666666,\"#ed7953\"],[0.7777777777777778,\"#fb9f3a\"],[0.8888888888888888,\"#fdca26\"],[1.0,\"#f0f921\"]],\"type\":\"heatmap\"}],\"heatmapgl\":[{\"colorbar\":{\"outlinewidth\":0,\"ticks\":\"\"},\"colorscale\":[[0.0,\"#0d0887\"],[0.1111111111111111,\"#46039f\"],[0.2222222222222222,\"#7201a8\"],[0.3333333333333333,\"#9c179e\"],[0.4444444444444444,\"#bd3786\"],[0.5555555555555556,\"#d8576b\"],[0.6666666666666666,\"#ed7953\"],[0.7777777777777778,\"#fb9f3a\"],[0.8888888888888888,\"#fdca26\"],[1.0,\"#f0f921\"]],\"type\":\"heatmapgl\"}],\"histogram\":[{\"marker\":{\"pattern\":{\"fillmode\":\"overlay\",\"size\":10,\"solidity\":0.2}},\"type\":\"histogram\"}],\"histogram2d\":[{\"colorbar\":{\"outlinewidth\":0,\"ticks\":\"\"},\"colorscale\":[[0.0,\"#0d0887\"],[0.1111111111111111,\"#46039f\"],[0.2222222222222222,\"#7201a8\"],[0.3333333333333333,\"#9c179e\"],[0.4444444444444444,\"#bd3786\"],[0.5555555555555556,\"#d8576b\"],[0.6666666666666666,\"#ed7953\"],[0.7777777777777778,\"#fb9f3a\"],[0.8888888888888888,\"#fdca26\"],[1.0,\"#f0f921\"]],\"type\":\"histogram2d\"}],\"histogram2dcontour\":[{\"colorbar\":{\"outlinewidth\":0,\"ticks\":\"\"},\"colorscale\":[[0.0,\"#0d0887\"],[0.1111111111111111,\"#46039f\"],[0.2222222222222222,\"#7201a8\"],[0.3333333333333333,\"#9c179e\"],[0.4444444444444444,\"#bd3786\"],[0.5555555555555556,\"#d8576b\"],[0.6666666666666666,\"#ed7953\"],[0.7777777777777778,\"#fb9f3a\"],[0.8888888888888888,\"#fdca26\"],[1.0,\"#f0f921\"]],\"type\":\"histogram2dcontour\"}],\"mesh3d\":[{\"colorbar\":{\"outlinewidth\":0,\"ticks\":\"\"},\"type\":\"mesh3d\"}],\"parcoords\":[{\"line\":{\"colorbar\":{\"outlinewidth\":0,\"ticks\":\"\"}},\"type\":\"parcoords\"}],\"pie\":[{\"automargin\":true,\"type\":\"pie\"}],\"scatter\":[{\"marker\":{\"colorbar\":{\"outlinewidth\":0,\"ticks\":\"\"}},\"type\":\"scatter\"}],\"scatter3d\":[{\"line\":{\"colorbar\":{\"outlinewidth\":0,\"ticks\":\"\"}},\"marker\":{\"colorbar\":{\"outlinewidth\":0,\"ticks\":\"\"}},\"type\":\"scatter3d\"}],\"scattercarpet\":[{\"marker\":{\"colorbar\":{\"outlinewidth\":0,\"ticks\":\"\"}},\"type\":\"scattercarpet\"}],\"scattergeo\":[{\"marker\":{\"colorbar\":{\"outlinewidth\":0,\"ticks\":\"\"}},\"type\":\"scattergeo\"}],\"scattergl\":[{\"marker\":{\"colorbar\":{\"outlinewidth\":0,\"ticks\":\"\"}},\"type\":\"scattergl\"}],\"scattermapbox\":[{\"marker\":{\"colorbar\":{\"outlinewidth\":0,\"ticks\":\"\"}},\"type\":\"scattermapbox\"}],\"scatterpolar\":[{\"marker\":{\"colorbar\":{\"outlinewidth\":0,\"ticks\":\"\"}},\"type\":\"scatterpolar\"}],\"scatterpolargl\":[{\"marker\":{\"colorbar\":{\"outlinewidth\":0,\"ticks\":\"\"}},\"type\":\"scatterpolargl\"}],\"scatterternary\":[{\"marker\":{\"colorbar\":{\"outlinewidth\":0,\"ticks\":\"\"}},\"type\":\"scatterternary\"}],\"surface\":[{\"colorbar\":{\"outlinewidth\":0,\"ticks\":\"\"},\"colorscale\":[[0.0,\"#0d0887\"],[0.1111111111111111,\"#46039f\"],[0.2222222222222222,\"#7201a8\"],[0.3333333333333333,\"#9c179e\"],[0.4444444444444444,\"#bd3786\"],[0.5555555555555556,\"#d8576b\"],[0.6666666666666666,\"#ed7953\"],[0.7777777777777778,\"#fb9f3a\"],[0.8888888888888888,\"#fdca26\"],[1.0,\"#f0f921\"]],\"type\":\"surface\"}],\"table\":[{\"cells\":{\"fill\":{\"color\":\"#EBF0F8\"},\"line\":{\"color\":\"white\"}},\"header\":{\"fill\":{\"color\":\"#C8D4E3\"},\"line\":{\"color\":\"white\"}},\"type\":\"table\"}]},\"layout\":{\"annotationdefaults\":{\"arrowcolor\":\"#2a3f5f\",\"arrowhead\":0,\"arrowwidth\":1},\"autotypenumbers\":\"strict\",\"coloraxis\":{\"colorbar\":{\"outlinewidth\":0,\"ticks\":\"\"}},\"colorscale\":{\"diverging\":[[0,\"#8e0152\"],[0.1,\"#c51b7d\"],[0.2,\"#de77ae\"],[0.3,\"#f1b6da\"],[0.4,\"#fde0ef\"],[0.5,\"#f7f7f7\"],[0.6,\"#e6f5d0\"],[0.7,\"#b8e186\"],[0.8,\"#7fbc41\"],[0.9,\"#4d9221\"],[1,\"#276419\"]],\"sequential\":[[0.0,\"#0d0887\"],[0.1111111111111111,\"#46039f\"],[0.2222222222222222,\"#7201a8\"],[0.3333333333333333,\"#9c179e\"],[0.4444444444444444,\"#bd3786\"],[0.5555555555555556,\"#d8576b\"],[0.6666666666666666,\"#ed7953\"],[0.7777777777777778,\"#fb9f3a\"],[0.8888888888888888,\"#fdca26\"],[1.0,\"#f0f921\"]],\"sequentialminus\":[[0.0,\"#0d0887\"],[0.1111111111111111,\"#46039f\"],[0.2222222222222222,\"#7201a8\"],[0.3333333333333333,\"#9c179e\"],[0.4444444444444444,\"#bd3786\"],[0.5555555555555556,\"#d8576b\"],[0.6666666666666666,\"#ed7953\"],[0.7777777777777778,\"#fb9f3a\"],[0.8888888888888888,\"#fdca26\"],[1.0,\"#f0f921\"]]},\"colorway\":[\"#636efa\",\"#EF553B\",\"#00cc96\",\"#ab63fa\",\"#FFA15A\",\"#19d3f3\",\"#FF6692\",\"#B6E880\",\"#FF97FF\",\"#FECB52\"],\"font\":{\"color\":\"#2a3f5f\"},\"geo\":{\"bgcolor\":\"white\",\"lakecolor\":\"white\",\"landcolor\":\"#E5ECF6\",\"showlakes\":true,\"showland\":true,\"subunitcolor\":\"white\"},\"hoverlabel\":{\"align\":\"left\"},\"hovermode\":\"closest\",\"mapbox\":{\"style\":\"light\"},\"paper_bgcolor\":\"white\",\"plot_bgcolor\":\"#E5ECF6\",\"polar\":{\"angularaxis\":{\"gridcolor\":\"white\",\"linecolor\":\"white\",\"ticks\":\"\"},\"bgcolor\":\"#E5ECF6\",\"radialaxis\":{\"gridcolor\":\"white\",\"linecolor\":\"white\",\"ticks\":\"\"}},\"scene\":{\"xaxis\":{\"backgroundcolor\":\"#E5ECF6\",\"gridcolor\":\"white\",\"gridwidth\":2,\"linecolor\":\"white\",\"showbackground\":true,\"ticks\":\"\",\"zerolinecolor\":\"white\"},\"yaxis\":{\"backgroundcolor\":\"#E5ECF6\",\"gridcolor\":\"white\",\"gridwidth\":2,\"linecolor\":\"white\",\"showbackground\":true,\"ticks\":\"\",\"zerolinecolor\":\"white\"},\"zaxis\":{\"backgroundcolor\":\"#E5ECF6\",\"gridcolor\":\"white\",\"gridwidth\":2,\"linecolor\":\"white\",\"showbackground\":true,\"ticks\":\"\",\"zerolinecolor\":\"white\"}},\"shapedefaults\":{\"line\":{\"color\":\"#2a3f5f\"}},\"ternary\":{\"aaxis\":{\"gridcolor\":\"white\",\"linecolor\":\"white\",\"ticks\":\"\"},\"baxis\":{\"gridcolor\":\"white\",\"linecolor\":\"white\",\"ticks\":\"\"},\"bgcolor\":\"#E5ECF6\",\"caxis\":{\"gridcolor\":\"white\",\"linecolor\":\"white\",\"ticks\":\"\"}},\"title\":{\"x\":0.05},\"xaxis\":{\"automargin\":true,\"gridcolor\":\"white\",\"linecolor\":\"white\",\"ticks\":\"\",\"title\":{\"standoff\":15},\"zerolinecolor\":\"white\",\"zerolinewidth\":2},\"yaxis\":{\"automargin\":true,\"gridcolor\":\"white\",\"linecolor\":\"white\",\"ticks\":\"\",\"title\":{\"standoff\":15},\"zerolinecolor\":\"white\",\"zerolinewidth\":2}}},\"title\":{\"font\":{\"color\":\"#4D5663\"}},\"xaxis\":{\"gridcolor\":\"#E1E5ED\",\"showgrid\":true,\"tickfont\":{\"color\":\"#4D5663\"},\"title\":{\"font\":{\"color\":\"#4D5663\"},\"text\":\"\"},\"zerolinecolor\":\"#E1E5ED\"},\"yaxis\":{\"gridcolor\":\"#E1E5ED\",\"showgrid\":true,\"tickfont\":{\"color\":\"#4D5663\"},\"title\":{\"font\":{\"color\":\"#4D5663\"},\"text\":\"\"},\"zerolinecolor\":\"#E1E5ED\"}},                        {\"showLink\": true, \"linkText\": \"Export to plot.ly\", \"plotlyServerURL\": \"https://plot.ly\", \"responsive\": true}                    ).then(function(){\n",
       "                            \n",
       "var gd = document.getElementById('72dec806-dca0-4914-99a2-fb958d55a843');\n",
       "var x = new MutationObserver(function (mutations, observer) {{\n",
       "        var display = window.getComputedStyle(gd).display;\n",
       "        if (!display || display === 'none') {{\n",
       "            console.log([gd, 'removed!']);\n",
       "            Plotly.purge(gd);\n",
       "            observer.disconnect();\n",
       "        }}\n",
       "}});\n",
       "\n",
       "// Listen for the removal of the full notebook cells\n",
       "var notebookContainer = gd.closest('#notebook-container');\n",
       "if (notebookContainer) {{\n",
       "    x.observe(notebookContainer, {childList: true});\n",
       "}}\n",
       "\n",
       "// Listen for the clearing of the current output cell\n",
       "var outputEl = gd.closest('.output');\n",
       "if (outputEl) {{\n",
       "    x.observe(outputEl, {childList: true});\n",
       "}}\n",
       "\n",
       "                        })                };                });            </script>        </div>"
      ],
      "application/vnd.plotly.v1+json": {
       "config": {
        "linkText": "Export to plot.ly",
        "plotlyServerURL": "https://plot.ly",
        "showLink": true
       },
       "data": [
        {
         "marker": {
          "color": [
           "rgb(165,0,38)",
           "rgb(215,48,39)",
           "rgb(244,109,67)",
           "rgb(253,174,97)",
           "rgb(254,224,144)",
           "rgb(255,255,191)",
           "rgb(224,243,248)",
           "rgb(171,217,233)",
           "rgb(116,173,209)",
           "rgb(69,117,180)",
           "rgb(49,54,149)"
          ],
          "line": {
           "width": 1.3
          },
          "size": [
           30,
           55,
           43,
           74,
           54,
           69,
           37,
           82,
           74,
           19,
           112,
           22,
           57,
           64,
           68,
           48,
           69,
           81,
           43,
           52,
           74,
           56,
           59,
           32,
           30,
           69,
           62,
           33,
           30,
           55,
           75,
           50,
           19,
           89,
           48,
           77,
           65,
           33,
           66,
           75,
           56,
           12,
           45,
           74,
           48,
           22,
           47,
           36,
           41,
           42,
           53,
           31,
           47,
           30,
           47,
           48,
           26,
           28,
           58,
           48,
           33,
           65,
           58,
           34,
           61,
           70,
           55,
           55,
           51,
           79,
           47,
           44,
           53,
           60,
           37,
           53,
           57,
           68,
           83,
           66,
           42,
           48,
           66,
           64,
           30,
           38,
           55,
           58,
           39,
           56,
           50,
           42,
           61,
           85,
           63,
           17,
           47,
           50,
           54,
           27
          ],
          "symbol": "circle"
         },
         "mode": "markers",
         "text": "",
         "type": "scatter",
         "x": [
          1.2976308828245577,
          0.02891563246579733,
          0.6488033830640866,
          -0.6518967120779291,
          0.6103043670864998,
          -0.9802372938491501,
          -0.07589310574178512,
          -2.157880119655764,
          0.868733577307398,
          -0.9351261375377906,
          -0.055140764914955565,
          -0.28589654616041965,
          0.5289452063496645,
          0.2781921010010714,
          0.16374723355678183,
          -0.39239282708924167,
          0.8934440501370563,
          0.40827977634283436,
          -0.6959647939739411,
          -1.1815300420355552,
          1.1163964121590395,
          0.3065108458385955,
          -2.0341160588793805,
          1.2298468146505241,
          0.05746358452739269,
          -1.9000194599015916,
          0.1415749888678313,
          -1.2239433218446887,
          1.201220006696403,
          1.428560258537245,
          -1.140941921397734,
          0.5353234970155184,
          1.0940387658031,
          0.22424057672913128,
          -0.8824973957848675,
          -1.8185038357772296,
          0.7229169486376175,
          0.9124963031268156,
          0.11107936758643822,
          -0.08086602502924477,
          1.2099660155692962,
          1.8518300739265623,
          -0.12137650834889625,
          -0.4858190401877175,
          1.3395698942139476,
          -0.17521586297401584,
          -1.373835557744931,
          -0.1897204092619399,
          0.19203332056959913,
          -0.18036257996181526,
          -0.15620054902084546,
          -2.84142252943806,
          -0.4349542942415666,
          0.22380447679552914,
          1.0785492355179809,
          -0.32649171717218634,
          0.08433694066275796,
          -0.13755292295945926,
          -0.43063226950394184,
          0.17155096628062336,
          -1.6044580181981711,
          0.05717561589713138,
          -0.06195786489501751,
          0.6380612124143483,
          0.6194226191395767,
          -0.7093593036394797,
          -0.2941371278104831,
          0.5636335693906555,
          0.17585797078580842,
          1.8454840837179403,
          -0.3635563229777336,
          -0.5476291459186988,
          0.6971996263353732,
          -0.10273204605952994,
          1.4857175198711914,
          -0.9602307332292892,
          0.5908545524036684,
          0.4127672484937881,
          -0.5266758464083148,
          -1.2170831072505595,
          1.9285580051166684,
          2.233682040310963,
          1.333969398397583,
          0.423248589364245,
          0.22258221659675845,
          -0.4043164692696297,
          0.6594803798259496,
          -2.285942806656985,
          1.0281945074225356,
          -1.037158988731567,
          -0.5828485188740444,
          -0.313430618132578,
          -1.3874377073665272,
          0.4099640243163893,
          0.24071529001761394,
          -0.12017792683193004,
          -0.9686450621979947,
          -0.03808213244543389,
          1.8023761654438561,
          -1.4301276228609552
         ],
         "y": [
          0.18926451945427628,
          0.16292694381339004,
          -0.566306058548627,
          -1.1871484670475736,
          -0.02625193941071388,
          0.6041199267212912,
          1.3741250423719473,
          -0.5088108537866691,
          0.19976539698307638,
          -1.395275921233364,
          -0.015878490774350308,
          0.8084804721162855,
          0.8034225968778593,
          -0.5168699421006512,
          -1.3796295609476623,
          -1.6941356174092017,
          -1.379959709057697,
          -0.11505112421545904,
          0.32984150289779074,
          -0.42834411191121147,
          1.2375552243795376,
          -0.5575710577973884,
          -0.1894786355299986,
          -0.23813580837486759,
          -0.45984534641133945,
          0.48937688393162654,
          0.576026131836969,
          -1.1993910275679727,
          0.15484795454435643,
          0.33950144682406125,
          0.31619953849918614,
          -0.8920510043930835,
          1.6552070877637908,
          1.0730130982097303,
          -0.09015798247656187,
          -1.0602573544408647,
          -0.5505686869004346,
          1.5327284332177737,
          -1.306471900965645,
          -0.3272434299662886,
          -0.4801211887802263,
          0.9169019760490729,
          -0.017979999266407094,
          -0.9511968823264166,
          -0.9627252363016441,
          -1.4628433017052838,
          -1.1821952702688425,
          -0.28148377358404764,
          -1.4044798089957289,
          0.062379443493298006,
          -1.261667708946712,
          2.0321741626905028,
          0.8208188001977202,
          1.5780470590866502,
          -1.5595133106751289,
          -0.5258041321901501,
          0.6970768226811306,
          -0.005408959849332933,
          0.0732974621650809,
          0.6935240608309962,
          0.345194496782059,
          -0.18429690989527864,
          0.22160274975209152,
          -0.4854806124075751,
          0.47488816725628835,
          -0.14852084415920547,
          0.8318360611705212,
          0.29468055995909737,
          -1.2880347602192437,
          0.35609655787191175,
          -0.22330297178159317,
          0.16497518724931692,
          0.2485388337776046,
          -0.7649918753979197,
          0.9026354406871174,
          -1.596064739107909,
          -0.6072502963690356,
          -0.7296920363391135,
          -0.7093956570250376,
          -0.9822586622490749,
          1.9182674900103864,
          -0.01898318330479451,
          -0.7695364688337993,
          0.9775997347713666,
          -0.5403883962773787,
          -0.0631483844680669,
          1.087217742194578,
          0.2926164774469953,
          -0.07524332323153042,
          0.5876958428402382,
          0.351391326724226,
          -1.0655695235292197,
          1.7359381836204664,
          -0.5167044830170687,
          -1.3410359409673123,
          -0.9910637169828151,
          -1.6014081994632958,
          -0.35636157582061334,
          -1.6790495903477574,
          -0.9810464442857267
         ]
        }
       ],
       "layout": {
        "legend": {
         "bgcolor": "#F5F6F9",
         "font": {
          "color": "#4D5663"
         }
        },
        "paper_bgcolor": "#F5F6F9",
        "plot_bgcolor": "#F5F6F9",
        "template": {
         "data": {
          "bar": [
           {
            "error_x": {
             "color": "#2a3f5f"
            },
            "error_y": {
             "color": "#2a3f5f"
            },
            "marker": {
             "line": {
              "color": "#E5ECF6",
              "width": 0.5
             },
             "pattern": {
              "fillmode": "overlay",
              "size": 10,
              "solidity": 0.2
             }
            },
            "type": "bar"
           }
          ],
          "barpolar": [
           {
            "marker": {
             "line": {
              "color": "#E5ECF6",
              "width": 0.5
             },
             "pattern": {
              "fillmode": "overlay",
              "size": 10,
              "solidity": 0.2
             }
            },
            "type": "barpolar"
           }
          ],
          "carpet": [
           {
            "aaxis": {
             "endlinecolor": "#2a3f5f",
             "gridcolor": "white",
             "linecolor": "white",
             "minorgridcolor": "white",
             "startlinecolor": "#2a3f5f"
            },
            "baxis": {
             "endlinecolor": "#2a3f5f",
             "gridcolor": "white",
             "linecolor": "white",
             "minorgridcolor": "white",
             "startlinecolor": "#2a3f5f"
            },
            "type": "carpet"
           }
          ],
          "choropleth": [
           {
            "colorbar": {
             "outlinewidth": 0,
             "ticks": ""
            },
            "type": "choropleth"
           }
          ],
          "contour": [
           {
            "colorbar": {
             "outlinewidth": 0,
             "ticks": ""
            },
            "colorscale": [
             [
              0,
              "#0d0887"
             ],
             [
              0.1111111111111111,
              "#46039f"
             ],
             [
              0.2222222222222222,
              "#7201a8"
             ],
             [
              0.3333333333333333,
              "#9c179e"
             ],
             [
              0.4444444444444444,
              "#bd3786"
             ],
             [
              0.5555555555555556,
              "#d8576b"
             ],
             [
              0.6666666666666666,
              "#ed7953"
             ],
             [
              0.7777777777777778,
              "#fb9f3a"
             ],
             [
              0.8888888888888888,
              "#fdca26"
             ],
             [
              1,
              "#f0f921"
             ]
            ],
            "type": "contour"
           }
          ],
          "contourcarpet": [
           {
            "colorbar": {
             "outlinewidth": 0,
             "ticks": ""
            },
            "type": "contourcarpet"
           }
          ],
          "heatmap": [
           {
            "colorbar": {
             "outlinewidth": 0,
             "ticks": ""
            },
            "colorscale": [
             [
              0,
              "#0d0887"
             ],
             [
              0.1111111111111111,
              "#46039f"
             ],
             [
              0.2222222222222222,
              "#7201a8"
             ],
             [
              0.3333333333333333,
              "#9c179e"
             ],
             [
              0.4444444444444444,
              "#bd3786"
             ],
             [
              0.5555555555555556,
              "#d8576b"
             ],
             [
              0.6666666666666666,
              "#ed7953"
             ],
             [
              0.7777777777777778,
              "#fb9f3a"
             ],
             [
              0.8888888888888888,
              "#fdca26"
             ],
             [
              1,
              "#f0f921"
             ]
            ],
            "type": "heatmap"
           }
          ],
          "heatmapgl": [
           {
            "colorbar": {
             "outlinewidth": 0,
             "ticks": ""
            },
            "colorscale": [
             [
              0,
              "#0d0887"
             ],
             [
              0.1111111111111111,
              "#46039f"
             ],
             [
              0.2222222222222222,
              "#7201a8"
             ],
             [
              0.3333333333333333,
              "#9c179e"
             ],
             [
              0.4444444444444444,
              "#bd3786"
             ],
             [
              0.5555555555555556,
              "#d8576b"
             ],
             [
              0.6666666666666666,
              "#ed7953"
             ],
             [
              0.7777777777777778,
              "#fb9f3a"
             ],
             [
              0.8888888888888888,
              "#fdca26"
             ],
             [
              1,
              "#f0f921"
             ]
            ],
            "type": "heatmapgl"
           }
          ],
          "histogram": [
           {
            "marker": {
             "pattern": {
              "fillmode": "overlay",
              "size": 10,
              "solidity": 0.2
             }
            },
            "type": "histogram"
           }
          ],
          "histogram2d": [
           {
            "colorbar": {
             "outlinewidth": 0,
             "ticks": ""
            },
            "colorscale": [
             [
              0,
              "#0d0887"
             ],
             [
              0.1111111111111111,
              "#46039f"
             ],
             [
              0.2222222222222222,
              "#7201a8"
             ],
             [
              0.3333333333333333,
              "#9c179e"
             ],
             [
              0.4444444444444444,
              "#bd3786"
             ],
             [
              0.5555555555555556,
              "#d8576b"
             ],
             [
              0.6666666666666666,
              "#ed7953"
             ],
             [
              0.7777777777777778,
              "#fb9f3a"
             ],
             [
              0.8888888888888888,
              "#fdca26"
             ],
             [
              1,
              "#f0f921"
             ]
            ],
            "type": "histogram2d"
           }
          ],
          "histogram2dcontour": [
           {
            "colorbar": {
             "outlinewidth": 0,
             "ticks": ""
            },
            "colorscale": [
             [
              0,
              "#0d0887"
             ],
             [
              0.1111111111111111,
              "#46039f"
             ],
             [
              0.2222222222222222,
              "#7201a8"
             ],
             [
              0.3333333333333333,
              "#9c179e"
             ],
             [
              0.4444444444444444,
              "#bd3786"
             ],
             [
              0.5555555555555556,
              "#d8576b"
             ],
             [
              0.6666666666666666,
              "#ed7953"
             ],
             [
              0.7777777777777778,
              "#fb9f3a"
             ],
             [
              0.8888888888888888,
              "#fdca26"
             ],
             [
              1,
              "#f0f921"
             ]
            ],
            "type": "histogram2dcontour"
           }
          ],
          "mesh3d": [
           {
            "colorbar": {
             "outlinewidth": 0,
             "ticks": ""
            },
            "type": "mesh3d"
           }
          ],
          "parcoords": [
           {
            "line": {
             "colorbar": {
              "outlinewidth": 0,
              "ticks": ""
             }
            },
            "type": "parcoords"
           }
          ],
          "pie": [
           {
            "automargin": true,
            "type": "pie"
           }
          ],
          "scatter": [
           {
            "marker": {
             "colorbar": {
              "outlinewidth": 0,
              "ticks": ""
             }
            },
            "type": "scatter"
           }
          ],
          "scatter3d": [
           {
            "line": {
             "colorbar": {
              "outlinewidth": 0,
              "ticks": ""
             }
            },
            "marker": {
             "colorbar": {
              "outlinewidth": 0,
              "ticks": ""
             }
            },
            "type": "scatter3d"
           }
          ],
          "scattercarpet": [
           {
            "marker": {
             "colorbar": {
              "outlinewidth": 0,
              "ticks": ""
             }
            },
            "type": "scattercarpet"
           }
          ],
          "scattergeo": [
           {
            "marker": {
             "colorbar": {
              "outlinewidth": 0,
              "ticks": ""
             }
            },
            "type": "scattergeo"
           }
          ],
          "scattergl": [
           {
            "marker": {
             "colorbar": {
              "outlinewidth": 0,
              "ticks": ""
             }
            },
            "type": "scattergl"
           }
          ],
          "scattermapbox": [
           {
            "marker": {
             "colorbar": {
              "outlinewidth": 0,
              "ticks": ""
             }
            },
            "type": "scattermapbox"
           }
          ],
          "scatterpolar": [
           {
            "marker": {
             "colorbar": {
              "outlinewidth": 0,
              "ticks": ""
             }
            },
            "type": "scatterpolar"
           }
          ],
          "scatterpolargl": [
           {
            "marker": {
             "colorbar": {
              "outlinewidth": 0,
              "ticks": ""
             }
            },
            "type": "scatterpolargl"
           }
          ],
          "scatterternary": [
           {
            "marker": {
             "colorbar": {
              "outlinewidth": 0,
              "ticks": ""
             }
            },
            "type": "scatterternary"
           }
          ],
          "surface": [
           {
            "colorbar": {
             "outlinewidth": 0,
             "ticks": ""
            },
            "colorscale": [
             [
              0,
              "#0d0887"
             ],
             [
              0.1111111111111111,
              "#46039f"
             ],
             [
              0.2222222222222222,
              "#7201a8"
             ],
             [
              0.3333333333333333,
              "#9c179e"
             ],
             [
              0.4444444444444444,
              "#bd3786"
             ],
             [
              0.5555555555555556,
              "#d8576b"
             ],
             [
              0.6666666666666666,
              "#ed7953"
             ],
             [
              0.7777777777777778,
              "#fb9f3a"
             ],
             [
              0.8888888888888888,
              "#fdca26"
             ],
             [
              1,
              "#f0f921"
             ]
            ],
            "type": "surface"
           }
          ],
          "table": [
           {
            "cells": {
             "fill": {
              "color": "#EBF0F8"
             },
             "line": {
              "color": "white"
             }
            },
            "header": {
             "fill": {
              "color": "#C8D4E3"
             },
             "line": {
              "color": "white"
             }
            },
            "type": "table"
           }
          ]
         },
         "layout": {
          "annotationdefaults": {
           "arrowcolor": "#2a3f5f",
           "arrowhead": 0,
           "arrowwidth": 1
          },
          "autotypenumbers": "strict",
          "coloraxis": {
           "colorbar": {
            "outlinewidth": 0,
            "ticks": ""
           }
          },
          "colorscale": {
           "diverging": [
            [
             0,
             "#8e0152"
            ],
            [
             0.1,
             "#c51b7d"
            ],
            [
             0.2,
             "#de77ae"
            ],
            [
             0.3,
             "#f1b6da"
            ],
            [
             0.4,
             "#fde0ef"
            ],
            [
             0.5,
             "#f7f7f7"
            ],
            [
             0.6,
             "#e6f5d0"
            ],
            [
             0.7,
             "#b8e186"
            ],
            [
             0.8,
             "#7fbc41"
            ],
            [
             0.9,
             "#4d9221"
            ],
            [
             1,
             "#276419"
            ]
           ],
           "sequential": [
            [
             0,
             "#0d0887"
            ],
            [
             0.1111111111111111,
             "#46039f"
            ],
            [
             0.2222222222222222,
             "#7201a8"
            ],
            [
             0.3333333333333333,
             "#9c179e"
            ],
            [
             0.4444444444444444,
             "#bd3786"
            ],
            [
             0.5555555555555556,
             "#d8576b"
            ],
            [
             0.6666666666666666,
             "#ed7953"
            ],
            [
             0.7777777777777778,
             "#fb9f3a"
            ],
            [
             0.8888888888888888,
             "#fdca26"
            ],
            [
             1,
             "#f0f921"
            ]
           ],
           "sequentialminus": [
            [
             0,
             "#0d0887"
            ],
            [
             0.1111111111111111,
             "#46039f"
            ],
            [
             0.2222222222222222,
             "#7201a8"
            ],
            [
             0.3333333333333333,
             "#9c179e"
            ],
            [
             0.4444444444444444,
             "#bd3786"
            ],
            [
             0.5555555555555556,
             "#d8576b"
            ],
            [
             0.6666666666666666,
             "#ed7953"
            ],
            [
             0.7777777777777778,
             "#fb9f3a"
            ],
            [
             0.8888888888888888,
             "#fdca26"
            ],
            [
             1,
             "#f0f921"
            ]
           ]
          },
          "colorway": [
           "#636efa",
           "#EF553B",
           "#00cc96",
           "#ab63fa",
           "#FFA15A",
           "#19d3f3",
           "#FF6692",
           "#B6E880",
           "#FF97FF",
           "#FECB52"
          ],
          "font": {
           "color": "#2a3f5f"
          },
          "geo": {
           "bgcolor": "white",
           "lakecolor": "white",
           "landcolor": "#E5ECF6",
           "showlakes": true,
           "showland": true,
           "subunitcolor": "white"
          },
          "hoverlabel": {
           "align": "left"
          },
          "hovermode": "closest",
          "mapbox": {
           "style": "light"
          },
          "paper_bgcolor": "white",
          "plot_bgcolor": "#E5ECF6",
          "polar": {
           "angularaxis": {
            "gridcolor": "white",
            "linecolor": "white",
            "ticks": ""
           },
           "bgcolor": "#E5ECF6",
           "radialaxis": {
            "gridcolor": "white",
            "linecolor": "white",
            "ticks": ""
           }
          },
          "scene": {
           "xaxis": {
            "backgroundcolor": "#E5ECF6",
            "gridcolor": "white",
            "gridwidth": 2,
            "linecolor": "white",
            "showbackground": true,
            "ticks": "",
            "zerolinecolor": "white"
           },
           "yaxis": {
            "backgroundcolor": "#E5ECF6",
            "gridcolor": "white",
            "gridwidth": 2,
            "linecolor": "white",
            "showbackground": true,
            "ticks": "",
            "zerolinecolor": "white"
           },
           "zaxis": {
            "backgroundcolor": "#E5ECF6",
            "gridcolor": "white",
            "gridwidth": 2,
            "linecolor": "white",
            "showbackground": true,
            "ticks": "",
            "zerolinecolor": "white"
           }
          },
          "shapedefaults": {
           "line": {
            "color": "#2a3f5f"
           }
          },
          "ternary": {
           "aaxis": {
            "gridcolor": "white",
            "linecolor": "white",
            "ticks": ""
           },
           "baxis": {
            "gridcolor": "white",
            "linecolor": "white",
            "ticks": ""
           },
           "bgcolor": "#E5ECF6",
           "caxis": {
            "gridcolor": "white",
            "linecolor": "white",
            "ticks": ""
           }
          },
          "title": {
           "x": 0.05
          },
          "xaxis": {
           "automargin": true,
           "gridcolor": "white",
           "linecolor": "white",
           "ticks": "",
           "title": {
            "standoff": 15
           },
           "zerolinecolor": "white",
           "zerolinewidth": 2
          },
          "yaxis": {
           "automargin": true,
           "gridcolor": "white",
           "linecolor": "white",
           "ticks": "",
           "title": {
            "standoff": 15
           },
           "zerolinecolor": "white",
           "zerolinewidth": 2
          }
         }
        },
        "title": {
         "font": {
          "color": "#4D5663"
         }
        },
        "xaxis": {
         "gridcolor": "#E1E5ED",
         "showgrid": true,
         "tickfont": {
          "color": "#4D5663"
         },
         "title": {
          "font": {
           "color": "#4D5663"
          },
          "text": ""
         },
         "zerolinecolor": "#E1E5ED"
        },
        "yaxis": {
         "gridcolor": "#E1E5ED",
         "showgrid": true,
         "tickfont": {
          "color": "#4D5663"
         },
         "title": {
          "font": {
           "color": "#4D5663"
          },
          "text": ""
         },
         "zerolinecolor": "#E1E5ED"
        }
       }
      }
     },
     "metadata": {}
    }
   ],
   "metadata": {}
  },
  {
   "cell_type": "code",
   "execution_count": 67,
   "source": [
    "df.scatter_matrix()"
   ],
   "outputs": [
    {
     "output_type": "display_data",
     "data": {
      "text/html": [
       "<div>                            <div id=\"baa05ffc-fbf6-4d36-985c-664fd27ab2b8\" class=\"plotly-graph-div\" style=\"height:525px; width:100%;\"></div>            <script type=\"text/javascript\">                require([\"plotly\"], function(Plotly) {                    window.PLOTLYENV=window.PLOTLYENV || {};\n",
       "                    window.PLOTLYENV.BASE_URL='https://plot.ly';                                    if (document.getElementById(\"baa05ffc-fbf6-4d36-985c-664fd27ab2b8\")) {                    Plotly.newPlot(                        \"baa05ffc-fbf6-4d36-985c-664fd27ab2b8\",                        [{\"histfunc\":\"count\",\"histnorm\":\"\",\"marker\":{\"color\":\"rgba(255, 153, 51, 1.0)\",\"line\":{\"color\":\"#4D5663\",\"width\":1.3}},\"name\":\"A\",\"nbinsx\":10,\"opacity\":0.8,\"orientation\":\"v\",\"type\":\"histogram\",\"x\":[1.2976308828245577,0.02891563246579733,0.6488033830640866,-0.6518967120779291,0.6103043670864998,-0.9802372938491501,-0.07589310574178512,-2.157880119655764,0.868733577307398,-0.9351261375377906,-0.055140764914955565,-0.28589654616041965,0.5289452063496645,0.2781921010010714,0.16374723355678183,-0.39239282708924167,0.8934440501370563,0.40827977634283436,-0.6959647939739411,-1.1815300420355552,1.1163964121590395,0.3065108458385955,-2.0341160588793805,1.2298468146505241,0.05746358452739269,-1.9000194599015916,0.1415749888678313,-1.2239433218446887,1.201220006696403,1.428560258537245,-1.140941921397734,0.5353234970155184,1.0940387658031,0.22424057672913128,-0.8824973957848675,-1.8185038357772296,0.7229169486376175,0.9124963031268156,0.11107936758643822,-0.08086602502924477,1.2099660155692962,1.8518300739265623,-0.12137650834889625,-0.4858190401877175,1.3395698942139476,-0.17521586297401584,-1.373835557744931,-0.1897204092619399,0.19203332056959913,-0.18036257996181526,-0.15620054902084546,-2.84142252943806,-0.4349542942415666,0.22380447679552914,1.0785492355179809,-0.32649171717218634,0.08433694066275796,-0.13755292295945926,-0.43063226950394184,0.17155096628062336,-1.6044580181981711,0.05717561589713138,-0.06195786489501751,0.6380612124143483,0.6194226191395767,-0.7093593036394797,-0.2941371278104831,0.5636335693906555,0.17585797078580842,1.8454840837179403,-0.3635563229777336,-0.5476291459186988,0.6971996263353732,-0.10273204605952994,1.4857175198711914,-0.9602307332292892,0.5908545524036684,0.4127672484937881,-0.5266758464083148,-1.2170831072505595,1.9285580051166684,2.233682040310963,1.333969398397583,0.423248589364245,0.22258221659675845,-0.4043164692696297,0.6594803798259496,-2.285942806656985,1.0281945074225356,-1.037158988731567,-0.5828485188740444,-0.313430618132578,-1.3874377073665272,0.4099640243163893,0.24071529001761394,-0.12017792683193004,-0.9686450621979947,-0.03808213244543389,1.8023761654438561,-1.4301276228609552],\"xaxis\":\"x\",\"yaxis\":\"y\"},{\"line\":{\"color\":\"rgba(128, 128, 128, 1.0)\",\"dash\":\"solid\",\"shape\":\"linear\",\"width\":1.3},\"marker\":{\"size\":2,\"symbol\":\"circle\"},\"mode\":\"markers\",\"name\":\"A\",\"text\":\"\",\"type\":\"scatter\",\"x\":[0.18926451945427628,0.16292694381339004,-0.566306058548627,-1.1871484670475736,-0.02625193941071388,0.6041199267212912,1.3741250423719473,-0.5088108537866691,0.19976539698307638,-1.395275921233364,-0.015878490774350308,0.8084804721162855,0.8034225968778593,-0.5168699421006512,-1.3796295609476623,-1.6941356174092017,-1.379959709057697,-0.11505112421545904,0.32984150289779074,-0.42834411191121147,1.2375552243795376,-0.5575710577973884,-0.1894786355299986,-0.23813580837486759,-0.45984534641133945,0.48937688393162654,0.576026131836969,-1.1993910275679727,0.15484795454435643,0.33950144682406125,0.31619953849918614,-0.8920510043930835,1.6552070877637908,1.0730130982097303,-0.09015798247656187,-1.0602573544408647,-0.5505686869004346,1.5327284332177737,-1.306471900965645,-0.3272434299662886,-0.4801211887802263,0.9169019760490729,-0.017979999266407094,-0.9511968823264166,-0.9627252363016441,-1.4628433017052838,-1.1821952702688425,-0.28148377358404764,-1.4044798089957289,0.062379443493298006,-1.261667708946712,2.0321741626905028,0.8208188001977202,1.5780470590866502,-1.5595133106751289,-0.5258041321901501,0.6970768226811306,-0.005408959849332933,0.0732974621650809,0.6935240608309962,0.345194496782059,-0.18429690989527864,0.22160274975209152,-0.4854806124075751,0.47488816725628835,-0.14852084415920547,0.8318360611705212,0.29468055995909737,-1.2880347602192437,0.35609655787191175,-0.22330297178159317,0.16497518724931692,0.2485388337776046,-0.7649918753979197,0.9026354406871174,-1.596064739107909,-0.6072502963690356,-0.7296920363391135,-0.7093956570250376,-0.9822586622490749,1.9182674900103864,-0.01898318330479451,-0.7695364688337993,0.9775997347713666,-0.5403883962773787,-0.0631483844680669,1.087217742194578,0.2926164774469953,-0.07524332323153042,0.5876958428402382,0.351391326724226,-1.0655695235292197,1.7359381836204664,-0.5167044830170687,-1.3410359409673123,-0.9910637169828151,-1.6014081994632958,-0.35636157582061334,-1.6790495903477574,-0.9810464442857267],\"xaxis\":\"x2\",\"y\":[1.2976308828245577,0.02891563246579733,0.6488033830640866,-0.6518967120779291,0.6103043670864998,-0.9802372938491501,-0.07589310574178512,-2.157880119655764,0.868733577307398,-0.9351261375377906,-0.055140764914955565,-0.28589654616041965,0.5289452063496645,0.2781921010010714,0.16374723355678183,-0.39239282708924167,0.8934440501370563,0.40827977634283436,-0.6959647939739411,-1.1815300420355552,1.1163964121590395,0.3065108458385955,-2.0341160588793805,1.2298468146505241,0.05746358452739269,-1.9000194599015916,0.1415749888678313,-1.2239433218446887,1.201220006696403,1.428560258537245,-1.140941921397734,0.5353234970155184,1.0940387658031,0.22424057672913128,-0.8824973957848675,-1.8185038357772296,0.7229169486376175,0.9124963031268156,0.11107936758643822,-0.08086602502924477,1.2099660155692962,1.8518300739265623,-0.12137650834889625,-0.4858190401877175,1.3395698942139476,-0.17521586297401584,-1.373835557744931,-0.1897204092619399,0.19203332056959913,-0.18036257996181526,-0.15620054902084546,-2.84142252943806,-0.4349542942415666,0.22380447679552914,1.0785492355179809,-0.32649171717218634,0.08433694066275796,-0.13755292295945926,-0.43063226950394184,0.17155096628062336,-1.6044580181981711,0.05717561589713138,-0.06195786489501751,0.6380612124143483,0.6194226191395767,-0.7093593036394797,-0.2941371278104831,0.5636335693906555,0.17585797078580842,1.8454840837179403,-0.3635563229777336,-0.5476291459186988,0.6971996263353732,-0.10273204605952994,1.4857175198711914,-0.9602307332292892,0.5908545524036684,0.4127672484937881,-0.5266758464083148,-1.2170831072505595,1.9285580051166684,2.233682040310963,1.333969398397583,0.423248589364245,0.22258221659675845,-0.4043164692696297,0.6594803798259496,-2.285942806656985,1.0281945074225356,-1.037158988731567,-0.5828485188740444,-0.313430618132578,-1.3874377073665272,0.4099640243163893,0.24071529001761394,-0.12017792683193004,-0.9686450621979947,-0.03808213244543389,1.8023761654438561,-1.4301276228609552],\"yaxis\":\"y2\"},{\"line\":{\"color\":\"rgba(128, 128, 128, 1.0)\",\"dash\":\"solid\",\"shape\":\"linear\",\"width\":1.3},\"marker\":{\"size\":2,\"symbol\":\"circle\"},\"mode\":\"markers\",\"name\":\"A\",\"text\":\"\",\"type\":\"scatter\",\"x\":[-1.1719714818817535,0.2332138753592973,-0.4546800061881979,1.3516237536173374,0.17179961485515238,1.0517724751027668,-0.7823463516887971,1.8074585106465186,1.3123352560032089,-1.820830963211993,3.4655352474152594,-1.6644082485933236,0.3327524789592473,0.7728081592370689,1.0106861388792414,-0.1360068676174408,1.067275308490196,1.7498323035351442,-0.42210531383943345,0.08274856032387486,1.3351535410116988,0.2898933488848551,0.4442997674702476,-1.0566350492449932,-1.1770610406741882,1.059136089759076,0.6358669397925498,-0.9873866966962658,-1.1928109033344136,0.2365081379323982,1.4119765789231435,-0.012412826944206104,-1.8181097862164766,2.1853022769975317,-0.14097762123253854,1.5150408956982442,0.8114345148559331,-1.026942869137855,0.8685950616036636,1.3873827877411171,0.2811520389861795,-2.2353418800786966,-0.3367239783801947,1.318690702877346,-0.13330465622915116,-1.614613802275598,-0.22014132742275344,-0.8563517414295124,-0.5763091648572842,-0.47336546528140866,0.1403426518366949,-1.1387953070329018,-0.19268812707847527,-1.1581771054106418,-0.19340924136897628,-0.14908746718245883,-1.3941423793138157,-1.2835470024222988,0.44031813337107395,-0.1356788494555008,-0.9840572679707422,0.8078129574771282,0.4267425553937342,-0.959346901827908,0.5938419248520675,1.0875161323394007,0.2510932564313161,0.24262070160603114,0.01778087882946292,1.6342184020158732,-0.23194589286996642,-0.39029141370906273,0.11551194440826097,0.5103878413697021,-0.8064734182549084,0.1402951495555622,0.3674712646729114,0.9584316439675348,1.8298277284273394,0.8920236547226964,-0.5212968676245798,-0.17238935097536456,0.8471726224699624,0.7617060079728852,-1.1911720287513288,-0.7448002940723181,0.24501002154222226,0.4226797203167203,-0.6777182689776893,0.3250244309256672,-0.06129106814175234,-0.5074724286972169,0.5685119579659011,1.9455820824933674,0.7062092630505239,-1.910879622003017,-0.23421828012397325,-0.03394700754584208,0.17577755569065942,-1.3676435491484122],\"xaxis\":\"x3\",\"y\":[1.2976308828245577,0.02891563246579733,0.6488033830640866,-0.6518967120779291,0.6103043670864998,-0.9802372938491501,-0.07589310574178512,-2.157880119655764,0.868733577307398,-0.9351261375377906,-0.055140764914955565,-0.28589654616041965,0.5289452063496645,0.2781921010010714,0.16374723355678183,-0.39239282708924167,0.8934440501370563,0.40827977634283436,-0.6959647939739411,-1.1815300420355552,1.1163964121590395,0.3065108458385955,-2.0341160588793805,1.2298468146505241,0.05746358452739269,-1.9000194599015916,0.1415749888678313,-1.2239433218446887,1.201220006696403,1.428560258537245,-1.140941921397734,0.5353234970155184,1.0940387658031,0.22424057672913128,-0.8824973957848675,-1.8185038357772296,0.7229169486376175,0.9124963031268156,0.11107936758643822,-0.08086602502924477,1.2099660155692962,1.8518300739265623,-0.12137650834889625,-0.4858190401877175,1.3395698942139476,-0.17521586297401584,-1.373835557744931,-0.1897204092619399,0.19203332056959913,-0.18036257996181526,-0.15620054902084546,-2.84142252943806,-0.4349542942415666,0.22380447679552914,1.0785492355179809,-0.32649171717218634,0.08433694066275796,-0.13755292295945926,-0.43063226950394184,0.17155096628062336,-1.6044580181981711,0.05717561589713138,-0.06195786489501751,0.6380612124143483,0.6194226191395767,-0.7093593036394797,-0.2941371278104831,0.5636335693906555,0.17585797078580842,1.8454840837179403,-0.3635563229777336,-0.5476291459186988,0.6971996263353732,-0.10273204605952994,1.4857175198711914,-0.9602307332292892,0.5908545524036684,0.4127672484937881,-0.5266758464083148,-1.2170831072505595,1.9285580051166684,2.233682040310963,1.333969398397583,0.423248589364245,0.22258221659675845,-0.4043164692696297,0.6594803798259496,-2.285942806656985,1.0281945074225356,-1.037158988731567,-0.5828485188740444,-0.313430618132578,-1.3874377073665272,0.4099640243163893,0.24071529001761394,-0.12017792683193004,-0.9686450621979947,-0.03808213244543389,1.8023761654438561,-1.4301276228609552],\"yaxis\":\"y3\"},{\"line\":{\"color\":\"rgba(128, 128, 128, 1.0)\",\"dash\":\"solid\",\"shape\":\"linear\",\"width\":1.3},\"marker\":{\"size\":2,\"symbol\":\"circle\"},\"mode\":\"markers\",\"name\":\"A\",\"text\":\"\",\"type\":\"scatter\",\"x\":[-0.12704856923915245,1.6938046160785538,0.5756190997868936,-0.17999592839220205,-9.163211638458499e-05,1.4695089350289379,1.3548652763865952,-0.33235526694293527,-0.3822486177289395,-1.134475698013416,1.3847527542080538,-1.9991532972345138,1.9097487987135684,-1.1307328630005613,0.08202699286545966,-0.9261434359695201,-0.6432838379331188,0.30315341023978976,0.8716668324641216,1.001160525439211,-0.6200617114477807,0.5545756856829747,1.5269794887667125,0.2722912521021846,-1.3302386550206888,1.0820281408695263,0.4820220647486462,-0.026583117944890256,0.254307087002118,-0.23257206899068456,-0.6668408624159107,-1.3918058493032925,-0.9093808020672761,-0.8213125209510255,0.12617360302476713,1.1818422521706744,-2.1154345140812394,0.8289698795252698,-0.20329141711730483,1.1382443889578078,1.8069275473195896,-1.1912219328811458,-1.146680326335038,0.8328404693469593,0.5535333687685877,-1.6104707362516677,-0.4217307628110528,-0.8759338204297533,-2.0819318917445275,1.258434233114991,0.5176493763367291,0.24858411888945894,-1.289762415904675,-0.27923756675258127,1.0331102503945448,-0.7025549276141846,0.49671821491264867,-0.7124415305662497,-0.40816128697898746,0.5887113190152763,0.8052943692046769,0.04143367083255379,0.5315060348183375,0.8521759240730672,-0.11357150430083014,-0.5355160068590631,0.7262464673901955,0.4368507358817294,-0.5469509790576146,1.225346278034147,0.4716273182166465,-0.21321894212852888,-0.6651560509999196,0.8062087509024685,0.316387993098053,0.13662280110006966,-0.08136504655299272,0.35380080641358747,-1.1975953034380349,0.28675545644337425,-1.2907460928812213,-0.8220971385953828,1.1511920612407398,-0.6530289657038366,0.46763936539994966,1.5723356025836042,0.8537628199681853,-0.4427620032609995,-0.057184951567829934,-0.37879073207614317,0.3325060200718353,1.7535425767195376,-0.6266540549540228,-0.38014845782194295,-1.1657560542518957,1.3333117436860387,0.25983277624047507,-0.04858360050128592,-1.1525950412400925,0.9390252529338794],\"xaxis\":\"x4\",\"y\":[1.2976308828245577,0.02891563246579733,0.6488033830640866,-0.6518967120779291,0.6103043670864998,-0.9802372938491501,-0.07589310574178512,-2.157880119655764,0.868733577307398,-0.9351261375377906,-0.055140764914955565,-0.28589654616041965,0.5289452063496645,0.2781921010010714,0.16374723355678183,-0.39239282708924167,0.8934440501370563,0.40827977634283436,-0.6959647939739411,-1.1815300420355552,1.1163964121590395,0.3065108458385955,-2.0341160588793805,1.2298468146505241,0.05746358452739269,-1.9000194599015916,0.1415749888678313,-1.2239433218446887,1.201220006696403,1.428560258537245,-1.140941921397734,0.5353234970155184,1.0940387658031,0.22424057672913128,-0.8824973957848675,-1.8185038357772296,0.7229169486376175,0.9124963031268156,0.11107936758643822,-0.08086602502924477,1.2099660155692962,1.8518300739265623,-0.12137650834889625,-0.4858190401877175,1.3395698942139476,-0.17521586297401584,-1.373835557744931,-0.1897204092619399,0.19203332056959913,-0.18036257996181526,-0.15620054902084546,-2.84142252943806,-0.4349542942415666,0.22380447679552914,1.0785492355179809,-0.32649171717218634,0.08433694066275796,-0.13755292295945926,-0.43063226950394184,0.17155096628062336,-1.6044580181981711,0.05717561589713138,-0.06195786489501751,0.6380612124143483,0.6194226191395767,-0.7093593036394797,-0.2941371278104831,0.5636335693906555,0.17585797078580842,1.8454840837179403,-0.3635563229777336,-0.5476291459186988,0.6971996263353732,-0.10273204605952994,1.4857175198711914,-0.9602307332292892,0.5908545524036684,0.4127672484937881,-0.5266758464083148,-1.2170831072505595,1.9285580051166684,2.233682040310963,1.333969398397583,0.423248589364245,0.22258221659675845,-0.4043164692696297,0.6594803798259496,-2.285942806656985,1.0281945074225356,-1.037158988731567,-0.5828485188740444,-0.313430618132578,-1.3874377073665272,0.4099640243163893,0.24071529001761394,-0.12017792683193004,-0.9686450621979947,-0.03808213244543389,1.8023761654438561,-1.4301276228609552],\"yaxis\":\"y4\"},{\"line\":{\"color\":\"rgba(128, 128, 128, 1.0)\",\"dash\":\"solid\",\"shape\":\"linear\",\"width\":1.3},\"marker\":{\"size\":2,\"symbol\":\"circle\"},\"mode\":\"markers\",\"name\":\"B\",\"text\":\"\",\"type\":\"scatter\",\"x\":[1.2976308828245577,0.02891563246579733,0.6488033830640866,-0.6518967120779291,0.6103043670864998,-0.9802372938491501,-0.07589310574178512,-2.157880119655764,0.868733577307398,-0.9351261375377906,-0.055140764914955565,-0.28589654616041965,0.5289452063496645,0.2781921010010714,0.16374723355678183,-0.39239282708924167,0.8934440501370563,0.40827977634283436,-0.6959647939739411,-1.1815300420355552,1.1163964121590395,0.3065108458385955,-2.0341160588793805,1.2298468146505241,0.05746358452739269,-1.9000194599015916,0.1415749888678313,-1.2239433218446887,1.201220006696403,1.428560258537245,-1.140941921397734,0.5353234970155184,1.0940387658031,0.22424057672913128,-0.8824973957848675,-1.8185038357772296,0.7229169486376175,0.9124963031268156,0.11107936758643822,-0.08086602502924477,1.2099660155692962,1.8518300739265623,-0.12137650834889625,-0.4858190401877175,1.3395698942139476,-0.17521586297401584,-1.373835557744931,-0.1897204092619399,0.19203332056959913,-0.18036257996181526,-0.15620054902084546,-2.84142252943806,-0.4349542942415666,0.22380447679552914,1.0785492355179809,-0.32649171717218634,0.08433694066275796,-0.13755292295945926,-0.43063226950394184,0.17155096628062336,-1.6044580181981711,0.05717561589713138,-0.06195786489501751,0.6380612124143483,0.6194226191395767,-0.7093593036394797,-0.2941371278104831,0.5636335693906555,0.17585797078580842,1.8454840837179403,-0.3635563229777336,-0.5476291459186988,0.6971996263353732,-0.10273204605952994,1.4857175198711914,-0.9602307332292892,0.5908545524036684,0.4127672484937881,-0.5266758464083148,-1.2170831072505595,1.9285580051166684,2.233682040310963,1.333969398397583,0.423248589364245,0.22258221659675845,-0.4043164692696297,0.6594803798259496,-2.285942806656985,1.0281945074225356,-1.037158988731567,-0.5828485188740444,-0.313430618132578,-1.3874377073665272,0.4099640243163893,0.24071529001761394,-0.12017792683193004,-0.9686450621979947,-0.03808213244543389,1.8023761654438561,-1.4301276228609552],\"xaxis\":\"x5\",\"y\":[0.18926451945427628,0.16292694381339004,-0.566306058548627,-1.1871484670475736,-0.02625193941071388,0.6041199267212912,1.3741250423719473,-0.5088108537866691,0.19976539698307638,-1.395275921233364,-0.015878490774350308,0.8084804721162855,0.8034225968778593,-0.5168699421006512,-1.3796295609476623,-1.6941356174092017,-1.379959709057697,-0.11505112421545904,0.32984150289779074,-0.42834411191121147,1.2375552243795376,-0.5575710577973884,-0.1894786355299986,-0.23813580837486759,-0.45984534641133945,0.48937688393162654,0.576026131836969,-1.1993910275679727,0.15484795454435643,0.33950144682406125,0.31619953849918614,-0.8920510043930835,1.6552070877637908,1.0730130982097303,-0.09015798247656187,-1.0602573544408647,-0.5505686869004346,1.5327284332177737,-1.306471900965645,-0.3272434299662886,-0.4801211887802263,0.9169019760490729,-0.017979999266407094,-0.9511968823264166,-0.9627252363016441,-1.4628433017052838,-1.1821952702688425,-0.28148377358404764,-1.4044798089957289,0.062379443493298006,-1.261667708946712,2.0321741626905028,0.8208188001977202,1.5780470590866502,-1.5595133106751289,-0.5258041321901501,0.6970768226811306,-0.005408959849332933,0.0732974621650809,0.6935240608309962,0.345194496782059,-0.18429690989527864,0.22160274975209152,-0.4854806124075751,0.47488816725628835,-0.14852084415920547,0.8318360611705212,0.29468055995909737,-1.2880347602192437,0.35609655787191175,-0.22330297178159317,0.16497518724931692,0.2485388337776046,-0.7649918753979197,0.9026354406871174,-1.596064739107909,-0.6072502963690356,-0.7296920363391135,-0.7093956570250376,-0.9822586622490749,1.9182674900103864,-0.01898318330479451,-0.7695364688337993,0.9775997347713666,-0.5403883962773787,-0.0631483844680669,1.087217742194578,0.2926164774469953,-0.07524332323153042,0.5876958428402382,0.351391326724226,-1.0655695235292197,1.7359381836204664,-0.5167044830170687,-1.3410359409673123,-0.9910637169828151,-1.6014081994632958,-0.35636157582061334,-1.6790495903477574,-0.9810464442857267],\"yaxis\":\"y5\"},{\"histfunc\":\"count\",\"histnorm\":\"\",\"marker\":{\"color\":\"rgba(55, 128, 191, 1.0)\",\"line\":{\"color\":\"#4D5663\",\"width\":1.3}},\"name\":\"B\",\"nbinsx\":10,\"opacity\":0.8,\"orientation\":\"v\",\"type\":\"histogram\",\"x\":[0.18926451945427628,0.16292694381339004,-0.566306058548627,-1.1871484670475736,-0.02625193941071388,0.6041199267212912,1.3741250423719473,-0.5088108537866691,0.19976539698307638,-1.395275921233364,-0.015878490774350308,0.8084804721162855,0.8034225968778593,-0.5168699421006512,-1.3796295609476623,-1.6941356174092017,-1.379959709057697,-0.11505112421545904,0.32984150289779074,-0.42834411191121147,1.2375552243795376,-0.5575710577973884,-0.1894786355299986,-0.23813580837486759,-0.45984534641133945,0.48937688393162654,0.576026131836969,-1.1993910275679727,0.15484795454435643,0.33950144682406125,0.31619953849918614,-0.8920510043930835,1.6552070877637908,1.0730130982097303,-0.09015798247656187,-1.0602573544408647,-0.5505686869004346,1.5327284332177737,-1.306471900965645,-0.3272434299662886,-0.4801211887802263,0.9169019760490729,-0.017979999266407094,-0.9511968823264166,-0.9627252363016441,-1.4628433017052838,-1.1821952702688425,-0.28148377358404764,-1.4044798089957289,0.062379443493298006,-1.261667708946712,2.0321741626905028,0.8208188001977202,1.5780470590866502,-1.5595133106751289,-0.5258041321901501,0.6970768226811306,-0.005408959849332933,0.0732974621650809,0.6935240608309962,0.345194496782059,-0.18429690989527864,0.22160274975209152,-0.4854806124075751,0.47488816725628835,-0.14852084415920547,0.8318360611705212,0.29468055995909737,-1.2880347602192437,0.35609655787191175,-0.22330297178159317,0.16497518724931692,0.2485388337776046,-0.7649918753979197,0.9026354406871174,-1.596064739107909,-0.6072502963690356,-0.7296920363391135,-0.7093956570250376,-0.9822586622490749,1.9182674900103864,-0.01898318330479451,-0.7695364688337993,0.9775997347713666,-0.5403883962773787,-0.0631483844680669,1.087217742194578,0.2926164774469953,-0.07524332323153042,0.5876958428402382,0.351391326724226,-1.0655695235292197,1.7359381836204664,-0.5167044830170687,-1.3410359409673123,-0.9910637169828151,-1.6014081994632958,-0.35636157582061334,-1.6790495903477574,-0.9810464442857267],\"xaxis\":\"x6\",\"yaxis\":\"y6\"},{\"line\":{\"color\":\"rgba(128, 128, 128, 1.0)\",\"dash\":\"solid\",\"shape\":\"linear\",\"width\":1.3},\"marker\":{\"size\":2,\"symbol\":\"circle\"},\"mode\":\"markers\",\"name\":\"B\",\"text\":\"\",\"type\":\"scatter\",\"x\":[-1.1719714818817535,0.2332138753592973,-0.4546800061881979,1.3516237536173374,0.17179961485515238,1.0517724751027668,-0.7823463516887971,1.8074585106465186,1.3123352560032089,-1.820830963211993,3.4655352474152594,-1.6644082485933236,0.3327524789592473,0.7728081592370689,1.0106861388792414,-0.1360068676174408,1.067275308490196,1.7498323035351442,-0.42210531383943345,0.08274856032387486,1.3351535410116988,0.2898933488848551,0.4442997674702476,-1.0566350492449932,-1.1770610406741882,1.059136089759076,0.6358669397925498,-0.9873866966962658,-1.1928109033344136,0.2365081379323982,1.4119765789231435,-0.012412826944206104,-1.8181097862164766,2.1853022769975317,-0.14097762123253854,1.5150408956982442,0.8114345148559331,-1.026942869137855,0.8685950616036636,1.3873827877411171,0.2811520389861795,-2.2353418800786966,-0.3367239783801947,1.318690702877346,-0.13330465622915116,-1.614613802275598,-0.22014132742275344,-0.8563517414295124,-0.5763091648572842,-0.47336546528140866,0.1403426518366949,-1.1387953070329018,-0.19268812707847527,-1.1581771054106418,-0.19340924136897628,-0.14908746718245883,-1.3941423793138157,-1.2835470024222988,0.44031813337107395,-0.1356788494555008,-0.9840572679707422,0.8078129574771282,0.4267425553937342,-0.959346901827908,0.5938419248520675,1.0875161323394007,0.2510932564313161,0.24262070160603114,0.01778087882946292,1.6342184020158732,-0.23194589286996642,-0.39029141370906273,0.11551194440826097,0.5103878413697021,-0.8064734182549084,0.1402951495555622,0.3674712646729114,0.9584316439675348,1.8298277284273394,0.8920236547226964,-0.5212968676245798,-0.17238935097536456,0.8471726224699624,0.7617060079728852,-1.1911720287513288,-0.7448002940723181,0.24501002154222226,0.4226797203167203,-0.6777182689776893,0.3250244309256672,-0.06129106814175234,-0.5074724286972169,0.5685119579659011,1.9455820824933674,0.7062092630505239,-1.910879622003017,-0.23421828012397325,-0.03394700754584208,0.17577755569065942,-1.3676435491484122],\"xaxis\":\"x7\",\"y\":[0.18926451945427628,0.16292694381339004,-0.566306058548627,-1.1871484670475736,-0.02625193941071388,0.6041199267212912,1.3741250423719473,-0.5088108537866691,0.19976539698307638,-1.395275921233364,-0.015878490774350308,0.8084804721162855,0.8034225968778593,-0.5168699421006512,-1.3796295609476623,-1.6941356174092017,-1.379959709057697,-0.11505112421545904,0.32984150289779074,-0.42834411191121147,1.2375552243795376,-0.5575710577973884,-0.1894786355299986,-0.23813580837486759,-0.45984534641133945,0.48937688393162654,0.576026131836969,-1.1993910275679727,0.15484795454435643,0.33950144682406125,0.31619953849918614,-0.8920510043930835,1.6552070877637908,1.0730130982097303,-0.09015798247656187,-1.0602573544408647,-0.5505686869004346,1.5327284332177737,-1.306471900965645,-0.3272434299662886,-0.4801211887802263,0.9169019760490729,-0.017979999266407094,-0.9511968823264166,-0.9627252363016441,-1.4628433017052838,-1.1821952702688425,-0.28148377358404764,-1.4044798089957289,0.062379443493298006,-1.261667708946712,2.0321741626905028,0.8208188001977202,1.5780470590866502,-1.5595133106751289,-0.5258041321901501,0.6970768226811306,-0.005408959849332933,0.0732974621650809,0.6935240608309962,0.345194496782059,-0.18429690989527864,0.22160274975209152,-0.4854806124075751,0.47488816725628835,-0.14852084415920547,0.8318360611705212,0.29468055995909737,-1.2880347602192437,0.35609655787191175,-0.22330297178159317,0.16497518724931692,0.2485388337776046,-0.7649918753979197,0.9026354406871174,-1.596064739107909,-0.6072502963690356,-0.7296920363391135,-0.7093956570250376,-0.9822586622490749,1.9182674900103864,-0.01898318330479451,-0.7695364688337993,0.9775997347713666,-0.5403883962773787,-0.0631483844680669,1.087217742194578,0.2926164774469953,-0.07524332323153042,0.5876958428402382,0.351391326724226,-1.0655695235292197,1.7359381836204664,-0.5167044830170687,-1.3410359409673123,-0.9910637169828151,-1.6014081994632958,-0.35636157582061334,-1.6790495903477574,-0.9810464442857267],\"yaxis\":\"y7\"},{\"line\":{\"color\":\"rgba(128, 128, 128, 1.0)\",\"dash\":\"solid\",\"shape\":\"linear\",\"width\":1.3},\"marker\":{\"size\":2,\"symbol\":\"circle\"},\"mode\":\"markers\",\"name\":\"B\",\"text\":\"\",\"type\":\"scatter\",\"x\":[-0.12704856923915245,1.6938046160785538,0.5756190997868936,-0.17999592839220205,-9.163211638458499e-05,1.4695089350289379,1.3548652763865952,-0.33235526694293527,-0.3822486177289395,-1.134475698013416,1.3847527542080538,-1.9991532972345138,1.9097487987135684,-1.1307328630005613,0.08202699286545966,-0.9261434359695201,-0.6432838379331188,0.30315341023978976,0.8716668324641216,1.001160525439211,-0.6200617114477807,0.5545756856829747,1.5269794887667125,0.2722912521021846,-1.3302386550206888,1.0820281408695263,0.4820220647486462,-0.026583117944890256,0.254307087002118,-0.23257206899068456,-0.6668408624159107,-1.3918058493032925,-0.9093808020672761,-0.8213125209510255,0.12617360302476713,1.1818422521706744,-2.1154345140812394,0.8289698795252698,-0.20329141711730483,1.1382443889578078,1.8069275473195896,-1.1912219328811458,-1.146680326335038,0.8328404693469593,0.5535333687685877,-1.6104707362516677,-0.4217307628110528,-0.8759338204297533,-2.0819318917445275,1.258434233114991,0.5176493763367291,0.24858411888945894,-1.289762415904675,-0.27923756675258127,1.0331102503945448,-0.7025549276141846,0.49671821491264867,-0.7124415305662497,-0.40816128697898746,0.5887113190152763,0.8052943692046769,0.04143367083255379,0.5315060348183375,0.8521759240730672,-0.11357150430083014,-0.5355160068590631,0.7262464673901955,0.4368507358817294,-0.5469509790576146,1.225346278034147,0.4716273182166465,-0.21321894212852888,-0.6651560509999196,0.8062087509024685,0.316387993098053,0.13662280110006966,-0.08136504655299272,0.35380080641358747,-1.1975953034380349,0.28675545644337425,-1.2907460928812213,-0.8220971385953828,1.1511920612407398,-0.6530289657038366,0.46763936539994966,1.5723356025836042,0.8537628199681853,-0.4427620032609995,-0.057184951567829934,-0.37879073207614317,0.3325060200718353,1.7535425767195376,-0.6266540549540228,-0.38014845782194295,-1.1657560542518957,1.3333117436860387,0.25983277624047507,-0.04858360050128592,-1.1525950412400925,0.9390252529338794],\"xaxis\":\"x8\",\"y\":[0.18926451945427628,0.16292694381339004,-0.566306058548627,-1.1871484670475736,-0.02625193941071388,0.6041199267212912,1.3741250423719473,-0.5088108537866691,0.19976539698307638,-1.395275921233364,-0.015878490774350308,0.8084804721162855,0.8034225968778593,-0.5168699421006512,-1.3796295609476623,-1.6941356174092017,-1.379959709057697,-0.11505112421545904,0.32984150289779074,-0.42834411191121147,1.2375552243795376,-0.5575710577973884,-0.1894786355299986,-0.23813580837486759,-0.45984534641133945,0.48937688393162654,0.576026131836969,-1.1993910275679727,0.15484795454435643,0.33950144682406125,0.31619953849918614,-0.8920510043930835,1.6552070877637908,1.0730130982097303,-0.09015798247656187,-1.0602573544408647,-0.5505686869004346,1.5327284332177737,-1.306471900965645,-0.3272434299662886,-0.4801211887802263,0.9169019760490729,-0.017979999266407094,-0.9511968823264166,-0.9627252363016441,-1.4628433017052838,-1.1821952702688425,-0.28148377358404764,-1.4044798089957289,0.062379443493298006,-1.261667708946712,2.0321741626905028,0.8208188001977202,1.5780470590866502,-1.5595133106751289,-0.5258041321901501,0.6970768226811306,-0.005408959849332933,0.0732974621650809,0.6935240608309962,0.345194496782059,-0.18429690989527864,0.22160274975209152,-0.4854806124075751,0.47488816725628835,-0.14852084415920547,0.8318360611705212,0.29468055995909737,-1.2880347602192437,0.35609655787191175,-0.22330297178159317,0.16497518724931692,0.2485388337776046,-0.7649918753979197,0.9026354406871174,-1.596064739107909,-0.6072502963690356,-0.7296920363391135,-0.7093956570250376,-0.9822586622490749,1.9182674900103864,-0.01898318330479451,-0.7695364688337993,0.9775997347713666,-0.5403883962773787,-0.0631483844680669,1.087217742194578,0.2926164774469953,-0.07524332323153042,0.5876958428402382,0.351391326724226,-1.0655695235292197,1.7359381836204664,-0.5167044830170687,-1.3410359409673123,-0.9910637169828151,-1.6014081994632958,-0.35636157582061334,-1.6790495903477574,-0.9810464442857267],\"yaxis\":\"y8\"},{\"line\":{\"color\":\"rgba(128, 128, 128, 1.0)\",\"dash\":\"solid\",\"shape\":\"linear\",\"width\":1.3},\"marker\":{\"size\":2,\"symbol\":\"circle\"},\"mode\":\"markers\",\"name\":\"C\",\"text\":\"\",\"type\":\"scatter\",\"x\":[1.2976308828245577,0.02891563246579733,0.6488033830640866,-0.6518967120779291,0.6103043670864998,-0.9802372938491501,-0.07589310574178512,-2.157880119655764,0.868733577307398,-0.9351261375377906,-0.055140764914955565,-0.28589654616041965,0.5289452063496645,0.2781921010010714,0.16374723355678183,-0.39239282708924167,0.8934440501370563,0.40827977634283436,-0.6959647939739411,-1.1815300420355552,1.1163964121590395,0.3065108458385955,-2.0341160588793805,1.2298468146505241,0.05746358452739269,-1.9000194599015916,0.1415749888678313,-1.2239433218446887,1.201220006696403,1.428560258537245,-1.140941921397734,0.5353234970155184,1.0940387658031,0.22424057672913128,-0.8824973957848675,-1.8185038357772296,0.7229169486376175,0.9124963031268156,0.11107936758643822,-0.08086602502924477,1.2099660155692962,1.8518300739265623,-0.12137650834889625,-0.4858190401877175,1.3395698942139476,-0.17521586297401584,-1.373835557744931,-0.1897204092619399,0.19203332056959913,-0.18036257996181526,-0.15620054902084546,-2.84142252943806,-0.4349542942415666,0.22380447679552914,1.0785492355179809,-0.32649171717218634,0.08433694066275796,-0.13755292295945926,-0.43063226950394184,0.17155096628062336,-1.6044580181981711,0.05717561589713138,-0.06195786489501751,0.6380612124143483,0.6194226191395767,-0.7093593036394797,-0.2941371278104831,0.5636335693906555,0.17585797078580842,1.8454840837179403,-0.3635563229777336,-0.5476291459186988,0.6971996263353732,-0.10273204605952994,1.4857175198711914,-0.9602307332292892,0.5908545524036684,0.4127672484937881,-0.5266758464083148,-1.2170831072505595,1.9285580051166684,2.233682040310963,1.333969398397583,0.423248589364245,0.22258221659675845,-0.4043164692696297,0.6594803798259496,-2.285942806656985,1.0281945074225356,-1.037158988731567,-0.5828485188740444,-0.313430618132578,-1.3874377073665272,0.4099640243163893,0.24071529001761394,-0.12017792683193004,-0.9686450621979947,-0.03808213244543389,1.8023761654438561,-1.4301276228609552],\"xaxis\":\"x9\",\"y\":[-1.1719714818817535,0.2332138753592973,-0.4546800061881979,1.3516237536173374,0.17179961485515238,1.0517724751027668,-0.7823463516887971,1.8074585106465186,1.3123352560032089,-1.820830963211993,3.4655352474152594,-1.6644082485933236,0.3327524789592473,0.7728081592370689,1.0106861388792414,-0.1360068676174408,1.067275308490196,1.7498323035351442,-0.42210531383943345,0.08274856032387486,1.3351535410116988,0.2898933488848551,0.4442997674702476,-1.0566350492449932,-1.1770610406741882,1.059136089759076,0.6358669397925498,-0.9873866966962658,-1.1928109033344136,0.2365081379323982,1.4119765789231435,-0.012412826944206104,-1.8181097862164766,2.1853022769975317,-0.14097762123253854,1.5150408956982442,0.8114345148559331,-1.026942869137855,0.8685950616036636,1.3873827877411171,0.2811520389861795,-2.2353418800786966,-0.3367239783801947,1.318690702877346,-0.13330465622915116,-1.614613802275598,-0.22014132742275344,-0.8563517414295124,-0.5763091648572842,-0.47336546528140866,0.1403426518366949,-1.1387953070329018,-0.19268812707847527,-1.1581771054106418,-0.19340924136897628,-0.14908746718245883,-1.3941423793138157,-1.2835470024222988,0.44031813337107395,-0.1356788494555008,-0.9840572679707422,0.8078129574771282,0.4267425553937342,-0.959346901827908,0.5938419248520675,1.0875161323394007,0.2510932564313161,0.24262070160603114,0.01778087882946292,1.6342184020158732,-0.23194589286996642,-0.39029141370906273,0.11551194440826097,0.5103878413697021,-0.8064734182549084,0.1402951495555622,0.3674712646729114,0.9584316439675348,1.8298277284273394,0.8920236547226964,-0.5212968676245798,-0.17238935097536456,0.8471726224699624,0.7617060079728852,-1.1911720287513288,-0.7448002940723181,0.24501002154222226,0.4226797203167203,-0.6777182689776893,0.3250244309256672,-0.06129106814175234,-0.5074724286972169,0.5685119579659011,1.9455820824933674,0.7062092630505239,-1.910879622003017,-0.23421828012397325,-0.03394700754584208,0.17577755569065942,-1.3676435491484122],\"yaxis\":\"y9\"},{\"line\":{\"color\":\"rgba(128, 128, 128, 1.0)\",\"dash\":\"solid\",\"shape\":\"linear\",\"width\":1.3},\"marker\":{\"size\":2,\"symbol\":\"circle\"},\"mode\":\"markers\",\"name\":\"C\",\"text\":\"\",\"type\":\"scatter\",\"x\":[0.18926451945427628,0.16292694381339004,-0.566306058548627,-1.1871484670475736,-0.02625193941071388,0.6041199267212912,1.3741250423719473,-0.5088108537866691,0.19976539698307638,-1.395275921233364,-0.015878490774350308,0.8084804721162855,0.8034225968778593,-0.5168699421006512,-1.3796295609476623,-1.6941356174092017,-1.379959709057697,-0.11505112421545904,0.32984150289779074,-0.42834411191121147,1.2375552243795376,-0.5575710577973884,-0.1894786355299986,-0.23813580837486759,-0.45984534641133945,0.48937688393162654,0.576026131836969,-1.1993910275679727,0.15484795454435643,0.33950144682406125,0.31619953849918614,-0.8920510043930835,1.6552070877637908,1.0730130982097303,-0.09015798247656187,-1.0602573544408647,-0.5505686869004346,1.5327284332177737,-1.306471900965645,-0.3272434299662886,-0.4801211887802263,0.9169019760490729,-0.017979999266407094,-0.9511968823264166,-0.9627252363016441,-1.4628433017052838,-1.1821952702688425,-0.28148377358404764,-1.4044798089957289,0.062379443493298006,-1.261667708946712,2.0321741626905028,0.8208188001977202,1.5780470590866502,-1.5595133106751289,-0.5258041321901501,0.6970768226811306,-0.005408959849332933,0.0732974621650809,0.6935240608309962,0.345194496782059,-0.18429690989527864,0.22160274975209152,-0.4854806124075751,0.47488816725628835,-0.14852084415920547,0.8318360611705212,0.29468055995909737,-1.2880347602192437,0.35609655787191175,-0.22330297178159317,0.16497518724931692,0.2485388337776046,-0.7649918753979197,0.9026354406871174,-1.596064739107909,-0.6072502963690356,-0.7296920363391135,-0.7093956570250376,-0.9822586622490749,1.9182674900103864,-0.01898318330479451,-0.7695364688337993,0.9775997347713666,-0.5403883962773787,-0.0631483844680669,1.087217742194578,0.2926164774469953,-0.07524332323153042,0.5876958428402382,0.351391326724226,-1.0655695235292197,1.7359381836204664,-0.5167044830170687,-1.3410359409673123,-0.9910637169828151,-1.6014081994632958,-0.35636157582061334,-1.6790495903477574,-0.9810464442857267],\"xaxis\":\"x10\",\"y\":[-1.1719714818817535,0.2332138753592973,-0.4546800061881979,1.3516237536173374,0.17179961485515238,1.0517724751027668,-0.7823463516887971,1.8074585106465186,1.3123352560032089,-1.820830963211993,3.4655352474152594,-1.6644082485933236,0.3327524789592473,0.7728081592370689,1.0106861388792414,-0.1360068676174408,1.067275308490196,1.7498323035351442,-0.42210531383943345,0.08274856032387486,1.3351535410116988,0.2898933488848551,0.4442997674702476,-1.0566350492449932,-1.1770610406741882,1.059136089759076,0.6358669397925498,-0.9873866966962658,-1.1928109033344136,0.2365081379323982,1.4119765789231435,-0.012412826944206104,-1.8181097862164766,2.1853022769975317,-0.14097762123253854,1.5150408956982442,0.8114345148559331,-1.026942869137855,0.8685950616036636,1.3873827877411171,0.2811520389861795,-2.2353418800786966,-0.3367239783801947,1.318690702877346,-0.13330465622915116,-1.614613802275598,-0.22014132742275344,-0.8563517414295124,-0.5763091648572842,-0.47336546528140866,0.1403426518366949,-1.1387953070329018,-0.19268812707847527,-1.1581771054106418,-0.19340924136897628,-0.14908746718245883,-1.3941423793138157,-1.2835470024222988,0.44031813337107395,-0.1356788494555008,-0.9840572679707422,0.8078129574771282,0.4267425553937342,-0.959346901827908,0.5938419248520675,1.0875161323394007,0.2510932564313161,0.24262070160603114,0.01778087882946292,1.6342184020158732,-0.23194589286996642,-0.39029141370906273,0.11551194440826097,0.5103878413697021,-0.8064734182549084,0.1402951495555622,0.3674712646729114,0.9584316439675348,1.8298277284273394,0.8920236547226964,-0.5212968676245798,-0.17238935097536456,0.8471726224699624,0.7617060079728852,-1.1911720287513288,-0.7448002940723181,0.24501002154222226,0.4226797203167203,-0.6777182689776893,0.3250244309256672,-0.06129106814175234,-0.5074724286972169,0.5685119579659011,1.9455820824933674,0.7062092630505239,-1.910879622003017,-0.23421828012397325,-0.03394700754584208,0.17577755569065942,-1.3676435491484122],\"yaxis\":\"y10\"},{\"histfunc\":\"count\",\"histnorm\":\"\",\"marker\":{\"color\":\"rgba(50, 171, 96, 1.0)\",\"line\":{\"color\":\"#4D5663\",\"width\":1.3}},\"name\":\"C\",\"nbinsx\":10,\"opacity\":0.8,\"orientation\":\"v\",\"type\":\"histogram\",\"x\":[-1.1719714818817535,0.2332138753592973,-0.4546800061881979,1.3516237536173374,0.17179961485515238,1.0517724751027668,-0.7823463516887971,1.8074585106465186,1.3123352560032089,-1.820830963211993,3.4655352474152594,-1.6644082485933236,0.3327524789592473,0.7728081592370689,1.0106861388792414,-0.1360068676174408,1.067275308490196,1.7498323035351442,-0.42210531383943345,0.08274856032387486,1.3351535410116988,0.2898933488848551,0.4442997674702476,-1.0566350492449932,-1.1770610406741882,1.059136089759076,0.6358669397925498,-0.9873866966962658,-1.1928109033344136,0.2365081379323982,1.4119765789231435,-0.012412826944206104,-1.8181097862164766,2.1853022769975317,-0.14097762123253854,1.5150408956982442,0.8114345148559331,-1.026942869137855,0.8685950616036636,1.3873827877411171,0.2811520389861795,-2.2353418800786966,-0.3367239783801947,1.318690702877346,-0.13330465622915116,-1.614613802275598,-0.22014132742275344,-0.8563517414295124,-0.5763091648572842,-0.47336546528140866,0.1403426518366949,-1.1387953070329018,-0.19268812707847527,-1.1581771054106418,-0.19340924136897628,-0.14908746718245883,-1.3941423793138157,-1.2835470024222988,0.44031813337107395,-0.1356788494555008,-0.9840572679707422,0.8078129574771282,0.4267425553937342,-0.959346901827908,0.5938419248520675,1.0875161323394007,0.2510932564313161,0.24262070160603114,0.01778087882946292,1.6342184020158732,-0.23194589286996642,-0.39029141370906273,0.11551194440826097,0.5103878413697021,-0.8064734182549084,0.1402951495555622,0.3674712646729114,0.9584316439675348,1.8298277284273394,0.8920236547226964,-0.5212968676245798,-0.17238935097536456,0.8471726224699624,0.7617060079728852,-1.1911720287513288,-0.7448002940723181,0.24501002154222226,0.4226797203167203,-0.6777182689776893,0.3250244309256672,-0.06129106814175234,-0.5074724286972169,0.5685119579659011,1.9455820824933674,0.7062092630505239,-1.910879622003017,-0.23421828012397325,-0.03394700754584208,0.17577755569065942,-1.3676435491484122],\"xaxis\":\"x11\",\"yaxis\":\"y11\"},{\"line\":{\"color\":\"rgba(128, 128, 128, 1.0)\",\"dash\":\"solid\",\"shape\":\"linear\",\"width\":1.3},\"marker\":{\"size\":2,\"symbol\":\"circle\"},\"mode\":\"markers\",\"name\":\"C\",\"text\":\"\",\"type\":\"scatter\",\"x\":[-0.12704856923915245,1.6938046160785538,0.5756190997868936,-0.17999592839220205,-9.163211638458499e-05,1.4695089350289379,1.3548652763865952,-0.33235526694293527,-0.3822486177289395,-1.134475698013416,1.3847527542080538,-1.9991532972345138,1.9097487987135684,-1.1307328630005613,0.08202699286545966,-0.9261434359695201,-0.6432838379331188,0.30315341023978976,0.8716668324641216,1.001160525439211,-0.6200617114477807,0.5545756856829747,1.5269794887667125,0.2722912521021846,-1.3302386550206888,1.0820281408695263,0.4820220647486462,-0.026583117944890256,0.254307087002118,-0.23257206899068456,-0.6668408624159107,-1.3918058493032925,-0.9093808020672761,-0.8213125209510255,0.12617360302476713,1.1818422521706744,-2.1154345140812394,0.8289698795252698,-0.20329141711730483,1.1382443889578078,1.8069275473195896,-1.1912219328811458,-1.146680326335038,0.8328404693469593,0.5535333687685877,-1.6104707362516677,-0.4217307628110528,-0.8759338204297533,-2.0819318917445275,1.258434233114991,0.5176493763367291,0.24858411888945894,-1.289762415904675,-0.27923756675258127,1.0331102503945448,-0.7025549276141846,0.49671821491264867,-0.7124415305662497,-0.40816128697898746,0.5887113190152763,0.8052943692046769,0.04143367083255379,0.5315060348183375,0.8521759240730672,-0.11357150430083014,-0.5355160068590631,0.7262464673901955,0.4368507358817294,-0.5469509790576146,1.225346278034147,0.4716273182166465,-0.21321894212852888,-0.6651560509999196,0.8062087509024685,0.316387993098053,0.13662280110006966,-0.08136504655299272,0.35380080641358747,-1.1975953034380349,0.28675545644337425,-1.2907460928812213,-0.8220971385953828,1.1511920612407398,-0.6530289657038366,0.46763936539994966,1.5723356025836042,0.8537628199681853,-0.4427620032609995,-0.057184951567829934,-0.37879073207614317,0.3325060200718353,1.7535425767195376,-0.6266540549540228,-0.38014845782194295,-1.1657560542518957,1.3333117436860387,0.25983277624047507,-0.04858360050128592,-1.1525950412400925,0.9390252529338794],\"xaxis\":\"x12\",\"y\":[-1.1719714818817535,0.2332138753592973,-0.4546800061881979,1.3516237536173374,0.17179961485515238,1.0517724751027668,-0.7823463516887971,1.8074585106465186,1.3123352560032089,-1.820830963211993,3.4655352474152594,-1.6644082485933236,0.3327524789592473,0.7728081592370689,1.0106861388792414,-0.1360068676174408,1.067275308490196,1.7498323035351442,-0.42210531383943345,0.08274856032387486,1.3351535410116988,0.2898933488848551,0.4442997674702476,-1.0566350492449932,-1.1770610406741882,1.059136089759076,0.6358669397925498,-0.9873866966962658,-1.1928109033344136,0.2365081379323982,1.4119765789231435,-0.012412826944206104,-1.8181097862164766,2.1853022769975317,-0.14097762123253854,1.5150408956982442,0.8114345148559331,-1.026942869137855,0.8685950616036636,1.3873827877411171,0.2811520389861795,-2.2353418800786966,-0.3367239783801947,1.318690702877346,-0.13330465622915116,-1.614613802275598,-0.22014132742275344,-0.8563517414295124,-0.5763091648572842,-0.47336546528140866,0.1403426518366949,-1.1387953070329018,-0.19268812707847527,-1.1581771054106418,-0.19340924136897628,-0.14908746718245883,-1.3941423793138157,-1.2835470024222988,0.44031813337107395,-0.1356788494555008,-0.9840572679707422,0.8078129574771282,0.4267425553937342,-0.959346901827908,0.5938419248520675,1.0875161323394007,0.2510932564313161,0.24262070160603114,0.01778087882946292,1.6342184020158732,-0.23194589286996642,-0.39029141370906273,0.11551194440826097,0.5103878413697021,-0.8064734182549084,0.1402951495555622,0.3674712646729114,0.9584316439675348,1.8298277284273394,0.8920236547226964,-0.5212968676245798,-0.17238935097536456,0.8471726224699624,0.7617060079728852,-1.1911720287513288,-0.7448002940723181,0.24501002154222226,0.4226797203167203,-0.6777182689776893,0.3250244309256672,-0.06129106814175234,-0.5074724286972169,0.5685119579659011,1.9455820824933674,0.7062092630505239,-1.910879622003017,-0.23421828012397325,-0.03394700754584208,0.17577755569065942,-1.3676435491484122],\"yaxis\":\"y12\"},{\"line\":{\"color\":\"rgba(128, 128, 128, 1.0)\",\"dash\":\"solid\",\"shape\":\"linear\",\"width\":1.3},\"marker\":{\"size\":2,\"symbol\":\"circle\"},\"mode\":\"markers\",\"name\":\"D\",\"text\":\"\",\"type\":\"scatter\",\"x\":[1.2976308828245577,0.02891563246579733,0.6488033830640866,-0.6518967120779291,0.6103043670864998,-0.9802372938491501,-0.07589310574178512,-2.157880119655764,0.868733577307398,-0.9351261375377906,-0.055140764914955565,-0.28589654616041965,0.5289452063496645,0.2781921010010714,0.16374723355678183,-0.39239282708924167,0.8934440501370563,0.40827977634283436,-0.6959647939739411,-1.1815300420355552,1.1163964121590395,0.3065108458385955,-2.0341160588793805,1.2298468146505241,0.05746358452739269,-1.9000194599015916,0.1415749888678313,-1.2239433218446887,1.201220006696403,1.428560258537245,-1.140941921397734,0.5353234970155184,1.0940387658031,0.22424057672913128,-0.8824973957848675,-1.8185038357772296,0.7229169486376175,0.9124963031268156,0.11107936758643822,-0.08086602502924477,1.2099660155692962,1.8518300739265623,-0.12137650834889625,-0.4858190401877175,1.3395698942139476,-0.17521586297401584,-1.373835557744931,-0.1897204092619399,0.19203332056959913,-0.18036257996181526,-0.15620054902084546,-2.84142252943806,-0.4349542942415666,0.22380447679552914,1.0785492355179809,-0.32649171717218634,0.08433694066275796,-0.13755292295945926,-0.43063226950394184,0.17155096628062336,-1.6044580181981711,0.05717561589713138,-0.06195786489501751,0.6380612124143483,0.6194226191395767,-0.7093593036394797,-0.2941371278104831,0.5636335693906555,0.17585797078580842,1.8454840837179403,-0.3635563229777336,-0.5476291459186988,0.6971996263353732,-0.10273204605952994,1.4857175198711914,-0.9602307332292892,0.5908545524036684,0.4127672484937881,-0.5266758464083148,-1.2170831072505595,1.9285580051166684,2.233682040310963,1.333969398397583,0.423248589364245,0.22258221659675845,-0.4043164692696297,0.6594803798259496,-2.285942806656985,1.0281945074225356,-1.037158988731567,-0.5828485188740444,-0.313430618132578,-1.3874377073665272,0.4099640243163893,0.24071529001761394,-0.12017792683193004,-0.9686450621979947,-0.03808213244543389,1.8023761654438561,-1.4301276228609552],\"xaxis\":\"x13\",\"y\":[-0.12704856923915245,1.6938046160785538,0.5756190997868936,-0.17999592839220205,-9.163211638458499e-05,1.4695089350289379,1.3548652763865952,-0.33235526694293527,-0.3822486177289395,-1.134475698013416,1.3847527542080538,-1.9991532972345138,1.9097487987135684,-1.1307328630005613,0.08202699286545966,-0.9261434359695201,-0.6432838379331188,0.30315341023978976,0.8716668324641216,1.001160525439211,-0.6200617114477807,0.5545756856829747,1.5269794887667125,0.2722912521021846,-1.3302386550206888,1.0820281408695263,0.4820220647486462,-0.026583117944890256,0.254307087002118,-0.23257206899068456,-0.6668408624159107,-1.3918058493032925,-0.9093808020672761,-0.8213125209510255,0.12617360302476713,1.1818422521706744,-2.1154345140812394,0.8289698795252698,-0.20329141711730483,1.1382443889578078,1.8069275473195896,-1.1912219328811458,-1.146680326335038,0.8328404693469593,0.5535333687685877,-1.6104707362516677,-0.4217307628110528,-0.8759338204297533,-2.0819318917445275,1.258434233114991,0.5176493763367291,0.24858411888945894,-1.289762415904675,-0.27923756675258127,1.0331102503945448,-0.7025549276141846,0.49671821491264867,-0.7124415305662497,-0.40816128697898746,0.5887113190152763,0.8052943692046769,0.04143367083255379,0.5315060348183375,0.8521759240730672,-0.11357150430083014,-0.5355160068590631,0.7262464673901955,0.4368507358817294,-0.5469509790576146,1.225346278034147,0.4716273182166465,-0.21321894212852888,-0.6651560509999196,0.8062087509024685,0.316387993098053,0.13662280110006966,-0.08136504655299272,0.35380080641358747,-1.1975953034380349,0.28675545644337425,-1.2907460928812213,-0.8220971385953828,1.1511920612407398,-0.6530289657038366,0.46763936539994966,1.5723356025836042,0.8537628199681853,-0.4427620032609995,-0.057184951567829934,-0.37879073207614317,0.3325060200718353,1.7535425767195376,-0.6266540549540228,-0.38014845782194295,-1.1657560542518957,1.3333117436860387,0.25983277624047507,-0.04858360050128592,-1.1525950412400925,0.9390252529338794],\"yaxis\":\"y13\"},{\"line\":{\"color\":\"rgba(128, 128, 128, 1.0)\",\"dash\":\"solid\",\"shape\":\"linear\",\"width\":1.3},\"marker\":{\"size\":2,\"symbol\":\"circle\"},\"mode\":\"markers\",\"name\":\"D\",\"text\":\"\",\"type\":\"scatter\",\"x\":[0.18926451945427628,0.16292694381339004,-0.566306058548627,-1.1871484670475736,-0.02625193941071388,0.6041199267212912,1.3741250423719473,-0.5088108537866691,0.19976539698307638,-1.395275921233364,-0.015878490774350308,0.8084804721162855,0.8034225968778593,-0.5168699421006512,-1.3796295609476623,-1.6941356174092017,-1.379959709057697,-0.11505112421545904,0.32984150289779074,-0.42834411191121147,1.2375552243795376,-0.5575710577973884,-0.1894786355299986,-0.23813580837486759,-0.45984534641133945,0.48937688393162654,0.576026131836969,-1.1993910275679727,0.15484795454435643,0.33950144682406125,0.31619953849918614,-0.8920510043930835,1.6552070877637908,1.0730130982097303,-0.09015798247656187,-1.0602573544408647,-0.5505686869004346,1.5327284332177737,-1.306471900965645,-0.3272434299662886,-0.4801211887802263,0.9169019760490729,-0.017979999266407094,-0.9511968823264166,-0.9627252363016441,-1.4628433017052838,-1.1821952702688425,-0.28148377358404764,-1.4044798089957289,0.062379443493298006,-1.261667708946712,2.0321741626905028,0.8208188001977202,1.5780470590866502,-1.5595133106751289,-0.5258041321901501,0.6970768226811306,-0.005408959849332933,0.0732974621650809,0.6935240608309962,0.345194496782059,-0.18429690989527864,0.22160274975209152,-0.4854806124075751,0.47488816725628835,-0.14852084415920547,0.8318360611705212,0.29468055995909737,-1.2880347602192437,0.35609655787191175,-0.22330297178159317,0.16497518724931692,0.2485388337776046,-0.7649918753979197,0.9026354406871174,-1.596064739107909,-0.6072502963690356,-0.7296920363391135,-0.7093956570250376,-0.9822586622490749,1.9182674900103864,-0.01898318330479451,-0.7695364688337993,0.9775997347713666,-0.5403883962773787,-0.0631483844680669,1.087217742194578,0.2926164774469953,-0.07524332323153042,0.5876958428402382,0.351391326724226,-1.0655695235292197,1.7359381836204664,-0.5167044830170687,-1.3410359409673123,-0.9910637169828151,-1.6014081994632958,-0.35636157582061334,-1.6790495903477574,-0.9810464442857267],\"xaxis\":\"x14\",\"y\":[-0.12704856923915245,1.6938046160785538,0.5756190997868936,-0.17999592839220205,-9.163211638458499e-05,1.4695089350289379,1.3548652763865952,-0.33235526694293527,-0.3822486177289395,-1.134475698013416,1.3847527542080538,-1.9991532972345138,1.9097487987135684,-1.1307328630005613,0.08202699286545966,-0.9261434359695201,-0.6432838379331188,0.30315341023978976,0.8716668324641216,1.001160525439211,-0.6200617114477807,0.5545756856829747,1.5269794887667125,0.2722912521021846,-1.3302386550206888,1.0820281408695263,0.4820220647486462,-0.026583117944890256,0.254307087002118,-0.23257206899068456,-0.6668408624159107,-1.3918058493032925,-0.9093808020672761,-0.8213125209510255,0.12617360302476713,1.1818422521706744,-2.1154345140812394,0.8289698795252698,-0.20329141711730483,1.1382443889578078,1.8069275473195896,-1.1912219328811458,-1.146680326335038,0.8328404693469593,0.5535333687685877,-1.6104707362516677,-0.4217307628110528,-0.8759338204297533,-2.0819318917445275,1.258434233114991,0.5176493763367291,0.24858411888945894,-1.289762415904675,-0.27923756675258127,1.0331102503945448,-0.7025549276141846,0.49671821491264867,-0.7124415305662497,-0.40816128697898746,0.5887113190152763,0.8052943692046769,0.04143367083255379,0.5315060348183375,0.8521759240730672,-0.11357150430083014,-0.5355160068590631,0.7262464673901955,0.4368507358817294,-0.5469509790576146,1.225346278034147,0.4716273182166465,-0.21321894212852888,-0.6651560509999196,0.8062087509024685,0.316387993098053,0.13662280110006966,-0.08136504655299272,0.35380080641358747,-1.1975953034380349,0.28675545644337425,-1.2907460928812213,-0.8220971385953828,1.1511920612407398,-0.6530289657038366,0.46763936539994966,1.5723356025836042,0.8537628199681853,-0.4427620032609995,-0.057184951567829934,-0.37879073207614317,0.3325060200718353,1.7535425767195376,-0.6266540549540228,-0.38014845782194295,-1.1657560542518957,1.3333117436860387,0.25983277624047507,-0.04858360050128592,-1.1525950412400925,0.9390252529338794],\"yaxis\":\"y14\"},{\"line\":{\"color\":\"rgba(128, 128, 128, 1.0)\",\"dash\":\"solid\",\"shape\":\"linear\",\"width\":1.3},\"marker\":{\"size\":2,\"symbol\":\"circle\"},\"mode\":\"markers\",\"name\":\"D\",\"text\":\"\",\"type\":\"scatter\",\"x\":[-1.1719714818817535,0.2332138753592973,-0.4546800061881979,1.3516237536173374,0.17179961485515238,1.0517724751027668,-0.7823463516887971,1.8074585106465186,1.3123352560032089,-1.820830963211993,3.4655352474152594,-1.6644082485933236,0.3327524789592473,0.7728081592370689,1.0106861388792414,-0.1360068676174408,1.067275308490196,1.7498323035351442,-0.42210531383943345,0.08274856032387486,1.3351535410116988,0.2898933488848551,0.4442997674702476,-1.0566350492449932,-1.1770610406741882,1.059136089759076,0.6358669397925498,-0.9873866966962658,-1.1928109033344136,0.2365081379323982,1.4119765789231435,-0.012412826944206104,-1.8181097862164766,2.1853022769975317,-0.14097762123253854,1.5150408956982442,0.8114345148559331,-1.026942869137855,0.8685950616036636,1.3873827877411171,0.2811520389861795,-2.2353418800786966,-0.3367239783801947,1.318690702877346,-0.13330465622915116,-1.614613802275598,-0.22014132742275344,-0.8563517414295124,-0.5763091648572842,-0.47336546528140866,0.1403426518366949,-1.1387953070329018,-0.19268812707847527,-1.1581771054106418,-0.19340924136897628,-0.14908746718245883,-1.3941423793138157,-1.2835470024222988,0.44031813337107395,-0.1356788494555008,-0.9840572679707422,0.8078129574771282,0.4267425553937342,-0.959346901827908,0.5938419248520675,1.0875161323394007,0.2510932564313161,0.24262070160603114,0.01778087882946292,1.6342184020158732,-0.23194589286996642,-0.39029141370906273,0.11551194440826097,0.5103878413697021,-0.8064734182549084,0.1402951495555622,0.3674712646729114,0.9584316439675348,1.8298277284273394,0.8920236547226964,-0.5212968676245798,-0.17238935097536456,0.8471726224699624,0.7617060079728852,-1.1911720287513288,-0.7448002940723181,0.24501002154222226,0.4226797203167203,-0.6777182689776893,0.3250244309256672,-0.06129106814175234,-0.5074724286972169,0.5685119579659011,1.9455820824933674,0.7062092630505239,-1.910879622003017,-0.23421828012397325,-0.03394700754584208,0.17577755569065942,-1.3676435491484122],\"xaxis\":\"x15\",\"y\":[-0.12704856923915245,1.6938046160785538,0.5756190997868936,-0.17999592839220205,-9.163211638458499e-05,1.4695089350289379,1.3548652763865952,-0.33235526694293527,-0.3822486177289395,-1.134475698013416,1.3847527542080538,-1.9991532972345138,1.9097487987135684,-1.1307328630005613,0.08202699286545966,-0.9261434359695201,-0.6432838379331188,0.30315341023978976,0.8716668324641216,1.001160525439211,-0.6200617114477807,0.5545756856829747,1.5269794887667125,0.2722912521021846,-1.3302386550206888,1.0820281408695263,0.4820220647486462,-0.026583117944890256,0.254307087002118,-0.23257206899068456,-0.6668408624159107,-1.3918058493032925,-0.9093808020672761,-0.8213125209510255,0.12617360302476713,1.1818422521706744,-2.1154345140812394,0.8289698795252698,-0.20329141711730483,1.1382443889578078,1.8069275473195896,-1.1912219328811458,-1.146680326335038,0.8328404693469593,0.5535333687685877,-1.6104707362516677,-0.4217307628110528,-0.8759338204297533,-2.0819318917445275,1.258434233114991,0.5176493763367291,0.24858411888945894,-1.289762415904675,-0.27923756675258127,1.0331102503945448,-0.7025549276141846,0.49671821491264867,-0.7124415305662497,-0.40816128697898746,0.5887113190152763,0.8052943692046769,0.04143367083255379,0.5315060348183375,0.8521759240730672,-0.11357150430083014,-0.5355160068590631,0.7262464673901955,0.4368507358817294,-0.5469509790576146,1.225346278034147,0.4716273182166465,-0.21321894212852888,-0.6651560509999196,0.8062087509024685,0.316387993098053,0.13662280110006966,-0.08136504655299272,0.35380080641358747,-1.1975953034380349,0.28675545644337425,-1.2907460928812213,-0.8220971385953828,1.1511920612407398,-0.6530289657038366,0.46763936539994966,1.5723356025836042,0.8537628199681853,-0.4427620032609995,-0.057184951567829934,-0.37879073207614317,0.3325060200718353,1.7535425767195376,-0.6266540549540228,-0.38014845782194295,-1.1657560542518957,1.3333117436860387,0.25983277624047507,-0.04858360050128592,-1.1525950412400925,0.9390252529338794],\"yaxis\":\"y15\"},{\"histfunc\":\"count\",\"histnorm\":\"\",\"marker\":{\"color\":\"rgba(128, 0, 128, 1.0)\",\"line\":{\"color\":\"#4D5663\",\"width\":1.3}},\"name\":\"D\",\"nbinsx\":10,\"opacity\":0.8,\"orientation\":\"v\",\"type\":\"histogram\",\"x\":[-0.12704856923915245,1.6938046160785538,0.5756190997868936,-0.17999592839220205,-9.163211638458499e-05,1.4695089350289379,1.3548652763865952,-0.33235526694293527,-0.3822486177289395,-1.134475698013416,1.3847527542080538,-1.9991532972345138,1.9097487987135684,-1.1307328630005613,0.08202699286545966,-0.9261434359695201,-0.6432838379331188,0.30315341023978976,0.8716668324641216,1.001160525439211,-0.6200617114477807,0.5545756856829747,1.5269794887667125,0.2722912521021846,-1.3302386550206888,1.0820281408695263,0.4820220647486462,-0.026583117944890256,0.254307087002118,-0.23257206899068456,-0.6668408624159107,-1.3918058493032925,-0.9093808020672761,-0.8213125209510255,0.12617360302476713,1.1818422521706744,-2.1154345140812394,0.8289698795252698,-0.20329141711730483,1.1382443889578078,1.8069275473195896,-1.1912219328811458,-1.146680326335038,0.8328404693469593,0.5535333687685877,-1.6104707362516677,-0.4217307628110528,-0.8759338204297533,-2.0819318917445275,1.258434233114991,0.5176493763367291,0.24858411888945894,-1.289762415904675,-0.27923756675258127,1.0331102503945448,-0.7025549276141846,0.49671821491264867,-0.7124415305662497,-0.40816128697898746,0.5887113190152763,0.8052943692046769,0.04143367083255379,0.5315060348183375,0.8521759240730672,-0.11357150430083014,-0.5355160068590631,0.7262464673901955,0.4368507358817294,-0.5469509790576146,1.225346278034147,0.4716273182166465,-0.21321894212852888,-0.6651560509999196,0.8062087509024685,0.316387993098053,0.13662280110006966,-0.08136504655299272,0.35380080641358747,-1.1975953034380349,0.28675545644337425,-1.2907460928812213,-0.8220971385953828,1.1511920612407398,-0.6530289657038366,0.46763936539994966,1.5723356025836042,0.8537628199681853,-0.4427620032609995,-0.057184951567829934,-0.37879073207614317,0.3325060200718353,1.7535425767195376,-0.6266540549540228,-0.38014845782194295,-1.1657560542518957,1.3333117436860387,0.25983277624047507,-0.04858360050128592,-1.1525950412400925,0.9390252529338794],\"xaxis\":\"x16\",\"yaxis\":\"y16\"}],                        {\"bargap\":0.02,\"legend\":{\"bgcolor\":\"#F5F6F9\",\"font\":{\"color\":\"#4D5663\"}},\"paper_bgcolor\":\"#F5F6F9\",\"plot_bgcolor\":\"#F5F6F9\",\"showlegend\":false,\"template\":{\"data\":{\"bar\":[{\"error_x\":{\"color\":\"#2a3f5f\"},\"error_y\":{\"color\":\"#2a3f5f\"},\"marker\":{\"line\":{\"color\":\"#E5ECF6\",\"width\":0.5},\"pattern\":{\"fillmode\":\"overlay\",\"size\":10,\"solidity\":0.2}},\"type\":\"bar\"}],\"barpolar\":[{\"marker\":{\"line\":{\"color\":\"#E5ECF6\",\"width\":0.5},\"pattern\":{\"fillmode\":\"overlay\",\"size\":10,\"solidity\":0.2}},\"type\":\"barpolar\"}],\"carpet\":[{\"aaxis\":{\"endlinecolor\":\"#2a3f5f\",\"gridcolor\":\"white\",\"linecolor\":\"white\",\"minorgridcolor\":\"white\",\"startlinecolor\":\"#2a3f5f\"},\"baxis\":{\"endlinecolor\":\"#2a3f5f\",\"gridcolor\":\"white\",\"linecolor\":\"white\",\"minorgridcolor\":\"white\",\"startlinecolor\":\"#2a3f5f\"},\"type\":\"carpet\"}],\"choropleth\":[{\"colorbar\":{\"outlinewidth\":0,\"ticks\":\"\"},\"type\":\"choropleth\"}],\"contour\":[{\"colorbar\":{\"outlinewidth\":0,\"ticks\":\"\"},\"colorscale\":[[0.0,\"#0d0887\"],[0.1111111111111111,\"#46039f\"],[0.2222222222222222,\"#7201a8\"],[0.3333333333333333,\"#9c179e\"],[0.4444444444444444,\"#bd3786\"],[0.5555555555555556,\"#d8576b\"],[0.6666666666666666,\"#ed7953\"],[0.7777777777777778,\"#fb9f3a\"],[0.8888888888888888,\"#fdca26\"],[1.0,\"#f0f921\"]],\"type\":\"contour\"}],\"contourcarpet\":[{\"colorbar\":{\"outlinewidth\":0,\"ticks\":\"\"},\"type\":\"contourcarpet\"}],\"heatmap\":[{\"colorbar\":{\"outlinewidth\":0,\"ticks\":\"\"},\"colorscale\":[[0.0,\"#0d0887\"],[0.1111111111111111,\"#46039f\"],[0.2222222222222222,\"#7201a8\"],[0.3333333333333333,\"#9c179e\"],[0.4444444444444444,\"#bd3786\"],[0.5555555555555556,\"#d8576b\"],[0.6666666666666666,\"#ed7953\"],[0.7777777777777778,\"#fb9f3a\"],[0.8888888888888888,\"#fdca26\"],[1.0,\"#f0f921\"]],\"type\":\"heatmap\"}],\"heatmapgl\":[{\"colorbar\":{\"outlinewidth\":0,\"ticks\":\"\"},\"colorscale\":[[0.0,\"#0d0887\"],[0.1111111111111111,\"#46039f\"],[0.2222222222222222,\"#7201a8\"],[0.3333333333333333,\"#9c179e\"],[0.4444444444444444,\"#bd3786\"],[0.5555555555555556,\"#d8576b\"],[0.6666666666666666,\"#ed7953\"],[0.7777777777777778,\"#fb9f3a\"],[0.8888888888888888,\"#fdca26\"],[1.0,\"#f0f921\"]],\"type\":\"heatmapgl\"}],\"histogram\":[{\"marker\":{\"pattern\":{\"fillmode\":\"overlay\",\"size\":10,\"solidity\":0.2}},\"type\":\"histogram\"}],\"histogram2d\":[{\"colorbar\":{\"outlinewidth\":0,\"ticks\":\"\"},\"colorscale\":[[0.0,\"#0d0887\"],[0.1111111111111111,\"#46039f\"],[0.2222222222222222,\"#7201a8\"],[0.3333333333333333,\"#9c179e\"],[0.4444444444444444,\"#bd3786\"],[0.5555555555555556,\"#d8576b\"],[0.6666666666666666,\"#ed7953\"],[0.7777777777777778,\"#fb9f3a\"],[0.8888888888888888,\"#fdca26\"],[1.0,\"#f0f921\"]],\"type\":\"histogram2d\"}],\"histogram2dcontour\":[{\"colorbar\":{\"outlinewidth\":0,\"ticks\":\"\"},\"colorscale\":[[0.0,\"#0d0887\"],[0.1111111111111111,\"#46039f\"],[0.2222222222222222,\"#7201a8\"],[0.3333333333333333,\"#9c179e\"],[0.4444444444444444,\"#bd3786\"],[0.5555555555555556,\"#d8576b\"],[0.6666666666666666,\"#ed7953\"],[0.7777777777777778,\"#fb9f3a\"],[0.8888888888888888,\"#fdca26\"],[1.0,\"#f0f921\"]],\"type\":\"histogram2dcontour\"}],\"mesh3d\":[{\"colorbar\":{\"outlinewidth\":0,\"ticks\":\"\"},\"type\":\"mesh3d\"}],\"parcoords\":[{\"line\":{\"colorbar\":{\"outlinewidth\":0,\"ticks\":\"\"}},\"type\":\"parcoords\"}],\"pie\":[{\"automargin\":true,\"type\":\"pie\"}],\"scatter\":[{\"marker\":{\"colorbar\":{\"outlinewidth\":0,\"ticks\":\"\"}},\"type\":\"scatter\"}],\"scatter3d\":[{\"line\":{\"colorbar\":{\"outlinewidth\":0,\"ticks\":\"\"}},\"marker\":{\"colorbar\":{\"outlinewidth\":0,\"ticks\":\"\"}},\"type\":\"scatter3d\"}],\"scattercarpet\":[{\"marker\":{\"colorbar\":{\"outlinewidth\":0,\"ticks\":\"\"}},\"type\":\"scattercarpet\"}],\"scattergeo\":[{\"marker\":{\"colorbar\":{\"outlinewidth\":0,\"ticks\":\"\"}},\"type\":\"scattergeo\"}],\"scattergl\":[{\"marker\":{\"colorbar\":{\"outlinewidth\":0,\"ticks\":\"\"}},\"type\":\"scattergl\"}],\"scattermapbox\":[{\"marker\":{\"colorbar\":{\"outlinewidth\":0,\"ticks\":\"\"}},\"type\":\"scattermapbox\"}],\"scatterpolar\":[{\"marker\":{\"colorbar\":{\"outlinewidth\":0,\"ticks\":\"\"}},\"type\":\"scatterpolar\"}],\"scatterpolargl\":[{\"marker\":{\"colorbar\":{\"outlinewidth\":0,\"ticks\":\"\"}},\"type\":\"scatterpolargl\"}],\"scatterternary\":[{\"marker\":{\"colorbar\":{\"outlinewidth\":0,\"ticks\":\"\"}},\"type\":\"scatterternary\"}],\"surface\":[{\"colorbar\":{\"outlinewidth\":0,\"ticks\":\"\"},\"colorscale\":[[0.0,\"#0d0887\"],[0.1111111111111111,\"#46039f\"],[0.2222222222222222,\"#7201a8\"],[0.3333333333333333,\"#9c179e\"],[0.4444444444444444,\"#bd3786\"],[0.5555555555555556,\"#d8576b\"],[0.6666666666666666,\"#ed7953\"],[0.7777777777777778,\"#fb9f3a\"],[0.8888888888888888,\"#fdca26\"],[1.0,\"#f0f921\"]],\"type\":\"surface\"}],\"table\":[{\"cells\":{\"fill\":{\"color\":\"#EBF0F8\"},\"line\":{\"color\":\"white\"}},\"header\":{\"fill\":{\"color\":\"#C8D4E3\"},\"line\":{\"color\":\"white\"}},\"type\":\"table\"}]},\"layout\":{\"annotationdefaults\":{\"arrowcolor\":\"#2a3f5f\",\"arrowhead\":0,\"arrowwidth\":1},\"autotypenumbers\":\"strict\",\"coloraxis\":{\"colorbar\":{\"outlinewidth\":0,\"ticks\":\"\"}},\"colorscale\":{\"diverging\":[[0,\"#8e0152\"],[0.1,\"#c51b7d\"],[0.2,\"#de77ae\"],[0.3,\"#f1b6da\"],[0.4,\"#fde0ef\"],[0.5,\"#f7f7f7\"],[0.6,\"#e6f5d0\"],[0.7,\"#b8e186\"],[0.8,\"#7fbc41\"],[0.9,\"#4d9221\"],[1,\"#276419\"]],\"sequential\":[[0.0,\"#0d0887\"],[0.1111111111111111,\"#46039f\"],[0.2222222222222222,\"#7201a8\"],[0.3333333333333333,\"#9c179e\"],[0.4444444444444444,\"#bd3786\"],[0.5555555555555556,\"#d8576b\"],[0.6666666666666666,\"#ed7953\"],[0.7777777777777778,\"#fb9f3a\"],[0.8888888888888888,\"#fdca26\"],[1.0,\"#f0f921\"]],\"sequentialminus\":[[0.0,\"#0d0887\"],[0.1111111111111111,\"#46039f\"],[0.2222222222222222,\"#7201a8\"],[0.3333333333333333,\"#9c179e\"],[0.4444444444444444,\"#bd3786\"],[0.5555555555555556,\"#d8576b\"],[0.6666666666666666,\"#ed7953\"],[0.7777777777777778,\"#fb9f3a\"],[0.8888888888888888,\"#fdca26\"],[1.0,\"#f0f921\"]]},\"colorway\":[\"#636efa\",\"#EF553B\",\"#00cc96\",\"#ab63fa\",\"#FFA15A\",\"#19d3f3\",\"#FF6692\",\"#B6E880\",\"#FF97FF\",\"#FECB52\"],\"font\":{\"color\":\"#2a3f5f\"},\"geo\":{\"bgcolor\":\"white\",\"lakecolor\":\"white\",\"landcolor\":\"#E5ECF6\",\"showlakes\":true,\"showland\":true,\"subunitcolor\":\"white\"},\"hoverlabel\":{\"align\":\"left\"},\"hovermode\":\"closest\",\"mapbox\":{\"style\":\"light\"},\"paper_bgcolor\":\"white\",\"plot_bgcolor\":\"#E5ECF6\",\"polar\":{\"angularaxis\":{\"gridcolor\":\"white\",\"linecolor\":\"white\",\"ticks\":\"\"},\"bgcolor\":\"#E5ECF6\",\"radialaxis\":{\"gridcolor\":\"white\",\"linecolor\":\"white\",\"ticks\":\"\"}},\"scene\":{\"xaxis\":{\"backgroundcolor\":\"#E5ECF6\",\"gridcolor\":\"white\",\"gridwidth\":2,\"linecolor\":\"white\",\"showbackground\":true,\"ticks\":\"\",\"zerolinecolor\":\"white\"},\"yaxis\":{\"backgroundcolor\":\"#E5ECF6\",\"gridcolor\":\"white\",\"gridwidth\":2,\"linecolor\":\"white\",\"showbackground\":true,\"ticks\":\"\",\"zerolinecolor\":\"white\"},\"zaxis\":{\"backgroundcolor\":\"#E5ECF6\",\"gridcolor\":\"white\",\"gridwidth\":2,\"linecolor\":\"white\",\"showbackground\":true,\"ticks\":\"\",\"zerolinecolor\":\"white\"}},\"shapedefaults\":{\"line\":{\"color\":\"#2a3f5f\"}},\"ternary\":{\"aaxis\":{\"gridcolor\":\"white\",\"linecolor\":\"white\",\"ticks\":\"\"},\"baxis\":{\"gridcolor\":\"white\",\"linecolor\":\"white\",\"ticks\":\"\"},\"bgcolor\":\"#E5ECF6\",\"caxis\":{\"gridcolor\":\"white\",\"linecolor\":\"white\",\"ticks\":\"\"}},\"title\":{\"x\":0.05},\"xaxis\":{\"automargin\":true,\"gridcolor\":\"white\",\"linecolor\":\"white\",\"ticks\":\"\",\"title\":{\"standoff\":15},\"zerolinecolor\":\"white\",\"zerolinewidth\":2},\"yaxis\":{\"automargin\":true,\"gridcolor\":\"white\",\"linecolor\":\"white\",\"ticks\":\"\",\"title\":{\"standoff\":15},\"zerolinecolor\":\"white\",\"zerolinewidth\":2}}},\"title\":{\"font\":{\"color\":\"#4D5663\"}},\"xaxis\":{\"anchor\":\"y\",\"domain\":[0.0,0.2125],\"gridcolor\":\"#E1E5ED\",\"showgrid\":false,\"tickfont\":{\"color\":\"#4D5663\"},\"title\":{\"font\":{\"color\":\"#4D5663\"},\"text\":\"\"},\"zerolinecolor\":\"#E1E5ED\"},\"xaxis10\":{\"anchor\":\"y10\",\"domain\":[0.2625,0.475],\"gridcolor\":\"#E1E5ED\",\"showgrid\":false,\"tickfont\":{\"color\":\"#4D5663\"},\"title\":{\"font\":{\"color\":\"#4D5663\"},\"text\":\"\"},\"zerolinecolor\":\"#E1E5ED\"},\"xaxis11\":{\"anchor\":\"y11\",\"domain\":[0.525,0.7375],\"gridcolor\":\"#E1E5ED\",\"showgrid\":false,\"tickfont\":{\"color\":\"#4D5663\"},\"title\":{\"font\":{\"color\":\"#4D5663\"},\"text\":\"\"},\"zerolinecolor\":\"#E1E5ED\"},\"xaxis12\":{\"anchor\":\"y12\",\"domain\":[0.7875,1.0],\"gridcolor\":\"#E1E5ED\",\"showgrid\":false,\"tickfont\":{\"color\":\"#4D5663\"},\"title\":{\"font\":{\"color\":\"#4D5663\"},\"text\":\"\"},\"zerolinecolor\":\"#E1E5ED\"},\"xaxis13\":{\"anchor\":\"y13\",\"domain\":[0.0,0.2125],\"gridcolor\":\"#E1E5ED\",\"showgrid\":false,\"tickfont\":{\"color\":\"#4D5663\"},\"title\":{\"font\":{\"color\":\"#4D5663\"},\"text\":\"\"},\"zerolinecolor\":\"#E1E5ED\"},\"xaxis14\":{\"anchor\":\"y14\",\"domain\":[0.2625,0.475],\"gridcolor\":\"#E1E5ED\",\"showgrid\":false,\"tickfont\":{\"color\":\"#4D5663\"},\"title\":{\"font\":{\"color\":\"#4D5663\"},\"text\":\"\"},\"zerolinecolor\":\"#E1E5ED\"},\"xaxis15\":{\"anchor\":\"y15\",\"domain\":[0.525,0.7375],\"gridcolor\":\"#E1E5ED\",\"showgrid\":false,\"tickfont\":{\"color\":\"#4D5663\"},\"title\":{\"font\":{\"color\":\"#4D5663\"},\"text\":\"\"},\"zerolinecolor\":\"#E1E5ED\"},\"xaxis16\":{\"anchor\":\"y16\",\"domain\":[0.7875,1.0],\"gridcolor\":\"#E1E5ED\",\"showgrid\":false,\"tickfont\":{\"color\":\"#4D5663\"},\"title\":{\"font\":{\"color\":\"#4D5663\"},\"text\":\"\"},\"zerolinecolor\":\"#E1E5ED\"},\"xaxis2\":{\"anchor\":\"y2\",\"domain\":[0.2625,0.475],\"gridcolor\":\"#E1E5ED\",\"showgrid\":false,\"tickfont\":{\"color\":\"#4D5663\"},\"title\":{\"font\":{\"color\":\"#4D5663\"},\"text\":\"\"},\"zerolinecolor\":\"#E1E5ED\"},\"xaxis3\":{\"anchor\":\"y3\",\"domain\":[0.525,0.7375],\"gridcolor\":\"#E1E5ED\",\"showgrid\":false,\"tickfont\":{\"color\":\"#4D5663\"},\"title\":{\"font\":{\"color\":\"#4D5663\"},\"text\":\"\"},\"zerolinecolor\":\"#E1E5ED\"},\"xaxis4\":{\"anchor\":\"y4\",\"domain\":[0.7875,1.0],\"gridcolor\":\"#E1E5ED\",\"showgrid\":false,\"tickfont\":{\"color\":\"#4D5663\"},\"title\":{\"font\":{\"color\":\"#4D5663\"},\"text\":\"\"},\"zerolinecolor\":\"#E1E5ED\"},\"xaxis5\":{\"anchor\":\"y5\",\"domain\":[0.0,0.2125],\"gridcolor\":\"#E1E5ED\",\"showgrid\":false,\"tickfont\":{\"color\":\"#4D5663\"},\"title\":{\"font\":{\"color\":\"#4D5663\"},\"text\":\"\"},\"zerolinecolor\":\"#E1E5ED\"},\"xaxis6\":{\"anchor\":\"y6\",\"domain\":[0.2625,0.475],\"gridcolor\":\"#E1E5ED\",\"showgrid\":false,\"tickfont\":{\"color\":\"#4D5663\"},\"title\":{\"font\":{\"color\":\"#4D5663\"},\"text\":\"\"},\"zerolinecolor\":\"#E1E5ED\"},\"xaxis7\":{\"anchor\":\"y7\",\"domain\":[0.525,0.7375],\"gridcolor\":\"#E1E5ED\",\"showgrid\":false,\"tickfont\":{\"color\":\"#4D5663\"},\"title\":{\"font\":{\"color\":\"#4D5663\"},\"text\":\"\"},\"zerolinecolor\":\"#E1E5ED\"},\"xaxis8\":{\"anchor\":\"y8\",\"domain\":[0.7875,1.0],\"gridcolor\":\"#E1E5ED\",\"showgrid\":false,\"tickfont\":{\"color\":\"#4D5663\"},\"title\":{\"font\":{\"color\":\"#4D5663\"},\"text\":\"\"},\"zerolinecolor\":\"#E1E5ED\"},\"xaxis9\":{\"anchor\":\"y9\",\"domain\":[0.0,0.2125],\"gridcolor\":\"#E1E5ED\",\"showgrid\":false,\"tickfont\":{\"color\":\"#4D5663\"},\"title\":{\"font\":{\"color\":\"#4D5663\"},\"text\":\"\"},\"zerolinecolor\":\"#E1E5ED\"},\"yaxis\":{\"anchor\":\"x\",\"domain\":[0.8025,1.0],\"gridcolor\":\"#E1E5ED\",\"showgrid\":false,\"tickfont\":{\"color\":\"#4D5663\"},\"title\":{\"font\":{\"color\":\"#4D5663\"},\"text\":\"\"},\"zerolinecolor\":\"#E1E5ED\"},\"yaxis10\":{\"anchor\":\"x10\",\"domain\":[0.2675,0.465],\"gridcolor\":\"#E1E5ED\",\"showgrid\":false,\"tickfont\":{\"color\":\"#4D5663\"},\"title\":{\"font\":{\"color\":\"#4D5663\"},\"text\":\"\"},\"zerolinecolor\":\"#E1E5ED\"},\"yaxis11\":{\"anchor\":\"x11\",\"domain\":[0.2675,0.465],\"gridcolor\":\"#E1E5ED\",\"showgrid\":false,\"tickfont\":{\"color\":\"#4D5663\"},\"title\":{\"font\":{\"color\":\"#4D5663\"},\"text\":\"\"},\"zerolinecolor\":\"#E1E5ED\"},\"yaxis12\":{\"anchor\":\"x12\",\"domain\":[0.2675,0.465],\"gridcolor\":\"#E1E5ED\",\"showgrid\":false,\"tickfont\":{\"color\":\"#4D5663\"},\"title\":{\"font\":{\"color\":\"#4D5663\"},\"text\":\"\"},\"zerolinecolor\":\"#E1E5ED\"},\"yaxis13\":{\"anchor\":\"x13\",\"domain\":[0.0,0.1975],\"gridcolor\":\"#E1E5ED\",\"showgrid\":false,\"tickfont\":{\"color\":\"#4D5663\"},\"title\":{\"font\":{\"color\":\"#4D5663\"},\"text\":\"\"},\"zerolinecolor\":\"#E1E5ED\"},\"yaxis14\":{\"anchor\":\"x14\",\"domain\":[0.0,0.1975],\"gridcolor\":\"#E1E5ED\",\"showgrid\":false,\"tickfont\":{\"color\":\"#4D5663\"},\"title\":{\"font\":{\"color\":\"#4D5663\"},\"text\":\"\"},\"zerolinecolor\":\"#E1E5ED\"},\"yaxis15\":{\"anchor\":\"x15\",\"domain\":[0.0,0.1975],\"gridcolor\":\"#E1E5ED\",\"showgrid\":false,\"tickfont\":{\"color\":\"#4D5663\"},\"title\":{\"font\":{\"color\":\"#4D5663\"},\"text\":\"\"},\"zerolinecolor\":\"#E1E5ED\"},\"yaxis16\":{\"anchor\":\"x16\",\"domain\":[0.0,0.1975],\"gridcolor\":\"#E1E5ED\",\"showgrid\":false,\"tickfont\":{\"color\":\"#4D5663\"},\"title\":{\"font\":{\"color\":\"#4D5663\"},\"text\":\"\"},\"zerolinecolor\":\"#E1E5ED\"},\"yaxis2\":{\"anchor\":\"x2\",\"domain\":[0.8025,1.0],\"gridcolor\":\"#E1E5ED\",\"showgrid\":false,\"tickfont\":{\"color\":\"#4D5663\"},\"title\":{\"font\":{\"color\":\"#4D5663\"},\"text\":\"\"},\"zerolinecolor\":\"#E1E5ED\"},\"yaxis3\":{\"anchor\":\"x3\",\"domain\":[0.8025,1.0],\"gridcolor\":\"#E1E5ED\",\"showgrid\":false,\"tickfont\":{\"color\":\"#4D5663\"},\"title\":{\"font\":{\"color\":\"#4D5663\"},\"text\":\"\"},\"zerolinecolor\":\"#E1E5ED\"},\"yaxis4\":{\"anchor\":\"x4\",\"domain\":[0.8025,1.0],\"gridcolor\":\"#E1E5ED\",\"showgrid\":false,\"tickfont\":{\"color\":\"#4D5663\"},\"title\":{\"font\":{\"color\":\"#4D5663\"},\"text\":\"\"},\"zerolinecolor\":\"#E1E5ED\"},\"yaxis5\":{\"anchor\":\"x5\",\"domain\":[0.535,0.7325],\"gridcolor\":\"#E1E5ED\",\"showgrid\":false,\"tickfont\":{\"color\":\"#4D5663\"},\"title\":{\"font\":{\"color\":\"#4D5663\"},\"text\":\"\"},\"zerolinecolor\":\"#E1E5ED\"},\"yaxis6\":{\"anchor\":\"x6\",\"domain\":[0.535,0.7325],\"gridcolor\":\"#E1E5ED\",\"showgrid\":false,\"tickfont\":{\"color\":\"#4D5663\"},\"title\":{\"font\":{\"color\":\"#4D5663\"},\"text\":\"\"},\"zerolinecolor\":\"#E1E5ED\"},\"yaxis7\":{\"anchor\":\"x7\",\"domain\":[0.535,0.7325],\"gridcolor\":\"#E1E5ED\",\"showgrid\":false,\"tickfont\":{\"color\":\"#4D5663\"},\"title\":{\"font\":{\"color\":\"#4D5663\"},\"text\":\"\"},\"zerolinecolor\":\"#E1E5ED\"},\"yaxis8\":{\"anchor\":\"x8\",\"domain\":[0.535,0.7325],\"gridcolor\":\"#E1E5ED\",\"showgrid\":false,\"tickfont\":{\"color\":\"#4D5663\"},\"title\":{\"font\":{\"color\":\"#4D5663\"},\"text\":\"\"},\"zerolinecolor\":\"#E1E5ED\"},\"yaxis9\":{\"anchor\":\"x9\",\"domain\":[0.2675,0.465],\"gridcolor\":\"#E1E5ED\",\"showgrid\":false,\"tickfont\":{\"color\":\"#4D5663\"},\"title\":{\"font\":{\"color\":\"#4D5663\"},\"text\":\"\"},\"zerolinecolor\":\"#E1E5ED\"}},                        {\"showLink\": true, \"linkText\": \"Export to plot.ly\", \"plotlyServerURL\": \"https://plot.ly\", \"responsive\": true}                    ).then(function(){\n",
       "                            \n",
       "var gd = document.getElementById('baa05ffc-fbf6-4d36-985c-664fd27ab2b8');\n",
       "var x = new MutationObserver(function (mutations, observer) {{\n",
       "        var display = window.getComputedStyle(gd).display;\n",
       "        if (!display || display === 'none') {{\n",
       "            console.log([gd, 'removed!']);\n",
       "            Plotly.purge(gd);\n",
       "            observer.disconnect();\n",
       "        }}\n",
       "}});\n",
       "\n",
       "// Listen for the removal of the full notebook cells\n",
       "var notebookContainer = gd.closest('#notebook-container');\n",
       "if (notebookContainer) {{\n",
       "    x.observe(notebookContainer, {childList: true});\n",
       "}}\n",
       "\n",
       "// Listen for the clearing of the current output cell\n",
       "var outputEl = gd.closest('.output');\n",
       "if (outputEl) {{\n",
       "    x.observe(outputEl, {childList: true});\n",
       "}}\n",
       "\n",
       "                        })                };                });            </script>        </div>"
      ],
      "application/vnd.plotly.v1+json": {
       "config": {
        "linkText": "Export to plot.ly",
        "plotlyServerURL": "https://plot.ly",
        "showLink": true
       },
       "data": [
        {
         "histfunc": "count",
         "histnorm": "",
         "marker": {
          "color": "rgba(255, 153, 51, 1.0)",
          "line": {
           "color": "#4D5663",
           "width": 1.3
          }
         },
         "name": "A",
         "nbinsx": 10,
         "opacity": 0.8,
         "orientation": "v",
         "type": "histogram",
         "x": [
          1.2976308828245577,
          0.02891563246579733,
          0.6488033830640866,
          -0.6518967120779291,
          0.6103043670864998,
          -0.9802372938491501,
          -0.07589310574178512,
          -2.157880119655764,
          0.868733577307398,
          -0.9351261375377906,
          -0.055140764914955565,
          -0.28589654616041965,
          0.5289452063496645,
          0.2781921010010714,
          0.16374723355678183,
          -0.39239282708924167,
          0.8934440501370563,
          0.40827977634283436,
          -0.6959647939739411,
          -1.1815300420355552,
          1.1163964121590395,
          0.3065108458385955,
          -2.0341160588793805,
          1.2298468146505241,
          0.05746358452739269,
          -1.9000194599015916,
          0.1415749888678313,
          -1.2239433218446887,
          1.201220006696403,
          1.428560258537245,
          -1.140941921397734,
          0.5353234970155184,
          1.0940387658031,
          0.22424057672913128,
          -0.8824973957848675,
          -1.8185038357772296,
          0.7229169486376175,
          0.9124963031268156,
          0.11107936758643822,
          -0.08086602502924477,
          1.2099660155692962,
          1.8518300739265623,
          -0.12137650834889625,
          -0.4858190401877175,
          1.3395698942139476,
          -0.17521586297401584,
          -1.373835557744931,
          -0.1897204092619399,
          0.19203332056959913,
          -0.18036257996181526,
          -0.15620054902084546,
          -2.84142252943806,
          -0.4349542942415666,
          0.22380447679552914,
          1.0785492355179809,
          -0.32649171717218634,
          0.08433694066275796,
          -0.13755292295945926,
          -0.43063226950394184,
          0.17155096628062336,
          -1.6044580181981711,
          0.05717561589713138,
          -0.06195786489501751,
          0.6380612124143483,
          0.6194226191395767,
          -0.7093593036394797,
          -0.2941371278104831,
          0.5636335693906555,
          0.17585797078580842,
          1.8454840837179403,
          -0.3635563229777336,
          -0.5476291459186988,
          0.6971996263353732,
          -0.10273204605952994,
          1.4857175198711914,
          -0.9602307332292892,
          0.5908545524036684,
          0.4127672484937881,
          -0.5266758464083148,
          -1.2170831072505595,
          1.9285580051166684,
          2.233682040310963,
          1.333969398397583,
          0.423248589364245,
          0.22258221659675845,
          -0.4043164692696297,
          0.6594803798259496,
          -2.285942806656985,
          1.0281945074225356,
          -1.037158988731567,
          -0.5828485188740444,
          -0.313430618132578,
          -1.3874377073665272,
          0.4099640243163893,
          0.24071529001761394,
          -0.12017792683193004,
          -0.9686450621979947,
          -0.03808213244543389,
          1.8023761654438561,
          -1.4301276228609552
         ],
         "xaxis": "x",
         "yaxis": "y"
        },
        {
         "line": {
          "color": "rgba(128, 128, 128, 1.0)",
          "dash": "solid",
          "shape": "linear",
          "width": 1.3
         },
         "marker": {
          "size": 2,
          "symbol": "circle"
         },
         "mode": "markers",
         "name": "A",
         "text": "",
         "type": "scatter",
         "x": [
          0.18926451945427628,
          0.16292694381339004,
          -0.566306058548627,
          -1.1871484670475736,
          -0.02625193941071388,
          0.6041199267212912,
          1.3741250423719473,
          -0.5088108537866691,
          0.19976539698307638,
          -1.395275921233364,
          -0.015878490774350308,
          0.8084804721162855,
          0.8034225968778593,
          -0.5168699421006512,
          -1.3796295609476623,
          -1.6941356174092017,
          -1.379959709057697,
          -0.11505112421545904,
          0.32984150289779074,
          -0.42834411191121147,
          1.2375552243795376,
          -0.5575710577973884,
          -0.1894786355299986,
          -0.23813580837486759,
          -0.45984534641133945,
          0.48937688393162654,
          0.576026131836969,
          -1.1993910275679727,
          0.15484795454435643,
          0.33950144682406125,
          0.31619953849918614,
          -0.8920510043930835,
          1.6552070877637908,
          1.0730130982097303,
          -0.09015798247656187,
          -1.0602573544408647,
          -0.5505686869004346,
          1.5327284332177737,
          -1.306471900965645,
          -0.3272434299662886,
          -0.4801211887802263,
          0.9169019760490729,
          -0.017979999266407094,
          -0.9511968823264166,
          -0.9627252363016441,
          -1.4628433017052838,
          -1.1821952702688425,
          -0.28148377358404764,
          -1.4044798089957289,
          0.062379443493298006,
          -1.261667708946712,
          2.0321741626905028,
          0.8208188001977202,
          1.5780470590866502,
          -1.5595133106751289,
          -0.5258041321901501,
          0.6970768226811306,
          -0.005408959849332933,
          0.0732974621650809,
          0.6935240608309962,
          0.345194496782059,
          -0.18429690989527864,
          0.22160274975209152,
          -0.4854806124075751,
          0.47488816725628835,
          -0.14852084415920547,
          0.8318360611705212,
          0.29468055995909737,
          -1.2880347602192437,
          0.35609655787191175,
          -0.22330297178159317,
          0.16497518724931692,
          0.2485388337776046,
          -0.7649918753979197,
          0.9026354406871174,
          -1.596064739107909,
          -0.6072502963690356,
          -0.7296920363391135,
          -0.7093956570250376,
          -0.9822586622490749,
          1.9182674900103864,
          -0.01898318330479451,
          -0.7695364688337993,
          0.9775997347713666,
          -0.5403883962773787,
          -0.0631483844680669,
          1.087217742194578,
          0.2926164774469953,
          -0.07524332323153042,
          0.5876958428402382,
          0.351391326724226,
          -1.0655695235292197,
          1.7359381836204664,
          -0.5167044830170687,
          -1.3410359409673123,
          -0.9910637169828151,
          -1.6014081994632958,
          -0.35636157582061334,
          -1.6790495903477574,
          -0.9810464442857267
         ],
         "xaxis": "x2",
         "y": [
          1.2976308828245577,
          0.02891563246579733,
          0.6488033830640866,
          -0.6518967120779291,
          0.6103043670864998,
          -0.9802372938491501,
          -0.07589310574178512,
          -2.157880119655764,
          0.868733577307398,
          -0.9351261375377906,
          -0.055140764914955565,
          -0.28589654616041965,
          0.5289452063496645,
          0.2781921010010714,
          0.16374723355678183,
          -0.39239282708924167,
          0.8934440501370563,
          0.40827977634283436,
          -0.6959647939739411,
          -1.1815300420355552,
          1.1163964121590395,
          0.3065108458385955,
          -2.0341160588793805,
          1.2298468146505241,
          0.05746358452739269,
          -1.9000194599015916,
          0.1415749888678313,
          -1.2239433218446887,
          1.201220006696403,
          1.428560258537245,
          -1.140941921397734,
          0.5353234970155184,
          1.0940387658031,
          0.22424057672913128,
          -0.8824973957848675,
          -1.8185038357772296,
          0.7229169486376175,
          0.9124963031268156,
          0.11107936758643822,
          -0.08086602502924477,
          1.2099660155692962,
          1.8518300739265623,
          -0.12137650834889625,
          -0.4858190401877175,
          1.3395698942139476,
          -0.17521586297401584,
          -1.373835557744931,
          -0.1897204092619399,
          0.19203332056959913,
          -0.18036257996181526,
          -0.15620054902084546,
          -2.84142252943806,
          -0.4349542942415666,
          0.22380447679552914,
          1.0785492355179809,
          -0.32649171717218634,
          0.08433694066275796,
          -0.13755292295945926,
          -0.43063226950394184,
          0.17155096628062336,
          -1.6044580181981711,
          0.05717561589713138,
          -0.06195786489501751,
          0.6380612124143483,
          0.6194226191395767,
          -0.7093593036394797,
          -0.2941371278104831,
          0.5636335693906555,
          0.17585797078580842,
          1.8454840837179403,
          -0.3635563229777336,
          -0.5476291459186988,
          0.6971996263353732,
          -0.10273204605952994,
          1.4857175198711914,
          -0.9602307332292892,
          0.5908545524036684,
          0.4127672484937881,
          -0.5266758464083148,
          -1.2170831072505595,
          1.9285580051166684,
          2.233682040310963,
          1.333969398397583,
          0.423248589364245,
          0.22258221659675845,
          -0.4043164692696297,
          0.6594803798259496,
          -2.285942806656985,
          1.0281945074225356,
          -1.037158988731567,
          -0.5828485188740444,
          -0.313430618132578,
          -1.3874377073665272,
          0.4099640243163893,
          0.24071529001761394,
          -0.12017792683193004,
          -0.9686450621979947,
          -0.03808213244543389,
          1.8023761654438561,
          -1.4301276228609552
         ],
         "yaxis": "y2"
        },
        {
         "line": {
          "color": "rgba(128, 128, 128, 1.0)",
          "dash": "solid",
          "shape": "linear",
          "width": 1.3
         },
         "marker": {
          "size": 2,
          "symbol": "circle"
         },
         "mode": "markers",
         "name": "A",
         "text": "",
         "type": "scatter",
         "x": [
          -1.1719714818817535,
          0.2332138753592973,
          -0.4546800061881979,
          1.3516237536173374,
          0.17179961485515238,
          1.0517724751027668,
          -0.7823463516887971,
          1.8074585106465186,
          1.3123352560032089,
          -1.820830963211993,
          3.4655352474152594,
          -1.6644082485933236,
          0.3327524789592473,
          0.7728081592370689,
          1.0106861388792414,
          -0.1360068676174408,
          1.067275308490196,
          1.7498323035351442,
          -0.42210531383943345,
          0.08274856032387486,
          1.3351535410116988,
          0.2898933488848551,
          0.4442997674702476,
          -1.0566350492449932,
          -1.1770610406741882,
          1.059136089759076,
          0.6358669397925498,
          -0.9873866966962658,
          -1.1928109033344136,
          0.2365081379323982,
          1.4119765789231435,
          -0.012412826944206104,
          -1.8181097862164766,
          2.1853022769975317,
          -0.14097762123253854,
          1.5150408956982442,
          0.8114345148559331,
          -1.026942869137855,
          0.8685950616036636,
          1.3873827877411171,
          0.2811520389861795,
          -2.2353418800786966,
          -0.3367239783801947,
          1.318690702877346,
          -0.13330465622915116,
          -1.614613802275598,
          -0.22014132742275344,
          -0.8563517414295124,
          -0.5763091648572842,
          -0.47336546528140866,
          0.1403426518366949,
          -1.1387953070329018,
          -0.19268812707847527,
          -1.1581771054106418,
          -0.19340924136897628,
          -0.14908746718245883,
          -1.3941423793138157,
          -1.2835470024222988,
          0.44031813337107395,
          -0.1356788494555008,
          -0.9840572679707422,
          0.8078129574771282,
          0.4267425553937342,
          -0.959346901827908,
          0.5938419248520675,
          1.0875161323394007,
          0.2510932564313161,
          0.24262070160603114,
          0.01778087882946292,
          1.6342184020158732,
          -0.23194589286996642,
          -0.39029141370906273,
          0.11551194440826097,
          0.5103878413697021,
          -0.8064734182549084,
          0.1402951495555622,
          0.3674712646729114,
          0.9584316439675348,
          1.8298277284273394,
          0.8920236547226964,
          -0.5212968676245798,
          -0.17238935097536456,
          0.8471726224699624,
          0.7617060079728852,
          -1.1911720287513288,
          -0.7448002940723181,
          0.24501002154222226,
          0.4226797203167203,
          -0.6777182689776893,
          0.3250244309256672,
          -0.06129106814175234,
          -0.5074724286972169,
          0.5685119579659011,
          1.9455820824933674,
          0.7062092630505239,
          -1.910879622003017,
          -0.23421828012397325,
          -0.03394700754584208,
          0.17577755569065942,
          -1.3676435491484122
         ],
         "xaxis": "x3",
         "y": [
          1.2976308828245577,
          0.02891563246579733,
          0.6488033830640866,
          -0.6518967120779291,
          0.6103043670864998,
          -0.9802372938491501,
          -0.07589310574178512,
          -2.157880119655764,
          0.868733577307398,
          -0.9351261375377906,
          -0.055140764914955565,
          -0.28589654616041965,
          0.5289452063496645,
          0.2781921010010714,
          0.16374723355678183,
          -0.39239282708924167,
          0.8934440501370563,
          0.40827977634283436,
          -0.6959647939739411,
          -1.1815300420355552,
          1.1163964121590395,
          0.3065108458385955,
          -2.0341160588793805,
          1.2298468146505241,
          0.05746358452739269,
          -1.9000194599015916,
          0.1415749888678313,
          -1.2239433218446887,
          1.201220006696403,
          1.428560258537245,
          -1.140941921397734,
          0.5353234970155184,
          1.0940387658031,
          0.22424057672913128,
          -0.8824973957848675,
          -1.8185038357772296,
          0.7229169486376175,
          0.9124963031268156,
          0.11107936758643822,
          -0.08086602502924477,
          1.2099660155692962,
          1.8518300739265623,
          -0.12137650834889625,
          -0.4858190401877175,
          1.3395698942139476,
          -0.17521586297401584,
          -1.373835557744931,
          -0.1897204092619399,
          0.19203332056959913,
          -0.18036257996181526,
          -0.15620054902084546,
          -2.84142252943806,
          -0.4349542942415666,
          0.22380447679552914,
          1.0785492355179809,
          -0.32649171717218634,
          0.08433694066275796,
          -0.13755292295945926,
          -0.43063226950394184,
          0.17155096628062336,
          -1.6044580181981711,
          0.05717561589713138,
          -0.06195786489501751,
          0.6380612124143483,
          0.6194226191395767,
          -0.7093593036394797,
          -0.2941371278104831,
          0.5636335693906555,
          0.17585797078580842,
          1.8454840837179403,
          -0.3635563229777336,
          -0.5476291459186988,
          0.6971996263353732,
          -0.10273204605952994,
          1.4857175198711914,
          -0.9602307332292892,
          0.5908545524036684,
          0.4127672484937881,
          -0.5266758464083148,
          -1.2170831072505595,
          1.9285580051166684,
          2.233682040310963,
          1.333969398397583,
          0.423248589364245,
          0.22258221659675845,
          -0.4043164692696297,
          0.6594803798259496,
          -2.285942806656985,
          1.0281945074225356,
          -1.037158988731567,
          -0.5828485188740444,
          -0.313430618132578,
          -1.3874377073665272,
          0.4099640243163893,
          0.24071529001761394,
          -0.12017792683193004,
          -0.9686450621979947,
          -0.03808213244543389,
          1.8023761654438561,
          -1.4301276228609552
         ],
         "yaxis": "y3"
        },
        {
         "line": {
          "color": "rgba(128, 128, 128, 1.0)",
          "dash": "solid",
          "shape": "linear",
          "width": 1.3
         },
         "marker": {
          "size": 2,
          "symbol": "circle"
         },
         "mode": "markers",
         "name": "A",
         "text": "",
         "type": "scatter",
         "x": [
          -0.12704856923915245,
          1.6938046160785538,
          0.5756190997868936,
          -0.17999592839220205,
          -0.00009163211638458499,
          1.4695089350289379,
          1.3548652763865952,
          -0.33235526694293527,
          -0.3822486177289395,
          -1.134475698013416,
          1.3847527542080538,
          -1.9991532972345138,
          1.9097487987135684,
          -1.1307328630005613,
          0.08202699286545966,
          -0.9261434359695201,
          -0.6432838379331188,
          0.30315341023978976,
          0.8716668324641216,
          1.001160525439211,
          -0.6200617114477807,
          0.5545756856829747,
          1.5269794887667125,
          0.2722912521021846,
          -1.3302386550206888,
          1.0820281408695263,
          0.4820220647486462,
          -0.026583117944890256,
          0.254307087002118,
          -0.23257206899068456,
          -0.6668408624159107,
          -1.3918058493032925,
          -0.9093808020672761,
          -0.8213125209510255,
          0.12617360302476713,
          1.1818422521706744,
          -2.1154345140812394,
          0.8289698795252698,
          -0.20329141711730483,
          1.1382443889578078,
          1.8069275473195896,
          -1.1912219328811458,
          -1.146680326335038,
          0.8328404693469593,
          0.5535333687685877,
          -1.6104707362516677,
          -0.4217307628110528,
          -0.8759338204297533,
          -2.0819318917445275,
          1.258434233114991,
          0.5176493763367291,
          0.24858411888945894,
          -1.289762415904675,
          -0.27923756675258127,
          1.0331102503945448,
          -0.7025549276141846,
          0.49671821491264867,
          -0.7124415305662497,
          -0.40816128697898746,
          0.5887113190152763,
          0.8052943692046769,
          0.04143367083255379,
          0.5315060348183375,
          0.8521759240730672,
          -0.11357150430083014,
          -0.5355160068590631,
          0.7262464673901955,
          0.4368507358817294,
          -0.5469509790576146,
          1.225346278034147,
          0.4716273182166465,
          -0.21321894212852888,
          -0.6651560509999196,
          0.8062087509024685,
          0.316387993098053,
          0.13662280110006966,
          -0.08136504655299272,
          0.35380080641358747,
          -1.1975953034380349,
          0.28675545644337425,
          -1.2907460928812213,
          -0.8220971385953828,
          1.1511920612407398,
          -0.6530289657038366,
          0.46763936539994966,
          1.5723356025836042,
          0.8537628199681853,
          -0.4427620032609995,
          -0.057184951567829934,
          -0.37879073207614317,
          0.3325060200718353,
          1.7535425767195376,
          -0.6266540549540228,
          -0.38014845782194295,
          -1.1657560542518957,
          1.3333117436860387,
          0.25983277624047507,
          -0.04858360050128592,
          -1.1525950412400925,
          0.9390252529338794
         ],
         "xaxis": "x4",
         "y": [
          1.2976308828245577,
          0.02891563246579733,
          0.6488033830640866,
          -0.6518967120779291,
          0.6103043670864998,
          -0.9802372938491501,
          -0.07589310574178512,
          -2.157880119655764,
          0.868733577307398,
          -0.9351261375377906,
          -0.055140764914955565,
          -0.28589654616041965,
          0.5289452063496645,
          0.2781921010010714,
          0.16374723355678183,
          -0.39239282708924167,
          0.8934440501370563,
          0.40827977634283436,
          -0.6959647939739411,
          -1.1815300420355552,
          1.1163964121590395,
          0.3065108458385955,
          -2.0341160588793805,
          1.2298468146505241,
          0.05746358452739269,
          -1.9000194599015916,
          0.1415749888678313,
          -1.2239433218446887,
          1.201220006696403,
          1.428560258537245,
          -1.140941921397734,
          0.5353234970155184,
          1.0940387658031,
          0.22424057672913128,
          -0.8824973957848675,
          -1.8185038357772296,
          0.7229169486376175,
          0.9124963031268156,
          0.11107936758643822,
          -0.08086602502924477,
          1.2099660155692962,
          1.8518300739265623,
          -0.12137650834889625,
          -0.4858190401877175,
          1.3395698942139476,
          -0.17521586297401584,
          -1.373835557744931,
          -0.1897204092619399,
          0.19203332056959913,
          -0.18036257996181526,
          -0.15620054902084546,
          -2.84142252943806,
          -0.4349542942415666,
          0.22380447679552914,
          1.0785492355179809,
          -0.32649171717218634,
          0.08433694066275796,
          -0.13755292295945926,
          -0.43063226950394184,
          0.17155096628062336,
          -1.6044580181981711,
          0.05717561589713138,
          -0.06195786489501751,
          0.6380612124143483,
          0.6194226191395767,
          -0.7093593036394797,
          -0.2941371278104831,
          0.5636335693906555,
          0.17585797078580842,
          1.8454840837179403,
          -0.3635563229777336,
          -0.5476291459186988,
          0.6971996263353732,
          -0.10273204605952994,
          1.4857175198711914,
          -0.9602307332292892,
          0.5908545524036684,
          0.4127672484937881,
          -0.5266758464083148,
          -1.2170831072505595,
          1.9285580051166684,
          2.233682040310963,
          1.333969398397583,
          0.423248589364245,
          0.22258221659675845,
          -0.4043164692696297,
          0.6594803798259496,
          -2.285942806656985,
          1.0281945074225356,
          -1.037158988731567,
          -0.5828485188740444,
          -0.313430618132578,
          -1.3874377073665272,
          0.4099640243163893,
          0.24071529001761394,
          -0.12017792683193004,
          -0.9686450621979947,
          -0.03808213244543389,
          1.8023761654438561,
          -1.4301276228609552
         ],
         "yaxis": "y4"
        },
        {
         "line": {
          "color": "rgba(128, 128, 128, 1.0)",
          "dash": "solid",
          "shape": "linear",
          "width": 1.3
         },
         "marker": {
          "size": 2,
          "symbol": "circle"
         },
         "mode": "markers",
         "name": "B",
         "text": "",
         "type": "scatter",
         "x": [
          1.2976308828245577,
          0.02891563246579733,
          0.6488033830640866,
          -0.6518967120779291,
          0.6103043670864998,
          -0.9802372938491501,
          -0.07589310574178512,
          -2.157880119655764,
          0.868733577307398,
          -0.9351261375377906,
          -0.055140764914955565,
          -0.28589654616041965,
          0.5289452063496645,
          0.2781921010010714,
          0.16374723355678183,
          -0.39239282708924167,
          0.8934440501370563,
          0.40827977634283436,
          -0.6959647939739411,
          -1.1815300420355552,
          1.1163964121590395,
          0.3065108458385955,
          -2.0341160588793805,
          1.2298468146505241,
          0.05746358452739269,
          -1.9000194599015916,
          0.1415749888678313,
          -1.2239433218446887,
          1.201220006696403,
          1.428560258537245,
          -1.140941921397734,
          0.5353234970155184,
          1.0940387658031,
          0.22424057672913128,
          -0.8824973957848675,
          -1.8185038357772296,
          0.7229169486376175,
          0.9124963031268156,
          0.11107936758643822,
          -0.08086602502924477,
          1.2099660155692962,
          1.8518300739265623,
          -0.12137650834889625,
          -0.4858190401877175,
          1.3395698942139476,
          -0.17521586297401584,
          -1.373835557744931,
          -0.1897204092619399,
          0.19203332056959913,
          -0.18036257996181526,
          -0.15620054902084546,
          -2.84142252943806,
          -0.4349542942415666,
          0.22380447679552914,
          1.0785492355179809,
          -0.32649171717218634,
          0.08433694066275796,
          -0.13755292295945926,
          -0.43063226950394184,
          0.17155096628062336,
          -1.6044580181981711,
          0.05717561589713138,
          -0.06195786489501751,
          0.6380612124143483,
          0.6194226191395767,
          -0.7093593036394797,
          -0.2941371278104831,
          0.5636335693906555,
          0.17585797078580842,
          1.8454840837179403,
          -0.3635563229777336,
          -0.5476291459186988,
          0.6971996263353732,
          -0.10273204605952994,
          1.4857175198711914,
          -0.9602307332292892,
          0.5908545524036684,
          0.4127672484937881,
          -0.5266758464083148,
          -1.2170831072505595,
          1.9285580051166684,
          2.233682040310963,
          1.333969398397583,
          0.423248589364245,
          0.22258221659675845,
          -0.4043164692696297,
          0.6594803798259496,
          -2.285942806656985,
          1.0281945074225356,
          -1.037158988731567,
          -0.5828485188740444,
          -0.313430618132578,
          -1.3874377073665272,
          0.4099640243163893,
          0.24071529001761394,
          -0.12017792683193004,
          -0.9686450621979947,
          -0.03808213244543389,
          1.8023761654438561,
          -1.4301276228609552
         ],
         "xaxis": "x5",
         "y": [
          0.18926451945427628,
          0.16292694381339004,
          -0.566306058548627,
          -1.1871484670475736,
          -0.02625193941071388,
          0.6041199267212912,
          1.3741250423719473,
          -0.5088108537866691,
          0.19976539698307638,
          -1.395275921233364,
          -0.015878490774350308,
          0.8084804721162855,
          0.8034225968778593,
          -0.5168699421006512,
          -1.3796295609476623,
          -1.6941356174092017,
          -1.379959709057697,
          -0.11505112421545904,
          0.32984150289779074,
          -0.42834411191121147,
          1.2375552243795376,
          -0.5575710577973884,
          -0.1894786355299986,
          -0.23813580837486759,
          -0.45984534641133945,
          0.48937688393162654,
          0.576026131836969,
          -1.1993910275679727,
          0.15484795454435643,
          0.33950144682406125,
          0.31619953849918614,
          -0.8920510043930835,
          1.6552070877637908,
          1.0730130982097303,
          -0.09015798247656187,
          -1.0602573544408647,
          -0.5505686869004346,
          1.5327284332177737,
          -1.306471900965645,
          -0.3272434299662886,
          -0.4801211887802263,
          0.9169019760490729,
          -0.017979999266407094,
          -0.9511968823264166,
          -0.9627252363016441,
          -1.4628433017052838,
          -1.1821952702688425,
          -0.28148377358404764,
          -1.4044798089957289,
          0.062379443493298006,
          -1.261667708946712,
          2.0321741626905028,
          0.8208188001977202,
          1.5780470590866502,
          -1.5595133106751289,
          -0.5258041321901501,
          0.6970768226811306,
          -0.005408959849332933,
          0.0732974621650809,
          0.6935240608309962,
          0.345194496782059,
          -0.18429690989527864,
          0.22160274975209152,
          -0.4854806124075751,
          0.47488816725628835,
          -0.14852084415920547,
          0.8318360611705212,
          0.29468055995909737,
          -1.2880347602192437,
          0.35609655787191175,
          -0.22330297178159317,
          0.16497518724931692,
          0.2485388337776046,
          -0.7649918753979197,
          0.9026354406871174,
          -1.596064739107909,
          -0.6072502963690356,
          -0.7296920363391135,
          -0.7093956570250376,
          -0.9822586622490749,
          1.9182674900103864,
          -0.01898318330479451,
          -0.7695364688337993,
          0.9775997347713666,
          -0.5403883962773787,
          -0.0631483844680669,
          1.087217742194578,
          0.2926164774469953,
          -0.07524332323153042,
          0.5876958428402382,
          0.351391326724226,
          -1.0655695235292197,
          1.7359381836204664,
          -0.5167044830170687,
          -1.3410359409673123,
          -0.9910637169828151,
          -1.6014081994632958,
          -0.35636157582061334,
          -1.6790495903477574,
          -0.9810464442857267
         ],
         "yaxis": "y5"
        },
        {
         "histfunc": "count",
         "histnorm": "",
         "marker": {
          "color": "rgba(55, 128, 191, 1.0)",
          "line": {
           "color": "#4D5663",
           "width": 1.3
          }
         },
         "name": "B",
         "nbinsx": 10,
         "opacity": 0.8,
         "orientation": "v",
         "type": "histogram",
         "x": [
          0.18926451945427628,
          0.16292694381339004,
          -0.566306058548627,
          -1.1871484670475736,
          -0.02625193941071388,
          0.6041199267212912,
          1.3741250423719473,
          -0.5088108537866691,
          0.19976539698307638,
          -1.395275921233364,
          -0.015878490774350308,
          0.8084804721162855,
          0.8034225968778593,
          -0.5168699421006512,
          -1.3796295609476623,
          -1.6941356174092017,
          -1.379959709057697,
          -0.11505112421545904,
          0.32984150289779074,
          -0.42834411191121147,
          1.2375552243795376,
          -0.5575710577973884,
          -0.1894786355299986,
          -0.23813580837486759,
          -0.45984534641133945,
          0.48937688393162654,
          0.576026131836969,
          -1.1993910275679727,
          0.15484795454435643,
          0.33950144682406125,
          0.31619953849918614,
          -0.8920510043930835,
          1.6552070877637908,
          1.0730130982097303,
          -0.09015798247656187,
          -1.0602573544408647,
          -0.5505686869004346,
          1.5327284332177737,
          -1.306471900965645,
          -0.3272434299662886,
          -0.4801211887802263,
          0.9169019760490729,
          -0.017979999266407094,
          -0.9511968823264166,
          -0.9627252363016441,
          -1.4628433017052838,
          -1.1821952702688425,
          -0.28148377358404764,
          -1.4044798089957289,
          0.062379443493298006,
          -1.261667708946712,
          2.0321741626905028,
          0.8208188001977202,
          1.5780470590866502,
          -1.5595133106751289,
          -0.5258041321901501,
          0.6970768226811306,
          -0.005408959849332933,
          0.0732974621650809,
          0.6935240608309962,
          0.345194496782059,
          -0.18429690989527864,
          0.22160274975209152,
          -0.4854806124075751,
          0.47488816725628835,
          -0.14852084415920547,
          0.8318360611705212,
          0.29468055995909737,
          -1.2880347602192437,
          0.35609655787191175,
          -0.22330297178159317,
          0.16497518724931692,
          0.2485388337776046,
          -0.7649918753979197,
          0.9026354406871174,
          -1.596064739107909,
          -0.6072502963690356,
          -0.7296920363391135,
          -0.7093956570250376,
          -0.9822586622490749,
          1.9182674900103864,
          -0.01898318330479451,
          -0.7695364688337993,
          0.9775997347713666,
          -0.5403883962773787,
          -0.0631483844680669,
          1.087217742194578,
          0.2926164774469953,
          -0.07524332323153042,
          0.5876958428402382,
          0.351391326724226,
          -1.0655695235292197,
          1.7359381836204664,
          -0.5167044830170687,
          -1.3410359409673123,
          -0.9910637169828151,
          -1.6014081994632958,
          -0.35636157582061334,
          -1.6790495903477574,
          -0.9810464442857267
         ],
         "xaxis": "x6",
         "yaxis": "y6"
        },
        {
         "line": {
          "color": "rgba(128, 128, 128, 1.0)",
          "dash": "solid",
          "shape": "linear",
          "width": 1.3
         },
         "marker": {
          "size": 2,
          "symbol": "circle"
         },
         "mode": "markers",
         "name": "B",
         "text": "",
         "type": "scatter",
         "x": [
          -1.1719714818817535,
          0.2332138753592973,
          -0.4546800061881979,
          1.3516237536173374,
          0.17179961485515238,
          1.0517724751027668,
          -0.7823463516887971,
          1.8074585106465186,
          1.3123352560032089,
          -1.820830963211993,
          3.4655352474152594,
          -1.6644082485933236,
          0.3327524789592473,
          0.7728081592370689,
          1.0106861388792414,
          -0.1360068676174408,
          1.067275308490196,
          1.7498323035351442,
          -0.42210531383943345,
          0.08274856032387486,
          1.3351535410116988,
          0.2898933488848551,
          0.4442997674702476,
          -1.0566350492449932,
          -1.1770610406741882,
          1.059136089759076,
          0.6358669397925498,
          -0.9873866966962658,
          -1.1928109033344136,
          0.2365081379323982,
          1.4119765789231435,
          -0.012412826944206104,
          -1.8181097862164766,
          2.1853022769975317,
          -0.14097762123253854,
          1.5150408956982442,
          0.8114345148559331,
          -1.026942869137855,
          0.8685950616036636,
          1.3873827877411171,
          0.2811520389861795,
          -2.2353418800786966,
          -0.3367239783801947,
          1.318690702877346,
          -0.13330465622915116,
          -1.614613802275598,
          -0.22014132742275344,
          -0.8563517414295124,
          -0.5763091648572842,
          -0.47336546528140866,
          0.1403426518366949,
          -1.1387953070329018,
          -0.19268812707847527,
          -1.1581771054106418,
          -0.19340924136897628,
          -0.14908746718245883,
          -1.3941423793138157,
          -1.2835470024222988,
          0.44031813337107395,
          -0.1356788494555008,
          -0.9840572679707422,
          0.8078129574771282,
          0.4267425553937342,
          -0.959346901827908,
          0.5938419248520675,
          1.0875161323394007,
          0.2510932564313161,
          0.24262070160603114,
          0.01778087882946292,
          1.6342184020158732,
          -0.23194589286996642,
          -0.39029141370906273,
          0.11551194440826097,
          0.5103878413697021,
          -0.8064734182549084,
          0.1402951495555622,
          0.3674712646729114,
          0.9584316439675348,
          1.8298277284273394,
          0.8920236547226964,
          -0.5212968676245798,
          -0.17238935097536456,
          0.8471726224699624,
          0.7617060079728852,
          -1.1911720287513288,
          -0.7448002940723181,
          0.24501002154222226,
          0.4226797203167203,
          -0.6777182689776893,
          0.3250244309256672,
          -0.06129106814175234,
          -0.5074724286972169,
          0.5685119579659011,
          1.9455820824933674,
          0.7062092630505239,
          -1.910879622003017,
          -0.23421828012397325,
          -0.03394700754584208,
          0.17577755569065942,
          -1.3676435491484122
         ],
         "xaxis": "x7",
         "y": [
          0.18926451945427628,
          0.16292694381339004,
          -0.566306058548627,
          -1.1871484670475736,
          -0.02625193941071388,
          0.6041199267212912,
          1.3741250423719473,
          -0.5088108537866691,
          0.19976539698307638,
          -1.395275921233364,
          -0.015878490774350308,
          0.8084804721162855,
          0.8034225968778593,
          -0.5168699421006512,
          -1.3796295609476623,
          -1.6941356174092017,
          -1.379959709057697,
          -0.11505112421545904,
          0.32984150289779074,
          -0.42834411191121147,
          1.2375552243795376,
          -0.5575710577973884,
          -0.1894786355299986,
          -0.23813580837486759,
          -0.45984534641133945,
          0.48937688393162654,
          0.576026131836969,
          -1.1993910275679727,
          0.15484795454435643,
          0.33950144682406125,
          0.31619953849918614,
          -0.8920510043930835,
          1.6552070877637908,
          1.0730130982097303,
          -0.09015798247656187,
          -1.0602573544408647,
          -0.5505686869004346,
          1.5327284332177737,
          -1.306471900965645,
          -0.3272434299662886,
          -0.4801211887802263,
          0.9169019760490729,
          -0.017979999266407094,
          -0.9511968823264166,
          -0.9627252363016441,
          -1.4628433017052838,
          -1.1821952702688425,
          -0.28148377358404764,
          -1.4044798089957289,
          0.062379443493298006,
          -1.261667708946712,
          2.0321741626905028,
          0.8208188001977202,
          1.5780470590866502,
          -1.5595133106751289,
          -0.5258041321901501,
          0.6970768226811306,
          -0.005408959849332933,
          0.0732974621650809,
          0.6935240608309962,
          0.345194496782059,
          -0.18429690989527864,
          0.22160274975209152,
          -0.4854806124075751,
          0.47488816725628835,
          -0.14852084415920547,
          0.8318360611705212,
          0.29468055995909737,
          -1.2880347602192437,
          0.35609655787191175,
          -0.22330297178159317,
          0.16497518724931692,
          0.2485388337776046,
          -0.7649918753979197,
          0.9026354406871174,
          -1.596064739107909,
          -0.6072502963690356,
          -0.7296920363391135,
          -0.7093956570250376,
          -0.9822586622490749,
          1.9182674900103864,
          -0.01898318330479451,
          -0.7695364688337993,
          0.9775997347713666,
          -0.5403883962773787,
          -0.0631483844680669,
          1.087217742194578,
          0.2926164774469953,
          -0.07524332323153042,
          0.5876958428402382,
          0.351391326724226,
          -1.0655695235292197,
          1.7359381836204664,
          -0.5167044830170687,
          -1.3410359409673123,
          -0.9910637169828151,
          -1.6014081994632958,
          -0.35636157582061334,
          -1.6790495903477574,
          -0.9810464442857267
         ],
         "yaxis": "y7"
        },
        {
         "line": {
          "color": "rgba(128, 128, 128, 1.0)",
          "dash": "solid",
          "shape": "linear",
          "width": 1.3
         },
         "marker": {
          "size": 2,
          "symbol": "circle"
         },
         "mode": "markers",
         "name": "B",
         "text": "",
         "type": "scatter",
         "x": [
          -0.12704856923915245,
          1.6938046160785538,
          0.5756190997868936,
          -0.17999592839220205,
          -0.00009163211638458499,
          1.4695089350289379,
          1.3548652763865952,
          -0.33235526694293527,
          -0.3822486177289395,
          -1.134475698013416,
          1.3847527542080538,
          -1.9991532972345138,
          1.9097487987135684,
          -1.1307328630005613,
          0.08202699286545966,
          -0.9261434359695201,
          -0.6432838379331188,
          0.30315341023978976,
          0.8716668324641216,
          1.001160525439211,
          -0.6200617114477807,
          0.5545756856829747,
          1.5269794887667125,
          0.2722912521021846,
          -1.3302386550206888,
          1.0820281408695263,
          0.4820220647486462,
          -0.026583117944890256,
          0.254307087002118,
          -0.23257206899068456,
          -0.6668408624159107,
          -1.3918058493032925,
          -0.9093808020672761,
          -0.8213125209510255,
          0.12617360302476713,
          1.1818422521706744,
          -2.1154345140812394,
          0.8289698795252698,
          -0.20329141711730483,
          1.1382443889578078,
          1.8069275473195896,
          -1.1912219328811458,
          -1.146680326335038,
          0.8328404693469593,
          0.5535333687685877,
          -1.6104707362516677,
          -0.4217307628110528,
          -0.8759338204297533,
          -2.0819318917445275,
          1.258434233114991,
          0.5176493763367291,
          0.24858411888945894,
          -1.289762415904675,
          -0.27923756675258127,
          1.0331102503945448,
          -0.7025549276141846,
          0.49671821491264867,
          -0.7124415305662497,
          -0.40816128697898746,
          0.5887113190152763,
          0.8052943692046769,
          0.04143367083255379,
          0.5315060348183375,
          0.8521759240730672,
          -0.11357150430083014,
          -0.5355160068590631,
          0.7262464673901955,
          0.4368507358817294,
          -0.5469509790576146,
          1.225346278034147,
          0.4716273182166465,
          -0.21321894212852888,
          -0.6651560509999196,
          0.8062087509024685,
          0.316387993098053,
          0.13662280110006966,
          -0.08136504655299272,
          0.35380080641358747,
          -1.1975953034380349,
          0.28675545644337425,
          -1.2907460928812213,
          -0.8220971385953828,
          1.1511920612407398,
          -0.6530289657038366,
          0.46763936539994966,
          1.5723356025836042,
          0.8537628199681853,
          -0.4427620032609995,
          -0.057184951567829934,
          -0.37879073207614317,
          0.3325060200718353,
          1.7535425767195376,
          -0.6266540549540228,
          -0.38014845782194295,
          -1.1657560542518957,
          1.3333117436860387,
          0.25983277624047507,
          -0.04858360050128592,
          -1.1525950412400925,
          0.9390252529338794
         ],
         "xaxis": "x8",
         "y": [
          0.18926451945427628,
          0.16292694381339004,
          -0.566306058548627,
          -1.1871484670475736,
          -0.02625193941071388,
          0.6041199267212912,
          1.3741250423719473,
          -0.5088108537866691,
          0.19976539698307638,
          -1.395275921233364,
          -0.015878490774350308,
          0.8084804721162855,
          0.8034225968778593,
          -0.5168699421006512,
          -1.3796295609476623,
          -1.6941356174092017,
          -1.379959709057697,
          -0.11505112421545904,
          0.32984150289779074,
          -0.42834411191121147,
          1.2375552243795376,
          -0.5575710577973884,
          -0.1894786355299986,
          -0.23813580837486759,
          -0.45984534641133945,
          0.48937688393162654,
          0.576026131836969,
          -1.1993910275679727,
          0.15484795454435643,
          0.33950144682406125,
          0.31619953849918614,
          -0.8920510043930835,
          1.6552070877637908,
          1.0730130982097303,
          -0.09015798247656187,
          -1.0602573544408647,
          -0.5505686869004346,
          1.5327284332177737,
          -1.306471900965645,
          -0.3272434299662886,
          -0.4801211887802263,
          0.9169019760490729,
          -0.017979999266407094,
          -0.9511968823264166,
          -0.9627252363016441,
          -1.4628433017052838,
          -1.1821952702688425,
          -0.28148377358404764,
          -1.4044798089957289,
          0.062379443493298006,
          -1.261667708946712,
          2.0321741626905028,
          0.8208188001977202,
          1.5780470590866502,
          -1.5595133106751289,
          -0.5258041321901501,
          0.6970768226811306,
          -0.005408959849332933,
          0.0732974621650809,
          0.6935240608309962,
          0.345194496782059,
          -0.18429690989527864,
          0.22160274975209152,
          -0.4854806124075751,
          0.47488816725628835,
          -0.14852084415920547,
          0.8318360611705212,
          0.29468055995909737,
          -1.2880347602192437,
          0.35609655787191175,
          -0.22330297178159317,
          0.16497518724931692,
          0.2485388337776046,
          -0.7649918753979197,
          0.9026354406871174,
          -1.596064739107909,
          -0.6072502963690356,
          -0.7296920363391135,
          -0.7093956570250376,
          -0.9822586622490749,
          1.9182674900103864,
          -0.01898318330479451,
          -0.7695364688337993,
          0.9775997347713666,
          -0.5403883962773787,
          -0.0631483844680669,
          1.087217742194578,
          0.2926164774469953,
          -0.07524332323153042,
          0.5876958428402382,
          0.351391326724226,
          -1.0655695235292197,
          1.7359381836204664,
          -0.5167044830170687,
          -1.3410359409673123,
          -0.9910637169828151,
          -1.6014081994632958,
          -0.35636157582061334,
          -1.6790495903477574,
          -0.9810464442857267
         ],
         "yaxis": "y8"
        },
        {
         "line": {
          "color": "rgba(128, 128, 128, 1.0)",
          "dash": "solid",
          "shape": "linear",
          "width": 1.3
         },
         "marker": {
          "size": 2,
          "symbol": "circle"
         },
         "mode": "markers",
         "name": "C",
         "text": "",
         "type": "scatter",
         "x": [
          1.2976308828245577,
          0.02891563246579733,
          0.6488033830640866,
          -0.6518967120779291,
          0.6103043670864998,
          -0.9802372938491501,
          -0.07589310574178512,
          -2.157880119655764,
          0.868733577307398,
          -0.9351261375377906,
          -0.055140764914955565,
          -0.28589654616041965,
          0.5289452063496645,
          0.2781921010010714,
          0.16374723355678183,
          -0.39239282708924167,
          0.8934440501370563,
          0.40827977634283436,
          -0.6959647939739411,
          -1.1815300420355552,
          1.1163964121590395,
          0.3065108458385955,
          -2.0341160588793805,
          1.2298468146505241,
          0.05746358452739269,
          -1.9000194599015916,
          0.1415749888678313,
          -1.2239433218446887,
          1.201220006696403,
          1.428560258537245,
          -1.140941921397734,
          0.5353234970155184,
          1.0940387658031,
          0.22424057672913128,
          -0.8824973957848675,
          -1.8185038357772296,
          0.7229169486376175,
          0.9124963031268156,
          0.11107936758643822,
          -0.08086602502924477,
          1.2099660155692962,
          1.8518300739265623,
          -0.12137650834889625,
          -0.4858190401877175,
          1.3395698942139476,
          -0.17521586297401584,
          -1.373835557744931,
          -0.1897204092619399,
          0.19203332056959913,
          -0.18036257996181526,
          -0.15620054902084546,
          -2.84142252943806,
          -0.4349542942415666,
          0.22380447679552914,
          1.0785492355179809,
          -0.32649171717218634,
          0.08433694066275796,
          -0.13755292295945926,
          -0.43063226950394184,
          0.17155096628062336,
          -1.6044580181981711,
          0.05717561589713138,
          -0.06195786489501751,
          0.6380612124143483,
          0.6194226191395767,
          -0.7093593036394797,
          -0.2941371278104831,
          0.5636335693906555,
          0.17585797078580842,
          1.8454840837179403,
          -0.3635563229777336,
          -0.5476291459186988,
          0.6971996263353732,
          -0.10273204605952994,
          1.4857175198711914,
          -0.9602307332292892,
          0.5908545524036684,
          0.4127672484937881,
          -0.5266758464083148,
          -1.2170831072505595,
          1.9285580051166684,
          2.233682040310963,
          1.333969398397583,
          0.423248589364245,
          0.22258221659675845,
          -0.4043164692696297,
          0.6594803798259496,
          -2.285942806656985,
          1.0281945074225356,
          -1.037158988731567,
          -0.5828485188740444,
          -0.313430618132578,
          -1.3874377073665272,
          0.4099640243163893,
          0.24071529001761394,
          -0.12017792683193004,
          -0.9686450621979947,
          -0.03808213244543389,
          1.8023761654438561,
          -1.4301276228609552
         ],
         "xaxis": "x9",
         "y": [
          -1.1719714818817535,
          0.2332138753592973,
          -0.4546800061881979,
          1.3516237536173374,
          0.17179961485515238,
          1.0517724751027668,
          -0.7823463516887971,
          1.8074585106465186,
          1.3123352560032089,
          -1.820830963211993,
          3.4655352474152594,
          -1.6644082485933236,
          0.3327524789592473,
          0.7728081592370689,
          1.0106861388792414,
          -0.1360068676174408,
          1.067275308490196,
          1.7498323035351442,
          -0.42210531383943345,
          0.08274856032387486,
          1.3351535410116988,
          0.2898933488848551,
          0.4442997674702476,
          -1.0566350492449932,
          -1.1770610406741882,
          1.059136089759076,
          0.6358669397925498,
          -0.9873866966962658,
          -1.1928109033344136,
          0.2365081379323982,
          1.4119765789231435,
          -0.012412826944206104,
          -1.8181097862164766,
          2.1853022769975317,
          -0.14097762123253854,
          1.5150408956982442,
          0.8114345148559331,
          -1.026942869137855,
          0.8685950616036636,
          1.3873827877411171,
          0.2811520389861795,
          -2.2353418800786966,
          -0.3367239783801947,
          1.318690702877346,
          -0.13330465622915116,
          -1.614613802275598,
          -0.22014132742275344,
          -0.8563517414295124,
          -0.5763091648572842,
          -0.47336546528140866,
          0.1403426518366949,
          -1.1387953070329018,
          -0.19268812707847527,
          -1.1581771054106418,
          -0.19340924136897628,
          -0.14908746718245883,
          -1.3941423793138157,
          -1.2835470024222988,
          0.44031813337107395,
          -0.1356788494555008,
          -0.9840572679707422,
          0.8078129574771282,
          0.4267425553937342,
          -0.959346901827908,
          0.5938419248520675,
          1.0875161323394007,
          0.2510932564313161,
          0.24262070160603114,
          0.01778087882946292,
          1.6342184020158732,
          -0.23194589286996642,
          -0.39029141370906273,
          0.11551194440826097,
          0.5103878413697021,
          -0.8064734182549084,
          0.1402951495555622,
          0.3674712646729114,
          0.9584316439675348,
          1.8298277284273394,
          0.8920236547226964,
          -0.5212968676245798,
          -0.17238935097536456,
          0.8471726224699624,
          0.7617060079728852,
          -1.1911720287513288,
          -0.7448002940723181,
          0.24501002154222226,
          0.4226797203167203,
          -0.6777182689776893,
          0.3250244309256672,
          -0.06129106814175234,
          -0.5074724286972169,
          0.5685119579659011,
          1.9455820824933674,
          0.7062092630505239,
          -1.910879622003017,
          -0.23421828012397325,
          -0.03394700754584208,
          0.17577755569065942,
          -1.3676435491484122
         ],
         "yaxis": "y9"
        },
        {
         "line": {
          "color": "rgba(128, 128, 128, 1.0)",
          "dash": "solid",
          "shape": "linear",
          "width": 1.3
         },
         "marker": {
          "size": 2,
          "symbol": "circle"
         },
         "mode": "markers",
         "name": "C",
         "text": "",
         "type": "scatter",
         "x": [
          0.18926451945427628,
          0.16292694381339004,
          -0.566306058548627,
          -1.1871484670475736,
          -0.02625193941071388,
          0.6041199267212912,
          1.3741250423719473,
          -0.5088108537866691,
          0.19976539698307638,
          -1.395275921233364,
          -0.015878490774350308,
          0.8084804721162855,
          0.8034225968778593,
          -0.5168699421006512,
          -1.3796295609476623,
          -1.6941356174092017,
          -1.379959709057697,
          -0.11505112421545904,
          0.32984150289779074,
          -0.42834411191121147,
          1.2375552243795376,
          -0.5575710577973884,
          -0.1894786355299986,
          -0.23813580837486759,
          -0.45984534641133945,
          0.48937688393162654,
          0.576026131836969,
          -1.1993910275679727,
          0.15484795454435643,
          0.33950144682406125,
          0.31619953849918614,
          -0.8920510043930835,
          1.6552070877637908,
          1.0730130982097303,
          -0.09015798247656187,
          -1.0602573544408647,
          -0.5505686869004346,
          1.5327284332177737,
          -1.306471900965645,
          -0.3272434299662886,
          -0.4801211887802263,
          0.9169019760490729,
          -0.017979999266407094,
          -0.9511968823264166,
          -0.9627252363016441,
          -1.4628433017052838,
          -1.1821952702688425,
          -0.28148377358404764,
          -1.4044798089957289,
          0.062379443493298006,
          -1.261667708946712,
          2.0321741626905028,
          0.8208188001977202,
          1.5780470590866502,
          -1.5595133106751289,
          -0.5258041321901501,
          0.6970768226811306,
          -0.005408959849332933,
          0.0732974621650809,
          0.6935240608309962,
          0.345194496782059,
          -0.18429690989527864,
          0.22160274975209152,
          -0.4854806124075751,
          0.47488816725628835,
          -0.14852084415920547,
          0.8318360611705212,
          0.29468055995909737,
          -1.2880347602192437,
          0.35609655787191175,
          -0.22330297178159317,
          0.16497518724931692,
          0.2485388337776046,
          -0.7649918753979197,
          0.9026354406871174,
          -1.596064739107909,
          -0.6072502963690356,
          -0.7296920363391135,
          -0.7093956570250376,
          -0.9822586622490749,
          1.9182674900103864,
          -0.01898318330479451,
          -0.7695364688337993,
          0.9775997347713666,
          -0.5403883962773787,
          -0.0631483844680669,
          1.087217742194578,
          0.2926164774469953,
          -0.07524332323153042,
          0.5876958428402382,
          0.351391326724226,
          -1.0655695235292197,
          1.7359381836204664,
          -0.5167044830170687,
          -1.3410359409673123,
          -0.9910637169828151,
          -1.6014081994632958,
          -0.35636157582061334,
          -1.6790495903477574,
          -0.9810464442857267
         ],
         "xaxis": "x10",
         "y": [
          -1.1719714818817535,
          0.2332138753592973,
          -0.4546800061881979,
          1.3516237536173374,
          0.17179961485515238,
          1.0517724751027668,
          -0.7823463516887971,
          1.8074585106465186,
          1.3123352560032089,
          -1.820830963211993,
          3.4655352474152594,
          -1.6644082485933236,
          0.3327524789592473,
          0.7728081592370689,
          1.0106861388792414,
          -0.1360068676174408,
          1.067275308490196,
          1.7498323035351442,
          -0.42210531383943345,
          0.08274856032387486,
          1.3351535410116988,
          0.2898933488848551,
          0.4442997674702476,
          -1.0566350492449932,
          -1.1770610406741882,
          1.059136089759076,
          0.6358669397925498,
          -0.9873866966962658,
          -1.1928109033344136,
          0.2365081379323982,
          1.4119765789231435,
          -0.012412826944206104,
          -1.8181097862164766,
          2.1853022769975317,
          -0.14097762123253854,
          1.5150408956982442,
          0.8114345148559331,
          -1.026942869137855,
          0.8685950616036636,
          1.3873827877411171,
          0.2811520389861795,
          -2.2353418800786966,
          -0.3367239783801947,
          1.318690702877346,
          -0.13330465622915116,
          -1.614613802275598,
          -0.22014132742275344,
          -0.8563517414295124,
          -0.5763091648572842,
          -0.47336546528140866,
          0.1403426518366949,
          -1.1387953070329018,
          -0.19268812707847527,
          -1.1581771054106418,
          -0.19340924136897628,
          -0.14908746718245883,
          -1.3941423793138157,
          -1.2835470024222988,
          0.44031813337107395,
          -0.1356788494555008,
          -0.9840572679707422,
          0.8078129574771282,
          0.4267425553937342,
          -0.959346901827908,
          0.5938419248520675,
          1.0875161323394007,
          0.2510932564313161,
          0.24262070160603114,
          0.01778087882946292,
          1.6342184020158732,
          -0.23194589286996642,
          -0.39029141370906273,
          0.11551194440826097,
          0.5103878413697021,
          -0.8064734182549084,
          0.1402951495555622,
          0.3674712646729114,
          0.9584316439675348,
          1.8298277284273394,
          0.8920236547226964,
          -0.5212968676245798,
          -0.17238935097536456,
          0.8471726224699624,
          0.7617060079728852,
          -1.1911720287513288,
          -0.7448002940723181,
          0.24501002154222226,
          0.4226797203167203,
          -0.6777182689776893,
          0.3250244309256672,
          -0.06129106814175234,
          -0.5074724286972169,
          0.5685119579659011,
          1.9455820824933674,
          0.7062092630505239,
          -1.910879622003017,
          -0.23421828012397325,
          -0.03394700754584208,
          0.17577755569065942,
          -1.3676435491484122
         ],
         "yaxis": "y10"
        },
        {
         "histfunc": "count",
         "histnorm": "",
         "marker": {
          "color": "rgba(50, 171, 96, 1.0)",
          "line": {
           "color": "#4D5663",
           "width": 1.3
          }
         },
         "name": "C",
         "nbinsx": 10,
         "opacity": 0.8,
         "orientation": "v",
         "type": "histogram",
         "x": [
          -1.1719714818817535,
          0.2332138753592973,
          -0.4546800061881979,
          1.3516237536173374,
          0.17179961485515238,
          1.0517724751027668,
          -0.7823463516887971,
          1.8074585106465186,
          1.3123352560032089,
          -1.820830963211993,
          3.4655352474152594,
          -1.6644082485933236,
          0.3327524789592473,
          0.7728081592370689,
          1.0106861388792414,
          -0.1360068676174408,
          1.067275308490196,
          1.7498323035351442,
          -0.42210531383943345,
          0.08274856032387486,
          1.3351535410116988,
          0.2898933488848551,
          0.4442997674702476,
          -1.0566350492449932,
          -1.1770610406741882,
          1.059136089759076,
          0.6358669397925498,
          -0.9873866966962658,
          -1.1928109033344136,
          0.2365081379323982,
          1.4119765789231435,
          -0.012412826944206104,
          -1.8181097862164766,
          2.1853022769975317,
          -0.14097762123253854,
          1.5150408956982442,
          0.8114345148559331,
          -1.026942869137855,
          0.8685950616036636,
          1.3873827877411171,
          0.2811520389861795,
          -2.2353418800786966,
          -0.3367239783801947,
          1.318690702877346,
          -0.13330465622915116,
          -1.614613802275598,
          -0.22014132742275344,
          -0.8563517414295124,
          -0.5763091648572842,
          -0.47336546528140866,
          0.1403426518366949,
          -1.1387953070329018,
          -0.19268812707847527,
          -1.1581771054106418,
          -0.19340924136897628,
          -0.14908746718245883,
          -1.3941423793138157,
          -1.2835470024222988,
          0.44031813337107395,
          -0.1356788494555008,
          -0.9840572679707422,
          0.8078129574771282,
          0.4267425553937342,
          -0.959346901827908,
          0.5938419248520675,
          1.0875161323394007,
          0.2510932564313161,
          0.24262070160603114,
          0.01778087882946292,
          1.6342184020158732,
          -0.23194589286996642,
          -0.39029141370906273,
          0.11551194440826097,
          0.5103878413697021,
          -0.8064734182549084,
          0.1402951495555622,
          0.3674712646729114,
          0.9584316439675348,
          1.8298277284273394,
          0.8920236547226964,
          -0.5212968676245798,
          -0.17238935097536456,
          0.8471726224699624,
          0.7617060079728852,
          -1.1911720287513288,
          -0.7448002940723181,
          0.24501002154222226,
          0.4226797203167203,
          -0.6777182689776893,
          0.3250244309256672,
          -0.06129106814175234,
          -0.5074724286972169,
          0.5685119579659011,
          1.9455820824933674,
          0.7062092630505239,
          -1.910879622003017,
          -0.23421828012397325,
          -0.03394700754584208,
          0.17577755569065942,
          -1.3676435491484122
         ],
         "xaxis": "x11",
         "yaxis": "y11"
        },
        {
         "line": {
          "color": "rgba(128, 128, 128, 1.0)",
          "dash": "solid",
          "shape": "linear",
          "width": 1.3
         },
         "marker": {
          "size": 2,
          "symbol": "circle"
         },
         "mode": "markers",
         "name": "C",
         "text": "",
         "type": "scatter",
         "x": [
          -0.12704856923915245,
          1.6938046160785538,
          0.5756190997868936,
          -0.17999592839220205,
          -0.00009163211638458499,
          1.4695089350289379,
          1.3548652763865952,
          -0.33235526694293527,
          -0.3822486177289395,
          -1.134475698013416,
          1.3847527542080538,
          -1.9991532972345138,
          1.9097487987135684,
          -1.1307328630005613,
          0.08202699286545966,
          -0.9261434359695201,
          -0.6432838379331188,
          0.30315341023978976,
          0.8716668324641216,
          1.001160525439211,
          -0.6200617114477807,
          0.5545756856829747,
          1.5269794887667125,
          0.2722912521021846,
          -1.3302386550206888,
          1.0820281408695263,
          0.4820220647486462,
          -0.026583117944890256,
          0.254307087002118,
          -0.23257206899068456,
          -0.6668408624159107,
          -1.3918058493032925,
          -0.9093808020672761,
          -0.8213125209510255,
          0.12617360302476713,
          1.1818422521706744,
          -2.1154345140812394,
          0.8289698795252698,
          -0.20329141711730483,
          1.1382443889578078,
          1.8069275473195896,
          -1.1912219328811458,
          -1.146680326335038,
          0.8328404693469593,
          0.5535333687685877,
          -1.6104707362516677,
          -0.4217307628110528,
          -0.8759338204297533,
          -2.0819318917445275,
          1.258434233114991,
          0.5176493763367291,
          0.24858411888945894,
          -1.289762415904675,
          -0.27923756675258127,
          1.0331102503945448,
          -0.7025549276141846,
          0.49671821491264867,
          -0.7124415305662497,
          -0.40816128697898746,
          0.5887113190152763,
          0.8052943692046769,
          0.04143367083255379,
          0.5315060348183375,
          0.8521759240730672,
          -0.11357150430083014,
          -0.5355160068590631,
          0.7262464673901955,
          0.4368507358817294,
          -0.5469509790576146,
          1.225346278034147,
          0.4716273182166465,
          -0.21321894212852888,
          -0.6651560509999196,
          0.8062087509024685,
          0.316387993098053,
          0.13662280110006966,
          -0.08136504655299272,
          0.35380080641358747,
          -1.1975953034380349,
          0.28675545644337425,
          -1.2907460928812213,
          -0.8220971385953828,
          1.1511920612407398,
          -0.6530289657038366,
          0.46763936539994966,
          1.5723356025836042,
          0.8537628199681853,
          -0.4427620032609995,
          -0.057184951567829934,
          -0.37879073207614317,
          0.3325060200718353,
          1.7535425767195376,
          -0.6266540549540228,
          -0.38014845782194295,
          -1.1657560542518957,
          1.3333117436860387,
          0.25983277624047507,
          -0.04858360050128592,
          -1.1525950412400925,
          0.9390252529338794
         ],
         "xaxis": "x12",
         "y": [
          -1.1719714818817535,
          0.2332138753592973,
          -0.4546800061881979,
          1.3516237536173374,
          0.17179961485515238,
          1.0517724751027668,
          -0.7823463516887971,
          1.8074585106465186,
          1.3123352560032089,
          -1.820830963211993,
          3.4655352474152594,
          -1.6644082485933236,
          0.3327524789592473,
          0.7728081592370689,
          1.0106861388792414,
          -0.1360068676174408,
          1.067275308490196,
          1.7498323035351442,
          -0.42210531383943345,
          0.08274856032387486,
          1.3351535410116988,
          0.2898933488848551,
          0.4442997674702476,
          -1.0566350492449932,
          -1.1770610406741882,
          1.059136089759076,
          0.6358669397925498,
          -0.9873866966962658,
          -1.1928109033344136,
          0.2365081379323982,
          1.4119765789231435,
          -0.012412826944206104,
          -1.8181097862164766,
          2.1853022769975317,
          -0.14097762123253854,
          1.5150408956982442,
          0.8114345148559331,
          -1.026942869137855,
          0.8685950616036636,
          1.3873827877411171,
          0.2811520389861795,
          -2.2353418800786966,
          -0.3367239783801947,
          1.318690702877346,
          -0.13330465622915116,
          -1.614613802275598,
          -0.22014132742275344,
          -0.8563517414295124,
          -0.5763091648572842,
          -0.47336546528140866,
          0.1403426518366949,
          -1.1387953070329018,
          -0.19268812707847527,
          -1.1581771054106418,
          -0.19340924136897628,
          -0.14908746718245883,
          -1.3941423793138157,
          -1.2835470024222988,
          0.44031813337107395,
          -0.1356788494555008,
          -0.9840572679707422,
          0.8078129574771282,
          0.4267425553937342,
          -0.959346901827908,
          0.5938419248520675,
          1.0875161323394007,
          0.2510932564313161,
          0.24262070160603114,
          0.01778087882946292,
          1.6342184020158732,
          -0.23194589286996642,
          -0.39029141370906273,
          0.11551194440826097,
          0.5103878413697021,
          -0.8064734182549084,
          0.1402951495555622,
          0.3674712646729114,
          0.9584316439675348,
          1.8298277284273394,
          0.8920236547226964,
          -0.5212968676245798,
          -0.17238935097536456,
          0.8471726224699624,
          0.7617060079728852,
          -1.1911720287513288,
          -0.7448002940723181,
          0.24501002154222226,
          0.4226797203167203,
          -0.6777182689776893,
          0.3250244309256672,
          -0.06129106814175234,
          -0.5074724286972169,
          0.5685119579659011,
          1.9455820824933674,
          0.7062092630505239,
          -1.910879622003017,
          -0.23421828012397325,
          -0.03394700754584208,
          0.17577755569065942,
          -1.3676435491484122
         ],
         "yaxis": "y12"
        },
        {
         "line": {
          "color": "rgba(128, 128, 128, 1.0)",
          "dash": "solid",
          "shape": "linear",
          "width": 1.3
         },
         "marker": {
          "size": 2,
          "symbol": "circle"
         },
         "mode": "markers",
         "name": "D",
         "text": "",
         "type": "scatter",
         "x": [
          1.2976308828245577,
          0.02891563246579733,
          0.6488033830640866,
          -0.6518967120779291,
          0.6103043670864998,
          -0.9802372938491501,
          -0.07589310574178512,
          -2.157880119655764,
          0.868733577307398,
          -0.9351261375377906,
          -0.055140764914955565,
          -0.28589654616041965,
          0.5289452063496645,
          0.2781921010010714,
          0.16374723355678183,
          -0.39239282708924167,
          0.8934440501370563,
          0.40827977634283436,
          -0.6959647939739411,
          -1.1815300420355552,
          1.1163964121590395,
          0.3065108458385955,
          -2.0341160588793805,
          1.2298468146505241,
          0.05746358452739269,
          -1.9000194599015916,
          0.1415749888678313,
          -1.2239433218446887,
          1.201220006696403,
          1.428560258537245,
          -1.140941921397734,
          0.5353234970155184,
          1.0940387658031,
          0.22424057672913128,
          -0.8824973957848675,
          -1.8185038357772296,
          0.7229169486376175,
          0.9124963031268156,
          0.11107936758643822,
          -0.08086602502924477,
          1.2099660155692962,
          1.8518300739265623,
          -0.12137650834889625,
          -0.4858190401877175,
          1.3395698942139476,
          -0.17521586297401584,
          -1.373835557744931,
          -0.1897204092619399,
          0.19203332056959913,
          -0.18036257996181526,
          -0.15620054902084546,
          -2.84142252943806,
          -0.4349542942415666,
          0.22380447679552914,
          1.0785492355179809,
          -0.32649171717218634,
          0.08433694066275796,
          -0.13755292295945926,
          -0.43063226950394184,
          0.17155096628062336,
          -1.6044580181981711,
          0.05717561589713138,
          -0.06195786489501751,
          0.6380612124143483,
          0.6194226191395767,
          -0.7093593036394797,
          -0.2941371278104831,
          0.5636335693906555,
          0.17585797078580842,
          1.8454840837179403,
          -0.3635563229777336,
          -0.5476291459186988,
          0.6971996263353732,
          -0.10273204605952994,
          1.4857175198711914,
          -0.9602307332292892,
          0.5908545524036684,
          0.4127672484937881,
          -0.5266758464083148,
          -1.2170831072505595,
          1.9285580051166684,
          2.233682040310963,
          1.333969398397583,
          0.423248589364245,
          0.22258221659675845,
          -0.4043164692696297,
          0.6594803798259496,
          -2.285942806656985,
          1.0281945074225356,
          -1.037158988731567,
          -0.5828485188740444,
          -0.313430618132578,
          -1.3874377073665272,
          0.4099640243163893,
          0.24071529001761394,
          -0.12017792683193004,
          -0.9686450621979947,
          -0.03808213244543389,
          1.8023761654438561,
          -1.4301276228609552
         ],
         "xaxis": "x13",
         "y": [
          -0.12704856923915245,
          1.6938046160785538,
          0.5756190997868936,
          -0.17999592839220205,
          -0.00009163211638458499,
          1.4695089350289379,
          1.3548652763865952,
          -0.33235526694293527,
          -0.3822486177289395,
          -1.134475698013416,
          1.3847527542080538,
          -1.9991532972345138,
          1.9097487987135684,
          -1.1307328630005613,
          0.08202699286545966,
          -0.9261434359695201,
          -0.6432838379331188,
          0.30315341023978976,
          0.8716668324641216,
          1.001160525439211,
          -0.6200617114477807,
          0.5545756856829747,
          1.5269794887667125,
          0.2722912521021846,
          -1.3302386550206888,
          1.0820281408695263,
          0.4820220647486462,
          -0.026583117944890256,
          0.254307087002118,
          -0.23257206899068456,
          -0.6668408624159107,
          -1.3918058493032925,
          -0.9093808020672761,
          -0.8213125209510255,
          0.12617360302476713,
          1.1818422521706744,
          -2.1154345140812394,
          0.8289698795252698,
          -0.20329141711730483,
          1.1382443889578078,
          1.8069275473195896,
          -1.1912219328811458,
          -1.146680326335038,
          0.8328404693469593,
          0.5535333687685877,
          -1.6104707362516677,
          -0.4217307628110528,
          -0.8759338204297533,
          -2.0819318917445275,
          1.258434233114991,
          0.5176493763367291,
          0.24858411888945894,
          -1.289762415904675,
          -0.27923756675258127,
          1.0331102503945448,
          -0.7025549276141846,
          0.49671821491264867,
          -0.7124415305662497,
          -0.40816128697898746,
          0.5887113190152763,
          0.8052943692046769,
          0.04143367083255379,
          0.5315060348183375,
          0.8521759240730672,
          -0.11357150430083014,
          -0.5355160068590631,
          0.7262464673901955,
          0.4368507358817294,
          -0.5469509790576146,
          1.225346278034147,
          0.4716273182166465,
          -0.21321894212852888,
          -0.6651560509999196,
          0.8062087509024685,
          0.316387993098053,
          0.13662280110006966,
          -0.08136504655299272,
          0.35380080641358747,
          -1.1975953034380349,
          0.28675545644337425,
          -1.2907460928812213,
          -0.8220971385953828,
          1.1511920612407398,
          -0.6530289657038366,
          0.46763936539994966,
          1.5723356025836042,
          0.8537628199681853,
          -0.4427620032609995,
          -0.057184951567829934,
          -0.37879073207614317,
          0.3325060200718353,
          1.7535425767195376,
          -0.6266540549540228,
          -0.38014845782194295,
          -1.1657560542518957,
          1.3333117436860387,
          0.25983277624047507,
          -0.04858360050128592,
          -1.1525950412400925,
          0.9390252529338794
         ],
         "yaxis": "y13"
        },
        {
         "line": {
          "color": "rgba(128, 128, 128, 1.0)",
          "dash": "solid",
          "shape": "linear",
          "width": 1.3
         },
         "marker": {
          "size": 2,
          "symbol": "circle"
         },
         "mode": "markers",
         "name": "D",
         "text": "",
         "type": "scatter",
         "x": [
          0.18926451945427628,
          0.16292694381339004,
          -0.566306058548627,
          -1.1871484670475736,
          -0.02625193941071388,
          0.6041199267212912,
          1.3741250423719473,
          -0.5088108537866691,
          0.19976539698307638,
          -1.395275921233364,
          -0.015878490774350308,
          0.8084804721162855,
          0.8034225968778593,
          -0.5168699421006512,
          -1.3796295609476623,
          -1.6941356174092017,
          -1.379959709057697,
          -0.11505112421545904,
          0.32984150289779074,
          -0.42834411191121147,
          1.2375552243795376,
          -0.5575710577973884,
          -0.1894786355299986,
          -0.23813580837486759,
          -0.45984534641133945,
          0.48937688393162654,
          0.576026131836969,
          -1.1993910275679727,
          0.15484795454435643,
          0.33950144682406125,
          0.31619953849918614,
          -0.8920510043930835,
          1.6552070877637908,
          1.0730130982097303,
          -0.09015798247656187,
          -1.0602573544408647,
          -0.5505686869004346,
          1.5327284332177737,
          -1.306471900965645,
          -0.3272434299662886,
          -0.4801211887802263,
          0.9169019760490729,
          -0.017979999266407094,
          -0.9511968823264166,
          -0.9627252363016441,
          -1.4628433017052838,
          -1.1821952702688425,
          -0.28148377358404764,
          -1.4044798089957289,
          0.062379443493298006,
          -1.261667708946712,
          2.0321741626905028,
          0.8208188001977202,
          1.5780470590866502,
          -1.5595133106751289,
          -0.5258041321901501,
          0.6970768226811306,
          -0.005408959849332933,
          0.0732974621650809,
          0.6935240608309962,
          0.345194496782059,
          -0.18429690989527864,
          0.22160274975209152,
          -0.4854806124075751,
          0.47488816725628835,
          -0.14852084415920547,
          0.8318360611705212,
          0.29468055995909737,
          -1.2880347602192437,
          0.35609655787191175,
          -0.22330297178159317,
          0.16497518724931692,
          0.2485388337776046,
          -0.7649918753979197,
          0.9026354406871174,
          -1.596064739107909,
          -0.6072502963690356,
          -0.7296920363391135,
          -0.7093956570250376,
          -0.9822586622490749,
          1.9182674900103864,
          -0.01898318330479451,
          -0.7695364688337993,
          0.9775997347713666,
          -0.5403883962773787,
          -0.0631483844680669,
          1.087217742194578,
          0.2926164774469953,
          -0.07524332323153042,
          0.5876958428402382,
          0.351391326724226,
          -1.0655695235292197,
          1.7359381836204664,
          -0.5167044830170687,
          -1.3410359409673123,
          -0.9910637169828151,
          -1.6014081994632958,
          -0.35636157582061334,
          -1.6790495903477574,
          -0.9810464442857267
         ],
         "xaxis": "x14",
         "y": [
          -0.12704856923915245,
          1.6938046160785538,
          0.5756190997868936,
          -0.17999592839220205,
          -0.00009163211638458499,
          1.4695089350289379,
          1.3548652763865952,
          -0.33235526694293527,
          -0.3822486177289395,
          -1.134475698013416,
          1.3847527542080538,
          -1.9991532972345138,
          1.9097487987135684,
          -1.1307328630005613,
          0.08202699286545966,
          -0.9261434359695201,
          -0.6432838379331188,
          0.30315341023978976,
          0.8716668324641216,
          1.001160525439211,
          -0.6200617114477807,
          0.5545756856829747,
          1.5269794887667125,
          0.2722912521021846,
          -1.3302386550206888,
          1.0820281408695263,
          0.4820220647486462,
          -0.026583117944890256,
          0.254307087002118,
          -0.23257206899068456,
          -0.6668408624159107,
          -1.3918058493032925,
          -0.9093808020672761,
          -0.8213125209510255,
          0.12617360302476713,
          1.1818422521706744,
          -2.1154345140812394,
          0.8289698795252698,
          -0.20329141711730483,
          1.1382443889578078,
          1.8069275473195896,
          -1.1912219328811458,
          -1.146680326335038,
          0.8328404693469593,
          0.5535333687685877,
          -1.6104707362516677,
          -0.4217307628110528,
          -0.8759338204297533,
          -2.0819318917445275,
          1.258434233114991,
          0.5176493763367291,
          0.24858411888945894,
          -1.289762415904675,
          -0.27923756675258127,
          1.0331102503945448,
          -0.7025549276141846,
          0.49671821491264867,
          -0.7124415305662497,
          -0.40816128697898746,
          0.5887113190152763,
          0.8052943692046769,
          0.04143367083255379,
          0.5315060348183375,
          0.8521759240730672,
          -0.11357150430083014,
          -0.5355160068590631,
          0.7262464673901955,
          0.4368507358817294,
          -0.5469509790576146,
          1.225346278034147,
          0.4716273182166465,
          -0.21321894212852888,
          -0.6651560509999196,
          0.8062087509024685,
          0.316387993098053,
          0.13662280110006966,
          -0.08136504655299272,
          0.35380080641358747,
          -1.1975953034380349,
          0.28675545644337425,
          -1.2907460928812213,
          -0.8220971385953828,
          1.1511920612407398,
          -0.6530289657038366,
          0.46763936539994966,
          1.5723356025836042,
          0.8537628199681853,
          -0.4427620032609995,
          -0.057184951567829934,
          -0.37879073207614317,
          0.3325060200718353,
          1.7535425767195376,
          -0.6266540549540228,
          -0.38014845782194295,
          -1.1657560542518957,
          1.3333117436860387,
          0.25983277624047507,
          -0.04858360050128592,
          -1.1525950412400925,
          0.9390252529338794
         ],
         "yaxis": "y14"
        },
        {
         "line": {
          "color": "rgba(128, 128, 128, 1.0)",
          "dash": "solid",
          "shape": "linear",
          "width": 1.3
         },
         "marker": {
          "size": 2,
          "symbol": "circle"
         },
         "mode": "markers",
         "name": "D",
         "text": "",
         "type": "scatter",
         "x": [
          -1.1719714818817535,
          0.2332138753592973,
          -0.4546800061881979,
          1.3516237536173374,
          0.17179961485515238,
          1.0517724751027668,
          -0.7823463516887971,
          1.8074585106465186,
          1.3123352560032089,
          -1.820830963211993,
          3.4655352474152594,
          -1.6644082485933236,
          0.3327524789592473,
          0.7728081592370689,
          1.0106861388792414,
          -0.1360068676174408,
          1.067275308490196,
          1.7498323035351442,
          -0.42210531383943345,
          0.08274856032387486,
          1.3351535410116988,
          0.2898933488848551,
          0.4442997674702476,
          -1.0566350492449932,
          -1.1770610406741882,
          1.059136089759076,
          0.6358669397925498,
          -0.9873866966962658,
          -1.1928109033344136,
          0.2365081379323982,
          1.4119765789231435,
          -0.012412826944206104,
          -1.8181097862164766,
          2.1853022769975317,
          -0.14097762123253854,
          1.5150408956982442,
          0.8114345148559331,
          -1.026942869137855,
          0.8685950616036636,
          1.3873827877411171,
          0.2811520389861795,
          -2.2353418800786966,
          -0.3367239783801947,
          1.318690702877346,
          -0.13330465622915116,
          -1.614613802275598,
          -0.22014132742275344,
          -0.8563517414295124,
          -0.5763091648572842,
          -0.47336546528140866,
          0.1403426518366949,
          -1.1387953070329018,
          -0.19268812707847527,
          -1.1581771054106418,
          -0.19340924136897628,
          -0.14908746718245883,
          -1.3941423793138157,
          -1.2835470024222988,
          0.44031813337107395,
          -0.1356788494555008,
          -0.9840572679707422,
          0.8078129574771282,
          0.4267425553937342,
          -0.959346901827908,
          0.5938419248520675,
          1.0875161323394007,
          0.2510932564313161,
          0.24262070160603114,
          0.01778087882946292,
          1.6342184020158732,
          -0.23194589286996642,
          -0.39029141370906273,
          0.11551194440826097,
          0.5103878413697021,
          -0.8064734182549084,
          0.1402951495555622,
          0.3674712646729114,
          0.9584316439675348,
          1.8298277284273394,
          0.8920236547226964,
          -0.5212968676245798,
          -0.17238935097536456,
          0.8471726224699624,
          0.7617060079728852,
          -1.1911720287513288,
          -0.7448002940723181,
          0.24501002154222226,
          0.4226797203167203,
          -0.6777182689776893,
          0.3250244309256672,
          -0.06129106814175234,
          -0.5074724286972169,
          0.5685119579659011,
          1.9455820824933674,
          0.7062092630505239,
          -1.910879622003017,
          -0.23421828012397325,
          -0.03394700754584208,
          0.17577755569065942,
          -1.3676435491484122
         ],
         "xaxis": "x15",
         "y": [
          -0.12704856923915245,
          1.6938046160785538,
          0.5756190997868936,
          -0.17999592839220205,
          -0.00009163211638458499,
          1.4695089350289379,
          1.3548652763865952,
          -0.33235526694293527,
          -0.3822486177289395,
          -1.134475698013416,
          1.3847527542080538,
          -1.9991532972345138,
          1.9097487987135684,
          -1.1307328630005613,
          0.08202699286545966,
          -0.9261434359695201,
          -0.6432838379331188,
          0.30315341023978976,
          0.8716668324641216,
          1.001160525439211,
          -0.6200617114477807,
          0.5545756856829747,
          1.5269794887667125,
          0.2722912521021846,
          -1.3302386550206888,
          1.0820281408695263,
          0.4820220647486462,
          -0.026583117944890256,
          0.254307087002118,
          -0.23257206899068456,
          -0.6668408624159107,
          -1.3918058493032925,
          -0.9093808020672761,
          -0.8213125209510255,
          0.12617360302476713,
          1.1818422521706744,
          -2.1154345140812394,
          0.8289698795252698,
          -0.20329141711730483,
          1.1382443889578078,
          1.8069275473195896,
          -1.1912219328811458,
          -1.146680326335038,
          0.8328404693469593,
          0.5535333687685877,
          -1.6104707362516677,
          -0.4217307628110528,
          -0.8759338204297533,
          -2.0819318917445275,
          1.258434233114991,
          0.5176493763367291,
          0.24858411888945894,
          -1.289762415904675,
          -0.27923756675258127,
          1.0331102503945448,
          -0.7025549276141846,
          0.49671821491264867,
          -0.7124415305662497,
          -0.40816128697898746,
          0.5887113190152763,
          0.8052943692046769,
          0.04143367083255379,
          0.5315060348183375,
          0.8521759240730672,
          -0.11357150430083014,
          -0.5355160068590631,
          0.7262464673901955,
          0.4368507358817294,
          -0.5469509790576146,
          1.225346278034147,
          0.4716273182166465,
          -0.21321894212852888,
          -0.6651560509999196,
          0.8062087509024685,
          0.316387993098053,
          0.13662280110006966,
          -0.08136504655299272,
          0.35380080641358747,
          -1.1975953034380349,
          0.28675545644337425,
          -1.2907460928812213,
          -0.8220971385953828,
          1.1511920612407398,
          -0.6530289657038366,
          0.46763936539994966,
          1.5723356025836042,
          0.8537628199681853,
          -0.4427620032609995,
          -0.057184951567829934,
          -0.37879073207614317,
          0.3325060200718353,
          1.7535425767195376,
          -0.6266540549540228,
          -0.38014845782194295,
          -1.1657560542518957,
          1.3333117436860387,
          0.25983277624047507,
          -0.04858360050128592,
          -1.1525950412400925,
          0.9390252529338794
         ],
         "yaxis": "y15"
        },
        {
         "histfunc": "count",
         "histnorm": "",
         "marker": {
          "color": "rgba(128, 0, 128, 1.0)",
          "line": {
           "color": "#4D5663",
           "width": 1.3
          }
         },
         "name": "D",
         "nbinsx": 10,
         "opacity": 0.8,
         "orientation": "v",
         "type": "histogram",
         "x": [
          -0.12704856923915245,
          1.6938046160785538,
          0.5756190997868936,
          -0.17999592839220205,
          -0.00009163211638458499,
          1.4695089350289379,
          1.3548652763865952,
          -0.33235526694293527,
          -0.3822486177289395,
          -1.134475698013416,
          1.3847527542080538,
          -1.9991532972345138,
          1.9097487987135684,
          -1.1307328630005613,
          0.08202699286545966,
          -0.9261434359695201,
          -0.6432838379331188,
          0.30315341023978976,
          0.8716668324641216,
          1.001160525439211,
          -0.6200617114477807,
          0.5545756856829747,
          1.5269794887667125,
          0.2722912521021846,
          -1.3302386550206888,
          1.0820281408695263,
          0.4820220647486462,
          -0.026583117944890256,
          0.254307087002118,
          -0.23257206899068456,
          -0.6668408624159107,
          -1.3918058493032925,
          -0.9093808020672761,
          -0.8213125209510255,
          0.12617360302476713,
          1.1818422521706744,
          -2.1154345140812394,
          0.8289698795252698,
          -0.20329141711730483,
          1.1382443889578078,
          1.8069275473195896,
          -1.1912219328811458,
          -1.146680326335038,
          0.8328404693469593,
          0.5535333687685877,
          -1.6104707362516677,
          -0.4217307628110528,
          -0.8759338204297533,
          -2.0819318917445275,
          1.258434233114991,
          0.5176493763367291,
          0.24858411888945894,
          -1.289762415904675,
          -0.27923756675258127,
          1.0331102503945448,
          -0.7025549276141846,
          0.49671821491264867,
          -0.7124415305662497,
          -0.40816128697898746,
          0.5887113190152763,
          0.8052943692046769,
          0.04143367083255379,
          0.5315060348183375,
          0.8521759240730672,
          -0.11357150430083014,
          -0.5355160068590631,
          0.7262464673901955,
          0.4368507358817294,
          -0.5469509790576146,
          1.225346278034147,
          0.4716273182166465,
          -0.21321894212852888,
          -0.6651560509999196,
          0.8062087509024685,
          0.316387993098053,
          0.13662280110006966,
          -0.08136504655299272,
          0.35380080641358747,
          -1.1975953034380349,
          0.28675545644337425,
          -1.2907460928812213,
          -0.8220971385953828,
          1.1511920612407398,
          -0.6530289657038366,
          0.46763936539994966,
          1.5723356025836042,
          0.8537628199681853,
          -0.4427620032609995,
          -0.057184951567829934,
          -0.37879073207614317,
          0.3325060200718353,
          1.7535425767195376,
          -0.6266540549540228,
          -0.38014845782194295,
          -1.1657560542518957,
          1.3333117436860387,
          0.25983277624047507,
          -0.04858360050128592,
          -1.1525950412400925,
          0.9390252529338794
         ],
         "xaxis": "x16",
         "yaxis": "y16"
        }
       ],
       "layout": {
        "bargap": 0.02,
        "legend": {
         "bgcolor": "#F5F6F9",
         "font": {
          "color": "#4D5663"
         }
        },
        "paper_bgcolor": "#F5F6F9",
        "plot_bgcolor": "#F5F6F9",
        "showlegend": false,
        "template": {
         "data": {
          "bar": [
           {
            "error_x": {
             "color": "#2a3f5f"
            },
            "error_y": {
             "color": "#2a3f5f"
            },
            "marker": {
             "line": {
              "color": "#E5ECF6",
              "width": 0.5
             },
             "pattern": {
              "fillmode": "overlay",
              "size": 10,
              "solidity": 0.2
             }
            },
            "type": "bar"
           }
          ],
          "barpolar": [
           {
            "marker": {
             "line": {
              "color": "#E5ECF6",
              "width": 0.5
             },
             "pattern": {
              "fillmode": "overlay",
              "size": 10,
              "solidity": 0.2
             }
            },
            "type": "barpolar"
           }
          ],
          "carpet": [
           {
            "aaxis": {
             "endlinecolor": "#2a3f5f",
             "gridcolor": "white",
             "linecolor": "white",
             "minorgridcolor": "white",
             "startlinecolor": "#2a3f5f"
            },
            "baxis": {
             "endlinecolor": "#2a3f5f",
             "gridcolor": "white",
             "linecolor": "white",
             "minorgridcolor": "white",
             "startlinecolor": "#2a3f5f"
            },
            "type": "carpet"
           }
          ],
          "choropleth": [
           {
            "colorbar": {
             "outlinewidth": 0,
             "ticks": ""
            },
            "type": "choropleth"
           }
          ],
          "contour": [
           {
            "colorbar": {
             "outlinewidth": 0,
             "ticks": ""
            },
            "colorscale": [
             [
              0,
              "#0d0887"
             ],
             [
              0.1111111111111111,
              "#46039f"
             ],
             [
              0.2222222222222222,
              "#7201a8"
             ],
             [
              0.3333333333333333,
              "#9c179e"
             ],
             [
              0.4444444444444444,
              "#bd3786"
             ],
             [
              0.5555555555555556,
              "#d8576b"
             ],
             [
              0.6666666666666666,
              "#ed7953"
             ],
             [
              0.7777777777777778,
              "#fb9f3a"
             ],
             [
              0.8888888888888888,
              "#fdca26"
             ],
             [
              1,
              "#f0f921"
             ]
            ],
            "type": "contour"
           }
          ],
          "contourcarpet": [
           {
            "colorbar": {
             "outlinewidth": 0,
             "ticks": ""
            },
            "type": "contourcarpet"
           }
          ],
          "heatmap": [
           {
            "colorbar": {
             "outlinewidth": 0,
             "ticks": ""
            },
            "colorscale": [
             [
              0,
              "#0d0887"
             ],
             [
              0.1111111111111111,
              "#46039f"
             ],
             [
              0.2222222222222222,
              "#7201a8"
             ],
             [
              0.3333333333333333,
              "#9c179e"
             ],
             [
              0.4444444444444444,
              "#bd3786"
             ],
             [
              0.5555555555555556,
              "#d8576b"
             ],
             [
              0.6666666666666666,
              "#ed7953"
             ],
             [
              0.7777777777777778,
              "#fb9f3a"
             ],
             [
              0.8888888888888888,
              "#fdca26"
             ],
             [
              1,
              "#f0f921"
             ]
            ],
            "type": "heatmap"
           }
          ],
          "heatmapgl": [
           {
            "colorbar": {
             "outlinewidth": 0,
             "ticks": ""
            },
            "colorscale": [
             [
              0,
              "#0d0887"
             ],
             [
              0.1111111111111111,
              "#46039f"
             ],
             [
              0.2222222222222222,
              "#7201a8"
             ],
             [
              0.3333333333333333,
              "#9c179e"
             ],
             [
              0.4444444444444444,
              "#bd3786"
             ],
             [
              0.5555555555555556,
              "#d8576b"
             ],
             [
              0.6666666666666666,
              "#ed7953"
             ],
             [
              0.7777777777777778,
              "#fb9f3a"
             ],
             [
              0.8888888888888888,
              "#fdca26"
             ],
             [
              1,
              "#f0f921"
             ]
            ],
            "type": "heatmapgl"
           }
          ],
          "histogram": [
           {
            "marker": {
             "pattern": {
              "fillmode": "overlay",
              "size": 10,
              "solidity": 0.2
             }
            },
            "type": "histogram"
           }
          ],
          "histogram2d": [
           {
            "colorbar": {
             "outlinewidth": 0,
             "ticks": ""
            },
            "colorscale": [
             [
              0,
              "#0d0887"
             ],
             [
              0.1111111111111111,
              "#46039f"
             ],
             [
              0.2222222222222222,
              "#7201a8"
             ],
             [
              0.3333333333333333,
              "#9c179e"
             ],
             [
              0.4444444444444444,
              "#bd3786"
             ],
             [
              0.5555555555555556,
              "#d8576b"
             ],
             [
              0.6666666666666666,
              "#ed7953"
             ],
             [
              0.7777777777777778,
              "#fb9f3a"
             ],
             [
              0.8888888888888888,
              "#fdca26"
             ],
             [
              1,
              "#f0f921"
             ]
            ],
            "type": "histogram2d"
           }
          ],
          "histogram2dcontour": [
           {
            "colorbar": {
             "outlinewidth": 0,
             "ticks": ""
            },
            "colorscale": [
             [
              0,
              "#0d0887"
             ],
             [
              0.1111111111111111,
              "#46039f"
             ],
             [
              0.2222222222222222,
              "#7201a8"
             ],
             [
              0.3333333333333333,
              "#9c179e"
             ],
             [
              0.4444444444444444,
              "#bd3786"
             ],
             [
              0.5555555555555556,
              "#d8576b"
             ],
             [
              0.6666666666666666,
              "#ed7953"
             ],
             [
              0.7777777777777778,
              "#fb9f3a"
             ],
             [
              0.8888888888888888,
              "#fdca26"
             ],
             [
              1,
              "#f0f921"
             ]
            ],
            "type": "histogram2dcontour"
           }
          ],
          "mesh3d": [
           {
            "colorbar": {
             "outlinewidth": 0,
             "ticks": ""
            },
            "type": "mesh3d"
           }
          ],
          "parcoords": [
           {
            "line": {
             "colorbar": {
              "outlinewidth": 0,
              "ticks": ""
             }
            },
            "type": "parcoords"
           }
          ],
          "pie": [
           {
            "automargin": true,
            "type": "pie"
           }
          ],
          "scatter": [
           {
            "marker": {
             "colorbar": {
              "outlinewidth": 0,
              "ticks": ""
             }
            },
            "type": "scatter"
           }
          ],
          "scatter3d": [
           {
            "line": {
             "colorbar": {
              "outlinewidth": 0,
              "ticks": ""
             }
            },
            "marker": {
             "colorbar": {
              "outlinewidth": 0,
              "ticks": ""
             }
            },
            "type": "scatter3d"
           }
          ],
          "scattercarpet": [
           {
            "marker": {
             "colorbar": {
              "outlinewidth": 0,
              "ticks": ""
             }
            },
            "type": "scattercarpet"
           }
          ],
          "scattergeo": [
           {
            "marker": {
             "colorbar": {
              "outlinewidth": 0,
              "ticks": ""
             }
            },
            "type": "scattergeo"
           }
          ],
          "scattergl": [
           {
            "marker": {
             "colorbar": {
              "outlinewidth": 0,
              "ticks": ""
             }
            },
            "type": "scattergl"
           }
          ],
          "scattermapbox": [
           {
            "marker": {
             "colorbar": {
              "outlinewidth": 0,
              "ticks": ""
             }
            },
            "type": "scattermapbox"
           }
          ],
          "scatterpolar": [
           {
            "marker": {
             "colorbar": {
              "outlinewidth": 0,
              "ticks": ""
             }
            },
            "type": "scatterpolar"
           }
          ],
          "scatterpolargl": [
           {
            "marker": {
             "colorbar": {
              "outlinewidth": 0,
              "ticks": ""
             }
            },
            "type": "scatterpolargl"
           }
          ],
          "scatterternary": [
           {
            "marker": {
             "colorbar": {
              "outlinewidth": 0,
              "ticks": ""
             }
            },
            "type": "scatterternary"
           }
          ],
          "surface": [
           {
            "colorbar": {
             "outlinewidth": 0,
             "ticks": ""
            },
            "colorscale": [
             [
              0,
              "#0d0887"
             ],
             [
              0.1111111111111111,
              "#46039f"
             ],
             [
              0.2222222222222222,
              "#7201a8"
             ],
             [
              0.3333333333333333,
              "#9c179e"
             ],
             [
              0.4444444444444444,
              "#bd3786"
             ],
             [
              0.5555555555555556,
              "#d8576b"
             ],
             [
              0.6666666666666666,
              "#ed7953"
             ],
             [
              0.7777777777777778,
              "#fb9f3a"
             ],
             [
              0.8888888888888888,
              "#fdca26"
             ],
             [
              1,
              "#f0f921"
             ]
            ],
            "type": "surface"
           }
          ],
          "table": [
           {
            "cells": {
             "fill": {
              "color": "#EBF0F8"
             },
             "line": {
              "color": "white"
             }
            },
            "header": {
             "fill": {
              "color": "#C8D4E3"
             },
             "line": {
              "color": "white"
             }
            },
            "type": "table"
           }
          ]
         },
         "layout": {
          "annotationdefaults": {
           "arrowcolor": "#2a3f5f",
           "arrowhead": 0,
           "arrowwidth": 1
          },
          "autotypenumbers": "strict",
          "coloraxis": {
           "colorbar": {
            "outlinewidth": 0,
            "ticks": ""
           }
          },
          "colorscale": {
           "diverging": [
            [
             0,
             "#8e0152"
            ],
            [
             0.1,
             "#c51b7d"
            ],
            [
             0.2,
             "#de77ae"
            ],
            [
             0.3,
             "#f1b6da"
            ],
            [
             0.4,
             "#fde0ef"
            ],
            [
             0.5,
             "#f7f7f7"
            ],
            [
             0.6,
             "#e6f5d0"
            ],
            [
             0.7,
             "#b8e186"
            ],
            [
             0.8,
             "#7fbc41"
            ],
            [
             0.9,
             "#4d9221"
            ],
            [
             1,
             "#276419"
            ]
           ],
           "sequential": [
            [
             0,
             "#0d0887"
            ],
            [
             0.1111111111111111,
             "#46039f"
            ],
            [
             0.2222222222222222,
             "#7201a8"
            ],
            [
             0.3333333333333333,
             "#9c179e"
            ],
            [
             0.4444444444444444,
             "#bd3786"
            ],
            [
             0.5555555555555556,
             "#d8576b"
            ],
            [
             0.6666666666666666,
             "#ed7953"
            ],
            [
             0.7777777777777778,
             "#fb9f3a"
            ],
            [
             0.8888888888888888,
             "#fdca26"
            ],
            [
             1,
             "#f0f921"
            ]
           ],
           "sequentialminus": [
            [
             0,
             "#0d0887"
            ],
            [
             0.1111111111111111,
             "#46039f"
            ],
            [
             0.2222222222222222,
             "#7201a8"
            ],
            [
             0.3333333333333333,
             "#9c179e"
            ],
            [
             0.4444444444444444,
             "#bd3786"
            ],
            [
             0.5555555555555556,
             "#d8576b"
            ],
            [
             0.6666666666666666,
             "#ed7953"
            ],
            [
             0.7777777777777778,
             "#fb9f3a"
            ],
            [
             0.8888888888888888,
             "#fdca26"
            ],
            [
             1,
             "#f0f921"
            ]
           ]
          },
          "colorway": [
           "#636efa",
           "#EF553B",
           "#00cc96",
           "#ab63fa",
           "#FFA15A",
           "#19d3f3",
           "#FF6692",
           "#B6E880",
           "#FF97FF",
           "#FECB52"
          ],
          "font": {
           "color": "#2a3f5f"
          },
          "geo": {
           "bgcolor": "white",
           "lakecolor": "white",
           "landcolor": "#E5ECF6",
           "showlakes": true,
           "showland": true,
           "subunitcolor": "white"
          },
          "hoverlabel": {
           "align": "left"
          },
          "hovermode": "closest",
          "mapbox": {
           "style": "light"
          },
          "paper_bgcolor": "white",
          "plot_bgcolor": "#E5ECF6",
          "polar": {
           "angularaxis": {
            "gridcolor": "white",
            "linecolor": "white",
            "ticks": ""
           },
           "bgcolor": "#E5ECF6",
           "radialaxis": {
            "gridcolor": "white",
            "linecolor": "white",
            "ticks": ""
           }
          },
          "scene": {
           "xaxis": {
            "backgroundcolor": "#E5ECF6",
            "gridcolor": "white",
            "gridwidth": 2,
            "linecolor": "white",
            "showbackground": true,
            "ticks": "",
            "zerolinecolor": "white"
           },
           "yaxis": {
            "backgroundcolor": "#E5ECF6",
            "gridcolor": "white",
            "gridwidth": 2,
            "linecolor": "white",
            "showbackground": true,
            "ticks": "",
            "zerolinecolor": "white"
           },
           "zaxis": {
            "backgroundcolor": "#E5ECF6",
            "gridcolor": "white",
            "gridwidth": 2,
            "linecolor": "white",
            "showbackground": true,
            "ticks": "",
            "zerolinecolor": "white"
           }
          },
          "shapedefaults": {
           "line": {
            "color": "#2a3f5f"
           }
          },
          "ternary": {
           "aaxis": {
            "gridcolor": "white",
            "linecolor": "white",
            "ticks": ""
           },
           "baxis": {
            "gridcolor": "white",
            "linecolor": "white",
            "ticks": ""
           },
           "bgcolor": "#E5ECF6",
           "caxis": {
            "gridcolor": "white",
            "linecolor": "white",
            "ticks": ""
           }
          },
          "title": {
           "x": 0.05
          },
          "xaxis": {
           "automargin": true,
           "gridcolor": "white",
           "linecolor": "white",
           "ticks": "",
           "title": {
            "standoff": 15
           },
           "zerolinecolor": "white",
           "zerolinewidth": 2
          },
          "yaxis": {
           "automargin": true,
           "gridcolor": "white",
           "linecolor": "white",
           "ticks": "",
           "title": {
            "standoff": 15
           },
           "zerolinecolor": "white",
           "zerolinewidth": 2
          }
         }
        },
        "title": {
         "font": {
          "color": "#4D5663"
         }
        },
        "xaxis": {
         "anchor": "y",
         "domain": [
          0,
          0.2125
         ],
         "gridcolor": "#E1E5ED",
         "showgrid": false,
         "tickfont": {
          "color": "#4D5663"
         },
         "title": {
          "font": {
           "color": "#4D5663"
          },
          "text": ""
         },
         "zerolinecolor": "#E1E5ED"
        },
        "xaxis10": {
         "anchor": "y10",
         "domain": [
          0.2625,
          0.475
         ],
         "gridcolor": "#E1E5ED",
         "showgrid": false,
         "tickfont": {
          "color": "#4D5663"
         },
         "title": {
          "font": {
           "color": "#4D5663"
          },
          "text": ""
         },
         "zerolinecolor": "#E1E5ED"
        },
        "xaxis11": {
         "anchor": "y11",
         "domain": [
          0.525,
          0.7375
         ],
         "gridcolor": "#E1E5ED",
         "showgrid": false,
         "tickfont": {
          "color": "#4D5663"
         },
         "title": {
          "font": {
           "color": "#4D5663"
          },
          "text": ""
         },
         "zerolinecolor": "#E1E5ED"
        },
        "xaxis12": {
         "anchor": "y12",
         "domain": [
          0.7875,
          1
         ],
         "gridcolor": "#E1E5ED",
         "showgrid": false,
         "tickfont": {
          "color": "#4D5663"
         },
         "title": {
          "font": {
           "color": "#4D5663"
          },
          "text": ""
         },
         "zerolinecolor": "#E1E5ED"
        },
        "xaxis13": {
         "anchor": "y13",
         "domain": [
          0,
          0.2125
         ],
         "gridcolor": "#E1E5ED",
         "showgrid": false,
         "tickfont": {
          "color": "#4D5663"
         },
         "title": {
          "font": {
           "color": "#4D5663"
          },
          "text": ""
         },
         "zerolinecolor": "#E1E5ED"
        },
        "xaxis14": {
         "anchor": "y14",
         "domain": [
          0.2625,
          0.475
         ],
         "gridcolor": "#E1E5ED",
         "showgrid": false,
         "tickfont": {
          "color": "#4D5663"
         },
         "title": {
          "font": {
           "color": "#4D5663"
          },
          "text": ""
         },
         "zerolinecolor": "#E1E5ED"
        },
        "xaxis15": {
         "anchor": "y15",
         "domain": [
          0.525,
          0.7375
         ],
         "gridcolor": "#E1E5ED",
         "showgrid": false,
         "tickfont": {
          "color": "#4D5663"
         },
         "title": {
          "font": {
           "color": "#4D5663"
          },
          "text": ""
         },
         "zerolinecolor": "#E1E5ED"
        },
        "xaxis16": {
         "anchor": "y16",
         "domain": [
          0.7875,
          1
         ],
         "gridcolor": "#E1E5ED",
         "showgrid": false,
         "tickfont": {
          "color": "#4D5663"
         },
         "title": {
          "font": {
           "color": "#4D5663"
          },
          "text": ""
         },
         "zerolinecolor": "#E1E5ED"
        },
        "xaxis2": {
         "anchor": "y2",
         "domain": [
          0.2625,
          0.475
         ],
         "gridcolor": "#E1E5ED",
         "showgrid": false,
         "tickfont": {
          "color": "#4D5663"
         },
         "title": {
          "font": {
           "color": "#4D5663"
          },
          "text": ""
         },
         "zerolinecolor": "#E1E5ED"
        },
        "xaxis3": {
         "anchor": "y3",
         "domain": [
          0.525,
          0.7375
         ],
         "gridcolor": "#E1E5ED",
         "showgrid": false,
         "tickfont": {
          "color": "#4D5663"
         },
         "title": {
          "font": {
           "color": "#4D5663"
          },
          "text": ""
         },
         "zerolinecolor": "#E1E5ED"
        },
        "xaxis4": {
         "anchor": "y4",
         "domain": [
          0.7875,
          1
         ],
         "gridcolor": "#E1E5ED",
         "showgrid": false,
         "tickfont": {
          "color": "#4D5663"
         },
         "title": {
          "font": {
           "color": "#4D5663"
          },
          "text": ""
         },
         "zerolinecolor": "#E1E5ED"
        },
        "xaxis5": {
         "anchor": "y5",
         "domain": [
          0,
          0.2125
         ],
         "gridcolor": "#E1E5ED",
         "showgrid": false,
         "tickfont": {
          "color": "#4D5663"
         },
         "title": {
          "font": {
           "color": "#4D5663"
          },
          "text": ""
         },
         "zerolinecolor": "#E1E5ED"
        },
        "xaxis6": {
         "anchor": "y6",
         "domain": [
          0.2625,
          0.475
         ],
         "gridcolor": "#E1E5ED",
         "showgrid": false,
         "tickfont": {
          "color": "#4D5663"
         },
         "title": {
          "font": {
           "color": "#4D5663"
          },
          "text": ""
         },
         "zerolinecolor": "#E1E5ED"
        },
        "xaxis7": {
         "anchor": "y7",
         "domain": [
          0.525,
          0.7375
         ],
         "gridcolor": "#E1E5ED",
         "showgrid": false,
         "tickfont": {
          "color": "#4D5663"
         },
         "title": {
          "font": {
           "color": "#4D5663"
          },
          "text": ""
         },
         "zerolinecolor": "#E1E5ED"
        },
        "xaxis8": {
         "anchor": "y8",
         "domain": [
          0.7875,
          1
         ],
         "gridcolor": "#E1E5ED",
         "showgrid": false,
         "tickfont": {
          "color": "#4D5663"
         },
         "title": {
          "font": {
           "color": "#4D5663"
          },
          "text": ""
         },
         "zerolinecolor": "#E1E5ED"
        },
        "xaxis9": {
         "anchor": "y9",
         "domain": [
          0,
          0.2125
         ],
         "gridcolor": "#E1E5ED",
         "showgrid": false,
         "tickfont": {
          "color": "#4D5663"
         },
         "title": {
          "font": {
           "color": "#4D5663"
          },
          "text": ""
         },
         "zerolinecolor": "#E1E5ED"
        },
        "yaxis": {
         "anchor": "x",
         "domain": [
          0.8025,
          1
         ],
         "gridcolor": "#E1E5ED",
         "showgrid": false,
         "tickfont": {
          "color": "#4D5663"
         },
         "title": {
          "font": {
           "color": "#4D5663"
          },
          "text": ""
         },
         "zerolinecolor": "#E1E5ED"
        },
        "yaxis10": {
         "anchor": "x10",
         "domain": [
          0.2675,
          0.465
         ],
         "gridcolor": "#E1E5ED",
         "showgrid": false,
         "tickfont": {
          "color": "#4D5663"
         },
         "title": {
          "font": {
           "color": "#4D5663"
          },
          "text": ""
         },
         "zerolinecolor": "#E1E5ED"
        },
        "yaxis11": {
         "anchor": "x11",
         "domain": [
          0.2675,
          0.465
         ],
         "gridcolor": "#E1E5ED",
         "showgrid": false,
         "tickfont": {
          "color": "#4D5663"
         },
         "title": {
          "font": {
           "color": "#4D5663"
          },
          "text": ""
         },
         "zerolinecolor": "#E1E5ED"
        },
        "yaxis12": {
         "anchor": "x12",
         "domain": [
          0.2675,
          0.465
         ],
         "gridcolor": "#E1E5ED",
         "showgrid": false,
         "tickfont": {
          "color": "#4D5663"
         },
         "title": {
          "font": {
           "color": "#4D5663"
          },
          "text": ""
         },
         "zerolinecolor": "#E1E5ED"
        },
        "yaxis13": {
         "anchor": "x13",
         "domain": [
          0,
          0.1975
         ],
         "gridcolor": "#E1E5ED",
         "showgrid": false,
         "tickfont": {
          "color": "#4D5663"
         },
         "title": {
          "font": {
           "color": "#4D5663"
          },
          "text": ""
         },
         "zerolinecolor": "#E1E5ED"
        },
        "yaxis14": {
         "anchor": "x14",
         "domain": [
          0,
          0.1975
         ],
         "gridcolor": "#E1E5ED",
         "showgrid": false,
         "tickfont": {
          "color": "#4D5663"
         },
         "title": {
          "font": {
           "color": "#4D5663"
          },
          "text": ""
         },
         "zerolinecolor": "#E1E5ED"
        },
        "yaxis15": {
         "anchor": "x15",
         "domain": [
          0,
          0.1975
         ],
         "gridcolor": "#E1E5ED",
         "showgrid": false,
         "tickfont": {
          "color": "#4D5663"
         },
         "title": {
          "font": {
           "color": "#4D5663"
          },
          "text": ""
         },
         "zerolinecolor": "#E1E5ED"
        },
        "yaxis16": {
         "anchor": "x16",
         "domain": [
          0,
          0.1975
         ],
         "gridcolor": "#E1E5ED",
         "showgrid": false,
         "tickfont": {
          "color": "#4D5663"
         },
         "title": {
          "font": {
           "color": "#4D5663"
          },
          "text": ""
         },
         "zerolinecolor": "#E1E5ED"
        },
        "yaxis2": {
         "anchor": "x2",
         "domain": [
          0.8025,
          1
         ],
         "gridcolor": "#E1E5ED",
         "showgrid": false,
         "tickfont": {
          "color": "#4D5663"
         },
         "title": {
          "font": {
           "color": "#4D5663"
          },
          "text": ""
         },
         "zerolinecolor": "#E1E5ED"
        },
        "yaxis3": {
         "anchor": "x3",
         "domain": [
          0.8025,
          1
         ],
         "gridcolor": "#E1E5ED",
         "showgrid": false,
         "tickfont": {
          "color": "#4D5663"
         },
         "title": {
          "font": {
           "color": "#4D5663"
          },
          "text": ""
         },
         "zerolinecolor": "#E1E5ED"
        },
        "yaxis4": {
         "anchor": "x4",
         "domain": [
          0.8025,
          1
         ],
         "gridcolor": "#E1E5ED",
         "showgrid": false,
         "tickfont": {
          "color": "#4D5663"
         },
         "title": {
          "font": {
           "color": "#4D5663"
          },
          "text": ""
         },
         "zerolinecolor": "#E1E5ED"
        },
        "yaxis5": {
         "anchor": "x5",
         "domain": [
          0.535,
          0.7325
         ],
         "gridcolor": "#E1E5ED",
         "showgrid": false,
         "tickfont": {
          "color": "#4D5663"
         },
         "title": {
          "font": {
           "color": "#4D5663"
          },
          "text": ""
         },
         "zerolinecolor": "#E1E5ED"
        },
        "yaxis6": {
         "anchor": "x6",
         "domain": [
          0.535,
          0.7325
         ],
         "gridcolor": "#E1E5ED",
         "showgrid": false,
         "tickfont": {
          "color": "#4D5663"
         },
         "title": {
          "font": {
           "color": "#4D5663"
          },
          "text": ""
         },
         "zerolinecolor": "#E1E5ED"
        },
        "yaxis7": {
         "anchor": "x7",
         "domain": [
          0.535,
          0.7325
         ],
         "gridcolor": "#E1E5ED",
         "showgrid": false,
         "tickfont": {
          "color": "#4D5663"
         },
         "title": {
          "font": {
           "color": "#4D5663"
          },
          "text": ""
         },
         "zerolinecolor": "#E1E5ED"
        },
        "yaxis8": {
         "anchor": "x8",
         "domain": [
          0.535,
          0.7325
         ],
         "gridcolor": "#E1E5ED",
         "showgrid": false,
         "tickfont": {
          "color": "#4D5663"
         },
         "title": {
          "font": {
           "color": "#4D5663"
          },
          "text": ""
         },
         "zerolinecolor": "#E1E5ED"
        },
        "yaxis9": {
         "anchor": "x9",
         "domain": [
          0.2675,
          0.465
         ],
         "gridcolor": "#E1E5ED",
         "showgrid": false,
         "tickfont": {
          "color": "#4D5663"
         },
         "title": {
          "font": {
           "color": "#4D5663"
          },
          "text": ""
         },
         "zerolinecolor": "#E1E5ED"
        }
       }
      }
     },
     "metadata": {}
    }
   ],
   "metadata": {}
  }
 ]
}